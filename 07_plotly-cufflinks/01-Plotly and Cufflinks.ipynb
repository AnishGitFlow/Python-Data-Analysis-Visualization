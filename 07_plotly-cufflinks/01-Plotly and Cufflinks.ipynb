{
 "cells": [
  {
   "cell_type": "markdown",
   "metadata": {},
   "source": [
    "# Plotly and Cufflinks"
   ]
  },
  {
   "cell_type": "markdown",
   "metadata": {},
   "source": [
    "Plotly is a library that allows you to create interactive plots that you can use in dashboards or websites (you can save them as html files or static images).\n",
    "\n",
    "## Installation\n",
    "\n",
    "In order for this all to work, you'll need to install plotly and cufflinks to call plots directly off of a pandas dataframe. These libraries are not currently available through **conda** but are available through **pip**. Install the libraries at your command line/terminal using:\n",
    "\n",
    "    pip install plotly\n",
    "    pip install cufflinks\n",
    "\n",
    "** NOTE: Make sure you only have one installation of Python on your computer when you do this, otherwise the installation may not work. **\n",
    "\n",
    "## Imports and Set-up"
   ]
  },
  {
   "cell_type": "code",
   "execution_count": 40,
   "metadata": {
    "collapsed": true
   },
   "outputs": [],
   "source": [
    "import pandas as pd\n",
    "import numpy as np\n",
    "pd.np = np\n",
    "%matplotlib inline"
   ]
  },
  {
   "cell_type": "code",
   "execution_count": 41,
   "metadata": {
    "collapsed": false
   },
   "outputs": [
    {
     "name": "stdout",
     "output_type": "stream",
     "text": [
      "5.24.1\n"
     ]
    }
   ],
   "source": [
    "from plotly import __version__\n",
    "from plotly.offline import download_plotlyjs, init_notebook_mode, plot, iplot\n",
    "\n",
    "print(__version__)"
   ]
  },
  {
   "cell_type": "code",
   "execution_count": 42,
   "metadata": {
    "collapsed": true
   },
   "outputs": [],
   "source": [
    "import cufflinks as cf"
   ]
  },
  {
   "cell_type": "code",
   "execution_count": 43,
   "metadata": {
    "collapsed": false
   },
   "outputs": [
    {
     "data": {
      "text/html": [
       "        <script type=\"text/javascript\">\n",
       "        window.PlotlyConfig = {MathJaxConfig: 'local'};\n",
       "        if (window.MathJax && window.MathJax.Hub && window.MathJax.Hub.Config) {window.MathJax.Hub.Config({SVG: {font: \"STIX-Web\"}});}\n",
       "        if (typeof require !== 'undefined') {\n",
       "        require.undef(\"plotly\");\n",
       "        requirejs.config({\n",
       "            paths: {\n",
       "                'plotly': ['https://cdn.plot.ly/plotly-2.35.2.min']\n",
       "            }\n",
       "        });\n",
       "        require(['plotly'], function(Plotly) {\n",
       "            window._Plotly = Plotly;\n",
       "        });\n",
       "        }\n",
       "        </script>\n",
       "        "
      ]
     },
     "metadata": {},
     "output_type": "display_data"
    }
   ],
   "source": [
    "# For Notebooks\n",
    "init_notebook_mode(connected=True)"
   ]
  },
  {
   "cell_type": "code",
   "execution_count": 44,
   "metadata": {
    "collapsed": false
   },
   "outputs": [
    {
     "data": {
      "text/html": [
       "        <script type=\"text/javascript\">\n",
       "        window.PlotlyConfig = {MathJaxConfig: 'local'};\n",
       "        if (window.MathJax && window.MathJax.Hub && window.MathJax.Hub.Config) {window.MathJax.Hub.Config({SVG: {font: \"STIX-Web\"}});}\n",
       "        if (typeof require !== 'undefined') {\n",
       "        require.undef(\"plotly\");\n",
       "        requirejs.config({\n",
       "            paths: {\n",
       "                'plotly': ['https://cdn.plot.ly/plotly-2.35.2.min']\n",
       "            }\n",
       "        });\n",
       "        require(['plotly'], function(Plotly) {\n",
       "            window._Plotly = Plotly;\n",
       "        });\n",
       "        }\n",
       "        </script>\n",
       "        "
      ]
     },
     "metadata": {},
     "output_type": "display_data"
    }
   ],
   "source": [
    "# For offline use\n",
    "cf.go_offline()"
   ]
  },
  {
   "cell_type": "markdown",
   "metadata": {},
   "source": [
    "### Fake Data"
   ]
  },
  {
   "cell_type": "code",
   "execution_count": 45,
   "metadata": {
    "collapsed": false
   },
   "outputs": [],
   "source": [
    "df = pd.DataFrame(np.random.randn(100,4),columns='A B C D'.split())"
   ]
  },
  {
   "cell_type": "code",
   "execution_count": 46,
   "metadata": {
    "collapsed": false
   },
   "outputs": [
    {
     "data": {
      "text/html": [
       "<div>\n",
       "<style scoped>\n",
       "    .dataframe tbody tr th:only-of-type {\n",
       "        vertical-align: middle;\n",
       "    }\n",
       "\n",
       "    .dataframe tbody tr th {\n",
       "        vertical-align: top;\n",
       "    }\n",
       "\n",
       "    .dataframe thead th {\n",
       "        text-align: right;\n",
       "    }\n",
       "</style>\n",
       "<table border=\"1\" class=\"dataframe\">\n",
       "  <thead>\n",
       "    <tr style=\"text-align: right;\">\n",
       "      <th></th>\n",
       "      <th>A</th>\n",
       "      <th>B</th>\n",
       "      <th>C</th>\n",
       "      <th>D</th>\n",
       "    </tr>\n",
       "  </thead>\n",
       "  <tbody>\n",
       "    <tr>\n",
       "      <th>0</th>\n",
       "      <td>-0.081862</td>\n",
       "      <td>-0.290312</td>\n",
       "      <td>-0.127789</td>\n",
       "      <td>1.740751</td>\n",
       "    </tr>\n",
       "    <tr>\n",
       "      <th>1</th>\n",
       "      <td>-1.412513</td>\n",
       "      <td>0.867388</td>\n",
       "      <td>-0.964489</td>\n",
       "      <td>-0.473626</td>\n",
       "    </tr>\n",
       "    <tr>\n",
       "      <th>2</th>\n",
       "      <td>-2.021632</td>\n",
       "      <td>0.579418</td>\n",
       "      <td>0.408607</td>\n",
       "      <td>0.476348</td>\n",
       "    </tr>\n",
       "    <tr>\n",
       "      <th>3</th>\n",
       "      <td>-1.114406</td>\n",
       "      <td>1.123688</td>\n",
       "      <td>-0.538161</td>\n",
       "      <td>-0.503444</td>\n",
       "    </tr>\n",
       "    <tr>\n",
       "      <th>4</th>\n",
       "      <td>-0.732862</td>\n",
       "      <td>0.145607</td>\n",
       "      <td>0.614229</td>\n",
       "      <td>-1.652423</td>\n",
       "    </tr>\n",
       "  </tbody>\n",
       "</table>\n",
       "</div>"
      ],
      "text/plain": [
       "          A         B         C         D\n",
       "0 -0.081862 -0.290312 -0.127789  1.740751\n",
       "1 -1.412513  0.867388 -0.964489 -0.473626\n",
       "2 -2.021632  0.579418  0.408607  0.476348\n",
       "3 -1.114406  1.123688 -0.538161 -0.503444\n",
       "4 -0.732862  0.145607  0.614229 -1.652423"
      ]
     },
     "execution_count": 46,
     "metadata": {},
     "output_type": "execute_result"
    }
   ],
   "source": [
    "df.head()"
   ]
  },
  {
   "cell_type": "code",
   "execution_count": 47,
   "metadata": {
    "collapsed": true
   },
   "outputs": [],
   "source": [
    "df2 = pd.DataFrame({'Category':['A','B','C'],'Values':[32,43,50]})"
   ]
  },
  {
   "cell_type": "code",
   "execution_count": 48,
   "metadata": {
    "collapsed": false
   },
   "outputs": [
    {
     "data": {
      "text/html": [
       "<div>\n",
       "<style scoped>\n",
       "    .dataframe tbody tr th:only-of-type {\n",
       "        vertical-align: middle;\n",
       "    }\n",
       "\n",
       "    .dataframe tbody tr th {\n",
       "        vertical-align: top;\n",
       "    }\n",
       "\n",
       "    .dataframe thead th {\n",
       "        text-align: right;\n",
       "    }\n",
       "</style>\n",
       "<table border=\"1\" class=\"dataframe\">\n",
       "  <thead>\n",
       "    <tr style=\"text-align: right;\">\n",
       "      <th></th>\n",
       "      <th>Category</th>\n",
       "      <th>Values</th>\n",
       "    </tr>\n",
       "  </thead>\n",
       "  <tbody>\n",
       "    <tr>\n",
       "      <th>0</th>\n",
       "      <td>A</td>\n",
       "      <td>32</td>\n",
       "    </tr>\n",
       "    <tr>\n",
       "      <th>1</th>\n",
       "      <td>B</td>\n",
       "      <td>43</td>\n",
       "    </tr>\n",
       "    <tr>\n",
       "      <th>2</th>\n",
       "      <td>C</td>\n",
       "      <td>50</td>\n",
       "    </tr>\n",
       "  </tbody>\n",
       "</table>\n",
       "</div>"
      ],
      "text/plain": [
       "  Category  Values\n",
       "0        A      32\n",
       "1        B      43\n",
       "2        C      50"
      ]
     },
     "execution_count": 48,
     "metadata": {},
     "output_type": "execute_result"
    }
   ],
   "source": [
    "df2.head()"
   ]
  },
  {
   "cell_type": "markdown",
   "metadata": {},
   "source": [
    "## Using Cufflinks and iplot()\n",
    "\n",
    "* scatter\n",
    "* bar\n",
    "* box\n",
    "* spread\n",
    "* ratio\n",
    "* heatmap\n",
    "* surface\n",
    "* histogram\n",
    "* bubble"
   ]
  },
  {
   "cell_type": "markdown",
   "metadata": {},
   "source": [
    "## Scatter"
   ]
  },
  {
   "cell_type": "code",
   "execution_count": 49,
   "metadata": {
    "collapsed": false
   },
   "outputs": [
    {
     "data": {
      "application/vnd.plotly.v1+json": {
       "config": {
        "linkText": "Export to plot.ly",
        "plotlyServerURL": "https://plot.ly",
        "showLink": true
       },
       "data": [
        {
         "line": {
          "color": "rgba(255, 153, 51, 1.0)",
          "dash": "solid",
          "shape": "linear",
          "width": 1.3
         },
         "marker": {
          "size": 10,
          "symbol": "circle"
         },
         "mode": "markers",
         "name": "B",
         "text": "",
         "type": "scatter",
         "x": [
          -0.08186168703008381,
          -1.4125134786406384,
          -2.0216316901586966,
          -1.1144061395664848,
          -0.732862192610121,
          -0.43646635545450774,
          -2.0968581642837814,
          0.5444228495639059,
          -0.5653026207892777,
          0.30717970372559855,
          -0.4198484557612456,
          0.7253217047833895,
          -0.7910646375013571,
          0.24584288534701426,
          0.3861808927955188,
          -1.1467665661219575,
          -0.41072488955529124,
          0.724907854212759,
          -0.39513396691114294,
          -0.29734831407239337,
          0.056560161710574756,
          -0.8472438703374219,
          -1.7198020608413256,
          0.26407469568663433,
          -0.5262701489609771,
          -0.500907294123469,
          -1.0930047549095676,
          -0.595849948515295,
          1.5334319219267074,
          -0.016326454774757585,
          -0.862655734758858,
          0.5684015061380762,
          -1.2161191764324901,
          -1.1753642330024214,
          -0.18901916241119732,
          -0.5549185302065942,
          0.309228505663993,
          -0.5931070174769876,
          -0.915428386728154,
          -0.5689122102202488,
          -0.16674407057733692,
          -2.236913162354572,
          -0.5827999024163568,
          0.6902558348780791,
          0.03187805913805461,
          -0.7413489938308117,
          0.366320205190309,
          0.7571681026049312,
          0.7180974557635268,
          1.7056945385414521,
          0.1381467651427019,
          0.9469749716086889,
          -0.021766609360936398,
          -1.7222130070414399,
          -0.11193913228109911,
          -1.253127684581892,
          0.5290917355245429,
          1.233008441143637,
          -0.01708591871870062,
          -0.022413499602245302,
          0.05198424376548483,
          -1.5730535785265773,
          0.13296023573262686,
          -0.22105137596848967,
          0.11956373474779762,
          -0.19460631714752108,
          -0.22403298097538893,
          0.5143412935583017,
          0.15714090442602846,
          0.28035904683880963,
          -0.2446823288892205,
          0.7607186297922643,
          -2.2143188702913483,
          1.4096188805712955,
          0.37248522681048263,
          -0.9490918085680567,
          0.17853358552885062,
          0.002679033371037447,
          0.17851692593807564,
          -0.7190872551009492,
          0.9512063312958212,
          1.144354380327551,
          -1.559442571286232,
          -0.9176446170081553,
          1.203944757019189,
          0.4336986432940904,
          1.2922199374622567,
          1.048558465289624,
          -0.24138585364897558,
          -0.674413221419938,
          -0.4372811997781751,
          0.02560771998751411,
          0.2842463005080672,
          -0.07999094631816925,
          -0.02914694933426302,
          0.15541678795851396,
          0.4912729071280546,
          -1.0776651864274596,
          -0.9522304568959343,
          1.6836961434138082
         ],
         "y": [
          -0.29031153665030285,
          0.8673880001188526,
          0.5794175830953129,
          1.1236877494288822,
          0.14560706940464604,
          -0.49238381593607494,
          -1.3585655836642285,
          0.5263910174142803,
          1.0414187484205073,
          1.1126342780473124,
          -0.2710539337610146,
          0.9229317060885099,
          2.7717055625558005,
          -0.8678266089839779,
          -2.108848157089314,
          0.7370183808313264,
          2.6345495208902894,
          -0.2621273708172376,
          0.506481601483133,
          0.5246870982503338,
          -0.14935471488468668,
          0.780998061065657,
          -1.0377295136444016,
          0.07582264190298024,
          -0.01727724156390105,
          0.14967915982555374,
          0.4006884640886359,
          -0.30028281207502294,
          1.0524568382619184,
          0.22714302212822748,
          -2.817180366152146,
          1.1268043517108106,
          -0.9275839344799525,
          -0.04835623775384268,
          0.19305027546842896,
          0.6948160785103962,
          0.10411248394502415,
          0.9364271446793379,
          0.615398985584594,
          1.052408275766237,
          -0.1305383056255062,
          -0.49587893903374713,
          0.5682691161469392,
          0.10691159637422652,
          2.069540771302056,
          0.44753139296663086,
          -0.5452979108611006,
          -0.43451678872120086,
          -1.3331180531738722,
          -0.17055424849834025,
          1.8735530864012384,
          -1.113989898123316,
          0.718666767419772,
          0.5494073873928873,
          -0.38327337314058013,
          -0.7208312798888825,
          -1.1417601621614262,
          0.6441031369617723,
          -0.14138573019705505,
          -1.1630568098276415,
          -0.6735869103228915,
          2.5146014801982695,
          1.4879552657435673,
          2.165414249826483,
          -1.180246064142854,
          -0.21659994578619016,
          -0.09596937471604866,
          1.0926016449982687,
          -1.666241916907615,
          -0.8078351895602224,
          -0.8523387749589654,
          -0.8134655525065212,
          -0.07019443259751783,
          2.714118708753477,
          0.5503739058712013,
          1.0703343139772825,
          -0.21486650994147882,
          -0.9601203710375531,
          -0.23025194155418327,
          -0.9328113212548568,
          1.89540655559761,
          0.09732881700465994,
          -0.28483495768991385,
          1.6464136770714903,
          -1.9310211656064404,
          -2.6132141844277355,
          -0.25318296893388254,
          -0.5237449692281284,
          -1.4088071744847528,
          1.095281759059276,
          0.7413258265163059,
          0.391225376839355,
          0.6568604312150156,
          -0.7918186884461557,
          -0.623628752463788,
          0.5213011561323011,
          0.5701964420195289,
          -1.961135212024153,
          -0.13753065855645294,
          1.270813728730286
         ]
        }
       ],
       "layout": {
        "legend": {
         "bgcolor": "#F5F6F9",
         "font": {
          "color": "#4D5663"
         }
        },
        "paper_bgcolor": "#F5F6F9",
        "plot_bgcolor": "#F5F6F9",
        "template": {
         "data": {
          "bar": [
           {
            "error_x": {
             "color": "#2a3f5f"
            },
            "error_y": {
             "color": "#2a3f5f"
            },
            "marker": {
             "line": {
              "color": "#E5ECF6",
              "width": 0.5
             },
             "pattern": {
              "fillmode": "overlay",
              "size": 10,
              "solidity": 0.2
             }
            },
            "type": "bar"
           }
          ],
          "barpolar": [
           {
            "marker": {
             "line": {
              "color": "#E5ECF6",
              "width": 0.5
             },
             "pattern": {
              "fillmode": "overlay",
              "size": 10,
              "solidity": 0.2
             }
            },
            "type": "barpolar"
           }
          ],
          "carpet": [
           {
            "aaxis": {
             "endlinecolor": "#2a3f5f",
             "gridcolor": "white",
             "linecolor": "white",
             "minorgridcolor": "white",
             "startlinecolor": "#2a3f5f"
            },
            "baxis": {
             "endlinecolor": "#2a3f5f",
             "gridcolor": "white",
             "linecolor": "white",
             "minorgridcolor": "white",
             "startlinecolor": "#2a3f5f"
            },
            "type": "carpet"
           }
          ],
          "choropleth": [
           {
            "colorbar": {
             "outlinewidth": 0,
             "ticks": ""
            },
            "type": "choropleth"
           }
          ],
          "contour": [
           {
            "colorbar": {
             "outlinewidth": 0,
             "ticks": ""
            },
            "colorscale": [
             [
              0,
              "#0d0887"
             ],
             [
              0.1111111111111111,
              "#46039f"
             ],
             [
              0.2222222222222222,
              "#7201a8"
             ],
             [
              0.3333333333333333,
              "#9c179e"
             ],
             [
              0.4444444444444444,
              "#bd3786"
             ],
             [
              0.5555555555555556,
              "#d8576b"
             ],
             [
              0.6666666666666666,
              "#ed7953"
             ],
             [
              0.7777777777777778,
              "#fb9f3a"
             ],
             [
              0.8888888888888888,
              "#fdca26"
             ],
             [
              1,
              "#f0f921"
             ]
            ],
            "type": "contour"
           }
          ],
          "contourcarpet": [
           {
            "colorbar": {
             "outlinewidth": 0,
             "ticks": ""
            },
            "type": "contourcarpet"
           }
          ],
          "heatmap": [
           {
            "colorbar": {
             "outlinewidth": 0,
             "ticks": ""
            },
            "colorscale": [
             [
              0,
              "#0d0887"
             ],
             [
              0.1111111111111111,
              "#46039f"
             ],
             [
              0.2222222222222222,
              "#7201a8"
             ],
             [
              0.3333333333333333,
              "#9c179e"
             ],
             [
              0.4444444444444444,
              "#bd3786"
             ],
             [
              0.5555555555555556,
              "#d8576b"
             ],
             [
              0.6666666666666666,
              "#ed7953"
             ],
             [
              0.7777777777777778,
              "#fb9f3a"
             ],
             [
              0.8888888888888888,
              "#fdca26"
             ],
             [
              1,
              "#f0f921"
             ]
            ],
            "type": "heatmap"
           }
          ],
          "heatmapgl": [
           {
            "colorbar": {
             "outlinewidth": 0,
             "ticks": ""
            },
            "colorscale": [
             [
              0,
              "#0d0887"
             ],
             [
              0.1111111111111111,
              "#46039f"
             ],
             [
              0.2222222222222222,
              "#7201a8"
             ],
             [
              0.3333333333333333,
              "#9c179e"
             ],
             [
              0.4444444444444444,
              "#bd3786"
             ],
             [
              0.5555555555555556,
              "#d8576b"
             ],
             [
              0.6666666666666666,
              "#ed7953"
             ],
             [
              0.7777777777777778,
              "#fb9f3a"
             ],
             [
              0.8888888888888888,
              "#fdca26"
             ],
             [
              1,
              "#f0f921"
             ]
            ],
            "type": "heatmapgl"
           }
          ],
          "histogram": [
           {
            "marker": {
             "pattern": {
              "fillmode": "overlay",
              "size": 10,
              "solidity": 0.2
             }
            },
            "type": "histogram"
           }
          ],
          "histogram2d": [
           {
            "colorbar": {
             "outlinewidth": 0,
             "ticks": ""
            },
            "colorscale": [
             [
              0,
              "#0d0887"
             ],
             [
              0.1111111111111111,
              "#46039f"
             ],
             [
              0.2222222222222222,
              "#7201a8"
             ],
             [
              0.3333333333333333,
              "#9c179e"
             ],
             [
              0.4444444444444444,
              "#bd3786"
             ],
             [
              0.5555555555555556,
              "#d8576b"
             ],
             [
              0.6666666666666666,
              "#ed7953"
             ],
             [
              0.7777777777777778,
              "#fb9f3a"
             ],
             [
              0.8888888888888888,
              "#fdca26"
             ],
             [
              1,
              "#f0f921"
             ]
            ],
            "type": "histogram2d"
           }
          ],
          "histogram2dcontour": [
           {
            "colorbar": {
             "outlinewidth": 0,
             "ticks": ""
            },
            "colorscale": [
             [
              0,
              "#0d0887"
             ],
             [
              0.1111111111111111,
              "#46039f"
             ],
             [
              0.2222222222222222,
              "#7201a8"
             ],
             [
              0.3333333333333333,
              "#9c179e"
             ],
             [
              0.4444444444444444,
              "#bd3786"
             ],
             [
              0.5555555555555556,
              "#d8576b"
             ],
             [
              0.6666666666666666,
              "#ed7953"
             ],
             [
              0.7777777777777778,
              "#fb9f3a"
             ],
             [
              0.8888888888888888,
              "#fdca26"
             ],
             [
              1,
              "#f0f921"
             ]
            ],
            "type": "histogram2dcontour"
           }
          ],
          "mesh3d": [
           {
            "colorbar": {
             "outlinewidth": 0,
             "ticks": ""
            },
            "type": "mesh3d"
           }
          ],
          "parcoords": [
           {
            "line": {
             "colorbar": {
              "outlinewidth": 0,
              "ticks": ""
             }
            },
            "type": "parcoords"
           }
          ],
          "pie": [
           {
            "automargin": true,
            "type": "pie"
           }
          ],
          "scatter": [
           {
            "fillpattern": {
             "fillmode": "overlay",
             "size": 10,
             "solidity": 0.2
            },
            "type": "scatter"
           }
          ],
          "scatter3d": [
           {
            "line": {
             "colorbar": {
              "outlinewidth": 0,
              "ticks": ""
             }
            },
            "marker": {
             "colorbar": {
              "outlinewidth": 0,
              "ticks": ""
             }
            },
            "type": "scatter3d"
           }
          ],
          "scattercarpet": [
           {
            "marker": {
             "colorbar": {
              "outlinewidth": 0,
              "ticks": ""
             }
            },
            "type": "scattercarpet"
           }
          ],
          "scattergeo": [
           {
            "marker": {
             "colorbar": {
              "outlinewidth": 0,
              "ticks": ""
             }
            },
            "type": "scattergeo"
           }
          ],
          "scattergl": [
           {
            "marker": {
             "colorbar": {
              "outlinewidth": 0,
              "ticks": ""
             }
            },
            "type": "scattergl"
           }
          ],
          "scattermapbox": [
           {
            "marker": {
             "colorbar": {
              "outlinewidth": 0,
              "ticks": ""
             }
            },
            "type": "scattermapbox"
           }
          ],
          "scatterpolar": [
           {
            "marker": {
             "colorbar": {
              "outlinewidth": 0,
              "ticks": ""
             }
            },
            "type": "scatterpolar"
           }
          ],
          "scatterpolargl": [
           {
            "marker": {
             "colorbar": {
              "outlinewidth": 0,
              "ticks": ""
             }
            },
            "type": "scatterpolargl"
           }
          ],
          "scatterternary": [
           {
            "marker": {
             "colorbar": {
              "outlinewidth": 0,
              "ticks": ""
             }
            },
            "type": "scatterternary"
           }
          ],
          "surface": [
           {
            "colorbar": {
             "outlinewidth": 0,
             "ticks": ""
            },
            "colorscale": [
             [
              0,
              "#0d0887"
             ],
             [
              0.1111111111111111,
              "#46039f"
             ],
             [
              0.2222222222222222,
              "#7201a8"
             ],
             [
              0.3333333333333333,
              "#9c179e"
             ],
             [
              0.4444444444444444,
              "#bd3786"
             ],
             [
              0.5555555555555556,
              "#d8576b"
             ],
             [
              0.6666666666666666,
              "#ed7953"
             ],
             [
              0.7777777777777778,
              "#fb9f3a"
             ],
             [
              0.8888888888888888,
              "#fdca26"
             ],
             [
              1,
              "#f0f921"
             ]
            ],
            "type": "surface"
           }
          ],
          "table": [
           {
            "cells": {
             "fill": {
              "color": "#EBF0F8"
             },
             "line": {
              "color": "white"
             }
            },
            "header": {
             "fill": {
              "color": "#C8D4E3"
             },
             "line": {
              "color": "white"
             }
            },
            "type": "table"
           }
          ]
         },
         "layout": {
          "annotationdefaults": {
           "arrowcolor": "#2a3f5f",
           "arrowhead": 0,
           "arrowwidth": 1
          },
          "autotypenumbers": "strict",
          "coloraxis": {
           "colorbar": {
            "outlinewidth": 0,
            "ticks": ""
           }
          },
          "colorscale": {
           "diverging": [
            [
             0,
             "#8e0152"
            ],
            [
             0.1,
             "#c51b7d"
            ],
            [
             0.2,
             "#de77ae"
            ],
            [
             0.3,
             "#f1b6da"
            ],
            [
             0.4,
             "#fde0ef"
            ],
            [
             0.5,
             "#f7f7f7"
            ],
            [
             0.6,
             "#e6f5d0"
            ],
            [
             0.7,
             "#b8e186"
            ],
            [
             0.8,
             "#7fbc41"
            ],
            [
             0.9,
             "#4d9221"
            ],
            [
             1,
             "#276419"
            ]
           ],
           "sequential": [
            [
             0,
             "#0d0887"
            ],
            [
             0.1111111111111111,
             "#46039f"
            ],
            [
             0.2222222222222222,
             "#7201a8"
            ],
            [
             0.3333333333333333,
             "#9c179e"
            ],
            [
             0.4444444444444444,
             "#bd3786"
            ],
            [
             0.5555555555555556,
             "#d8576b"
            ],
            [
             0.6666666666666666,
             "#ed7953"
            ],
            [
             0.7777777777777778,
             "#fb9f3a"
            ],
            [
             0.8888888888888888,
             "#fdca26"
            ],
            [
             1,
             "#f0f921"
            ]
           ],
           "sequentialminus": [
            [
             0,
             "#0d0887"
            ],
            [
             0.1111111111111111,
             "#46039f"
            ],
            [
             0.2222222222222222,
             "#7201a8"
            ],
            [
             0.3333333333333333,
             "#9c179e"
            ],
            [
             0.4444444444444444,
             "#bd3786"
            ],
            [
             0.5555555555555556,
             "#d8576b"
            ],
            [
             0.6666666666666666,
             "#ed7953"
            ],
            [
             0.7777777777777778,
             "#fb9f3a"
            ],
            [
             0.8888888888888888,
             "#fdca26"
            ],
            [
             1,
             "#f0f921"
            ]
           ]
          },
          "colorway": [
           "#636efa",
           "#EF553B",
           "#00cc96",
           "#ab63fa",
           "#FFA15A",
           "#19d3f3",
           "#FF6692",
           "#B6E880",
           "#FF97FF",
           "#FECB52"
          ],
          "font": {
           "color": "#2a3f5f"
          },
          "geo": {
           "bgcolor": "white",
           "lakecolor": "white",
           "landcolor": "#E5ECF6",
           "showlakes": true,
           "showland": true,
           "subunitcolor": "white"
          },
          "hoverlabel": {
           "align": "left"
          },
          "hovermode": "closest",
          "mapbox": {
           "style": "light"
          },
          "paper_bgcolor": "white",
          "plot_bgcolor": "#E5ECF6",
          "polar": {
           "angularaxis": {
            "gridcolor": "white",
            "linecolor": "white",
            "ticks": ""
           },
           "bgcolor": "#E5ECF6",
           "radialaxis": {
            "gridcolor": "white",
            "linecolor": "white",
            "ticks": ""
           }
          },
          "scene": {
           "xaxis": {
            "backgroundcolor": "#E5ECF6",
            "gridcolor": "white",
            "gridwidth": 2,
            "linecolor": "white",
            "showbackground": true,
            "ticks": "",
            "zerolinecolor": "white"
           },
           "yaxis": {
            "backgroundcolor": "#E5ECF6",
            "gridcolor": "white",
            "gridwidth": 2,
            "linecolor": "white",
            "showbackground": true,
            "ticks": "",
            "zerolinecolor": "white"
           },
           "zaxis": {
            "backgroundcolor": "#E5ECF6",
            "gridcolor": "white",
            "gridwidth": 2,
            "linecolor": "white",
            "showbackground": true,
            "ticks": "",
            "zerolinecolor": "white"
           }
          },
          "shapedefaults": {
           "line": {
            "color": "#2a3f5f"
           }
          },
          "ternary": {
           "aaxis": {
            "gridcolor": "white",
            "linecolor": "white",
            "ticks": ""
           },
           "baxis": {
            "gridcolor": "white",
            "linecolor": "white",
            "ticks": ""
           },
           "bgcolor": "#E5ECF6",
           "caxis": {
            "gridcolor": "white",
            "linecolor": "white",
            "ticks": ""
           }
          },
          "title": {
           "x": 0.05
          },
          "xaxis": {
           "automargin": true,
           "gridcolor": "white",
           "linecolor": "white",
           "ticks": "",
           "title": {
            "standoff": 15
           },
           "zerolinecolor": "white",
           "zerolinewidth": 2
          },
          "yaxis": {
           "automargin": true,
           "gridcolor": "white",
           "linecolor": "white",
           "ticks": "",
           "title": {
            "standoff": 15
           },
           "zerolinecolor": "white",
           "zerolinewidth": 2
          }
         }
        },
        "title": {
         "font": {
          "color": "#4D5663"
         }
        },
        "xaxis": {
         "gridcolor": "#E1E5ED",
         "showgrid": true,
         "tickfont": {
          "color": "#4D5663"
         },
         "title": {
          "font": {
           "color": "#4D5663"
          },
          "text": ""
         },
         "zerolinecolor": "#E1E5ED"
        },
        "yaxis": {
         "gridcolor": "#E1E5ED",
         "showgrid": true,
         "tickfont": {
          "color": "#4D5663"
         },
         "title": {
          "font": {
           "color": "#4D5663"
          },
          "text": ""
         },
         "zerolinecolor": "#E1E5ED"
        }
       }
      },
      "text/html": [
       "<div>                            <div id=\"8f202a25-67a1-4949-8a84-eb60817bbcab\" class=\"plotly-graph-div\" style=\"height:525px; width:100%;\"></div>            <script type=\"text/javascript\">                require([\"plotly\"], function(Plotly) {                    window.PLOTLYENV=window.PLOTLYENV || {};\n",
       "                    window.PLOTLYENV.BASE_URL='https://plot.ly';                                    if (document.getElementById(\"8f202a25-67a1-4949-8a84-eb60817bbcab\")) {                    Plotly.newPlot(                        \"8f202a25-67a1-4949-8a84-eb60817bbcab\",                        [{\"line\":{\"color\":\"rgba(255, 153, 51, 1.0)\",\"dash\":\"solid\",\"shape\":\"linear\",\"width\":1.3},\"marker\":{\"size\":10,\"symbol\":\"circle\"},\"mode\":\"markers\",\"name\":\"B\",\"text\":\"\",\"x\":[-0.08186168703008381,-1.4125134786406384,-2.0216316901586966,-1.1144061395664848,-0.732862192610121,-0.43646635545450774,-2.0968581642837814,0.5444228495639059,-0.5653026207892777,0.30717970372559855,-0.4198484557612456,0.7253217047833895,-0.7910646375013571,0.24584288534701426,0.3861808927955188,-1.1467665661219575,-0.41072488955529124,0.724907854212759,-0.39513396691114294,-0.29734831407239337,0.056560161710574756,-0.8472438703374219,-1.7198020608413256,0.26407469568663433,-0.5262701489609771,-0.500907294123469,-1.0930047549095676,-0.595849948515295,1.5334319219267074,-0.016326454774757585,-0.862655734758858,0.5684015061380762,-1.2161191764324901,-1.1753642330024214,-0.18901916241119732,-0.5549185302065942,0.309228505663993,-0.5931070174769876,-0.915428386728154,-0.5689122102202488,-0.16674407057733692,-2.236913162354572,-0.5827999024163568,0.6902558348780791,0.03187805913805461,-0.7413489938308117,0.366320205190309,0.7571681026049312,0.7180974557635268,1.7056945385414521,0.1381467651427019,0.9469749716086889,-0.021766609360936398,-1.7222130070414399,-0.11193913228109911,-1.253127684581892,0.5290917355245429,1.233008441143637,-0.01708591871870062,-0.022413499602245302,0.05198424376548483,-1.5730535785265773,0.13296023573262686,-0.22105137596848967,0.11956373474779762,-0.19460631714752108,-0.22403298097538893,0.5143412935583017,0.15714090442602846,0.28035904683880963,-0.2446823288892205,0.7607186297922643,-2.2143188702913483,1.4096188805712955,0.37248522681048263,-0.9490918085680567,0.17853358552885062,0.002679033371037447,0.17851692593807564,-0.7190872551009492,0.9512063312958212,1.144354380327551,-1.559442571286232,-0.9176446170081553,1.203944757019189,0.4336986432940904,1.2922199374622567,1.048558465289624,-0.24138585364897558,-0.674413221419938,-0.4372811997781751,0.02560771998751411,0.2842463005080672,-0.07999094631816925,-0.02914694933426302,0.15541678795851396,0.4912729071280546,-1.0776651864274596,-0.9522304568959343,1.6836961434138082],\"y\":[-0.29031153665030285,0.8673880001188526,0.5794175830953129,1.1236877494288822,0.14560706940464604,-0.49238381593607494,-1.3585655836642285,0.5263910174142803,1.0414187484205073,1.1126342780473124,-0.2710539337610146,0.9229317060885099,2.7717055625558005,-0.8678266089839779,-2.108848157089314,0.7370183808313264,2.6345495208902894,-0.2621273708172376,0.506481601483133,0.5246870982503338,-0.14935471488468668,0.780998061065657,-1.0377295136444016,0.07582264190298024,-0.01727724156390105,0.14967915982555374,0.4006884640886359,-0.30028281207502294,1.0524568382619184,0.22714302212822748,-2.817180366152146,1.1268043517108106,-0.9275839344799525,-0.04835623775384268,0.19305027546842896,0.6948160785103962,0.10411248394502415,0.9364271446793379,0.615398985584594,1.052408275766237,-0.1305383056255062,-0.49587893903374713,0.5682691161469392,0.10691159637422652,2.069540771302056,0.44753139296663086,-0.5452979108611006,-0.43451678872120086,-1.3331180531738722,-0.17055424849834025,1.8735530864012384,-1.113989898123316,0.718666767419772,0.5494073873928873,-0.38327337314058013,-0.7208312798888825,-1.1417601621614262,0.6441031369617723,-0.14138573019705505,-1.1630568098276415,-0.6735869103228915,2.5146014801982695,1.4879552657435673,2.165414249826483,-1.180246064142854,-0.21659994578619016,-0.09596937471604866,1.0926016449982687,-1.666241916907615,-0.8078351895602224,-0.8523387749589654,-0.8134655525065212,-0.07019443259751783,2.714118708753477,0.5503739058712013,1.0703343139772825,-0.21486650994147882,-0.9601203710375531,-0.23025194155418327,-0.9328113212548568,1.89540655559761,0.09732881700465994,-0.28483495768991385,1.6464136770714903,-1.9310211656064404,-2.6132141844277355,-0.25318296893388254,-0.5237449692281284,-1.4088071744847528,1.095281759059276,0.7413258265163059,0.391225376839355,0.6568604312150156,-0.7918186884461557,-0.623628752463788,0.5213011561323011,0.5701964420195289,-1.961135212024153,-0.13753065855645294,1.270813728730286],\"type\":\"scatter\"}],                        {\"legend\":{\"bgcolor\":\"#F5F6F9\",\"font\":{\"color\":\"#4D5663\"}},\"paper_bgcolor\":\"#F5F6F9\",\"plot_bgcolor\":\"#F5F6F9\",\"template\":{\"data\":{\"barpolar\":[{\"marker\":{\"line\":{\"color\":\"#E5ECF6\",\"width\":0.5},\"pattern\":{\"fillmode\":\"overlay\",\"size\":10,\"solidity\":0.2}},\"type\":\"barpolar\"}],\"bar\":[{\"error_x\":{\"color\":\"#2a3f5f\"},\"error_y\":{\"color\":\"#2a3f5f\"},\"marker\":{\"line\":{\"color\":\"#E5ECF6\",\"width\":0.5},\"pattern\":{\"fillmode\":\"overlay\",\"size\":10,\"solidity\":0.2}},\"type\":\"bar\"}],\"carpet\":[{\"aaxis\":{\"endlinecolor\":\"#2a3f5f\",\"gridcolor\":\"white\",\"linecolor\":\"white\",\"minorgridcolor\":\"white\",\"startlinecolor\":\"#2a3f5f\"},\"baxis\":{\"endlinecolor\":\"#2a3f5f\",\"gridcolor\":\"white\",\"linecolor\":\"white\",\"minorgridcolor\":\"white\",\"startlinecolor\":\"#2a3f5f\"},\"type\":\"carpet\"}],\"choropleth\":[{\"colorbar\":{\"outlinewidth\":0,\"ticks\":\"\"},\"type\":\"choropleth\"}],\"contourcarpet\":[{\"colorbar\":{\"outlinewidth\":0,\"ticks\":\"\"},\"type\":\"contourcarpet\"}],\"contour\":[{\"colorbar\":{\"outlinewidth\":0,\"ticks\":\"\"},\"colorscale\":[[0.0,\"#0d0887\"],[0.1111111111111111,\"#46039f\"],[0.2222222222222222,\"#7201a8\"],[0.3333333333333333,\"#9c179e\"],[0.4444444444444444,\"#bd3786\"],[0.5555555555555556,\"#d8576b\"],[0.6666666666666666,\"#ed7953\"],[0.7777777777777778,\"#fb9f3a\"],[0.8888888888888888,\"#fdca26\"],[1.0,\"#f0f921\"]],\"type\":\"contour\"}],\"heatmapgl\":[{\"colorbar\":{\"outlinewidth\":0,\"ticks\":\"\"},\"colorscale\":[[0.0,\"#0d0887\"],[0.1111111111111111,\"#46039f\"],[0.2222222222222222,\"#7201a8\"],[0.3333333333333333,\"#9c179e\"],[0.4444444444444444,\"#bd3786\"],[0.5555555555555556,\"#d8576b\"],[0.6666666666666666,\"#ed7953\"],[0.7777777777777778,\"#fb9f3a\"],[0.8888888888888888,\"#fdca26\"],[1.0,\"#f0f921\"]],\"type\":\"heatmapgl\"}],\"heatmap\":[{\"colorbar\":{\"outlinewidth\":0,\"ticks\":\"\"},\"colorscale\":[[0.0,\"#0d0887\"],[0.1111111111111111,\"#46039f\"],[0.2222222222222222,\"#7201a8\"],[0.3333333333333333,\"#9c179e\"],[0.4444444444444444,\"#bd3786\"],[0.5555555555555556,\"#d8576b\"],[0.6666666666666666,\"#ed7953\"],[0.7777777777777778,\"#fb9f3a\"],[0.8888888888888888,\"#fdca26\"],[1.0,\"#f0f921\"]],\"type\":\"heatmap\"}],\"histogram2dcontour\":[{\"colorbar\":{\"outlinewidth\":0,\"ticks\":\"\"},\"colorscale\":[[0.0,\"#0d0887\"],[0.1111111111111111,\"#46039f\"],[0.2222222222222222,\"#7201a8\"],[0.3333333333333333,\"#9c179e\"],[0.4444444444444444,\"#bd3786\"],[0.5555555555555556,\"#d8576b\"],[0.6666666666666666,\"#ed7953\"],[0.7777777777777778,\"#fb9f3a\"],[0.8888888888888888,\"#fdca26\"],[1.0,\"#f0f921\"]],\"type\":\"histogram2dcontour\"}],\"histogram2d\":[{\"colorbar\":{\"outlinewidth\":0,\"ticks\":\"\"},\"colorscale\":[[0.0,\"#0d0887\"],[0.1111111111111111,\"#46039f\"],[0.2222222222222222,\"#7201a8\"],[0.3333333333333333,\"#9c179e\"],[0.4444444444444444,\"#bd3786\"],[0.5555555555555556,\"#d8576b\"],[0.6666666666666666,\"#ed7953\"],[0.7777777777777778,\"#fb9f3a\"],[0.8888888888888888,\"#fdca26\"],[1.0,\"#f0f921\"]],\"type\":\"histogram2d\"}],\"histogram\":[{\"marker\":{\"pattern\":{\"fillmode\":\"overlay\",\"size\":10,\"solidity\":0.2}},\"type\":\"histogram\"}],\"mesh3d\":[{\"colorbar\":{\"outlinewidth\":0,\"ticks\":\"\"},\"type\":\"mesh3d\"}],\"parcoords\":[{\"line\":{\"colorbar\":{\"outlinewidth\":0,\"ticks\":\"\"}},\"type\":\"parcoords\"}],\"pie\":[{\"automargin\":true,\"type\":\"pie\"}],\"scatter3d\":[{\"line\":{\"colorbar\":{\"outlinewidth\":0,\"ticks\":\"\"}},\"marker\":{\"colorbar\":{\"outlinewidth\":0,\"ticks\":\"\"}},\"type\":\"scatter3d\"}],\"scattercarpet\":[{\"marker\":{\"colorbar\":{\"outlinewidth\":0,\"ticks\":\"\"}},\"type\":\"scattercarpet\"}],\"scattergeo\":[{\"marker\":{\"colorbar\":{\"outlinewidth\":0,\"ticks\":\"\"}},\"type\":\"scattergeo\"}],\"scattergl\":[{\"marker\":{\"colorbar\":{\"outlinewidth\":0,\"ticks\":\"\"}},\"type\":\"scattergl\"}],\"scattermapbox\":[{\"marker\":{\"colorbar\":{\"outlinewidth\":0,\"ticks\":\"\"}},\"type\":\"scattermapbox\"}],\"scatterpolargl\":[{\"marker\":{\"colorbar\":{\"outlinewidth\":0,\"ticks\":\"\"}},\"type\":\"scatterpolargl\"}],\"scatterpolar\":[{\"marker\":{\"colorbar\":{\"outlinewidth\":0,\"ticks\":\"\"}},\"type\":\"scatterpolar\"}],\"scatter\":[{\"fillpattern\":{\"fillmode\":\"overlay\",\"size\":10,\"solidity\":0.2},\"type\":\"scatter\"}],\"scatterternary\":[{\"marker\":{\"colorbar\":{\"outlinewidth\":0,\"ticks\":\"\"}},\"type\":\"scatterternary\"}],\"surface\":[{\"colorbar\":{\"outlinewidth\":0,\"ticks\":\"\"},\"colorscale\":[[0.0,\"#0d0887\"],[0.1111111111111111,\"#46039f\"],[0.2222222222222222,\"#7201a8\"],[0.3333333333333333,\"#9c179e\"],[0.4444444444444444,\"#bd3786\"],[0.5555555555555556,\"#d8576b\"],[0.6666666666666666,\"#ed7953\"],[0.7777777777777778,\"#fb9f3a\"],[0.8888888888888888,\"#fdca26\"],[1.0,\"#f0f921\"]],\"type\":\"surface\"}],\"table\":[{\"cells\":{\"fill\":{\"color\":\"#EBF0F8\"},\"line\":{\"color\":\"white\"}},\"header\":{\"fill\":{\"color\":\"#C8D4E3\"},\"line\":{\"color\":\"white\"}},\"type\":\"table\"}]},\"layout\":{\"annotationdefaults\":{\"arrowcolor\":\"#2a3f5f\",\"arrowhead\":0,\"arrowwidth\":1},\"autotypenumbers\":\"strict\",\"coloraxis\":{\"colorbar\":{\"outlinewidth\":0,\"ticks\":\"\"}},\"colorscale\":{\"diverging\":[[0,\"#8e0152\"],[0.1,\"#c51b7d\"],[0.2,\"#de77ae\"],[0.3,\"#f1b6da\"],[0.4,\"#fde0ef\"],[0.5,\"#f7f7f7\"],[0.6,\"#e6f5d0\"],[0.7,\"#b8e186\"],[0.8,\"#7fbc41\"],[0.9,\"#4d9221\"],[1,\"#276419\"]],\"sequential\":[[0.0,\"#0d0887\"],[0.1111111111111111,\"#46039f\"],[0.2222222222222222,\"#7201a8\"],[0.3333333333333333,\"#9c179e\"],[0.4444444444444444,\"#bd3786\"],[0.5555555555555556,\"#d8576b\"],[0.6666666666666666,\"#ed7953\"],[0.7777777777777778,\"#fb9f3a\"],[0.8888888888888888,\"#fdca26\"],[1.0,\"#f0f921\"]],\"sequentialminus\":[[0.0,\"#0d0887\"],[0.1111111111111111,\"#46039f\"],[0.2222222222222222,\"#7201a8\"],[0.3333333333333333,\"#9c179e\"],[0.4444444444444444,\"#bd3786\"],[0.5555555555555556,\"#d8576b\"],[0.6666666666666666,\"#ed7953\"],[0.7777777777777778,\"#fb9f3a\"],[0.8888888888888888,\"#fdca26\"],[1.0,\"#f0f921\"]]},\"colorway\":[\"#636efa\",\"#EF553B\",\"#00cc96\",\"#ab63fa\",\"#FFA15A\",\"#19d3f3\",\"#FF6692\",\"#B6E880\",\"#FF97FF\",\"#FECB52\"],\"font\":{\"color\":\"#2a3f5f\"},\"geo\":{\"bgcolor\":\"white\",\"lakecolor\":\"white\",\"landcolor\":\"#E5ECF6\",\"showlakes\":true,\"showland\":true,\"subunitcolor\":\"white\"},\"hoverlabel\":{\"align\":\"left\"},\"hovermode\":\"closest\",\"mapbox\":{\"style\":\"light\"},\"paper_bgcolor\":\"white\",\"plot_bgcolor\":\"#E5ECF6\",\"polar\":{\"angularaxis\":{\"gridcolor\":\"white\",\"linecolor\":\"white\",\"ticks\":\"\"},\"bgcolor\":\"#E5ECF6\",\"radialaxis\":{\"gridcolor\":\"white\",\"linecolor\":\"white\",\"ticks\":\"\"}},\"scene\":{\"xaxis\":{\"backgroundcolor\":\"#E5ECF6\",\"gridcolor\":\"white\",\"gridwidth\":2,\"linecolor\":\"white\",\"showbackground\":true,\"ticks\":\"\",\"zerolinecolor\":\"white\"},\"yaxis\":{\"backgroundcolor\":\"#E5ECF6\",\"gridcolor\":\"white\",\"gridwidth\":2,\"linecolor\":\"white\",\"showbackground\":true,\"ticks\":\"\",\"zerolinecolor\":\"white\"},\"zaxis\":{\"backgroundcolor\":\"#E5ECF6\",\"gridcolor\":\"white\",\"gridwidth\":2,\"linecolor\":\"white\",\"showbackground\":true,\"ticks\":\"\",\"zerolinecolor\":\"white\"}},\"shapedefaults\":{\"line\":{\"color\":\"#2a3f5f\"}},\"ternary\":{\"aaxis\":{\"gridcolor\":\"white\",\"linecolor\":\"white\",\"ticks\":\"\"},\"baxis\":{\"gridcolor\":\"white\",\"linecolor\":\"white\",\"ticks\":\"\"},\"bgcolor\":\"#E5ECF6\",\"caxis\":{\"gridcolor\":\"white\",\"linecolor\":\"white\",\"ticks\":\"\"}},\"title\":{\"x\":0.05},\"xaxis\":{\"automargin\":true,\"gridcolor\":\"white\",\"linecolor\":\"white\",\"ticks\":\"\",\"title\":{\"standoff\":15},\"zerolinecolor\":\"white\",\"zerolinewidth\":2},\"yaxis\":{\"automargin\":true,\"gridcolor\":\"white\",\"linecolor\":\"white\",\"ticks\":\"\",\"title\":{\"standoff\":15},\"zerolinecolor\":\"white\",\"zerolinewidth\":2}}},\"title\":{\"font\":{\"color\":\"#4D5663\"}},\"xaxis\":{\"gridcolor\":\"#E1E5ED\",\"showgrid\":true,\"tickfont\":{\"color\":\"#4D5663\"},\"title\":{\"font\":{\"color\":\"#4D5663\"},\"text\":\"\"},\"zerolinecolor\":\"#E1E5ED\"},\"yaxis\":{\"gridcolor\":\"#E1E5ED\",\"showgrid\":true,\"tickfont\":{\"color\":\"#4D5663\"},\"title\":{\"font\":{\"color\":\"#4D5663\"},\"text\":\"\"},\"zerolinecolor\":\"#E1E5ED\"}},                        {\"showLink\": true, \"linkText\": \"Export to plot.ly\", \"plotlyServerURL\": \"https://plot.ly\", \"responsive\": true}                    ).then(function(){\n",
       "                            \n",
       "var gd = document.getElementById('8f202a25-67a1-4949-8a84-eb60817bbcab');\n",
       "var x = new MutationObserver(function (mutations, observer) {{\n",
       "        var display = window.getComputedStyle(gd).display;\n",
       "        if (!display || display === 'none') {{\n",
       "            console.log([gd, 'removed!']);\n",
       "            Plotly.purge(gd);\n",
       "            observer.disconnect();\n",
       "        }}\n",
       "}});\n",
       "\n",
       "// Listen for the removal of the full notebook cells\n",
       "var notebookContainer = gd.closest('#notebook-container');\n",
       "if (notebookContainer) {{\n",
       "    x.observe(notebookContainer, {childList: true});\n",
       "}}\n",
       "\n",
       "// Listen for the clearing of the current output cell\n",
       "var outputEl = gd.closest('.output');\n",
       "if (outputEl) {{\n",
       "    x.observe(outputEl, {childList: true});\n",
       "}}\n",
       "\n",
       "                        })                };                });            </script>        </div>"
      ]
     },
     "metadata": {},
     "output_type": "display_data"
    }
   ],
   "source": [
    "df.iplot(kind='scatter',x='A',y='B',mode='markers',size=10)"
   ]
  },
  {
   "cell_type": "markdown",
   "metadata": {},
   "source": [
    "## Bar Plots"
   ]
  },
  {
   "cell_type": "code",
   "execution_count": 50,
   "metadata": {
    "collapsed": false
   },
   "outputs": [
    {
     "data": {
      "application/vnd.plotly.v1+json": {
       "config": {
        "linkText": "Export to plot.ly",
        "plotlyServerURL": "https://plot.ly",
        "showLink": true
       },
       "data": [
        {
         "marker": {
          "color": "rgba(255, 153, 51, 0.6)",
          "line": {
           "color": "rgba(255, 153, 51, 1.0)",
           "width": 1
          }
         },
         "name": "Values",
         "orientation": "v",
         "text": "",
         "type": "bar",
         "x": [
          "A",
          "B",
          "C"
         ],
         "y": [
          32,
          43,
          50
         ]
        }
       ],
       "layout": {
        "legend": {
         "bgcolor": "#F5F6F9",
         "font": {
          "color": "#4D5663"
         }
        },
        "paper_bgcolor": "#F5F6F9",
        "plot_bgcolor": "#F5F6F9",
        "template": {
         "data": {
          "bar": [
           {
            "error_x": {
             "color": "#2a3f5f"
            },
            "error_y": {
             "color": "#2a3f5f"
            },
            "marker": {
             "line": {
              "color": "#E5ECF6",
              "width": 0.5
             },
             "pattern": {
              "fillmode": "overlay",
              "size": 10,
              "solidity": 0.2
             }
            },
            "type": "bar"
           }
          ],
          "barpolar": [
           {
            "marker": {
             "line": {
              "color": "#E5ECF6",
              "width": 0.5
             },
             "pattern": {
              "fillmode": "overlay",
              "size": 10,
              "solidity": 0.2
             }
            },
            "type": "barpolar"
           }
          ],
          "carpet": [
           {
            "aaxis": {
             "endlinecolor": "#2a3f5f",
             "gridcolor": "white",
             "linecolor": "white",
             "minorgridcolor": "white",
             "startlinecolor": "#2a3f5f"
            },
            "baxis": {
             "endlinecolor": "#2a3f5f",
             "gridcolor": "white",
             "linecolor": "white",
             "minorgridcolor": "white",
             "startlinecolor": "#2a3f5f"
            },
            "type": "carpet"
           }
          ],
          "choropleth": [
           {
            "colorbar": {
             "outlinewidth": 0,
             "ticks": ""
            },
            "type": "choropleth"
           }
          ],
          "contour": [
           {
            "colorbar": {
             "outlinewidth": 0,
             "ticks": ""
            },
            "colorscale": [
             [
              0,
              "#0d0887"
             ],
             [
              0.1111111111111111,
              "#46039f"
             ],
             [
              0.2222222222222222,
              "#7201a8"
             ],
             [
              0.3333333333333333,
              "#9c179e"
             ],
             [
              0.4444444444444444,
              "#bd3786"
             ],
             [
              0.5555555555555556,
              "#d8576b"
             ],
             [
              0.6666666666666666,
              "#ed7953"
             ],
             [
              0.7777777777777778,
              "#fb9f3a"
             ],
             [
              0.8888888888888888,
              "#fdca26"
             ],
             [
              1,
              "#f0f921"
             ]
            ],
            "type": "contour"
           }
          ],
          "contourcarpet": [
           {
            "colorbar": {
             "outlinewidth": 0,
             "ticks": ""
            },
            "type": "contourcarpet"
           }
          ],
          "heatmap": [
           {
            "colorbar": {
             "outlinewidth": 0,
             "ticks": ""
            },
            "colorscale": [
             [
              0,
              "#0d0887"
             ],
             [
              0.1111111111111111,
              "#46039f"
             ],
             [
              0.2222222222222222,
              "#7201a8"
             ],
             [
              0.3333333333333333,
              "#9c179e"
             ],
             [
              0.4444444444444444,
              "#bd3786"
             ],
             [
              0.5555555555555556,
              "#d8576b"
             ],
             [
              0.6666666666666666,
              "#ed7953"
             ],
             [
              0.7777777777777778,
              "#fb9f3a"
             ],
             [
              0.8888888888888888,
              "#fdca26"
             ],
             [
              1,
              "#f0f921"
             ]
            ],
            "type": "heatmap"
           }
          ],
          "heatmapgl": [
           {
            "colorbar": {
             "outlinewidth": 0,
             "ticks": ""
            },
            "colorscale": [
             [
              0,
              "#0d0887"
             ],
             [
              0.1111111111111111,
              "#46039f"
             ],
             [
              0.2222222222222222,
              "#7201a8"
             ],
             [
              0.3333333333333333,
              "#9c179e"
             ],
             [
              0.4444444444444444,
              "#bd3786"
             ],
             [
              0.5555555555555556,
              "#d8576b"
             ],
             [
              0.6666666666666666,
              "#ed7953"
             ],
             [
              0.7777777777777778,
              "#fb9f3a"
             ],
             [
              0.8888888888888888,
              "#fdca26"
             ],
             [
              1,
              "#f0f921"
             ]
            ],
            "type": "heatmapgl"
           }
          ],
          "histogram": [
           {
            "marker": {
             "pattern": {
              "fillmode": "overlay",
              "size": 10,
              "solidity": 0.2
             }
            },
            "type": "histogram"
           }
          ],
          "histogram2d": [
           {
            "colorbar": {
             "outlinewidth": 0,
             "ticks": ""
            },
            "colorscale": [
             [
              0,
              "#0d0887"
             ],
             [
              0.1111111111111111,
              "#46039f"
             ],
             [
              0.2222222222222222,
              "#7201a8"
             ],
             [
              0.3333333333333333,
              "#9c179e"
             ],
             [
              0.4444444444444444,
              "#bd3786"
             ],
             [
              0.5555555555555556,
              "#d8576b"
             ],
             [
              0.6666666666666666,
              "#ed7953"
             ],
             [
              0.7777777777777778,
              "#fb9f3a"
             ],
             [
              0.8888888888888888,
              "#fdca26"
             ],
             [
              1,
              "#f0f921"
             ]
            ],
            "type": "histogram2d"
           }
          ],
          "histogram2dcontour": [
           {
            "colorbar": {
             "outlinewidth": 0,
             "ticks": ""
            },
            "colorscale": [
             [
              0,
              "#0d0887"
             ],
             [
              0.1111111111111111,
              "#46039f"
             ],
             [
              0.2222222222222222,
              "#7201a8"
             ],
             [
              0.3333333333333333,
              "#9c179e"
             ],
             [
              0.4444444444444444,
              "#bd3786"
             ],
             [
              0.5555555555555556,
              "#d8576b"
             ],
             [
              0.6666666666666666,
              "#ed7953"
             ],
             [
              0.7777777777777778,
              "#fb9f3a"
             ],
             [
              0.8888888888888888,
              "#fdca26"
             ],
             [
              1,
              "#f0f921"
             ]
            ],
            "type": "histogram2dcontour"
           }
          ],
          "mesh3d": [
           {
            "colorbar": {
             "outlinewidth": 0,
             "ticks": ""
            },
            "type": "mesh3d"
           }
          ],
          "parcoords": [
           {
            "line": {
             "colorbar": {
              "outlinewidth": 0,
              "ticks": ""
             }
            },
            "type": "parcoords"
           }
          ],
          "pie": [
           {
            "automargin": true,
            "type": "pie"
           }
          ],
          "scatter": [
           {
            "fillpattern": {
             "fillmode": "overlay",
             "size": 10,
             "solidity": 0.2
            },
            "type": "scatter"
           }
          ],
          "scatter3d": [
           {
            "line": {
             "colorbar": {
              "outlinewidth": 0,
              "ticks": ""
             }
            },
            "marker": {
             "colorbar": {
              "outlinewidth": 0,
              "ticks": ""
             }
            },
            "type": "scatter3d"
           }
          ],
          "scattercarpet": [
           {
            "marker": {
             "colorbar": {
              "outlinewidth": 0,
              "ticks": ""
             }
            },
            "type": "scattercarpet"
           }
          ],
          "scattergeo": [
           {
            "marker": {
             "colorbar": {
              "outlinewidth": 0,
              "ticks": ""
             }
            },
            "type": "scattergeo"
           }
          ],
          "scattergl": [
           {
            "marker": {
             "colorbar": {
              "outlinewidth": 0,
              "ticks": ""
             }
            },
            "type": "scattergl"
           }
          ],
          "scattermapbox": [
           {
            "marker": {
             "colorbar": {
              "outlinewidth": 0,
              "ticks": ""
             }
            },
            "type": "scattermapbox"
           }
          ],
          "scatterpolar": [
           {
            "marker": {
             "colorbar": {
              "outlinewidth": 0,
              "ticks": ""
             }
            },
            "type": "scatterpolar"
           }
          ],
          "scatterpolargl": [
           {
            "marker": {
             "colorbar": {
              "outlinewidth": 0,
              "ticks": ""
             }
            },
            "type": "scatterpolargl"
           }
          ],
          "scatterternary": [
           {
            "marker": {
             "colorbar": {
              "outlinewidth": 0,
              "ticks": ""
             }
            },
            "type": "scatterternary"
           }
          ],
          "surface": [
           {
            "colorbar": {
             "outlinewidth": 0,
             "ticks": ""
            },
            "colorscale": [
             [
              0,
              "#0d0887"
             ],
             [
              0.1111111111111111,
              "#46039f"
             ],
             [
              0.2222222222222222,
              "#7201a8"
             ],
             [
              0.3333333333333333,
              "#9c179e"
             ],
             [
              0.4444444444444444,
              "#bd3786"
             ],
             [
              0.5555555555555556,
              "#d8576b"
             ],
             [
              0.6666666666666666,
              "#ed7953"
             ],
             [
              0.7777777777777778,
              "#fb9f3a"
             ],
             [
              0.8888888888888888,
              "#fdca26"
             ],
             [
              1,
              "#f0f921"
             ]
            ],
            "type": "surface"
           }
          ],
          "table": [
           {
            "cells": {
             "fill": {
              "color": "#EBF0F8"
             },
             "line": {
              "color": "white"
             }
            },
            "header": {
             "fill": {
              "color": "#C8D4E3"
             },
             "line": {
              "color": "white"
             }
            },
            "type": "table"
           }
          ]
         },
         "layout": {
          "annotationdefaults": {
           "arrowcolor": "#2a3f5f",
           "arrowhead": 0,
           "arrowwidth": 1
          },
          "autotypenumbers": "strict",
          "coloraxis": {
           "colorbar": {
            "outlinewidth": 0,
            "ticks": ""
           }
          },
          "colorscale": {
           "diverging": [
            [
             0,
             "#8e0152"
            ],
            [
             0.1,
             "#c51b7d"
            ],
            [
             0.2,
             "#de77ae"
            ],
            [
             0.3,
             "#f1b6da"
            ],
            [
             0.4,
             "#fde0ef"
            ],
            [
             0.5,
             "#f7f7f7"
            ],
            [
             0.6,
             "#e6f5d0"
            ],
            [
             0.7,
             "#b8e186"
            ],
            [
             0.8,
             "#7fbc41"
            ],
            [
             0.9,
             "#4d9221"
            ],
            [
             1,
             "#276419"
            ]
           ],
           "sequential": [
            [
             0,
             "#0d0887"
            ],
            [
             0.1111111111111111,
             "#46039f"
            ],
            [
             0.2222222222222222,
             "#7201a8"
            ],
            [
             0.3333333333333333,
             "#9c179e"
            ],
            [
             0.4444444444444444,
             "#bd3786"
            ],
            [
             0.5555555555555556,
             "#d8576b"
            ],
            [
             0.6666666666666666,
             "#ed7953"
            ],
            [
             0.7777777777777778,
             "#fb9f3a"
            ],
            [
             0.8888888888888888,
             "#fdca26"
            ],
            [
             1,
             "#f0f921"
            ]
           ],
           "sequentialminus": [
            [
             0,
             "#0d0887"
            ],
            [
             0.1111111111111111,
             "#46039f"
            ],
            [
             0.2222222222222222,
             "#7201a8"
            ],
            [
             0.3333333333333333,
             "#9c179e"
            ],
            [
             0.4444444444444444,
             "#bd3786"
            ],
            [
             0.5555555555555556,
             "#d8576b"
            ],
            [
             0.6666666666666666,
             "#ed7953"
            ],
            [
             0.7777777777777778,
             "#fb9f3a"
            ],
            [
             0.8888888888888888,
             "#fdca26"
            ],
            [
             1,
             "#f0f921"
            ]
           ]
          },
          "colorway": [
           "#636efa",
           "#EF553B",
           "#00cc96",
           "#ab63fa",
           "#FFA15A",
           "#19d3f3",
           "#FF6692",
           "#B6E880",
           "#FF97FF",
           "#FECB52"
          ],
          "font": {
           "color": "#2a3f5f"
          },
          "geo": {
           "bgcolor": "white",
           "lakecolor": "white",
           "landcolor": "#E5ECF6",
           "showlakes": true,
           "showland": true,
           "subunitcolor": "white"
          },
          "hoverlabel": {
           "align": "left"
          },
          "hovermode": "closest",
          "mapbox": {
           "style": "light"
          },
          "paper_bgcolor": "white",
          "plot_bgcolor": "#E5ECF6",
          "polar": {
           "angularaxis": {
            "gridcolor": "white",
            "linecolor": "white",
            "ticks": ""
           },
           "bgcolor": "#E5ECF6",
           "radialaxis": {
            "gridcolor": "white",
            "linecolor": "white",
            "ticks": ""
           }
          },
          "scene": {
           "xaxis": {
            "backgroundcolor": "#E5ECF6",
            "gridcolor": "white",
            "gridwidth": 2,
            "linecolor": "white",
            "showbackground": true,
            "ticks": "",
            "zerolinecolor": "white"
           },
           "yaxis": {
            "backgroundcolor": "#E5ECF6",
            "gridcolor": "white",
            "gridwidth": 2,
            "linecolor": "white",
            "showbackground": true,
            "ticks": "",
            "zerolinecolor": "white"
           },
           "zaxis": {
            "backgroundcolor": "#E5ECF6",
            "gridcolor": "white",
            "gridwidth": 2,
            "linecolor": "white",
            "showbackground": true,
            "ticks": "",
            "zerolinecolor": "white"
           }
          },
          "shapedefaults": {
           "line": {
            "color": "#2a3f5f"
           }
          },
          "ternary": {
           "aaxis": {
            "gridcolor": "white",
            "linecolor": "white",
            "ticks": ""
           },
           "baxis": {
            "gridcolor": "white",
            "linecolor": "white",
            "ticks": ""
           },
           "bgcolor": "#E5ECF6",
           "caxis": {
            "gridcolor": "white",
            "linecolor": "white",
            "ticks": ""
           }
          },
          "title": {
           "x": 0.05
          },
          "xaxis": {
           "automargin": true,
           "gridcolor": "white",
           "linecolor": "white",
           "ticks": "",
           "title": {
            "standoff": 15
           },
           "zerolinecolor": "white",
           "zerolinewidth": 2
          },
          "yaxis": {
           "automargin": true,
           "gridcolor": "white",
           "linecolor": "white",
           "ticks": "",
           "title": {
            "standoff": 15
           },
           "zerolinecolor": "white",
           "zerolinewidth": 2
          }
         }
        },
        "title": {
         "font": {
          "color": "#4D5663"
         }
        },
        "xaxis": {
         "gridcolor": "#E1E5ED",
         "showgrid": true,
         "tickfont": {
          "color": "#4D5663"
         },
         "title": {
          "font": {
           "color": "#4D5663"
          },
          "text": ""
         },
         "zerolinecolor": "#E1E5ED"
        },
        "yaxis": {
         "gridcolor": "#E1E5ED",
         "showgrid": true,
         "tickfont": {
          "color": "#4D5663"
         },
         "title": {
          "font": {
           "color": "#4D5663"
          },
          "text": ""
         },
         "zerolinecolor": "#E1E5ED"
        }
       }
      },
      "text/html": [
       "<div>                            <div id=\"69c6d90a-5df6-4b22-933f-c9ee69d1b966\" class=\"plotly-graph-div\" style=\"height:525px; width:100%;\"></div>            <script type=\"text/javascript\">                require([\"plotly\"], function(Plotly) {                    window.PLOTLYENV=window.PLOTLYENV || {};\n",
       "                    window.PLOTLYENV.BASE_URL='https://plot.ly';                                    if (document.getElementById(\"69c6d90a-5df6-4b22-933f-c9ee69d1b966\")) {                    Plotly.newPlot(                        \"69c6d90a-5df6-4b22-933f-c9ee69d1b966\",                        [{\"marker\":{\"color\":\"rgba(255, 153, 51, 0.6)\",\"line\":{\"color\":\"rgba(255, 153, 51, 1.0)\",\"width\":1}},\"name\":\"Values\",\"orientation\":\"v\",\"text\":\"\",\"x\":[\"A\",\"B\",\"C\"],\"y\":[32,43,50],\"type\":\"bar\"}],                        {\"legend\":{\"bgcolor\":\"#F5F6F9\",\"font\":{\"color\":\"#4D5663\"}},\"paper_bgcolor\":\"#F5F6F9\",\"plot_bgcolor\":\"#F5F6F9\",\"template\":{\"data\":{\"barpolar\":[{\"marker\":{\"line\":{\"color\":\"#E5ECF6\",\"width\":0.5},\"pattern\":{\"fillmode\":\"overlay\",\"size\":10,\"solidity\":0.2}},\"type\":\"barpolar\"}],\"bar\":[{\"error_x\":{\"color\":\"#2a3f5f\"},\"error_y\":{\"color\":\"#2a3f5f\"},\"marker\":{\"line\":{\"color\":\"#E5ECF6\",\"width\":0.5},\"pattern\":{\"fillmode\":\"overlay\",\"size\":10,\"solidity\":0.2}},\"type\":\"bar\"}],\"carpet\":[{\"aaxis\":{\"endlinecolor\":\"#2a3f5f\",\"gridcolor\":\"white\",\"linecolor\":\"white\",\"minorgridcolor\":\"white\",\"startlinecolor\":\"#2a3f5f\"},\"baxis\":{\"endlinecolor\":\"#2a3f5f\",\"gridcolor\":\"white\",\"linecolor\":\"white\",\"minorgridcolor\":\"white\",\"startlinecolor\":\"#2a3f5f\"},\"type\":\"carpet\"}],\"choropleth\":[{\"colorbar\":{\"outlinewidth\":0,\"ticks\":\"\"},\"type\":\"choropleth\"}],\"contourcarpet\":[{\"colorbar\":{\"outlinewidth\":0,\"ticks\":\"\"},\"type\":\"contourcarpet\"}],\"contour\":[{\"colorbar\":{\"outlinewidth\":0,\"ticks\":\"\"},\"colorscale\":[[0.0,\"#0d0887\"],[0.1111111111111111,\"#46039f\"],[0.2222222222222222,\"#7201a8\"],[0.3333333333333333,\"#9c179e\"],[0.4444444444444444,\"#bd3786\"],[0.5555555555555556,\"#d8576b\"],[0.6666666666666666,\"#ed7953\"],[0.7777777777777778,\"#fb9f3a\"],[0.8888888888888888,\"#fdca26\"],[1.0,\"#f0f921\"]],\"type\":\"contour\"}],\"heatmapgl\":[{\"colorbar\":{\"outlinewidth\":0,\"ticks\":\"\"},\"colorscale\":[[0.0,\"#0d0887\"],[0.1111111111111111,\"#46039f\"],[0.2222222222222222,\"#7201a8\"],[0.3333333333333333,\"#9c179e\"],[0.4444444444444444,\"#bd3786\"],[0.5555555555555556,\"#d8576b\"],[0.6666666666666666,\"#ed7953\"],[0.7777777777777778,\"#fb9f3a\"],[0.8888888888888888,\"#fdca26\"],[1.0,\"#f0f921\"]],\"type\":\"heatmapgl\"}],\"heatmap\":[{\"colorbar\":{\"outlinewidth\":0,\"ticks\":\"\"},\"colorscale\":[[0.0,\"#0d0887\"],[0.1111111111111111,\"#46039f\"],[0.2222222222222222,\"#7201a8\"],[0.3333333333333333,\"#9c179e\"],[0.4444444444444444,\"#bd3786\"],[0.5555555555555556,\"#d8576b\"],[0.6666666666666666,\"#ed7953\"],[0.7777777777777778,\"#fb9f3a\"],[0.8888888888888888,\"#fdca26\"],[1.0,\"#f0f921\"]],\"type\":\"heatmap\"}],\"histogram2dcontour\":[{\"colorbar\":{\"outlinewidth\":0,\"ticks\":\"\"},\"colorscale\":[[0.0,\"#0d0887\"],[0.1111111111111111,\"#46039f\"],[0.2222222222222222,\"#7201a8\"],[0.3333333333333333,\"#9c179e\"],[0.4444444444444444,\"#bd3786\"],[0.5555555555555556,\"#d8576b\"],[0.6666666666666666,\"#ed7953\"],[0.7777777777777778,\"#fb9f3a\"],[0.8888888888888888,\"#fdca26\"],[1.0,\"#f0f921\"]],\"type\":\"histogram2dcontour\"}],\"histogram2d\":[{\"colorbar\":{\"outlinewidth\":0,\"ticks\":\"\"},\"colorscale\":[[0.0,\"#0d0887\"],[0.1111111111111111,\"#46039f\"],[0.2222222222222222,\"#7201a8\"],[0.3333333333333333,\"#9c179e\"],[0.4444444444444444,\"#bd3786\"],[0.5555555555555556,\"#d8576b\"],[0.6666666666666666,\"#ed7953\"],[0.7777777777777778,\"#fb9f3a\"],[0.8888888888888888,\"#fdca26\"],[1.0,\"#f0f921\"]],\"type\":\"histogram2d\"}],\"histogram\":[{\"marker\":{\"pattern\":{\"fillmode\":\"overlay\",\"size\":10,\"solidity\":0.2}},\"type\":\"histogram\"}],\"mesh3d\":[{\"colorbar\":{\"outlinewidth\":0,\"ticks\":\"\"},\"type\":\"mesh3d\"}],\"parcoords\":[{\"line\":{\"colorbar\":{\"outlinewidth\":0,\"ticks\":\"\"}},\"type\":\"parcoords\"}],\"pie\":[{\"automargin\":true,\"type\":\"pie\"}],\"scatter3d\":[{\"line\":{\"colorbar\":{\"outlinewidth\":0,\"ticks\":\"\"}},\"marker\":{\"colorbar\":{\"outlinewidth\":0,\"ticks\":\"\"}},\"type\":\"scatter3d\"}],\"scattercarpet\":[{\"marker\":{\"colorbar\":{\"outlinewidth\":0,\"ticks\":\"\"}},\"type\":\"scattercarpet\"}],\"scattergeo\":[{\"marker\":{\"colorbar\":{\"outlinewidth\":0,\"ticks\":\"\"}},\"type\":\"scattergeo\"}],\"scattergl\":[{\"marker\":{\"colorbar\":{\"outlinewidth\":0,\"ticks\":\"\"}},\"type\":\"scattergl\"}],\"scattermapbox\":[{\"marker\":{\"colorbar\":{\"outlinewidth\":0,\"ticks\":\"\"}},\"type\":\"scattermapbox\"}],\"scatterpolargl\":[{\"marker\":{\"colorbar\":{\"outlinewidth\":0,\"ticks\":\"\"}},\"type\":\"scatterpolargl\"}],\"scatterpolar\":[{\"marker\":{\"colorbar\":{\"outlinewidth\":0,\"ticks\":\"\"}},\"type\":\"scatterpolar\"}],\"scatter\":[{\"fillpattern\":{\"fillmode\":\"overlay\",\"size\":10,\"solidity\":0.2},\"type\":\"scatter\"}],\"scatterternary\":[{\"marker\":{\"colorbar\":{\"outlinewidth\":0,\"ticks\":\"\"}},\"type\":\"scatterternary\"}],\"surface\":[{\"colorbar\":{\"outlinewidth\":0,\"ticks\":\"\"},\"colorscale\":[[0.0,\"#0d0887\"],[0.1111111111111111,\"#46039f\"],[0.2222222222222222,\"#7201a8\"],[0.3333333333333333,\"#9c179e\"],[0.4444444444444444,\"#bd3786\"],[0.5555555555555556,\"#d8576b\"],[0.6666666666666666,\"#ed7953\"],[0.7777777777777778,\"#fb9f3a\"],[0.8888888888888888,\"#fdca26\"],[1.0,\"#f0f921\"]],\"type\":\"surface\"}],\"table\":[{\"cells\":{\"fill\":{\"color\":\"#EBF0F8\"},\"line\":{\"color\":\"white\"}},\"header\":{\"fill\":{\"color\":\"#C8D4E3\"},\"line\":{\"color\":\"white\"}},\"type\":\"table\"}]},\"layout\":{\"annotationdefaults\":{\"arrowcolor\":\"#2a3f5f\",\"arrowhead\":0,\"arrowwidth\":1},\"autotypenumbers\":\"strict\",\"coloraxis\":{\"colorbar\":{\"outlinewidth\":0,\"ticks\":\"\"}},\"colorscale\":{\"diverging\":[[0,\"#8e0152\"],[0.1,\"#c51b7d\"],[0.2,\"#de77ae\"],[0.3,\"#f1b6da\"],[0.4,\"#fde0ef\"],[0.5,\"#f7f7f7\"],[0.6,\"#e6f5d0\"],[0.7,\"#b8e186\"],[0.8,\"#7fbc41\"],[0.9,\"#4d9221\"],[1,\"#276419\"]],\"sequential\":[[0.0,\"#0d0887\"],[0.1111111111111111,\"#46039f\"],[0.2222222222222222,\"#7201a8\"],[0.3333333333333333,\"#9c179e\"],[0.4444444444444444,\"#bd3786\"],[0.5555555555555556,\"#d8576b\"],[0.6666666666666666,\"#ed7953\"],[0.7777777777777778,\"#fb9f3a\"],[0.8888888888888888,\"#fdca26\"],[1.0,\"#f0f921\"]],\"sequentialminus\":[[0.0,\"#0d0887\"],[0.1111111111111111,\"#46039f\"],[0.2222222222222222,\"#7201a8\"],[0.3333333333333333,\"#9c179e\"],[0.4444444444444444,\"#bd3786\"],[0.5555555555555556,\"#d8576b\"],[0.6666666666666666,\"#ed7953\"],[0.7777777777777778,\"#fb9f3a\"],[0.8888888888888888,\"#fdca26\"],[1.0,\"#f0f921\"]]},\"colorway\":[\"#636efa\",\"#EF553B\",\"#00cc96\",\"#ab63fa\",\"#FFA15A\",\"#19d3f3\",\"#FF6692\",\"#B6E880\",\"#FF97FF\",\"#FECB52\"],\"font\":{\"color\":\"#2a3f5f\"},\"geo\":{\"bgcolor\":\"white\",\"lakecolor\":\"white\",\"landcolor\":\"#E5ECF6\",\"showlakes\":true,\"showland\":true,\"subunitcolor\":\"white\"},\"hoverlabel\":{\"align\":\"left\"},\"hovermode\":\"closest\",\"mapbox\":{\"style\":\"light\"},\"paper_bgcolor\":\"white\",\"plot_bgcolor\":\"#E5ECF6\",\"polar\":{\"angularaxis\":{\"gridcolor\":\"white\",\"linecolor\":\"white\",\"ticks\":\"\"},\"bgcolor\":\"#E5ECF6\",\"radialaxis\":{\"gridcolor\":\"white\",\"linecolor\":\"white\",\"ticks\":\"\"}},\"scene\":{\"xaxis\":{\"backgroundcolor\":\"#E5ECF6\",\"gridcolor\":\"white\",\"gridwidth\":2,\"linecolor\":\"white\",\"showbackground\":true,\"ticks\":\"\",\"zerolinecolor\":\"white\"},\"yaxis\":{\"backgroundcolor\":\"#E5ECF6\",\"gridcolor\":\"white\",\"gridwidth\":2,\"linecolor\":\"white\",\"showbackground\":true,\"ticks\":\"\",\"zerolinecolor\":\"white\"},\"zaxis\":{\"backgroundcolor\":\"#E5ECF6\",\"gridcolor\":\"white\",\"gridwidth\":2,\"linecolor\":\"white\",\"showbackground\":true,\"ticks\":\"\",\"zerolinecolor\":\"white\"}},\"shapedefaults\":{\"line\":{\"color\":\"#2a3f5f\"}},\"ternary\":{\"aaxis\":{\"gridcolor\":\"white\",\"linecolor\":\"white\",\"ticks\":\"\"},\"baxis\":{\"gridcolor\":\"white\",\"linecolor\":\"white\",\"ticks\":\"\"},\"bgcolor\":\"#E5ECF6\",\"caxis\":{\"gridcolor\":\"white\",\"linecolor\":\"white\",\"ticks\":\"\"}},\"title\":{\"x\":0.05},\"xaxis\":{\"automargin\":true,\"gridcolor\":\"white\",\"linecolor\":\"white\",\"ticks\":\"\",\"title\":{\"standoff\":15},\"zerolinecolor\":\"white\",\"zerolinewidth\":2},\"yaxis\":{\"automargin\":true,\"gridcolor\":\"white\",\"linecolor\":\"white\",\"ticks\":\"\",\"title\":{\"standoff\":15},\"zerolinecolor\":\"white\",\"zerolinewidth\":2}}},\"title\":{\"font\":{\"color\":\"#4D5663\"}},\"xaxis\":{\"gridcolor\":\"#E1E5ED\",\"showgrid\":true,\"tickfont\":{\"color\":\"#4D5663\"},\"title\":{\"font\":{\"color\":\"#4D5663\"},\"text\":\"\"},\"zerolinecolor\":\"#E1E5ED\"},\"yaxis\":{\"gridcolor\":\"#E1E5ED\",\"showgrid\":true,\"tickfont\":{\"color\":\"#4D5663\"},\"title\":{\"font\":{\"color\":\"#4D5663\"},\"text\":\"\"},\"zerolinecolor\":\"#E1E5ED\"}},                        {\"showLink\": true, \"linkText\": \"Export to plot.ly\", \"plotlyServerURL\": \"https://plot.ly\", \"responsive\": true}                    ).then(function(){\n",
       "                            \n",
       "var gd = document.getElementById('69c6d90a-5df6-4b22-933f-c9ee69d1b966');\n",
       "var x = new MutationObserver(function (mutations, observer) {{\n",
       "        var display = window.getComputedStyle(gd).display;\n",
       "        if (!display || display === 'none') {{\n",
       "            console.log([gd, 'removed!']);\n",
       "            Plotly.purge(gd);\n",
       "            observer.disconnect();\n",
       "        }}\n",
       "}});\n",
       "\n",
       "// Listen for the removal of the full notebook cells\n",
       "var notebookContainer = gd.closest('#notebook-container');\n",
       "if (notebookContainer) {{\n",
       "    x.observe(notebookContainer, {childList: true});\n",
       "}}\n",
       "\n",
       "// Listen for the clearing of the current output cell\n",
       "var outputEl = gd.closest('.output');\n",
       "if (outputEl) {{\n",
       "    x.observe(outputEl, {childList: true});\n",
       "}}\n",
       "\n",
       "                        })                };                });            </script>        </div>"
      ]
     },
     "metadata": {},
     "output_type": "display_data"
    }
   ],
   "source": [
    "df2.iplot(kind='bar',x='Category',y='Values')"
   ]
  },
  {
   "cell_type": "code",
   "execution_count": 51,
   "metadata": {
    "collapsed": false
   },
   "outputs": [
    {
     "data": {
      "application/vnd.plotly.v1+json": {
       "config": {
        "linkText": "Export to plot.ly",
        "plotlyServerURL": "https://plot.ly",
        "showLink": true
       },
       "data": [
        {
         "marker": {
          "color": "rgba(255, 153, 51, 0.6)",
          "line": {
           "color": "rgba(255, 153, 51, 1.0)",
           "width": 1
          }
         },
         "name": "None",
         "orientation": "v",
         "text": "",
         "type": "bar",
         "x": [
          "A",
          "B",
          "C",
          "D"
         ],
         "y": [
          100,
          100,
          100,
          100
         ]
        }
       ],
       "layout": {
        "legend": {
         "bgcolor": "#F5F6F9",
         "font": {
          "color": "#4D5663"
         }
        },
        "paper_bgcolor": "#F5F6F9",
        "plot_bgcolor": "#F5F6F9",
        "template": {
         "data": {
          "bar": [
           {
            "error_x": {
             "color": "#2a3f5f"
            },
            "error_y": {
             "color": "#2a3f5f"
            },
            "marker": {
             "line": {
              "color": "#E5ECF6",
              "width": 0.5
             },
             "pattern": {
              "fillmode": "overlay",
              "size": 10,
              "solidity": 0.2
             }
            },
            "type": "bar"
           }
          ],
          "barpolar": [
           {
            "marker": {
             "line": {
              "color": "#E5ECF6",
              "width": 0.5
             },
             "pattern": {
              "fillmode": "overlay",
              "size": 10,
              "solidity": 0.2
             }
            },
            "type": "barpolar"
           }
          ],
          "carpet": [
           {
            "aaxis": {
             "endlinecolor": "#2a3f5f",
             "gridcolor": "white",
             "linecolor": "white",
             "minorgridcolor": "white",
             "startlinecolor": "#2a3f5f"
            },
            "baxis": {
             "endlinecolor": "#2a3f5f",
             "gridcolor": "white",
             "linecolor": "white",
             "minorgridcolor": "white",
             "startlinecolor": "#2a3f5f"
            },
            "type": "carpet"
           }
          ],
          "choropleth": [
           {
            "colorbar": {
             "outlinewidth": 0,
             "ticks": ""
            },
            "type": "choropleth"
           }
          ],
          "contour": [
           {
            "colorbar": {
             "outlinewidth": 0,
             "ticks": ""
            },
            "colorscale": [
             [
              0,
              "#0d0887"
             ],
             [
              0.1111111111111111,
              "#46039f"
             ],
             [
              0.2222222222222222,
              "#7201a8"
             ],
             [
              0.3333333333333333,
              "#9c179e"
             ],
             [
              0.4444444444444444,
              "#bd3786"
             ],
             [
              0.5555555555555556,
              "#d8576b"
             ],
             [
              0.6666666666666666,
              "#ed7953"
             ],
             [
              0.7777777777777778,
              "#fb9f3a"
             ],
             [
              0.8888888888888888,
              "#fdca26"
             ],
             [
              1,
              "#f0f921"
             ]
            ],
            "type": "contour"
           }
          ],
          "contourcarpet": [
           {
            "colorbar": {
             "outlinewidth": 0,
             "ticks": ""
            },
            "type": "contourcarpet"
           }
          ],
          "heatmap": [
           {
            "colorbar": {
             "outlinewidth": 0,
             "ticks": ""
            },
            "colorscale": [
             [
              0,
              "#0d0887"
             ],
             [
              0.1111111111111111,
              "#46039f"
             ],
             [
              0.2222222222222222,
              "#7201a8"
             ],
             [
              0.3333333333333333,
              "#9c179e"
             ],
             [
              0.4444444444444444,
              "#bd3786"
             ],
             [
              0.5555555555555556,
              "#d8576b"
             ],
             [
              0.6666666666666666,
              "#ed7953"
             ],
             [
              0.7777777777777778,
              "#fb9f3a"
             ],
             [
              0.8888888888888888,
              "#fdca26"
             ],
             [
              1,
              "#f0f921"
             ]
            ],
            "type": "heatmap"
           }
          ],
          "heatmapgl": [
           {
            "colorbar": {
             "outlinewidth": 0,
             "ticks": ""
            },
            "colorscale": [
             [
              0,
              "#0d0887"
             ],
             [
              0.1111111111111111,
              "#46039f"
             ],
             [
              0.2222222222222222,
              "#7201a8"
             ],
             [
              0.3333333333333333,
              "#9c179e"
             ],
             [
              0.4444444444444444,
              "#bd3786"
             ],
             [
              0.5555555555555556,
              "#d8576b"
             ],
             [
              0.6666666666666666,
              "#ed7953"
             ],
             [
              0.7777777777777778,
              "#fb9f3a"
             ],
             [
              0.8888888888888888,
              "#fdca26"
             ],
             [
              1,
              "#f0f921"
             ]
            ],
            "type": "heatmapgl"
           }
          ],
          "histogram": [
           {
            "marker": {
             "pattern": {
              "fillmode": "overlay",
              "size": 10,
              "solidity": 0.2
             }
            },
            "type": "histogram"
           }
          ],
          "histogram2d": [
           {
            "colorbar": {
             "outlinewidth": 0,
             "ticks": ""
            },
            "colorscale": [
             [
              0,
              "#0d0887"
             ],
             [
              0.1111111111111111,
              "#46039f"
             ],
             [
              0.2222222222222222,
              "#7201a8"
             ],
             [
              0.3333333333333333,
              "#9c179e"
             ],
             [
              0.4444444444444444,
              "#bd3786"
             ],
             [
              0.5555555555555556,
              "#d8576b"
             ],
             [
              0.6666666666666666,
              "#ed7953"
             ],
             [
              0.7777777777777778,
              "#fb9f3a"
             ],
             [
              0.8888888888888888,
              "#fdca26"
             ],
             [
              1,
              "#f0f921"
             ]
            ],
            "type": "histogram2d"
           }
          ],
          "histogram2dcontour": [
           {
            "colorbar": {
             "outlinewidth": 0,
             "ticks": ""
            },
            "colorscale": [
             [
              0,
              "#0d0887"
             ],
             [
              0.1111111111111111,
              "#46039f"
             ],
             [
              0.2222222222222222,
              "#7201a8"
             ],
             [
              0.3333333333333333,
              "#9c179e"
             ],
             [
              0.4444444444444444,
              "#bd3786"
             ],
             [
              0.5555555555555556,
              "#d8576b"
             ],
             [
              0.6666666666666666,
              "#ed7953"
             ],
             [
              0.7777777777777778,
              "#fb9f3a"
             ],
             [
              0.8888888888888888,
              "#fdca26"
             ],
             [
              1,
              "#f0f921"
             ]
            ],
            "type": "histogram2dcontour"
           }
          ],
          "mesh3d": [
           {
            "colorbar": {
             "outlinewidth": 0,
             "ticks": ""
            },
            "type": "mesh3d"
           }
          ],
          "parcoords": [
           {
            "line": {
             "colorbar": {
              "outlinewidth": 0,
              "ticks": ""
             }
            },
            "type": "parcoords"
           }
          ],
          "pie": [
           {
            "automargin": true,
            "type": "pie"
           }
          ],
          "scatter": [
           {
            "fillpattern": {
             "fillmode": "overlay",
             "size": 10,
             "solidity": 0.2
            },
            "type": "scatter"
           }
          ],
          "scatter3d": [
           {
            "line": {
             "colorbar": {
              "outlinewidth": 0,
              "ticks": ""
             }
            },
            "marker": {
             "colorbar": {
              "outlinewidth": 0,
              "ticks": ""
             }
            },
            "type": "scatter3d"
           }
          ],
          "scattercarpet": [
           {
            "marker": {
             "colorbar": {
              "outlinewidth": 0,
              "ticks": ""
             }
            },
            "type": "scattercarpet"
           }
          ],
          "scattergeo": [
           {
            "marker": {
             "colorbar": {
              "outlinewidth": 0,
              "ticks": ""
             }
            },
            "type": "scattergeo"
           }
          ],
          "scattergl": [
           {
            "marker": {
             "colorbar": {
              "outlinewidth": 0,
              "ticks": ""
             }
            },
            "type": "scattergl"
           }
          ],
          "scattermapbox": [
           {
            "marker": {
             "colorbar": {
              "outlinewidth": 0,
              "ticks": ""
             }
            },
            "type": "scattermapbox"
           }
          ],
          "scatterpolar": [
           {
            "marker": {
             "colorbar": {
              "outlinewidth": 0,
              "ticks": ""
             }
            },
            "type": "scatterpolar"
           }
          ],
          "scatterpolargl": [
           {
            "marker": {
             "colorbar": {
              "outlinewidth": 0,
              "ticks": ""
             }
            },
            "type": "scatterpolargl"
           }
          ],
          "scatterternary": [
           {
            "marker": {
             "colorbar": {
              "outlinewidth": 0,
              "ticks": ""
             }
            },
            "type": "scatterternary"
           }
          ],
          "surface": [
           {
            "colorbar": {
             "outlinewidth": 0,
             "ticks": ""
            },
            "colorscale": [
             [
              0,
              "#0d0887"
             ],
             [
              0.1111111111111111,
              "#46039f"
             ],
             [
              0.2222222222222222,
              "#7201a8"
             ],
             [
              0.3333333333333333,
              "#9c179e"
             ],
             [
              0.4444444444444444,
              "#bd3786"
             ],
             [
              0.5555555555555556,
              "#d8576b"
             ],
             [
              0.6666666666666666,
              "#ed7953"
             ],
             [
              0.7777777777777778,
              "#fb9f3a"
             ],
             [
              0.8888888888888888,
              "#fdca26"
             ],
             [
              1,
              "#f0f921"
             ]
            ],
            "type": "surface"
           }
          ],
          "table": [
           {
            "cells": {
             "fill": {
              "color": "#EBF0F8"
             },
             "line": {
              "color": "white"
             }
            },
            "header": {
             "fill": {
              "color": "#C8D4E3"
             },
             "line": {
              "color": "white"
             }
            },
            "type": "table"
           }
          ]
         },
         "layout": {
          "annotationdefaults": {
           "arrowcolor": "#2a3f5f",
           "arrowhead": 0,
           "arrowwidth": 1
          },
          "autotypenumbers": "strict",
          "coloraxis": {
           "colorbar": {
            "outlinewidth": 0,
            "ticks": ""
           }
          },
          "colorscale": {
           "diverging": [
            [
             0,
             "#8e0152"
            ],
            [
             0.1,
             "#c51b7d"
            ],
            [
             0.2,
             "#de77ae"
            ],
            [
             0.3,
             "#f1b6da"
            ],
            [
             0.4,
             "#fde0ef"
            ],
            [
             0.5,
             "#f7f7f7"
            ],
            [
             0.6,
             "#e6f5d0"
            ],
            [
             0.7,
             "#b8e186"
            ],
            [
             0.8,
             "#7fbc41"
            ],
            [
             0.9,
             "#4d9221"
            ],
            [
             1,
             "#276419"
            ]
           ],
           "sequential": [
            [
             0,
             "#0d0887"
            ],
            [
             0.1111111111111111,
             "#46039f"
            ],
            [
             0.2222222222222222,
             "#7201a8"
            ],
            [
             0.3333333333333333,
             "#9c179e"
            ],
            [
             0.4444444444444444,
             "#bd3786"
            ],
            [
             0.5555555555555556,
             "#d8576b"
            ],
            [
             0.6666666666666666,
             "#ed7953"
            ],
            [
             0.7777777777777778,
             "#fb9f3a"
            ],
            [
             0.8888888888888888,
             "#fdca26"
            ],
            [
             1,
             "#f0f921"
            ]
           ],
           "sequentialminus": [
            [
             0,
             "#0d0887"
            ],
            [
             0.1111111111111111,
             "#46039f"
            ],
            [
             0.2222222222222222,
             "#7201a8"
            ],
            [
             0.3333333333333333,
             "#9c179e"
            ],
            [
             0.4444444444444444,
             "#bd3786"
            ],
            [
             0.5555555555555556,
             "#d8576b"
            ],
            [
             0.6666666666666666,
             "#ed7953"
            ],
            [
             0.7777777777777778,
             "#fb9f3a"
            ],
            [
             0.8888888888888888,
             "#fdca26"
            ],
            [
             1,
             "#f0f921"
            ]
           ]
          },
          "colorway": [
           "#636efa",
           "#EF553B",
           "#00cc96",
           "#ab63fa",
           "#FFA15A",
           "#19d3f3",
           "#FF6692",
           "#B6E880",
           "#FF97FF",
           "#FECB52"
          ],
          "font": {
           "color": "#2a3f5f"
          },
          "geo": {
           "bgcolor": "white",
           "lakecolor": "white",
           "landcolor": "#E5ECF6",
           "showlakes": true,
           "showland": true,
           "subunitcolor": "white"
          },
          "hoverlabel": {
           "align": "left"
          },
          "hovermode": "closest",
          "mapbox": {
           "style": "light"
          },
          "paper_bgcolor": "white",
          "plot_bgcolor": "#E5ECF6",
          "polar": {
           "angularaxis": {
            "gridcolor": "white",
            "linecolor": "white",
            "ticks": ""
           },
           "bgcolor": "#E5ECF6",
           "radialaxis": {
            "gridcolor": "white",
            "linecolor": "white",
            "ticks": ""
           }
          },
          "scene": {
           "xaxis": {
            "backgroundcolor": "#E5ECF6",
            "gridcolor": "white",
            "gridwidth": 2,
            "linecolor": "white",
            "showbackground": true,
            "ticks": "",
            "zerolinecolor": "white"
           },
           "yaxis": {
            "backgroundcolor": "#E5ECF6",
            "gridcolor": "white",
            "gridwidth": 2,
            "linecolor": "white",
            "showbackground": true,
            "ticks": "",
            "zerolinecolor": "white"
           },
           "zaxis": {
            "backgroundcolor": "#E5ECF6",
            "gridcolor": "white",
            "gridwidth": 2,
            "linecolor": "white",
            "showbackground": true,
            "ticks": "",
            "zerolinecolor": "white"
           }
          },
          "shapedefaults": {
           "line": {
            "color": "#2a3f5f"
           }
          },
          "ternary": {
           "aaxis": {
            "gridcolor": "white",
            "linecolor": "white",
            "ticks": ""
           },
           "baxis": {
            "gridcolor": "white",
            "linecolor": "white",
            "ticks": ""
           },
           "bgcolor": "#E5ECF6",
           "caxis": {
            "gridcolor": "white",
            "linecolor": "white",
            "ticks": ""
           }
          },
          "title": {
           "x": 0.05
          },
          "xaxis": {
           "automargin": true,
           "gridcolor": "white",
           "linecolor": "white",
           "ticks": "",
           "title": {
            "standoff": 15
           },
           "zerolinecolor": "white",
           "zerolinewidth": 2
          },
          "yaxis": {
           "automargin": true,
           "gridcolor": "white",
           "linecolor": "white",
           "ticks": "",
           "title": {
            "standoff": 15
           },
           "zerolinecolor": "white",
           "zerolinewidth": 2
          }
         }
        },
        "title": {
         "font": {
          "color": "#4D5663"
         }
        },
        "xaxis": {
         "gridcolor": "#E1E5ED",
         "showgrid": true,
         "tickfont": {
          "color": "#4D5663"
         },
         "title": {
          "font": {
           "color": "#4D5663"
          },
          "text": ""
         },
         "zerolinecolor": "#E1E5ED"
        },
        "yaxis": {
         "gridcolor": "#E1E5ED",
         "showgrid": true,
         "tickfont": {
          "color": "#4D5663"
         },
         "title": {
          "font": {
           "color": "#4D5663"
          },
          "text": ""
         },
         "zerolinecolor": "#E1E5ED"
        }
       }
      },
      "text/html": [
       "<div>                            <div id=\"1a76523a-e502-4652-b127-ebf849689930\" class=\"plotly-graph-div\" style=\"height:525px; width:100%;\"></div>            <script type=\"text/javascript\">                require([\"plotly\"], function(Plotly) {                    window.PLOTLYENV=window.PLOTLYENV || {};\n",
       "                    window.PLOTLYENV.BASE_URL='https://plot.ly';                                    if (document.getElementById(\"1a76523a-e502-4652-b127-ebf849689930\")) {                    Plotly.newPlot(                        \"1a76523a-e502-4652-b127-ebf849689930\",                        [{\"marker\":{\"color\":\"rgba(255, 153, 51, 0.6)\",\"line\":{\"color\":\"rgba(255, 153, 51, 1.0)\",\"width\":1}},\"name\":\"None\",\"orientation\":\"v\",\"text\":\"\",\"x\":[\"A\",\"B\",\"C\",\"D\"],\"y\":[100,100,100,100],\"type\":\"bar\"}],                        {\"legend\":{\"bgcolor\":\"#F5F6F9\",\"font\":{\"color\":\"#4D5663\"}},\"paper_bgcolor\":\"#F5F6F9\",\"plot_bgcolor\":\"#F5F6F9\",\"template\":{\"data\":{\"barpolar\":[{\"marker\":{\"line\":{\"color\":\"#E5ECF6\",\"width\":0.5},\"pattern\":{\"fillmode\":\"overlay\",\"size\":10,\"solidity\":0.2}},\"type\":\"barpolar\"}],\"bar\":[{\"error_x\":{\"color\":\"#2a3f5f\"},\"error_y\":{\"color\":\"#2a3f5f\"},\"marker\":{\"line\":{\"color\":\"#E5ECF6\",\"width\":0.5},\"pattern\":{\"fillmode\":\"overlay\",\"size\":10,\"solidity\":0.2}},\"type\":\"bar\"}],\"carpet\":[{\"aaxis\":{\"endlinecolor\":\"#2a3f5f\",\"gridcolor\":\"white\",\"linecolor\":\"white\",\"minorgridcolor\":\"white\",\"startlinecolor\":\"#2a3f5f\"},\"baxis\":{\"endlinecolor\":\"#2a3f5f\",\"gridcolor\":\"white\",\"linecolor\":\"white\",\"minorgridcolor\":\"white\",\"startlinecolor\":\"#2a3f5f\"},\"type\":\"carpet\"}],\"choropleth\":[{\"colorbar\":{\"outlinewidth\":0,\"ticks\":\"\"},\"type\":\"choropleth\"}],\"contourcarpet\":[{\"colorbar\":{\"outlinewidth\":0,\"ticks\":\"\"},\"type\":\"contourcarpet\"}],\"contour\":[{\"colorbar\":{\"outlinewidth\":0,\"ticks\":\"\"},\"colorscale\":[[0.0,\"#0d0887\"],[0.1111111111111111,\"#46039f\"],[0.2222222222222222,\"#7201a8\"],[0.3333333333333333,\"#9c179e\"],[0.4444444444444444,\"#bd3786\"],[0.5555555555555556,\"#d8576b\"],[0.6666666666666666,\"#ed7953\"],[0.7777777777777778,\"#fb9f3a\"],[0.8888888888888888,\"#fdca26\"],[1.0,\"#f0f921\"]],\"type\":\"contour\"}],\"heatmapgl\":[{\"colorbar\":{\"outlinewidth\":0,\"ticks\":\"\"},\"colorscale\":[[0.0,\"#0d0887\"],[0.1111111111111111,\"#46039f\"],[0.2222222222222222,\"#7201a8\"],[0.3333333333333333,\"#9c179e\"],[0.4444444444444444,\"#bd3786\"],[0.5555555555555556,\"#d8576b\"],[0.6666666666666666,\"#ed7953\"],[0.7777777777777778,\"#fb9f3a\"],[0.8888888888888888,\"#fdca26\"],[1.0,\"#f0f921\"]],\"type\":\"heatmapgl\"}],\"heatmap\":[{\"colorbar\":{\"outlinewidth\":0,\"ticks\":\"\"},\"colorscale\":[[0.0,\"#0d0887\"],[0.1111111111111111,\"#46039f\"],[0.2222222222222222,\"#7201a8\"],[0.3333333333333333,\"#9c179e\"],[0.4444444444444444,\"#bd3786\"],[0.5555555555555556,\"#d8576b\"],[0.6666666666666666,\"#ed7953\"],[0.7777777777777778,\"#fb9f3a\"],[0.8888888888888888,\"#fdca26\"],[1.0,\"#f0f921\"]],\"type\":\"heatmap\"}],\"histogram2dcontour\":[{\"colorbar\":{\"outlinewidth\":0,\"ticks\":\"\"},\"colorscale\":[[0.0,\"#0d0887\"],[0.1111111111111111,\"#46039f\"],[0.2222222222222222,\"#7201a8\"],[0.3333333333333333,\"#9c179e\"],[0.4444444444444444,\"#bd3786\"],[0.5555555555555556,\"#d8576b\"],[0.6666666666666666,\"#ed7953\"],[0.7777777777777778,\"#fb9f3a\"],[0.8888888888888888,\"#fdca26\"],[1.0,\"#f0f921\"]],\"type\":\"histogram2dcontour\"}],\"histogram2d\":[{\"colorbar\":{\"outlinewidth\":0,\"ticks\":\"\"},\"colorscale\":[[0.0,\"#0d0887\"],[0.1111111111111111,\"#46039f\"],[0.2222222222222222,\"#7201a8\"],[0.3333333333333333,\"#9c179e\"],[0.4444444444444444,\"#bd3786\"],[0.5555555555555556,\"#d8576b\"],[0.6666666666666666,\"#ed7953\"],[0.7777777777777778,\"#fb9f3a\"],[0.8888888888888888,\"#fdca26\"],[1.0,\"#f0f921\"]],\"type\":\"histogram2d\"}],\"histogram\":[{\"marker\":{\"pattern\":{\"fillmode\":\"overlay\",\"size\":10,\"solidity\":0.2}},\"type\":\"histogram\"}],\"mesh3d\":[{\"colorbar\":{\"outlinewidth\":0,\"ticks\":\"\"},\"type\":\"mesh3d\"}],\"parcoords\":[{\"line\":{\"colorbar\":{\"outlinewidth\":0,\"ticks\":\"\"}},\"type\":\"parcoords\"}],\"pie\":[{\"automargin\":true,\"type\":\"pie\"}],\"scatter3d\":[{\"line\":{\"colorbar\":{\"outlinewidth\":0,\"ticks\":\"\"}},\"marker\":{\"colorbar\":{\"outlinewidth\":0,\"ticks\":\"\"}},\"type\":\"scatter3d\"}],\"scattercarpet\":[{\"marker\":{\"colorbar\":{\"outlinewidth\":0,\"ticks\":\"\"}},\"type\":\"scattercarpet\"}],\"scattergeo\":[{\"marker\":{\"colorbar\":{\"outlinewidth\":0,\"ticks\":\"\"}},\"type\":\"scattergeo\"}],\"scattergl\":[{\"marker\":{\"colorbar\":{\"outlinewidth\":0,\"ticks\":\"\"}},\"type\":\"scattergl\"}],\"scattermapbox\":[{\"marker\":{\"colorbar\":{\"outlinewidth\":0,\"ticks\":\"\"}},\"type\":\"scattermapbox\"}],\"scatterpolargl\":[{\"marker\":{\"colorbar\":{\"outlinewidth\":0,\"ticks\":\"\"}},\"type\":\"scatterpolargl\"}],\"scatterpolar\":[{\"marker\":{\"colorbar\":{\"outlinewidth\":0,\"ticks\":\"\"}},\"type\":\"scatterpolar\"}],\"scatter\":[{\"fillpattern\":{\"fillmode\":\"overlay\",\"size\":10,\"solidity\":0.2},\"type\":\"scatter\"}],\"scatterternary\":[{\"marker\":{\"colorbar\":{\"outlinewidth\":0,\"ticks\":\"\"}},\"type\":\"scatterternary\"}],\"surface\":[{\"colorbar\":{\"outlinewidth\":0,\"ticks\":\"\"},\"colorscale\":[[0.0,\"#0d0887\"],[0.1111111111111111,\"#46039f\"],[0.2222222222222222,\"#7201a8\"],[0.3333333333333333,\"#9c179e\"],[0.4444444444444444,\"#bd3786\"],[0.5555555555555556,\"#d8576b\"],[0.6666666666666666,\"#ed7953\"],[0.7777777777777778,\"#fb9f3a\"],[0.8888888888888888,\"#fdca26\"],[1.0,\"#f0f921\"]],\"type\":\"surface\"}],\"table\":[{\"cells\":{\"fill\":{\"color\":\"#EBF0F8\"},\"line\":{\"color\":\"white\"}},\"header\":{\"fill\":{\"color\":\"#C8D4E3\"},\"line\":{\"color\":\"white\"}},\"type\":\"table\"}]},\"layout\":{\"annotationdefaults\":{\"arrowcolor\":\"#2a3f5f\",\"arrowhead\":0,\"arrowwidth\":1},\"autotypenumbers\":\"strict\",\"coloraxis\":{\"colorbar\":{\"outlinewidth\":0,\"ticks\":\"\"}},\"colorscale\":{\"diverging\":[[0,\"#8e0152\"],[0.1,\"#c51b7d\"],[0.2,\"#de77ae\"],[0.3,\"#f1b6da\"],[0.4,\"#fde0ef\"],[0.5,\"#f7f7f7\"],[0.6,\"#e6f5d0\"],[0.7,\"#b8e186\"],[0.8,\"#7fbc41\"],[0.9,\"#4d9221\"],[1,\"#276419\"]],\"sequential\":[[0.0,\"#0d0887\"],[0.1111111111111111,\"#46039f\"],[0.2222222222222222,\"#7201a8\"],[0.3333333333333333,\"#9c179e\"],[0.4444444444444444,\"#bd3786\"],[0.5555555555555556,\"#d8576b\"],[0.6666666666666666,\"#ed7953\"],[0.7777777777777778,\"#fb9f3a\"],[0.8888888888888888,\"#fdca26\"],[1.0,\"#f0f921\"]],\"sequentialminus\":[[0.0,\"#0d0887\"],[0.1111111111111111,\"#46039f\"],[0.2222222222222222,\"#7201a8\"],[0.3333333333333333,\"#9c179e\"],[0.4444444444444444,\"#bd3786\"],[0.5555555555555556,\"#d8576b\"],[0.6666666666666666,\"#ed7953\"],[0.7777777777777778,\"#fb9f3a\"],[0.8888888888888888,\"#fdca26\"],[1.0,\"#f0f921\"]]},\"colorway\":[\"#636efa\",\"#EF553B\",\"#00cc96\",\"#ab63fa\",\"#FFA15A\",\"#19d3f3\",\"#FF6692\",\"#B6E880\",\"#FF97FF\",\"#FECB52\"],\"font\":{\"color\":\"#2a3f5f\"},\"geo\":{\"bgcolor\":\"white\",\"lakecolor\":\"white\",\"landcolor\":\"#E5ECF6\",\"showlakes\":true,\"showland\":true,\"subunitcolor\":\"white\"},\"hoverlabel\":{\"align\":\"left\"},\"hovermode\":\"closest\",\"mapbox\":{\"style\":\"light\"},\"paper_bgcolor\":\"white\",\"plot_bgcolor\":\"#E5ECF6\",\"polar\":{\"angularaxis\":{\"gridcolor\":\"white\",\"linecolor\":\"white\",\"ticks\":\"\"},\"bgcolor\":\"#E5ECF6\",\"radialaxis\":{\"gridcolor\":\"white\",\"linecolor\":\"white\",\"ticks\":\"\"}},\"scene\":{\"xaxis\":{\"backgroundcolor\":\"#E5ECF6\",\"gridcolor\":\"white\",\"gridwidth\":2,\"linecolor\":\"white\",\"showbackground\":true,\"ticks\":\"\",\"zerolinecolor\":\"white\"},\"yaxis\":{\"backgroundcolor\":\"#E5ECF6\",\"gridcolor\":\"white\",\"gridwidth\":2,\"linecolor\":\"white\",\"showbackground\":true,\"ticks\":\"\",\"zerolinecolor\":\"white\"},\"zaxis\":{\"backgroundcolor\":\"#E5ECF6\",\"gridcolor\":\"white\",\"gridwidth\":2,\"linecolor\":\"white\",\"showbackground\":true,\"ticks\":\"\",\"zerolinecolor\":\"white\"}},\"shapedefaults\":{\"line\":{\"color\":\"#2a3f5f\"}},\"ternary\":{\"aaxis\":{\"gridcolor\":\"white\",\"linecolor\":\"white\",\"ticks\":\"\"},\"baxis\":{\"gridcolor\":\"white\",\"linecolor\":\"white\",\"ticks\":\"\"},\"bgcolor\":\"#E5ECF6\",\"caxis\":{\"gridcolor\":\"white\",\"linecolor\":\"white\",\"ticks\":\"\"}},\"title\":{\"x\":0.05},\"xaxis\":{\"automargin\":true,\"gridcolor\":\"white\",\"linecolor\":\"white\",\"ticks\":\"\",\"title\":{\"standoff\":15},\"zerolinecolor\":\"white\",\"zerolinewidth\":2},\"yaxis\":{\"automargin\":true,\"gridcolor\":\"white\",\"linecolor\":\"white\",\"ticks\":\"\",\"title\":{\"standoff\":15},\"zerolinecolor\":\"white\",\"zerolinewidth\":2}}},\"title\":{\"font\":{\"color\":\"#4D5663\"}},\"xaxis\":{\"gridcolor\":\"#E1E5ED\",\"showgrid\":true,\"tickfont\":{\"color\":\"#4D5663\"},\"title\":{\"font\":{\"color\":\"#4D5663\"},\"text\":\"\"},\"zerolinecolor\":\"#E1E5ED\"},\"yaxis\":{\"gridcolor\":\"#E1E5ED\",\"showgrid\":true,\"tickfont\":{\"color\":\"#4D5663\"},\"title\":{\"font\":{\"color\":\"#4D5663\"},\"text\":\"\"},\"zerolinecolor\":\"#E1E5ED\"}},                        {\"showLink\": true, \"linkText\": \"Export to plot.ly\", \"plotlyServerURL\": \"https://plot.ly\", \"responsive\": true}                    ).then(function(){\n",
       "                            \n",
       "var gd = document.getElementById('1a76523a-e502-4652-b127-ebf849689930');\n",
       "var x = new MutationObserver(function (mutations, observer) {{\n",
       "        var display = window.getComputedStyle(gd).display;\n",
       "        if (!display || display === 'none') {{\n",
       "            console.log([gd, 'removed!']);\n",
       "            Plotly.purge(gd);\n",
       "            observer.disconnect();\n",
       "        }}\n",
       "}});\n",
       "\n",
       "// Listen for the removal of the full notebook cells\n",
       "var notebookContainer = gd.closest('#notebook-container');\n",
       "if (notebookContainer) {{\n",
       "    x.observe(notebookContainer, {childList: true});\n",
       "}}\n",
       "\n",
       "// Listen for the clearing of the current output cell\n",
       "var outputEl = gd.closest('.output');\n",
       "if (outputEl) {{\n",
       "    x.observe(outputEl, {childList: true});\n",
       "}}\n",
       "\n",
       "                        })                };                });            </script>        </div>"
      ]
     },
     "metadata": {},
     "output_type": "display_data"
    }
   ],
   "source": [
    "df.count().iplot(kind='bar')"
   ]
  },
  {
   "cell_type": "markdown",
   "metadata": {},
   "source": [
    "## Boxplots"
   ]
  },
  {
   "cell_type": "code",
   "execution_count": 52,
   "metadata": {
    "collapsed": false
   },
   "outputs": [
    {
     "data": {
      "application/vnd.plotly.v1+json": {
       "config": {
        "linkText": "Export to plot.ly",
        "plotlyServerURL": "https://plot.ly",
        "showLink": true
       },
       "data": [
        {
         "boxpoints": false,
         "line": {
          "width": 1.3
         },
         "marker": {
          "color": "rgba(255, 153, 51, 1.0)"
         },
         "name": "A",
         "orientation": "v",
         "type": "box",
         "y": [
          -0.08186168703008381,
          -1.4125134786406384,
          -2.0216316901586966,
          -1.1144061395664848,
          -0.732862192610121,
          -0.43646635545450774,
          -2.0968581642837814,
          0.5444228495639059,
          -0.5653026207892777,
          0.30717970372559855,
          -0.4198484557612456,
          0.7253217047833895,
          -0.7910646375013571,
          0.24584288534701426,
          0.3861808927955188,
          -1.1467665661219575,
          -0.41072488955529124,
          0.724907854212759,
          -0.39513396691114294,
          -0.29734831407239337,
          0.056560161710574756,
          -0.8472438703374219,
          -1.7198020608413256,
          0.26407469568663433,
          -0.5262701489609771,
          -0.500907294123469,
          -1.0930047549095676,
          -0.595849948515295,
          1.5334319219267074,
          -0.016326454774757585,
          -0.862655734758858,
          0.5684015061380762,
          -1.2161191764324901,
          -1.1753642330024214,
          -0.18901916241119732,
          -0.5549185302065942,
          0.309228505663993,
          -0.5931070174769876,
          -0.915428386728154,
          -0.5689122102202488,
          -0.16674407057733692,
          -2.236913162354572,
          -0.5827999024163568,
          0.6902558348780791,
          0.03187805913805461,
          -0.7413489938308117,
          0.366320205190309,
          0.7571681026049312,
          0.7180974557635268,
          1.7056945385414521,
          0.1381467651427019,
          0.9469749716086889,
          -0.021766609360936398,
          -1.7222130070414399,
          -0.11193913228109911,
          -1.253127684581892,
          0.5290917355245429,
          1.233008441143637,
          -0.01708591871870062,
          -0.022413499602245302,
          0.05198424376548483,
          -1.5730535785265773,
          0.13296023573262686,
          -0.22105137596848967,
          0.11956373474779762,
          -0.19460631714752108,
          -0.22403298097538893,
          0.5143412935583017,
          0.15714090442602846,
          0.28035904683880963,
          -0.2446823288892205,
          0.7607186297922643,
          -2.2143188702913483,
          1.4096188805712955,
          0.37248522681048263,
          -0.9490918085680567,
          0.17853358552885062,
          0.002679033371037447,
          0.17851692593807564,
          -0.7190872551009492,
          0.9512063312958212,
          1.144354380327551,
          -1.559442571286232,
          -0.9176446170081553,
          1.203944757019189,
          0.4336986432940904,
          1.2922199374622567,
          1.048558465289624,
          -0.24138585364897558,
          -0.674413221419938,
          -0.4372811997781751,
          0.02560771998751411,
          0.2842463005080672,
          -0.07999094631816925,
          -0.02914694933426302,
          0.15541678795851396,
          0.4912729071280546,
          -1.0776651864274596,
          -0.9522304568959343,
          1.6836961434138082
         ]
        },
        {
         "boxpoints": false,
         "line": {
          "width": 1.3
         },
         "marker": {
          "color": "rgba(55, 128, 191, 1.0)"
         },
         "name": "B",
         "orientation": "v",
         "type": "box",
         "y": [
          -0.29031153665030285,
          0.8673880001188526,
          0.5794175830953129,
          1.1236877494288822,
          0.14560706940464604,
          -0.49238381593607494,
          -1.3585655836642285,
          0.5263910174142803,
          1.0414187484205073,
          1.1126342780473124,
          -0.2710539337610146,
          0.9229317060885099,
          2.7717055625558005,
          -0.8678266089839779,
          -2.108848157089314,
          0.7370183808313264,
          2.6345495208902894,
          -0.2621273708172376,
          0.506481601483133,
          0.5246870982503338,
          -0.14935471488468668,
          0.780998061065657,
          -1.0377295136444016,
          0.07582264190298024,
          -0.01727724156390105,
          0.14967915982555374,
          0.4006884640886359,
          -0.30028281207502294,
          1.0524568382619184,
          0.22714302212822748,
          -2.817180366152146,
          1.1268043517108106,
          -0.9275839344799525,
          -0.04835623775384268,
          0.19305027546842896,
          0.6948160785103962,
          0.10411248394502415,
          0.9364271446793379,
          0.615398985584594,
          1.052408275766237,
          -0.1305383056255062,
          -0.49587893903374713,
          0.5682691161469392,
          0.10691159637422652,
          2.069540771302056,
          0.44753139296663086,
          -0.5452979108611006,
          -0.43451678872120086,
          -1.3331180531738722,
          -0.17055424849834025,
          1.8735530864012384,
          -1.113989898123316,
          0.718666767419772,
          0.5494073873928873,
          -0.38327337314058013,
          -0.7208312798888825,
          -1.1417601621614262,
          0.6441031369617723,
          -0.14138573019705505,
          -1.1630568098276415,
          -0.6735869103228915,
          2.5146014801982695,
          1.4879552657435673,
          2.165414249826483,
          -1.180246064142854,
          -0.21659994578619016,
          -0.09596937471604866,
          1.0926016449982687,
          -1.666241916907615,
          -0.8078351895602224,
          -0.8523387749589654,
          -0.8134655525065212,
          -0.07019443259751783,
          2.714118708753477,
          0.5503739058712013,
          1.0703343139772825,
          -0.21486650994147882,
          -0.9601203710375531,
          -0.23025194155418327,
          -0.9328113212548568,
          1.89540655559761,
          0.09732881700465994,
          -0.28483495768991385,
          1.6464136770714903,
          -1.9310211656064404,
          -2.6132141844277355,
          -0.25318296893388254,
          -0.5237449692281284,
          -1.4088071744847528,
          1.095281759059276,
          0.7413258265163059,
          0.391225376839355,
          0.6568604312150156,
          -0.7918186884461557,
          -0.623628752463788,
          0.5213011561323011,
          0.5701964420195289,
          -1.961135212024153,
          -0.13753065855645294,
          1.270813728730286
         ]
        },
        {
         "boxpoints": false,
         "line": {
          "width": 1.3
         },
         "marker": {
          "color": "rgba(50, 171, 96, 1.0)"
         },
         "name": "C",
         "orientation": "v",
         "type": "box",
         "y": [
          -0.1277892268400184,
          -0.9644892825607035,
          0.4086072098110892,
          -0.5381608667950197,
          0.6142286556889565,
          0.8313827520714897,
          1.412300923492472,
          1.44694462875951,
          -0.863108434421125,
          0.8995275380676993,
          -0.2548642351727179,
          0.30834683701169596,
          -1.2528764314368968,
          -1.2830100944472964,
          -3.0772421724011187,
          1.6852197533581375,
          -0.7192311281669611,
          -1.175417759615233,
          -0.7215218207013354,
          0.8255995014014403,
          -0.028458471956432644,
          -0.5631594447265935,
          -0.4165927364191478,
          1.290353600977836,
          -0.6686456379782448,
          1.2058549085967016,
          -2.2013297177369258,
          1.029334203413062,
          0.6658505916968789,
          0.9877410521297808,
          -0.2818464203437802,
          -1.3597447964312073,
          2.4212769395537834,
          -1.299942432390172,
          -0.15524826326326177,
          0.3916883566574439,
          -1.7313423598425106,
          -1.6622805495171917,
          -1.0185565403600176,
          0.7627010970746567,
          -0.08532518817702449,
          -0.8516569965662245,
          -0.7200456941020482,
          -1.0326050306331274,
          0.026972209871047384,
          1.6692530364177554,
          0.5447346880901753,
          -0.9772099755507291,
          -0.20505215340911848,
          1.377544699466779,
          -0.02750778544863355,
          -1.0268861759209806,
          0.48042606857392706,
          0.24964616544465215,
          0.23226585519574988,
          1.4743599935490965,
          -0.9114239309113393,
          -0.26516929272838974,
          -0.8814407696662248,
          0.5644885173318253,
          -0.9365485857208484,
          0.18079469610508003,
          -0.9322164514172709,
          -0.3959744485967501,
          -0.17005046646914634,
          0.800720644844463,
          1.3544665533785205,
          -0.5142071388480501,
          -0.9257040959457232,
          0.4848532290328192,
          -0.8690300211158116,
          1.4165961787653765,
          0.11968793975560481,
          -0.045198470281984295,
          -1.7535534638567378,
          -0.5195140418265799,
          0.6201664317449421,
          -1.0108242243355112,
          0.9608453690158995,
          0.1622567800033939,
          -0.1754272667393144,
          -0.6946083306499794,
          -0.5350226472105393,
          1.0316156627150348,
          0.2063118269732497,
          -0.38321707734048155,
          -0.44621363783977686,
          -0.22854040483813987,
          1.5064314307927027,
          0.06746312614081311,
          -1.588543237039727,
          -0.04316227341596491,
          -1.286277518741366,
          -0.03015779521330142,
          0.3683535131527027,
          -0.3596928546289824,
          -0.42447712512864166,
          1.0756663781453497,
          0.42033445213716225,
          0.27232442739021057
         ]
        },
        {
         "boxpoints": false,
         "line": {
          "width": 1.3
         },
         "marker": {
          "color": "rgba(128, 0, 128, 1.0)"
         },
         "name": "D",
         "orientation": "v",
         "type": "box",
         "y": [
          1.7407505103969458,
          -0.473625658811833,
          0.4763482791554569,
          -0.503443788110093,
          -1.6524234106956222,
          0.7785742091284228,
          1.3448449943981902,
          1.0989087778422586,
          -0.6057643172096733,
          0.14390050395121803,
          1.268561926841191,
          0.4012441967811103,
          0.7506821799539849,
          -0.05366722338064059,
          0.8262807077994988,
          0.8298981867205804,
          0.5373332833614523,
          0.5948263659763477,
          -0.6475071276837318,
          1.9010569631653391,
          -0.27468868367305754,
          0.5378506814352321,
          0.8206467943675746,
          -0.47361950864729757,
          -0.7597853188244698,
          -1.0280263582192426,
          -1.4714138189104475,
          -0.60326974116489,
          -0.7891222935210618,
          -1.8556506239147312,
          -0.9772915102154787,
          -0.5590265478505033,
          -0.0586104302087858,
          0.18789334063881433,
          0.5911587847131766,
          1.502195877008286,
          2.135212719502954,
          -0.47110865247102574,
          0.48242964964785306,
          -2.042113892991365,
          -1.585265549334744,
          -0.7769792249017701,
          -0.5774110242775337,
          0.061332315922288064,
          -0.8423136343485402,
          -2.093829957208251,
          0.2149196105450425,
          -0.11054148958153498,
          0.6142794919221846,
          2.3524516111555953,
          -0.23946309431080331,
          -0.3122612682723753,
          -0.7359319775001899,
          0.9125003492856754,
          -1.2308593645336852,
          0.48234797869985474,
          -0.16781824798996559,
          -0.407726265734108,
          -2.112080433148712,
          0.28320810356928117,
          -0.5720598606887896,
          -1.2007167022763519,
          -0.46378926758007755,
          -0.7201881939137038,
          1.5123619120906187,
          -0.18452616535485253,
          0.08332975195439289,
          -0.008388130799279036,
          0.8847320001452051,
          -0.047197665078612304,
          -1.8836750861494025,
          0.3920623992471196,
          1.1122436773640796,
          1.49968324596587,
          -0.8541232762051104,
          -0.05729369986728551,
          0.639939195067397,
          0.4728672548265309,
          1.1945158069288706,
          -0.5226707655403006,
          1.068599977165574,
          1.8393773916033966,
          2.794242138962374,
          0.4793890046669156,
          0.7105204665970878,
          -0.693464650030267,
          0.5766162119453293,
          -1.0177581644603746,
          -1.0762310093361864,
          -1.628912610210321,
          -0.7322434690099642,
          -0.9458120920390333,
          0.0008534686115661662,
          0.24866707168765367,
          -0.6508701249689524,
          1.4207092699789163,
          -1.08163087966636,
          0.8088910328077887,
          -0.8605812732051812,
          -0.1441955944846115
         ]
        }
       ],
       "layout": {
        "legend": {
         "bgcolor": "#F5F6F9",
         "font": {
          "color": "#4D5663"
         }
        },
        "paper_bgcolor": "#F5F6F9",
        "plot_bgcolor": "#F5F6F9",
        "template": {
         "data": {
          "bar": [
           {
            "error_x": {
             "color": "#2a3f5f"
            },
            "error_y": {
             "color": "#2a3f5f"
            },
            "marker": {
             "line": {
              "color": "#E5ECF6",
              "width": 0.5
             },
             "pattern": {
              "fillmode": "overlay",
              "size": 10,
              "solidity": 0.2
             }
            },
            "type": "bar"
           }
          ],
          "barpolar": [
           {
            "marker": {
             "line": {
              "color": "#E5ECF6",
              "width": 0.5
             },
             "pattern": {
              "fillmode": "overlay",
              "size": 10,
              "solidity": 0.2
             }
            },
            "type": "barpolar"
           }
          ],
          "carpet": [
           {
            "aaxis": {
             "endlinecolor": "#2a3f5f",
             "gridcolor": "white",
             "linecolor": "white",
             "minorgridcolor": "white",
             "startlinecolor": "#2a3f5f"
            },
            "baxis": {
             "endlinecolor": "#2a3f5f",
             "gridcolor": "white",
             "linecolor": "white",
             "minorgridcolor": "white",
             "startlinecolor": "#2a3f5f"
            },
            "type": "carpet"
           }
          ],
          "choropleth": [
           {
            "colorbar": {
             "outlinewidth": 0,
             "ticks": ""
            },
            "type": "choropleth"
           }
          ],
          "contour": [
           {
            "colorbar": {
             "outlinewidth": 0,
             "ticks": ""
            },
            "colorscale": [
             [
              0,
              "#0d0887"
             ],
             [
              0.1111111111111111,
              "#46039f"
             ],
             [
              0.2222222222222222,
              "#7201a8"
             ],
             [
              0.3333333333333333,
              "#9c179e"
             ],
             [
              0.4444444444444444,
              "#bd3786"
             ],
             [
              0.5555555555555556,
              "#d8576b"
             ],
             [
              0.6666666666666666,
              "#ed7953"
             ],
             [
              0.7777777777777778,
              "#fb9f3a"
             ],
             [
              0.8888888888888888,
              "#fdca26"
             ],
             [
              1,
              "#f0f921"
             ]
            ],
            "type": "contour"
           }
          ],
          "contourcarpet": [
           {
            "colorbar": {
             "outlinewidth": 0,
             "ticks": ""
            },
            "type": "contourcarpet"
           }
          ],
          "heatmap": [
           {
            "colorbar": {
             "outlinewidth": 0,
             "ticks": ""
            },
            "colorscale": [
             [
              0,
              "#0d0887"
             ],
             [
              0.1111111111111111,
              "#46039f"
             ],
             [
              0.2222222222222222,
              "#7201a8"
             ],
             [
              0.3333333333333333,
              "#9c179e"
             ],
             [
              0.4444444444444444,
              "#bd3786"
             ],
             [
              0.5555555555555556,
              "#d8576b"
             ],
             [
              0.6666666666666666,
              "#ed7953"
             ],
             [
              0.7777777777777778,
              "#fb9f3a"
             ],
             [
              0.8888888888888888,
              "#fdca26"
             ],
             [
              1,
              "#f0f921"
             ]
            ],
            "type": "heatmap"
           }
          ],
          "heatmapgl": [
           {
            "colorbar": {
             "outlinewidth": 0,
             "ticks": ""
            },
            "colorscale": [
             [
              0,
              "#0d0887"
             ],
             [
              0.1111111111111111,
              "#46039f"
             ],
             [
              0.2222222222222222,
              "#7201a8"
             ],
             [
              0.3333333333333333,
              "#9c179e"
             ],
             [
              0.4444444444444444,
              "#bd3786"
             ],
             [
              0.5555555555555556,
              "#d8576b"
             ],
             [
              0.6666666666666666,
              "#ed7953"
             ],
             [
              0.7777777777777778,
              "#fb9f3a"
             ],
             [
              0.8888888888888888,
              "#fdca26"
             ],
             [
              1,
              "#f0f921"
             ]
            ],
            "type": "heatmapgl"
           }
          ],
          "histogram": [
           {
            "marker": {
             "pattern": {
              "fillmode": "overlay",
              "size": 10,
              "solidity": 0.2
             }
            },
            "type": "histogram"
           }
          ],
          "histogram2d": [
           {
            "colorbar": {
             "outlinewidth": 0,
             "ticks": ""
            },
            "colorscale": [
             [
              0,
              "#0d0887"
             ],
             [
              0.1111111111111111,
              "#46039f"
             ],
             [
              0.2222222222222222,
              "#7201a8"
             ],
             [
              0.3333333333333333,
              "#9c179e"
             ],
             [
              0.4444444444444444,
              "#bd3786"
             ],
             [
              0.5555555555555556,
              "#d8576b"
             ],
             [
              0.6666666666666666,
              "#ed7953"
             ],
             [
              0.7777777777777778,
              "#fb9f3a"
             ],
             [
              0.8888888888888888,
              "#fdca26"
             ],
             [
              1,
              "#f0f921"
             ]
            ],
            "type": "histogram2d"
           }
          ],
          "histogram2dcontour": [
           {
            "colorbar": {
             "outlinewidth": 0,
             "ticks": ""
            },
            "colorscale": [
             [
              0,
              "#0d0887"
             ],
             [
              0.1111111111111111,
              "#46039f"
             ],
             [
              0.2222222222222222,
              "#7201a8"
             ],
             [
              0.3333333333333333,
              "#9c179e"
             ],
             [
              0.4444444444444444,
              "#bd3786"
             ],
             [
              0.5555555555555556,
              "#d8576b"
             ],
             [
              0.6666666666666666,
              "#ed7953"
             ],
             [
              0.7777777777777778,
              "#fb9f3a"
             ],
             [
              0.8888888888888888,
              "#fdca26"
             ],
             [
              1,
              "#f0f921"
             ]
            ],
            "type": "histogram2dcontour"
           }
          ],
          "mesh3d": [
           {
            "colorbar": {
             "outlinewidth": 0,
             "ticks": ""
            },
            "type": "mesh3d"
           }
          ],
          "parcoords": [
           {
            "line": {
             "colorbar": {
              "outlinewidth": 0,
              "ticks": ""
             }
            },
            "type": "parcoords"
           }
          ],
          "pie": [
           {
            "automargin": true,
            "type": "pie"
           }
          ],
          "scatter": [
           {
            "fillpattern": {
             "fillmode": "overlay",
             "size": 10,
             "solidity": 0.2
            },
            "type": "scatter"
           }
          ],
          "scatter3d": [
           {
            "line": {
             "colorbar": {
              "outlinewidth": 0,
              "ticks": ""
             }
            },
            "marker": {
             "colorbar": {
              "outlinewidth": 0,
              "ticks": ""
             }
            },
            "type": "scatter3d"
           }
          ],
          "scattercarpet": [
           {
            "marker": {
             "colorbar": {
              "outlinewidth": 0,
              "ticks": ""
             }
            },
            "type": "scattercarpet"
           }
          ],
          "scattergeo": [
           {
            "marker": {
             "colorbar": {
              "outlinewidth": 0,
              "ticks": ""
             }
            },
            "type": "scattergeo"
           }
          ],
          "scattergl": [
           {
            "marker": {
             "colorbar": {
              "outlinewidth": 0,
              "ticks": ""
             }
            },
            "type": "scattergl"
           }
          ],
          "scattermapbox": [
           {
            "marker": {
             "colorbar": {
              "outlinewidth": 0,
              "ticks": ""
             }
            },
            "type": "scattermapbox"
           }
          ],
          "scatterpolar": [
           {
            "marker": {
             "colorbar": {
              "outlinewidth": 0,
              "ticks": ""
             }
            },
            "type": "scatterpolar"
           }
          ],
          "scatterpolargl": [
           {
            "marker": {
             "colorbar": {
              "outlinewidth": 0,
              "ticks": ""
             }
            },
            "type": "scatterpolargl"
           }
          ],
          "scatterternary": [
           {
            "marker": {
             "colorbar": {
              "outlinewidth": 0,
              "ticks": ""
             }
            },
            "type": "scatterternary"
           }
          ],
          "surface": [
           {
            "colorbar": {
             "outlinewidth": 0,
             "ticks": ""
            },
            "colorscale": [
             [
              0,
              "#0d0887"
             ],
             [
              0.1111111111111111,
              "#46039f"
             ],
             [
              0.2222222222222222,
              "#7201a8"
             ],
             [
              0.3333333333333333,
              "#9c179e"
             ],
             [
              0.4444444444444444,
              "#bd3786"
             ],
             [
              0.5555555555555556,
              "#d8576b"
             ],
             [
              0.6666666666666666,
              "#ed7953"
             ],
             [
              0.7777777777777778,
              "#fb9f3a"
             ],
             [
              0.8888888888888888,
              "#fdca26"
             ],
             [
              1,
              "#f0f921"
             ]
            ],
            "type": "surface"
           }
          ],
          "table": [
           {
            "cells": {
             "fill": {
              "color": "#EBF0F8"
             },
             "line": {
              "color": "white"
             }
            },
            "header": {
             "fill": {
              "color": "#C8D4E3"
             },
             "line": {
              "color": "white"
             }
            },
            "type": "table"
           }
          ]
         },
         "layout": {
          "annotationdefaults": {
           "arrowcolor": "#2a3f5f",
           "arrowhead": 0,
           "arrowwidth": 1
          },
          "autotypenumbers": "strict",
          "coloraxis": {
           "colorbar": {
            "outlinewidth": 0,
            "ticks": ""
           }
          },
          "colorscale": {
           "diverging": [
            [
             0,
             "#8e0152"
            ],
            [
             0.1,
             "#c51b7d"
            ],
            [
             0.2,
             "#de77ae"
            ],
            [
             0.3,
             "#f1b6da"
            ],
            [
             0.4,
             "#fde0ef"
            ],
            [
             0.5,
             "#f7f7f7"
            ],
            [
             0.6,
             "#e6f5d0"
            ],
            [
             0.7,
             "#b8e186"
            ],
            [
             0.8,
             "#7fbc41"
            ],
            [
             0.9,
             "#4d9221"
            ],
            [
             1,
             "#276419"
            ]
           ],
           "sequential": [
            [
             0,
             "#0d0887"
            ],
            [
             0.1111111111111111,
             "#46039f"
            ],
            [
             0.2222222222222222,
             "#7201a8"
            ],
            [
             0.3333333333333333,
             "#9c179e"
            ],
            [
             0.4444444444444444,
             "#bd3786"
            ],
            [
             0.5555555555555556,
             "#d8576b"
            ],
            [
             0.6666666666666666,
             "#ed7953"
            ],
            [
             0.7777777777777778,
             "#fb9f3a"
            ],
            [
             0.8888888888888888,
             "#fdca26"
            ],
            [
             1,
             "#f0f921"
            ]
           ],
           "sequentialminus": [
            [
             0,
             "#0d0887"
            ],
            [
             0.1111111111111111,
             "#46039f"
            ],
            [
             0.2222222222222222,
             "#7201a8"
            ],
            [
             0.3333333333333333,
             "#9c179e"
            ],
            [
             0.4444444444444444,
             "#bd3786"
            ],
            [
             0.5555555555555556,
             "#d8576b"
            ],
            [
             0.6666666666666666,
             "#ed7953"
            ],
            [
             0.7777777777777778,
             "#fb9f3a"
            ],
            [
             0.8888888888888888,
             "#fdca26"
            ],
            [
             1,
             "#f0f921"
            ]
           ]
          },
          "colorway": [
           "#636efa",
           "#EF553B",
           "#00cc96",
           "#ab63fa",
           "#FFA15A",
           "#19d3f3",
           "#FF6692",
           "#B6E880",
           "#FF97FF",
           "#FECB52"
          ],
          "font": {
           "color": "#2a3f5f"
          },
          "geo": {
           "bgcolor": "white",
           "lakecolor": "white",
           "landcolor": "#E5ECF6",
           "showlakes": true,
           "showland": true,
           "subunitcolor": "white"
          },
          "hoverlabel": {
           "align": "left"
          },
          "hovermode": "closest",
          "mapbox": {
           "style": "light"
          },
          "paper_bgcolor": "white",
          "plot_bgcolor": "#E5ECF6",
          "polar": {
           "angularaxis": {
            "gridcolor": "white",
            "linecolor": "white",
            "ticks": ""
           },
           "bgcolor": "#E5ECF6",
           "radialaxis": {
            "gridcolor": "white",
            "linecolor": "white",
            "ticks": ""
           }
          },
          "scene": {
           "xaxis": {
            "backgroundcolor": "#E5ECF6",
            "gridcolor": "white",
            "gridwidth": 2,
            "linecolor": "white",
            "showbackground": true,
            "ticks": "",
            "zerolinecolor": "white"
           },
           "yaxis": {
            "backgroundcolor": "#E5ECF6",
            "gridcolor": "white",
            "gridwidth": 2,
            "linecolor": "white",
            "showbackground": true,
            "ticks": "",
            "zerolinecolor": "white"
           },
           "zaxis": {
            "backgroundcolor": "#E5ECF6",
            "gridcolor": "white",
            "gridwidth": 2,
            "linecolor": "white",
            "showbackground": true,
            "ticks": "",
            "zerolinecolor": "white"
           }
          },
          "shapedefaults": {
           "line": {
            "color": "#2a3f5f"
           }
          },
          "ternary": {
           "aaxis": {
            "gridcolor": "white",
            "linecolor": "white",
            "ticks": ""
           },
           "baxis": {
            "gridcolor": "white",
            "linecolor": "white",
            "ticks": ""
           },
           "bgcolor": "#E5ECF6",
           "caxis": {
            "gridcolor": "white",
            "linecolor": "white",
            "ticks": ""
           }
          },
          "title": {
           "x": 0.05
          },
          "xaxis": {
           "automargin": true,
           "gridcolor": "white",
           "linecolor": "white",
           "ticks": "",
           "title": {
            "standoff": 15
           },
           "zerolinecolor": "white",
           "zerolinewidth": 2
          },
          "yaxis": {
           "automargin": true,
           "gridcolor": "white",
           "linecolor": "white",
           "ticks": "",
           "title": {
            "standoff": 15
           },
           "zerolinecolor": "white",
           "zerolinewidth": 2
          }
         }
        },
        "title": {
         "font": {
          "color": "#4D5663"
         }
        },
        "xaxis": {
         "gridcolor": "#E1E5ED",
         "showgrid": true,
         "tickfont": {
          "color": "#4D5663"
         },
         "title": {
          "font": {
           "color": "#4D5663"
          },
          "text": ""
         },
         "zerolinecolor": "#E1E5ED"
        },
        "yaxis": {
         "gridcolor": "#E1E5ED",
         "showgrid": true,
         "tickfont": {
          "color": "#4D5663"
         },
         "title": {
          "font": {
           "color": "#4D5663"
          },
          "text": ""
         },
         "zerolinecolor": "#E1E5ED"
        }
       }
      },
      "text/html": [
       "<div>                            <div id=\"7828d343-a6bd-4470-9f86-273bebfb0c09\" class=\"plotly-graph-div\" style=\"height:525px; width:100%;\"></div>            <script type=\"text/javascript\">                require([\"plotly\"], function(Plotly) {                    window.PLOTLYENV=window.PLOTLYENV || {};\n",
       "                    window.PLOTLYENV.BASE_URL='https://plot.ly';                                    if (document.getElementById(\"7828d343-a6bd-4470-9f86-273bebfb0c09\")) {                    Plotly.newPlot(                        \"7828d343-a6bd-4470-9f86-273bebfb0c09\",                        [{\"boxpoints\":false,\"line\":{\"width\":1.3},\"marker\":{\"color\":\"rgba(255, 153, 51, 1.0)\"},\"name\":\"A\",\"orientation\":\"v\",\"y\":[-0.08186168703008381,-1.4125134786406384,-2.0216316901586966,-1.1144061395664848,-0.732862192610121,-0.43646635545450774,-2.0968581642837814,0.5444228495639059,-0.5653026207892777,0.30717970372559855,-0.4198484557612456,0.7253217047833895,-0.7910646375013571,0.24584288534701426,0.3861808927955188,-1.1467665661219575,-0.41072488955529124,0.724907854212759,-0.39513396691114294,-0.29734831407239337,0.056560161710574756,-0.8472438703374219,-1.7198020608413256,0.26407469568663433,-0.5262701489609771,-0.500907294123469,-1.0930047549095676,-0.595849948515295,1.5334319219267074,-0.016326454774757585,-0.862655734758858,0.5684015061380762,-1.2161191764324901,-1.1753642330024214,-0.18901916241119732,-0.5549185302065942,0.309228505663993,-0.5931070174769876,-0.915428386728154,-0.5689122102202488,-0.16674407057733692,-2.236913162354572,-0.5827999024163568,0.6902558348780791,0.03187805913805461,-0.7413489938308117,0.366320205190309,0.7571681026049312,0.7180974557635268,1.7056945385414521,0.1381467651427019,0.9469749716086889,-0.021766609360936398,-1.7222130070414399,-0.11193913228109911,-1.253127684581892,0.5290917355245429,1.233008441143637,-0.01708591871870062,-0.022413499602245302,0.05198424376548483,-1.5730535785265773,0.13296023573262686,-0.22105137596848967,0.11956373474779762,-0.19460631714752108,-0.22403298097538893,0.5143412935583017,0.15714090442602846,0.28035904683880963,-0.2446823288892205,0.7607186297922643,-2.2143188702913483,1.4096188805712955,0.37248522681048263,-0.9490918085680567,0.17853358552885062,0.002679033371037447,0.17851692593807564,-0.7190872551009492,0.9512063312958212,1.144354380327551,-1.559442571286232,-0.9176446170081553,1.203944757019189,0.4336986432940904,1.2922199374622567,1.048558465289624,-0.24138585364897558,-0.674413221419938,-0.4372811997781751,0.02560771998751411,0.2842463005080672,-0.07999094631816925,-0.02914694933426302,0.15541678795851396,0.4912729071280546,-1.0776651864274596,-0.9522304568959343,1.6836961434138082],\"type\":\"box\"},{\"boxpoints\":false,\"line\":{\"width\":1.3},\"marker\":{\"color\":\"rgba(55, 128, 191, 1.0)\"},\"name\":\"B\",\"orientation\":\"v\",\"y\":[-0.29031153665030285,0.8673880001188526,0.5794175830953129,1.1236877494288822,0.14560706940464604,-0.49238381593607494,-1.3585655836642285,0.5263910174142803,1.0414187484205073,1.1126342780473124,-0.2710539337610146,0.9229317060885099,2.7717055625558005,-0.8678266089839779,-2.108848157089314,0.7370183808313264,2.6345495208902894,-0.2621273708172376,0.506481601483133,0.5246870982503338,-0.14935471488468668,0.780998061065657,-1.0377295136444016,0.07582264190298024,-0.01727724156390105,0.14967915982555374,0.4006884640886359,-0.30028281207502294,1.0524568382619184,0.22714302212822748,-2.817180366152146,1.1268043517108106,-0.9275839344799525,-0.04835623775384268,0.19305027546842896,0.6948160785103962,0.10411248394502415,0.9364271446793379,0.615398985584594,1.052408275766237,-0.1305383056255062,-0.49587893903374713,0.5682691161469392,0.10691159637422652,2.069540771302056,0.44753139296663086,-0.5452979108611006,-0.43451678872120086,-1.3331180531738722,-0.17055424849834025,1.8735530864012384,-1.113989898123316,0.718666767419772,0.5494073873928873,-0.38327337314058013,-0.7208312798888825,-1.1417601621614262,0.6441031369617723,-0.14138573019705505,-1.1630568098276415,-0.6735869103228915,2.5146014801982695,1.4879552657435673,2.165414249826483,-1.180246064142854,-0.21659994578619016,-0.09596937471604866,1.0926016449982687,-1.666241916907615,-0.8078351895602224,-0.8523387749589654,-0.8134655525065212,-0.07019443259751783,2.714118708753477,0.5503739058712013,1.0703343139772825,-0.21486650994147882,-0.9601203710375531,-0.23025194155418327,-0.9328113212548568,1.89540655559761,0.09732881700465994,-0.28483495768991385,1.6464136770714903,-1.9310211656064404,-2.6132141844277355,-0.25318296893388254,-0.5237449692281284,-1.4088071744847528,1.095281759059276,0.7413258265163059,0.391225376839355,0.6568604312150156,-0.7918186884461557,-0.623628752463788,0.5213011561323011,0.5701964420195289,-1.961135212024153,-0.13753065855645294,1.270813728730286],\"type\":\"box\"},{\"boxpoints\":false,\"line\":{\"width\":1.3},\"marker\":{\"color\":\"rgba(50, 171, 96, 1.0)\"},\"name\":\"C\",\"orientation\":\"v\",\"y\":[-0.1277892268400184,-0.9644892825607035,0.4086072098110892,-0.5381608667950197,0.6142286556889565,0.8313827520714897,1.412300923492472,1.44694462875951,-0.863108434421125,0.8995275380676993,-0.2548642351727179,0.30834683701169596,-1.2528764314368968,-1.2830100944472964,-3.0772421724011187,1.6852197533581375,-0.7192311281669611,-1.175417759615233,-0.7215218207013354,0.8255995014014403,-0.028458471956432644,-0.5631594447265935,-0.4165927364191478,1.290353600977836,-0.6686456379782448,1.2058549085967016,-2.2013297177369258,1.029334203413062,0.6658505916968789,0.9877410521297808,-0.2818464203437802,-1.3597447964312073,2.4212769395537834,-1.299942432390172,-0.15524826326326177,0.3916883566574439,-1.7313423598425106,-1.6622805495171917,-1.0185565403600176,0.7627010970746567,-0.08532518817702449,-0.8516569965662245,-0.7200456941020482,-1.0326050306331274,0.026972209871047384,1.6692530364177554,0.5447346880901753,-0.9772099755507291,-0.20505215340911848,1.377544699466779,-0.02750778544863355,-1.0268861759209806,0.48042606857392706,0.24964616544465215,0.23226585519574988,1.4743599935490965,-0.9114239309113393,-0.26516929272838974,-0.8814407696662248,0.5644885173318253,-0.9365485857208484,0.18079469610508003,-0.9322164514172709,-0.3959744485967501,-0.17005046646914634,0.800720644844463,1.3544665533785205,-0.5142071388480501,-0.9257040959457232,0.4848532290328192,-0.8690300211158116,1.4165961787653765,0.11968793975560481,-0.045198470281984295,-1.7535534638567378,-0.5195140418265799,0.6201664317449421,-1.0108242243355112,0.9608453690158995,0.1622567800033939,-0.1754272667393144,-0.6946083306499794,-0.5350226472105393,1.0316156627150348,0.2063118269732497,-0.38321707734048155,-0.44621363783977686,-0.22854040483813987,1.5064314307927027,0.06746312614081311,-1.588543237039727,-0.04316227341596491,-1.286277518741366,-0.03015779521330142,0.3683535131527027,-0.3596928546289824,-0.42447712512864166,1.0756663781453497,0.42033445213716225,0.27232442739021057],\"type\":\"box\"},{\"boxpoints\":false,\"line\":{\"width\":1.3},\"marker\":{\"color\":\"rgba(128, 0, 128, 1.0)\"},\"name\":\"D\",\"orientation\":\"v\",\"y\":[1.7407505103969458,-0.473625658811833,0.4763482791554569,-0.503443788110093,-1.6524234106956222,0.7785742091284228,1.3448449943981902,1.0989087778422586,-0.6057643172096733,0.14390050395121803,1.268561926841191,0.4012441967811103,0.7506821799539849,-0.05366722338064059,0.8262807077994988,0.8298981867205804,0.5373332833614523,0.5948263659763477,-0.6475071276837318,1.9010569631653391,-0.27468868367305754,0.5378506814352321,0.8206467943675746,-0.47361950864729757,-0.7597853188244698,-1.0280263582192426,-1.4714138189104475,-0.60326974116489,-0.7891222935210618,-1.8556506239147312,-0.9772915102154787,-0.5590265478505033,-0.0586104302087858,0.18789334063881433,0.5911587847131766,1.502195877008286,2.135212719502954,-0.47110865247102574,0.48242964964785306,-2.042113892991365,-1.585265549334744,-0.7769792249017701,-0.5774110242775337,0.061332315922288064,-0.8423136343485402,-2.093829957208251,0.2149196105450425,-0.11054148958153498,0.6142794919221846,2.3524516111555953,-0.23946309431080331,-0.3122612682723753,-0.7359319775001899,0.9125003492856754,-1.2308593645336852,0.48234797869985474,-0.16781824798996559,-0.407726265734108,-2.112080433148712,0.28320810356928117,-0.5720598606887896,-1.2007167022763519,-0.46378926758007755,-0.7201881939137038,1.5123619120906187,-0.18452616535485253,0.08332975195439289,-0.008388130799279036,0.8847320001452051,-0.047197665078612304,-1.8836750861494025,0.3920623992471196,1.1122436773640796,1.49968324596587,-0.8541232762051104,-0.05729369986728551,0.639939195067397,0.4728672548265309,1.1945158069288706,-0.5226707655403006,1.068599977165574,1.8393773916033966,2.794242138962374,0.4793890046669156,0.7105204665970878,-0.693464650030267,0.5766162119453293,-1.0177581644603746,-1.0762310093361864,-1.628912610210321,-0.7322434690099642,-0.9458120920390333,0.0008534686115661662,0.24866707168765367,-0.6508701249689524,1.4207092699789163,-1.08163087966636,0.8088910328077887,-0.8605812732051812,-0.1441955944846115],\"type\":\"box\"}],                        {\"legend\":{\"bgcolor\":\"#F5F6F9\",\"font\":{\"color\":\"#4D5663\"}},\"paper_bgcolor\":\"#F5F6F9\",\"plot_bgcolor\":\"#F5F6F9\",\"template\":{\"data\":{\"barpolar\":[{\"marker\":{\"line\":{\"color\":\"#E5ECF6\",\"width\":0.5},\"pattern\":{\"fillmode\":\"overlay\",\"size\":10,\"solidity\":0.2}},\"type\":\"barpolar\"}],\"bar\":[{\"error_x\":{\"color\":\"#2a3f5f\"},\"error_y\":{\"color\":\"#2a3f5f\"},\"marker\":{\"line\":{\"color\":\"#E5ECF6\",\"width\":0.5},\"pattern\":{\"fillmode\":\"overlay\",\"size\":10,\"solidity\":0.2}},\"type\":\"bar\"}],\"carpet\":[{\"aaxis\":{\"endlinecolor\":\"#2a3f5f\",\"gridcolor\":\"white\",\"linecolor\":\"white\",\"minorgridcolor\":\"white\",\"startlinecolor\":\"#2a3f5f\"},\"baxis\":{\"endlinecolor\":\"#2a3f5f\",\"gridcolor\":\"white\",\"linecolor\":\"white\",\"minorgridcolor\":\"white\",\"startlinecolor\":\"#2a3f5f\"},\"type\":\"carpet\"}],\"choropleth\":[{\"colorbar\":{\"outlinewidth\":0,\"ticks\":\"\"},\"type\":\"choropleth\"}],\"contourcarpet\":[{\"colorbar\":{\"outlinewidth\":0,\"ticks\":\"\"},\"type\":\"contourcarpet\"}],\"contour\":[{\"colorbar\":{\"outlinewidth\":0,\"ticks\":\"\"},\"colorscale\":[[0.0,\"#0d0887\"],[0.1111111111111111,\"#46039f\"],[0.2222222222222222,\"#7201a8\"],[0.3333333333333333,\"#9c179e\"],[0.4444444444444444,\"#bd3786\"],[0.5555555555555556,\"#d8576b\"],[0.6666666666666666,\"#ed7953\"],[0.7777777777777778,\"#fb9f3a\"],[0.8888888888888888,\"#fdca26\"],[1.0,\"#f0f921\"]],\"type\":\"contour\"}],\"heatmapgl\":[{\"colorbar\":{\"outlinewidth\":0,\"ticks\":\"\"},\"colorscale\":[[0.0,\"#0d0887\"],[0.1111111111111111,\"#46039f\"],[0.2222222222222222,\"#7201a8\"],[0.3333333333333333,\"#9c179e\"],[0.4444444444444444,\"#bd3786\"],[0.5555555555555556,\"#d8576b\"],[0.6666666666666666,\"#ed7953\"],[0.7777777777777778,\"#fb9f3a\"],[0.8888888888888888,\"#fdca26\"],[1.0,\"#f0f921\"]],\"type\":\"heatmapgl\"}],\"heatmap\":[{\"colorbar\":{\"outlinewidth\":0,\"ticks\":\"\"},\"colorscale\":[[0.0,\"#0d0887\"],[0.1111111111111111,\"#46039f\"],[0.2222222222222222,\"#7201a8\"],[0.3333333333333333,\"#9c179e\"],[0.4444444444444444,\"#bd3786\"],[0.5555555555555556,\"#d8576b\"],[0.6666666666666666,\"#ed7953\"],[0.7777777777777778,\"#fb9f3a\"],[0.8888888888888888,\"#fdca26\"],[1.0,\"#f0f921\"]],\"type\":\"heatmap\"}],\"histogram2dcontour\":[{\"colorbar\":{\"outlinewidth\":0,\"ticks\":\"\"},\"colorscale\":[[0.0,\"#0d0887\"],[0.1111111111111111,\"#46039f\"],[0.2222222222222222,\"#7201a8\"],[0.3333333333333333,\"#9c179e\"],[0.4444444444444444,\"#bd3786\"],[0.5555555555555556,\"#d8576b\"],[0.6666666666666666,\"#ed7953\"],[0.7777777777777778,\"#fb9f3a\"],[0.8888888888888888,\"#fdca26\"],[1.0,\"#f0f921\"]],\"type\":\"histogram2dcontour\"}],\"histogram2d\":[{\"colorbar\":{\"outlinewidth\":0,\"ticks\":\"\"},\"colorscale\":[[0.0,\"#0d0887\"],[0.1111111111111111,\"#46039f\"],[0.2222222222222222,\"#7201a8\"],[0.3333333333333333,\"#9c179e\"],[0.4444444444444444,\"#bd3786\"],[0.5555555555555556,\"#d8576b\"],[0.6666666666666666,\"#ed7953\"],[0.7777777777777778,\"#fb9f3a\"],[0.8888888888888888,\"#fdca26\"],[1.0,\"#f0f921\"]],\"type\":\"histogram2d\"}],\"histogram\":[{\"marker\":{\"pattern\":{\"fillmode\":\"overlay\",\"size\":10,\"solidity\":0.2}},\"type\":\"histogram\"}],\"mesh3d\":[{\"colorbar\":{\"outlinewidth\":0,\"ticks\":\"\"},\"type\":\"mesh3d\"}],\"parcoords\":[{\"line\":{\"colorbar\":{\"outlinewidth\":0,\"ticks\":\"\"}},\"type\":\"parcoords\"}],\"pie\":[{\"automargin\":true,\"type\":\"pie\"}],\"scatter3d\":[{\"line\":{\"colorbar\":{\"outlinewidth\":0,\"ticks\":\"\"}},\"marker\":{\"colorbar\":{\"outlinewidth\":0,\"ticks\":\"\"}},\"type\":\"scatter3d\"}],\"scattercarpet\":[{\"marker\":{\"colorbar\":{\"outlinewidth\":0,\"ticks\":\"\"}},\"type\":\"scattercarpet\"}],\"scattergeo\":[{\"marker\":{\"colorbar\":{\"outlinewidth\":0,\"ticks\":\"\"}},\"type\":\"scattergeo\"}],\"scattergl\":[{\"marker\":{\"colorbar\":{\"outlinewidth\":0,\"ticks\":\"\"}},\"type\":\"scattergl\"}],\"scattermapbox\":[{\"marker\":{\"colorbar\":{\"outlinewidth\":0,\"ticks\":\"\"}},\"type\":\"scattermapbox\"}],\"scatterpolargl\":[{\"marker\":{\"colorbar\":{\"outlinewidth\":0,\"ticks\":\"\"}},\"type\":\"scatterpolargl\"}],\"scatterpolar\":[{\"marker\":{\"colorbar\":{\"outlinewidth\":0,\"ticks\":\"\"}},\"type\":\"scatterpolar\"}],\"scatter\":[{\"fillpattern\":{\"fillmode\":\"overlay\",\"size\":10,\"solidity\":0.2},\"type\":\"scatter\"}],\"scatterternary\":[{\"marker\":{\"colorbar\":{\"outlinewidth\":0,\"ticks\":\"\"}},\"type\":\"scatterternary\"}],\"surface\":[{\"colorbar\":{\"outlinewidth\":0,\"ticks\":\"\"},\"colorscale\":[[0.0,\"#0d0887\"],[0.1111111111111111,\"#46039f\"],[0.2222222222222222,\"#7201a8\"],[0.3333333333333333,\"#9c179e\"],[0.4444444444444444,\"#bd3786\"],[0.5555555555555556,\"#d8576b\"],[0.6666666666666666,\"#ed7953\"],[0.7777777777777778,\"#fb9f3a\"],[0.8888888888888888,\"#fdca26\"],[1.0,\"#f0f921\"]],\"type\":\"surface\"}],\"table\":[{\"cells\":{\"fill\":{\"color\":\"#EBF0F8\"},\"line\":{\"color\":\"white\"}},\"header\":{\"fill\":{\"color\":\"#C8D4E3\"},\"line\":{\"color\":\"white\"}},\"type\":\"table\"}]},\"layout\":{\"annotationdefaults\":{\"arrowcolor\":\"#2a3f5f\",\"arrowhead\":0,\"arrowwidth\":1},\"autotypenumbers\":\"strict\",\"coloraxis\":{\"colorbar\":{\"outlinewidth\":0,\"ticks\":\"\"}},\"colorscale\":{\"diverging\":[[0,\"#8e0152\"],[0.1,\"#c51b7d\"],[0.2,\"#de77ae\"],[0.3,\"#f1b6da\"],[0.4,\"#fde0ef\"],[0.5,\"#f7f7f7\"],[0.6,\"#e6f5d0\"],[0.7,\"#b8e186\"],[0.8,\"#7fbc41\"],[0.9,\"#4d9221\"],[1,\"#276419\"]],\"sequential\":[[0.0,\"#0d0887\"],[0.1111111111111111,\"#46039f\"],[0.2222222222222222,\"#7201a8\"],[0.3333333333333333,\"#9c179e\"],[0.4444444444444444,\"#bd3786\"],[0.5555555555555556,\"#d8576b\"],[0.6666666666666666,\"#ed7953\"],[0.7777777777777778,\"#fb9f3a\"],[0.8888888888888888,\"#fdca26\"],[1.0,\"#f0f921\"]],\"sequentialminus\":[[0.0,\"#0d0887\"],[0.1111111111111111,\"#46039f\"],[0.2222222222222222,\"#7201a8\"],[0.3333333333333333,\"#9c179e\"],[0.4444444444444444,\"#bd3786\"],[0.5555555555555556,\"#d8576b\"],[0.6666666666666666,\"#ed7953\"],[0.7777777777777778,\"#fb9f3a\"],[0.8888888888888888,\"#fdca26\"],[1.0,\"#f0f921\"]]},\"colorway\":[\"#636efa\",\"#EF553B\",\"#00cc96\",\"#ab63fa\",\"#FFA15A\",\"#19d3f3\",\"#FF6692\",\"#B6E880\",\"#FF97FF\",\"#FECB52\"],\"font\":{\"color\":\"#2a3f5f\"},\"geo\":{\"bgcolor\":\"white\",\"lakecolor\":\"white\",\"landcolor\":\"#E5ECF6\",\"showlakes\":true,\"showland\":true,\"subunitcolor\":\"white\"},\"hoverlabel\":{\"align\":\"left\"},\"hovermode\":\"closest\",\"mapbox\":{\"style\":\"light\"},\"paper_bgcolor\":\"white\",\"plot_bgcolor\":\"#E5ECF6\",\"polar\":{\"angularaxis\":{\"gridcolor\":\"white\",\"linecolor\":\"white\",\"ticks\":\"\"},\"bgcolor\":\"#E5ECF6\",\"radialaxis\":{\"gridcolor\":\"white\",\"linecolor\":\"white\",\"ticks\":\"\"}},\"scene\":{\"xaxis\":{\"backgroundcolor\":\"#E5ECF6\",\"gridcolor\":\"white\",\"gridwidth\":2,\"linecolor\":\"white\",\"showbackground\":true,\"ticks\":\"\",\"zerolinecolor\":\"white\"},\"yaxis\":{\"backgroundcolor\":\"#E5ECF6\",\"gridcolor\":\"white\",\"gridwidth\":2,\"linecolor\":\"white\",\"showbackground\":true,\"ticks\":\"\",\"zerolinecolor\":\"white\"},\"zaxis\":{\"backgroundcolor\":\"#E5ECF6\",\"gridcolor\":\"white\",\"gridwidth\":2,\"linecolor\":\"white\",\"showbackground\":true,\"ticks\":\"\",\"zerolinecolor\":\"white\"}},\"shapedefaults\":{\"line\":{\"color\":\"#2a3f5f\"}},\"ternary\":{\"aaxis\":{\"gridcolor\":\"white\",\"linecolor\":\"white\",\"ticks\":\"\"},\"baxis\":{\"gridcolor\":\"white\",\"linecolor\":\"white\",\"ticks\":\"\"},\"bgcolor\":\"#E5ECF6\",\"caxis\":{\"gridcolor\":\"white\",\"linecolor\":\"white\",\"ticks\":\"\"}},\"title\":{\"x\":0.05},\"xaxis\":{\"automargin\":true,\"gridcolor\":\"white\",\"linecolor\":\"white\",\"ticks\":\"\",\"title\":{\"standoff\":15},\"zerolinecolor\":\"white\",\"zerolinewidth\":2},\"yaxis\":{\"automargin\":true,\"gridcolor\":\"white\",\"linecolor\":\"white\",\"ticks\":\"\",\"title\":{\"standoff\":15},\"zerolinecolor\":\"white\",\"zerolinewidth\":2}}},\"title\":{\"font\":{\"color\":\"#4D5663\"}},\"xaxis\":{\"gridcolor\":\"#E1E5ED\",\"showgrid\":true,\"tickfont\":{\"color\":\"#4D5663\"},\"title\":{\"font\":{\"color\":\"#4D5663\"},\"text\":\"\"},\"zerolinecolor\":\"#E1E5ED\"},\"yaxis\":{\"gridcolor\":\"#E1E5ED\",\"showgrid\":true,\"tickfont\":{\"color\":\"#4D5663\"},\"title\":{\"font\":{\"color\":\"#4D5663\"},\"text\":\"\"},\"zerolinecolor\":\"#E1E5ED\"}},                        {\"showLink\": true, \"linkText\": \"Export to plot.ly\", \"plotlyServerURL\": \"https://plot.ly\", \"responsive\": true}                    ).then(function(){\n",
       "                            \n",
       "var gd = document.getElementById('7828d343-a6bd-4470-9f86-273bebfb0c09');\n",
       "var x = new MutationObserver(function (mutations, observer) {{\n",
       "        var display = window.getComputedStyle(gd).display;\n",
       "        if (!display || display === 'none') {{\n",
       "            console.log([gd, 'removed!']);\n",
       "            Plotly.purge(gd);\n",
       "            observer.disconnect();\n",
       "        }}\n",
       "}});\n",
       "\n",
       "// Listen for the removal of the full notebook cells\n",
       "var notebookContainer = gd.closest('#notebook-container');\n",
       "if (notebookContainer) {{\n",
       "    x.observe(notebookContainer, {childList: true});\n",
       "}}\n",
       "\n",
       "// Listen for the clearing of the current output cell\n",
       "var outputEl = gd.closest('.output');\n",
       "if (outputEl) {{\n",
       "    x.observe(outputEl, {childList: true});\n",
       "}}\n",
       "\n",
       "                        })                };                });            </script>        </div>"
      ]
     },
     "metadata": {},
     "output_type": "display_data"
    }
   ],
   "source": [
    "df.iplot(kind='box')"
   ]
  },
  {
   "cell_type": "markdown",
   "metadata": {},
   "source": [
    "## 3d Surface"
   ]
  },
  {
   "cell_type": "code",
   "execution_count": 53,
   "metadata": {
    "collapsed": false
   },
   "outputs": [
    {
     "data": {
      "application/vnd.plotly.v1+json": {
       "config": {
        "linkText": "Export to plot.ly",
        "plotlyServerURL": "https://plot.ly",
        "showLink": true
       },
       "data": [
        {
         "colorscale": [
          [
           0,
           "rgb(165,0,38)"
          ],
          [
           0.1,
           "rgb(215,48,39)"
          ],
          [
           0.2,
           "rgb(244,109,67)"
          ],
          [
           0.3,
           "rgb(253,174,97)"
          ],
          [
           0.4,
           "rgb(254,224,144)"
          ],
          [
           0.5,
           "rgb(255,255,191)"
          ],
          [
           0.6,
           "rgb(224,243,248)"
          ],
          [
           0.7,
           "rgb(171,217,233)"
          ],
          [
           0.8,
           "rgb(116,173,209)"
          ],
          [
           0.9,
           "rgb(69,117,180)"
          ],
          [
           1,
           "rgb(49,54,149)"
          ]
         ],
         "type": "surface",
         "x": [
          0,
          1,
          2,
          3,
          4
         ],
         "y": [
          "x",
          "y",
          "z"
         ],
         "z": [
          [
           1,
           2,
           3,
           4,
           5
          ],
          [
           10,
           20,
           30,
           20,
           10
          ],
          [
           5,
           4,
           3,
           2,
           1
          ]
         ]
        }
       ],
       "layout": {
        "legend": {
         "bgcolor": "#F5F6F9",
         "font": {
          "color": "#4D5663"
         }
        },
        "paper_bgcolor": "#F5F6F9",
        "plot_bgcolor": "#F5F6F9",
        "template": {
         "data": {
          "bar": [
           {
            "error_x": {
             "color": "#2a3f5f"
            },
            "error_y": {
             "color": "#2a3f5f"
            },
            "marker": {
             "line": {
              "color": "#E5ECF6",
              "width": 0.5
             },
             "pattern": {
              "fillmode": "overlay",
              "size": 10,
              "solidity": 0.2
             }
            },
            "type": "bar"
           }
          ],
          "barpolar": [
           {
            "marker": {
             "line": {
              "color": "#E5ECF6",
              "width": 0.5
             },
             "pattern": {
              "fillmode": "overlay",
              "size": 10,
              "solidity": 0.2
             }
            },
            "type": "barpolar"
           }
          ],
          "carpet": [
           {
            "aaxis": {
             "endlinecolor": "#2a3f5f",
             "gridcolor": "white",
             "linecolor": "white",
             "minorgridcolor": "white",
             "startlinecolor": "#2a3f5f"
            },
            "baxis": {
             "endlinecolor": "#2a3f5f",
             "gridcolor": "white",
             "linecolor": "white",
             "minorgridcolor": "white",
             "startlinecolor": "#2a3f5f"
            },
            "type": "carpet"
           }
          ],
          "choropleth": [
           {
            "colorbar": {
             "outlinewidth": 0,
             "ticks": ""
            },
            "type": "choropleth"
           }
          ],
          "contour": [
           {
            "colorbar": {
             "outlinewidth": 0,
             "ticks": ""
            },
            "colorscale": [
             [
              0,
              "#0d0887"
             ],
             [
              0.1111111111111111,
              "#46039f"
             ],
             [
              0.2222222222222222,
              "#7201a8"
             ],
             [
              0.3333333333333333,
              "#9c179e"
             ],
             [
              0.4444444444444444,
              "#bd3786"
             ],
             [
              0.5555555555555556,
              "#d8576b"
             ],
             [
              0.6666666666666666,
              "#ed7953"
             ],
             [
              0.7777777777777778,
              "#fb9f3a"
             ],
             [
              0.8888888888888888,
              "#fdca26"
             ],
             [
              1,
              "#f0f921"
             ]
            ],
            "type": "contour"
           }
          ],
          "contourcarpet": [
           {
            "colorbar": {
             "outlinewidth": 0,
             "ticks": ""
            },
            "type": "contourcarpet"
           }
          ],
          "heatmap": [
           {
            "colorbar": {
             "outlinewidth": 0,
             "ticks": ""
            },
            "colorscale": [
             [
              0,
              "#0d0887"
             ],
             [
              0.1111111111111111,
              "#46039f"
             ],
             [
              0.2222222222222222,
              "#7201a8"
             ],
             [
              0.3333333333333333,
              "#9c179e"
             ],
             [
              0.4444444444444444,
              "#bd3786"
             ],
             [
              0.5555555555555556,
              "#d8576b"
             ],
             [
              0.6666666666666666,
              "#ed7953"
             ],
             [
              0.7777777777777778,
              "#fb9f3a"
             ],
             [
              0.8888888888888888,
              "#fdca26"
             ],
             [
              1,
              "#f0f921"
             ]
            ],
            "type": "heatmap"
           }
          ],
          "heatmapgl": [
           {
            "colorbar": {
             "outlinewidth": 0,
             "ticks": ""
            },
            "colorscale": [
             [
              0,
              "#0d0887"
             ],
             [
              0.1111111111111111,
              "#46039f"
             ],
             [
              0.2222222222222222,
              "#7201a8"
             ],
             [
              0.3333333333333333,
              "#9c179e"
             ],
             [
              0.4444444444444444,
              "#bd3786"
             ],
             [
              0.5555555555555556,
              "#d8576b"
             ],
             [
              0.6666666666666666,
              "#ed7953"
             ],
             [
              0.7777777777777778,
              "#fb9f3a"
             ],
             [
              0.8888888888888888,
              "#fdca26"
             ],
             [
              1,
              "#f0f921"
             ]
            ],
            "type": "heatmapgl"
           }
          ],
          "histogram": [
           {
            "marker": {
             "pattern": {
              "fillmode": "overlay",
              "size": 10,
              "solidity": 0.2
             }
            },
            "type": "histogram"
           }
          ],
          "histogram2d": [
           {
            "colorbar": {
             "outlinewidth": 0,
             "ticks": ""
            },
            "colorscale": [
             [
              0,
              "#0d0887"
             ],
             [
              0.1111111111111111,
              "#46039f"
             ],
             [
              0.2222222222222222,
              "#7201a8"
             ],
             [
              0.3333333333333333,
              "#9c179e"
             ],
             [
              0.4444444444444444,
              "#bd3786"
             ],
             [
              0.5555555555555556,
              "#d8576b"
             ],
             [
              0.6666666666666666,
              "#ed7953"
             ],
             [
              0.7777777777777778,
              "#fb9f3a"
             ],
             [
              0.8888888888888888,
              "#fdca26"
             ],
             [
              1,
              "#f0f921"
             ]
            ],
            "type": "histogram2d"
           }
          ],
          "histogram2dcontour": [
           {
            "colorbar": {
             "outlinewidth": 0,
             "ticks": ""
            },
            "colorscale": [
             [
              0,
              "#0d0887"
             ],
             [
              0.1111111111111111,
              "#46039f"
             ],
             [
              0.2222222222222222,
              "#7201a8"
             ],
             [
              0.3333333333333333,
              "#9c179e"
             ],
             [
              0.4444444444444444,
              "#bd3786"
             ],
             [
              0.5555555555555556,
              "#d8576b"
             ],
             [
              0.6666666666666666,
              "#ed7953"
             ],
             [
              0.7777777777777778,
              "#fb9f3a"
             ],
             [
              0.8888888888888888,
              "#fdca26"
             ],
             [
              1,
              "#f0f921"
             ]
            ],
            "type": "histogram2dcontour"
           }
          ],
          "mesh3d": [
           {
            "colorbar": {
             "outlinewidth": 0,
             "ticks": ""
            },
            "type": "mesh3d"
           }
          ],
          "parcoords": [
           {
            "line": {
             "colorbar": {
              "outlinewidth": 0,
              "ticks": ""
             }
            },
            "type": "parcoords"
           }
          ],
          "pie": [
           {
            "automargin": true,
            "type": "pie"
           }
          ],
          "scatter": [
           {
            "fillpattern": {
             "fillmode": "overlay",
             "size": 10,
             "solidity": 0.2
            },
            "type": "scatter"
           }
          ],
          "scatter3d": [
           {
            "line": {
             "colorbar": {
              "outlinewidth": 0,
              "ticks": ""
             }
            },
            "marker": {
             "colorbar": {
              "outlinewidth": 0,
              "ticks": ""
             }
            },
            "type": "scatter3d"
           }
          ],
          "scattercarpet": [
           {
            "marker": {
             "colorbar": {
              "outlinewidth": 0,
              "ticks": ""
             }
            },
            "type": "scattercarpet"
           }
          ],
          "scattergeo": [
           {
            "marker": {
             "colorbar": {
              "outlinewidth": 0,
              "ticks": ""
             }
            },
            "type": "scattergeo"
           }
          ],
          "scattergl": [
           {
            "marker": {
             "colorbar": {
              "outlinewidth": 0,
              "ticks": ""
             }
            },
            "type": "scattergl"
           }
          ],
          "scattermapbox": [
           {
            "marker": {
             "colorbar": {
              "outlinewidth": 0,
              "ticks": ""
             }
            },
            "type": "scattermapbox"
           }
          ],
          "scatterpolar": [
           {
            "marker": {
             "colorbar": {
              "outlinewidth": 0,
              "ticks": ""
             }
            },
            "type": "scatterpolar"
           }
          ],
          "scatterpolargl": [
           {
            "marker": {
             "colorbar": {
              "outlinewidth": 0,
              "ticks": ""
             }
            },
            "type": "scatterpolargl"
           }
          ],
          "scatterternary": [
           {
            "marker": {
             "colorbar": {
              "outlinewidth": 0,
              "ticks": ""
             }
            },
            "type": "scatterternary"
           }
          ],
          "surface": [
           {
            "colorbar": {
             "outlinewidth": 0,
             "ticks": ""
            },
            "colorscale": [
             [
              0,
              "#0d0887"
             ],
             [
              0.1111111111111111,
              "#46039f"
             ],
             [
              0.2222222222222222,
              "#7201a8"
             ],
             [
              0.3333333333333333,
              "#9c179e"
             ],
             [
              0.4444444444444444,
              "#bd3786"
             ],
             [
              0.5555555555555556,
              "#d8576b"
             ],
             [
              0.6666666666666666,
              "#ed7953"
             ],
             [
              0.7777777777777778,
              "#fb9f3a"
             ],
             [
              0.8888888888888888,
              "#fdca26"
             ],
             [
              1,
              "#f0f921"
             ]
            ],
            "type": "surface"
           }
          ],
          "table": [
           {
            "cells": {
             "fill": {
              "color": "#EBF0F8"
             },
             "line": {
              "color": "white"
             }
            },
            "header": {
             "fill": {
              "color": "#C8D4E3"
             },
             "line": {
              "color": "white"
             }
            },
            "type": "table"
           }
          ]
         },
         "layout": {
          "annotationdefaults": {
           "arrowcolor": "#2a3f5f",
           "arrowhead": 0,
           "arrowwidth": 1
          },
          "autotypenumbers": "strict",
          "coloraxis": {
           "colorbar": {
            "outlinewidth": 0,
            "ticks": ""
           }
          },
          "colorscale": {
           "diverging": [
            [
             0,
             "#8e0152"
            ],
            [
             0.1,
             "#c51b7d"
            ],
            [
             0.2,
             "#de77ae"
            ],
            [
             0.3,
             "#f1b6da"
            ],
            [
             0.4,
             "#fde0ef"
            ],
            [
             0.5,
             "#f7f7f7"
            ],
            [
             0.6,
             "#e6f5d0"
            ],
            [
             0.7,
             "#b8e186"
            ],
            [
             0.8,
             "#7fbc41"
            ],
            [
             0.9,
             "#4d9221"
            ],
            [
             1,
             "#276419"
            ]
           ],
           "sequential": [
            [
             0,
             "#0d0887"
            ],
            [
             0.1111111111111111,
             "#46039f"
            ],
            [
             0.2222222222222222,
             "#7201a8"
            ],
            [
             0.3333333333333333,
             "#9c179e"
            ],
            [
             0.4444444444444444,
             "#bd3786"
            ],
            [
             0.5555555555555556,
             "#d8576b"
            ],
            [
             0.6666666666666666,
             "#ed7953"
            ],
            [
             0.7777777777777778,
             "#fb9f3a"
            ],
            [
             0.8888888888888888,
             "#fdca26"
            ],
            [
             1,
             "#f0f921"
            ]
           ],
           "sequentialminus": [
            [
             0,
             "#0d0887"
            ],
            [
             0.1111111111111111,
             "#46039f"
            ],
            [
             0.2222222222222222,
             "#7201a8"
            ],
            [
             0.3333333333333333,
             "#9c179e"
            ],
            [
             0.4444444444444444,
             "#bd3786"
            ],
            [
             0.5555555555555556,
             "#d8576b"
            ],
            [
             0.6666666666666666,
             "#ed7953"
            ],
            [
             0.7777777777777778,
             "#fb9f3a"
            ],
            [
             0.8888888888888888,
             "#fdca26"
            ],
            [
             1,
             "#f0f921"
            ]
           ]
          },
          "colorway": [
           "#636efa",
           "#EF553B",
           "#00cc96",
           "#ab63fa",
           "#FFA15A",
           "#19d3f3",
           "#FF6692",
           "#B6E880",
           "#FF97FF",
           "#FECB52"
          ],
          "font": {
           "color": "#2a3f5f"
          },
          "geo": {
           "bgcolor": "white",
           "lakecolor": "white",
           "landcolor": "#E5ECF6",
           "showlakes": true,
           "showland": true,
           "subunitcolor": "white"
          },
          "hoverlabel": {
           "align": "left"
          },
          "hovermode": "closest",
          "mapbox": {
           "style": "light"
          },
          "paper_bgcolor": "white",
          "plot_bgcolor": "#E5ECF6",
          "polar": {
           "angularaxis": {
            "gridcolor": "white",
            "linecolor": "white",
            "ticks": ""
           },
           "bgcolor": "#E5ECF6",
           "radialaxis": {
            "gridcolor": "white",
            "linecolor": "white",
            "ticks": ""
           }
          },
          "scene": {
           "xaxis": {
            "backgroundcolor": "#E5ECF6",
            "gridcolor": "white",
            "gridwidth": 2,
            "linecolor": "white",
            "showbackground": true,
            "ticks": "",
            "zerolinecolor": "white"
           },
           "yaxis": {
            "backgroundcolor": "#E5ECF6",
            "gridcolor": "white",
            "gridwidth": 2,
            "linecolor": "white",
            "showbackground": true,
            "ticks": "",
            "zerolinecolor": "white"
           },
           "zaxis": {
            "backgroundcolor": "#E5ECF6",
            "gridcolor": "white",
            "gridwidth": 2,
            "linecolor": "white",
            "showbackground": true,
            "ticks": "",
            "zerolinecolor": "white"
           }
          },
          "shapedefaults": {
           "line": {
            "color": "#2a3f5f"
           }
          },
          "ternary": {
           "aaxis": {
            "gridcolor": "white",
            "linecolor": "white",
            "ticks": ""
           },
           "baxis": {
            "gridcolor": "white",
            "linecolor": "white",
            "ticks": ""
           },
           "bgcolor": "#E5ECF6",
           "caxis": {
            "gridcolor": "white",
            "linecolor": "white",
            "ticks": ""
           }
          },
          "title": {
           "x": 0.05
          },
          "xaxis": {
           "automargin": true,
           "gridcolor": "white",
           "linecolor": "white",
           "ticks": "",
           "title": {
            "standoff": 15
           },
           "zerolinecolor": "white",
           "zerolinewidth": 2
          },
          "yaxis": {
           "automargin": true,
           "gridcolor": "white",
           "linecolor": "white",
           "ticks": "",
           "title": {
            "standoff": 15
           },
           "zerolinecolor": "white",
           "zerolinewidth": 2
          }
         }
        },
        "title": {
         "font": {
          "color": "#4D5663"
         }
        },
        "xaxis": {
         "gridcolor": "#E1E5ED",
         "showgrid": true,
         "tickfont": {
          "color": "#4D5663"
         },
         "title": {
          "font": {
           "color": "#4D5663"
          },
          "text": ""
         },
         "zerolinecolor": "#E1E5ED"
        },
        "yaxis": {
         "gridcolor": "#E1E5ED",
         "showgrid": true,
         "tickfont": {
          "color": "#4D5663"
         },
         "title": {
          "font": {
           "color": "#4D5663"
          },
          "text": ""
         },
         "zerolinecolor": "#E1E5ED"
        }
       }
      },
      "text/html": [
       "<div>                            <div id=\"b80d9ee6-b714-4bdc-9ee1-e0f20f826c29\" class=\"plotly-graph-div\" style=\"height:525px; width:100%;\"></div>            <script type=\"text/javascript\">                require([\"plotly\"], function(Plotly) {                    window.PLOTLYENV=window.PLOTLYENV || {};\n",
       "                    window.PLOTLYENV.BASE_URL='https://plot.ly';                                    if (document.getElementById(\"b80d9ee6-b714-4bdc-9ee1-e0f20f826c29\")) {                    Plotly.newPlot(                        \"b80d9ee6-b714-4bdc-9ee1-e0f20f826c29\",                        [{\"colorscale\":[[0.0,\"rgb(165,0,38)\"],[0.1,\"rgb(215,48,39)\"],[0.2,\"rgb(244,109,67)\"],[0.3,\"rgb(253,174,97)\"],[0.4,\"rgb(254,224,144)\"],[0.5,\"rgb(255,255,191)\"],[0.6,\"rgb(224,243,248)\"],[0.7,\"rgb(171,217,233)\"],[0.8,\"rgb(116,173,209)\"],[0.9,\"rgb(69,117,180)\"],[1.0,\"rgb(49,54,149)\"]],\"x\":[0,1,2,3,4],\"y\":[\"x\",\"y\",\"z\"],\"z\":[[1,2,3,4,5],[10,20,30,20,10],[5,4,3,2,1]],\"type\":\"surface\"}],                        {\"legend\":{\"bgcolor\":\"#F5F6F9\",\"font\":{\"color\":\"#4D5663\"}},\"paper_bgcolor\":\"#F5F6F9\",\"plot_bgcolor\":\"#F5F6F9\",\"template\":{\"data\":{\"barpolar\":[{\"marker\":{\"line\":{\"color\":\"#E5ECF6\",\"width\":0.5},\"pattern\":{\"fillmode\":\"overlay\",\"size\":10,\"solidity\":0.2}},\"type\":\"barpolar\"}],\"bar\":[{\"error_x\":{\"color\":\"#2a3f5f\"},\"error_y\":{\"color\":\"#2a3f5f\"},\"marker\":{\"line\":{\"color\":\"#E5ECF6\",\"width\":0.5},\"pattern\":{\"fillmode\":\"overlay\",\"size\":10,\"solidity\":0.2}},\"type\":\"bar\"}],\"carpet\":[{\"aaxis\":{\"endlinecolor\":\"#2a3f5f\",\"gridcolor\":\"white\",\"linecolor\":\"white\",\"minorgridcolor\":\"white\",\"startlinecolor\":\"#2a3f5f\"},\"baxis\":{\"endlinecolor\":\"#2a3f5f\",\"gridcolor\":\"white\",\"linecolor\":\"white\",\"minorgridcolor\":\"white\",\"startlinecolor\":\"#2a3f5f\"},\"type\":\"carpet\"}],\"choropleth\":[{\"colorbar\":{\"outlinewidth\":0,\"ticks\":\"\"},\"type\":\"choropleth\"}],\"contourcarpet\":[{\"colorbar\":{\"outlinewidth\":0,\"ticks\":\"\"},\"type\":\"contourcarpet\"}],\"contour\":[{\"colorbar\":{\"outlinewidth\":0,\"ticks\":\"\"},\"colorscale\":[[0.0,\"#0d0887\"],[0.1111111111111111,\"#46039f\"],[0.2222222222222222,\"#7201a8\"],[0.3333333333333333,\"#9c179e\"],[0.4444444444444444,\"#bd3786\"],[0.5555555555555556,\"#d8576b\"],[0.6666666666666666,\"#ed7953\"],[0.7777777777777778,\"#fb9f3a\"],[0.8888888888888888,\"#fdca26\"],[1.0,\"#f0f921\"]],\"type\":\"contour\"}],\"heatmapgl\":[{\"colorbar\":{\"outlinewidth\":0,\"ticks\":\"\"},\"colorscale\":[[0.0,\"#0d0887\"],[0.1111111111111111,\"#46039f\"],[0.2222222222222222,\"#7201a8\"],[0.3333333333333333,\"#9c179e\"],[0.4444444444444444,\"#bd3786\"],[0.5555555555555556,\"#d8576b\"],[0.6666666666666666,\"#ed7953\"],[0.7777777777777778,\"#fb9f3a\"],[0.8888888888888888,\"#fdca26\"],[1.0,\"#f0f921\"]],\"type\":\"heatmapgl\"}],\"heatmap\":[{\"colorbar\":{\"outlinewidth\":0,\"ticks\":\"\"},\"colorscale\":[[0.0,\"#0d0887\"],[0.1111111111111111,\"#46039f\"],[0.2222222222222222,\"#7201a8\"],[0.3333333333333333,\"#9c179e\"],[0.4444444444444444,\"#bd3786\"],[0.5555555555555556,\"#d8576b\"],[0.6666666666666666,\"#ed7953\"],[0.7777777777777778,\"#fb9f3a\"],[0.8888888888888888,\"#fdca26\"],[1.0,\"#f0f921\"]],\"type\":\"heatmap\"}],\"histogram2dcontour\":[{\"colorbar\":{\"outlinewidth\":0,\"ticks\":\"\"},\"colorscale\":[[0.0,\"#0d0887\"],[0.1111111111111111,\"#46039f\"],[0.2222222222222222,\"#7201a8\"],[0.3333333333333333,\"#9c179e\"],[0.4444444444444444,\"#bd3786\"],[0.5555555555555556,\"#d8576b\"],[0.6666666666666666,\"#ed7953\"],[0.7777777777777778,\"#fb9f3a\"],[0.8888888888888888,\"#fdca26\"],[1.0,\"#f0f921\"]],\"type\":\"histogram2dcontour\"}],\"histogram2d\":[{\"colorbar\":{\"outlinewidth\":0,\"ticks\":\"\"},\"colorscale\":[[0.0,\"#0d0887\"],[0.1111111111111111,\"#46039f\"],[0.2222222222222222,\"#7201a8\"],[0.3333333333333333,\"#9c179e\"],[0.4444444444444444,\"#bd3786\"],[0.5555555555555556,\"#d8576b\"],[0.6666666666666666,\"#ed7953\"],[0.7777777777777778,\"#fb9f3a\"],[0.8888888888888888,\"#fdca26\"],[1.0,\"#f0f921\"]],\"type\":\"histogram2d\"}],\"histogram\":[{\"marker\":{\"pattern\":{\"fillmode\":\"overlay\",\"size\":10,\"solidity\":0.2}},\"type\":\"histogram\"}],\"mesh3d\":[{\"colorbar\":{\"outlinewidth\":0,\"ticks\":\"\"},\"type\":\"mesh3d\"}],\"parcoords\":[{\"line\":{\"colorbar\":{\"outlinewidth\":0,\"ticks\":\"\"}},\"type\":\"parcoords\"}],\"pie\":[{\"automargin\":true,\"type\":\"pie\"}],\"scatter3d\":[{\"line\":{\"colorbar\":{\"outlinewidth\":0,\"ticks\":\"\"}},\"marker\":{\"colorbar\":{\"outlinewidth\":0,\"ticks\":\"\"}},\"type\":\"scatter3d\"}],\"scattercarpet\":[{\"marker\":{\"colorbar\":{\"outlinewidth\":0,\"ticks\":\"\"}},\"type\":\"scattercarpet\"}],\"scattergeo\":[{\"marker\":{\"colorbar\":{\"outlinewidth\":0,\"ticks\":\"\"}},\"type\":\"scattergeo\"}],\"scattergl\":[{\"marker\":{\"colorbar\":{\"outlinewidth\":0,\"ticks\":\"\"}},\"type\":\"scattergl\"}],\"scattermapbox\":[{\"marker\":{\"colorbar\":{\"outlinewidth\":0,\"ticks\":\"\"}},\"type\":\"scattermapbox\"}],\"scatterpolargl\":[{\"marker\":{\"colorbar\":{\"outlinewidth\":0,\"ticks\":\"\"}},\"type\":\"scatterpolargl\"}],\"scatterpolar\":[{\"marker\":{\"colorbar\":{\"outlinewidth\":0,\"ticks\":\"\"}},\"type\":\"scatterpolar\"}],\"scatter\":[{\"fillpattern\":{\"fillmode\":\"overlay\",\"size\":10,\"solidity\":0.2},\"type\":\"scatter\"}],\"scatterternary\":[{\"marker\":{\"colorbar\":{\"outlinewidth\":0,\"ticks\":\"\"}},\"type\":\"scatterternary\"}],\"surface\":[{\"colorbar\":{\"outlinewidth\":0,\"ticks\":\"\"},\"colorscale\":[[0.0,\"#0d0887\"],[0.1111111111111111,\"#46039f\"],[0.2222222222222222,\"#7201a8\"],[0.3333333333333333,\"#9c179e\"],[0.4444444444444444,\"#bd3786\"],[0.5555555555555556,\"#d8576b\"],[0.6666666666666666,\"#ed7953\"],[0.7777777777777778,\"#fb9f3a\"],[0.8888888888888888,\"#fdca26\"],[1.0,\"#f0f921\"]],\"type\":\"surface\"}],\"table\":[{\"cells\":{\"fill\":{\"color\":\"#EBF0F8\"},\"line\":{\"color\":\"white\"}},\"header\":{\"fill\":{\"color\":\"#C8D4E3\"},\"line\":{\"color\":\"white\"}},\"type\":\"table\"}]},\"layout\":{\"annotationdefaults\":{\"arrowcolor\":\"#2a3f5f\",\"arrowhead\":0,\"arrowwidth\":1},\"autotypenumbers\":\"strict\",\"coloraxis\":{\"colorbar\":{\"outlinewidth\":0,\"ticks\":\"\"}},\"colorscale\":{\"diverging\":[[0,\"#8e0152\"],[0.1,\"#c51b7d\"],[0.2,\"#de77ae\"],[0.3,\"#f1b6da\"],[0.4,\"#fde0ef\"],[0.5,\"#f7f7f7\"],[0.6,\"#e6f5d0\"],[0.7,\"#b8e186\"],[0.8,\"#7fbc41\"],[0.9,\"#4d9221\"],[1,\"#276419\"]],\"sequential\":[[0.0,\"#0d0887\"],[0.1111111111111111,\"#46039f\"],[0.2222222222222222,\"#7201a8\"],[0.3333333333333333,\"#9c179e\"],[0.4444444444444444,\"#bd3786\"],[0.5555555555555556,\"#d8576b\"],[0.6666666666666666,\"#ed7953\"],[0.7777777777777778,\"#fb9f3a\"],[0.8888888888888888,\"#fdca26\"],[1.0,\"#f0f921\"]],\"sequentialminus\":[[0.0,\"#0d0887\"],[0.1111111111111111,\"#46039f\"],[0.2222222222222222,\"#7201a8\"],[0.3333333333333333,\"#9c179e\"],[0.4444444444444444,\"#bd3786\"],[0.5555555555555556,\"#d8576b\"],[0.6666666666666666,\"#ed7953\"],[0.7777777777777778,\"#fb9f3a\"],[0.8888888888888888,\"#fdca26\"],[1.0,\"#f0f921\"]]},\"colorway\":[\"#636efa\",\"#EF553B\",\"#00cc96\",\"#ab63fa\",\"#FFA15A\",\"#19d3f3\",\"#FF6692\",\"#B6E880\",\"#FF97FF\",\"#FECB52\"],\"font\":{\"color\":\"#2a3f5f\"},\"geo\":{\"bgcolor\":\"white\",\"lakecolor\":\"white\",\"landcolor\":\"#E5ECF6\",\"showlakes\":true,\"showland\":true,\"subunitcolor\":\"white\"},\"hoverlabel\":{\"align\":\"left\"},\"hovermode\":\"closest\",\"mapbox\":{\"style\":\"light\"},\"paper_bgcolor\":\"white\",\"plot_bgcolor\":\"#E5ECF6\",\"polar\":{\"angularaxis\":{\"gridcolor\":\"white\",\"linecolor\":\"white\",\"ticks\":\"\"},\"bgcolor\":\"#E5ECF6\",\"radialaxis\":{\"gridcolor\":\"white\",\"linecolor\":\"white\",\"ticks\":\"\"}},\"scene\":{\"xaxis\":{\"backgroundcolor\":\"#E5ECF6\",\"gridcolor\":\"white\",\"gridwidth\":2,\"linecolor\":\"white\",\"showbackground\":true,\"ticks\":\"\",\"zerolinecolor\":\"white\"},\"yaxis\":{\"backgroundcolor\":\"#E5ECF6\",\"gridcolor\":\"white\",\"gridwidth\":2,\"linecolor\":\"white\",\"showbackground\":true,\"ticks\":\"\",\"zerolinecolor\":\"white\"},\"zaxis\":{\"backgroundcolor\":\"#E5ECF6\",\"gridcolor\":\"white\",\"gridwidth\":2,\"linecolor\":\"white\",\"showbackground\":true,\"ticks\":\"\",\"zerolinecolor\":\"white\"}},\"shapedefaults\":{\"line\":{\"color\":\"#2a3f5f\"}},\"ternary\":{\"aaxis\":{\"gridcolor\":\"white\",\"linecolor\":\"white\",\"ticks\":\"\"},\"baxis\":{\"gridcolor\":\"white\",\"linecolor\":\"white\",\"ticks\":\"\"},\"bgcolor\":\"#E5ECF6\",\"caxis\":{\"gridcolor\":\"white\",\"linecolor\":\"white\",\"ticks\":\"\"}},\"title\":{\"x\":0.05},\"xaxis\":{\"automargin\":true,\"gridcolor\":\"white\",\"linecolor\":\"white\",\"ticks\":\"\",\"title\":{\"standoff\":15},\"zerolinecolor\":\"white\",\"zerolinewidth\":2},\"yaxis\":{\"automargin\":true,\"gridcolor\":\"white\",\"linecolor\":\"white\",\"ticks\":\"\",\"title\":{\"standoff\":15},\"zerolinecolor\":\"white\",\"zerolinewidth\":2}}},\"title\":{\"font\":{\"color\":\"#4D5663\"}},\"xaxis\":{\"gridcolor\":\"#E1E5ED\",\"showgrid\":true,\"tickfont\":{\"color\":\"#4D5663\"},\"title\":{\"font\":{\"color\":\"#4D5663\"},\"text\":\"\"},\"zerolinecolor\":\"#E1E5ED\"},\"yaxis\":{\"gridcolor\":\"#E1E5ED\",\"showgrid\":true,\"tickfont\":{\"color\":\"#4D5663\"},\"title\":{\"font\":{\"color\":\"#4D5663\"},\"text\":\"\"},\"zerolinecolor\":\"#E1E5ED\"}},                        {\"showLink\": true, \"linkText\": \"Export to plot.ly\", \"plotlyServerURL\": \"https://plot.ly\", \"responsive\": true}                    ).then(function(){\n",
       "                            \n",
       "var gd = document.getElementById('b80d9ee6-b714-4bdc-9ee1-e0f20f826c29');\n",
       "var x = new MutationObserver(function (mutations, observer) {{\n",
       "        var display = window.getComputedStyle(gd).display;\n",
       "        if (!display || display === 'none') {{\n",
       "            console.log([gd, 'removed!']);\n",
       "            Plotly.purge(gd);\n",
       "            observer.disconnect();\n",
       "        }}\n",
       "}});\n",
       "\n",
       "// Listen for the removal of the full notebook cells\n",
       "var notebookContainer = gd.closest('#notebook-container');\n",
       "if (notebookContainer) {{\n",
       "    x.observe(notebookContainer, {childList: true});\n",
       "}}\n",
       "\n",
       "// Listen for the clearing of the current output cell\n",
       "var outputEl = gd.closest('.output');\n",
       "if (outputEl) {{\n",
       "    x.observe(outputEl, {childList: true});\n",
       "}}\n",
       "\n",
       "                        })                };                });            </script>        </div>"
      ]
     },
     "metadata": {},
     "output_type": "display_data"
    }
   ],
   "source": [
    "df3 = pd.DataFrame({'x':[1,2,3,4,5],'y':[10,20,30,20,10],'z':[5,4,3,2,1]})\n",
    "df3.iplot(kind='surface',colorscale='rdylbu')"
   ]
  },
  {
   "cell_type": "markdown",
   "metadata": {},
   "source": [
    "## Spread"
   ]
  },
  {
   "cell_type": "code",
   "execution_count": 54,
   "metadata": {
    "collapsed": false
   },
   "outputs": [
    {
     "name": "stderr",
     "output_type": "stream",
     "text": [
      "d:\\Anish\\anaconda\\Lib\\site-packages\\cufflinks\\plotlytools.py:848: FutureWarning:\n",
      "\n",
      "Series.__getitem__ treating keys as positions is deprecated. In a future version, integer keys will always be treated as labels (consistent with DataFrame behavior). To access a value by position, use `ser.iloc[pos]`\n",
      "\n"
     ]
    },
    {
     "data": {
      "application/vnd.plotly.v1+json": {
       "config": {
        "linkText": "Export to plot.ly",
        "plotlyServerURL": "https://plot.ly",
        "showLink": true
       },
       "data": [
        {
         "line": {
          "color": "rgba(255, 153, 51, 1.0)",
          "dash": "solid",
          "shape": "linear",
          "width": 1.3
         },
         "mode": "lines",
         "name": "A",
         "text": "",
         "type": "scatter",
         "x": [
          0,
          1,
          2,
          3,
          4,
          5,
          6,
          7,
          8,
          9,
          10,
          11,
          12,
          13,
          14,
          15,
          16,
          17,
          18,
          19,
          20,
          21,
          22,
          23,
          24,
          25,
          26,
          27,
          28,
          29,
          30,
          31,
          32,
          33,
          34,
          35,
          36,
          37,
          38,
          39,
          40,
          41,
          42,
          43,
          44,
          45,
          46,
          47,
          48,
          49,
          50,
          51,
          52,
          53,
          54,
          55,
          56,
          57,
          58,
          59,
          60,
          61,
          62,
          63,
          64,
          65,
          66,
          67,
          68,
          69,
          70,
          71,
          72,
          73,
          74,
          75,
          76,
          77,
          78,
          79,
          80,
          81,
          82,
          83,
          84,
          85,
          86,
          87,
          88,
          89,
          90,
          91,
          92,
          93,
          94,
          95,
          96,
          97,
          98,
          99
         ],
         "y": [
          -0.08186168703008381,
          -1.4125134786406384,
          -2.0216316901586966,
          -1.1144061395664848,
          -0.732862192610121,
          -0.43646635545450774,
          -2.0968581642837814,
          0.5444228495639059,
          -0.5653026207892777,
          0.30717970372559855,
          -0.4198484557612456,
          0.7253217047833895,
          -0.7910646375013571,
          0.24584288534701426,
          0.3861808927955188,
          -1.1467665661219575,
          -0.41072488955529124,
          0.724907854212759,
          -0.39513396691114294,
          -0.29734831407239337,
          0.056560161710574756,
          -0.8472438703374219,
          -1.7198020608413256,
          0.26407469568663433,
          -0.5262701489609771,
          -0.500907294123469,
          -1.0930047549095676,
          -0.595849948515295,
          1.5334319219267074,
          -0.016326454774757585,
          -0.862655734758858,
          0.5684015061380762,
          -1.2161191764324901,
          -1.1753642330024214,
          -0.18901916241119732,
          -0.5549185302065942,
          0.309228505663993,
          -0.5931070174769876,
          -0.915428386728154,
          -0.5689122102202488,
          -0.16674407057733692,
          -2.236913162354572,
          -0.5827999024163568,
          0.6902558348780791,
          0.03187805913805461,
          -0.7413489938308117,
          0.366320205190309,
          0.7571681026049312,
          0.7180974557635268,
          1.7056945385414521,
          0.1381467651427019,
          0.9469749716086889,
          -0.021766609360936398,
          -1.7222130070414399,
          -0.11193913228109911,
          -1.253127684581892,
          0.5290917355245429,
          1.233008441143637,
          -0.01708591871870062,
          -0.022413499602245302,
          0.05198424376548483,
          -1.5730535785265773,
          0.13296023573262686,
          -0.22105137596848967,
          0.11956373474779762,
          -0.19460631714752108,
          -0.22403298097538893,
          0.5143412935583017,
          0.15714090442602846,
          0.28035904683880963,
          -0.2446823288892205,
          0.7607186297922643,
          -2.2143188702913483,
          1.4096188805712955,
          0.37248522681048263,
          -0.9490918085680567,
          0.17853358552885062,
          0.002679033371037447,
          0.17851692593807564,
          -0.7190872551009492,
          0.9512063312958212,
          1.144354380327551,
          -1.559442571286232,
          -0.9176446170081553,
          1.203944757019189,
          0.4336986432940904,
          1.2922199374622567,
          1.048558465289624,
          -0.24138585364897558,
          -0.674413221419938,
          -0.4372811997781751,
          0.02560771998751411,
          0.2842463005080672,
          -0.07999094631816925,
          -0.02914694933426302,
          0.15541678795851396,
          0.4912729071280546,
          -1.0776651864274596,
          -0.9522304568959343,
          1.6836961434138082
         ]
        },
        {
         "line": {
          "color": "rgba(55, 128, 191, 1.0)",
          "dash": "solid",
          "shape": "linear",
          "width": 1.3
         },
         "mode": "lines",
         "name": "B",
         "text": "",
         "type": "scatter",
         "x": [
          0,
          1,
          2,
          3,
          4,
          5,
          6,
          7,
          8,
          9,
          10,
          11,
          12,
          13,
          14,
          15,
          16,
          17,
          18,
          19,
          20,
          21,
          22,
          23,
          24,
          25,
          26,
          27,
          28,
          29,
          30,
          31,
          32,
          33,
          34,
          35,
          36,
          37,
          38,
          39,
          40,
          41,
          42,
          43,
          44,
          45,
          46,
          47,
          48,
          49,
          50,
          51,
          52,
          53,
          54,
          55,
          56,
          57,
          58,
          59,
          60,
          61,
          62,
          63,
          64,
          65,
          66,
          67,
          68,
          69,
          70,
          71,
          72,
          73,
          74,
          75,
          76,
          77,
          78,
          79,
          80,
          81,
          82,
          83,
          84,
          85,
          86,
          87,
          88,
          89,
          90,
          91,
          92,
          93,
          94,
          95,
          96,
          97,
          98,
          99
         ],
         "y": [
          -0.29031153665030285,
          0.8673880001188526,
          0.5794175830953129,
          1.1236877494288822,
          0.14560706940464604,
          -0.49238381593607494,
          -1.3585655836642285,
          0.5263910174142803,
          1.0414187484205073,
          1.1126342780473124,
          -0.2710539337610146,
          0.9229317060885099,
          2.7717055625558005,
          -0.8678266089839779,
          -2.108848157089314,
          0.7370183808313264,
          2.6345495208902894,
          -0.2621273708172376,
          0.506481601483133,
          0.5246870982503338,
          -0.14935471488468668,
          0.780998061065657,
          -1.0377295136444016,
          0.07582264190298024,
          -0.01727724156390105,
          0.14967915982555374,
          0.4006884640886359,
          -0.30028281207502294,
          1.0524568382619184,
          0.22714302212822748,
          -2.817180366152146,
          1.1268043517108106,
          -0.9275839344799525,
          -0.04835623775384268,
          0.19305027546842896,
          0.6948160785103962,
          0.10411248394502415,
          0.9364271446793379,
          0.615398985584594,
          1.052408275766237,
          -0.1305383056255062,
          -0.49587893903374713,
          0.5682691161469392,
          0.10691159637422652,
          2.069540771302056,
          0.44753139296663086,
          -0.5452979108611006,
          -0.43451678872120086,
          -1.3331180531738722,
          -0.17055424849834025,
          1.8735530864012384,
          -1.113989898123316,
          0.718666767419772,
          0.5494073873928873,
          -0.38327337314058013,
          -0.7208312798888825,
          -1.1417601621614262,
          0.6441031369617723,
          -0.14138573019705505,
          -1.1630568098276415,
          -0.6735869103228915,
          2.5146014801982695,
          1.4879552657435673,
          2.165414249826483,
          -1.180246064142854,
          -0.21659994578619016,
          -0.09596937471604866,
          1.0926016449982687,
          -1.666241916907615,
          -0.8078351895602224,
          -0.8523387749589654,
          -0.8134655525065212,
          -0.07019443259751783,
          2.714118708753477,
          0.5503739058712013,
          1.0703343139772825,
          -0.21486650994147882,
          -0.9601203710375531,
          -0.23025194155418327,
          -0.9328113212548568,
          1.89540655559761,
          0.09732881700465994,
          -0.28483495768991385,
          1.6464136770714903,
          -1.9310211656064404,
          -2.6132141844277355,
          -0.25318296893388254,
          -0.5237449692281284,
          -1.4088071744847528,
          1.095281759059276,
          0.7413258265163059,
          0.391225376839355,
          0.6568604312150156,
          -0.7918186884461557,
          -0.623628752463788,
          0.5213011561323011,
          0.5701964420195289,
          -1.961135212024153,
          -0.13753065855645294,
          1.270813728730286
         ]
        },
        {
         "connectgaps": false,
         "fill": "tozeroy",
         "line": {
          "color": "green",
          "dash": "solid",
          "shape": "linear",
          "width": 0.5
         },
         "mode": "lines",
         "name": "Spread",
         "showlegend": false,
         "type": "scatter",
         "x": [
          0,
          1,
          2,
          3,
          4,
          5,
          6,
          7,
          8,
          9,
          10,
          11,
          12,
          13,
          14,
          15,
          16,
          17,
          18,
          19,
          20,
          21,
          22,
          23,
          24,
          25,
          26,
          27,
          28,
          29,
          30,
          31,
          32,
          33,
          34,
          35,
          36,
          37,
          38,
          39,
          40,
          41,
          42,
          43,
          44,
          45,
          46,
          47,
          48,
          49,
          50,
          51,
          52,
          53,
          54,
          55,
          56,
          57,
          58,
          59,
          60,
          61,
          62,
          63,
          64,
          65,
          66,
          67,
          68,
          69,
          70,
          71,
          72,
          73,
          74,
          75,
          76,
          77,
          78,
          79,
          80,
          81,
          82,
          83,
          84,
          85,
          86,
          87,
          88,
          89,
          90,
          91,
          92,
          93,
          94,
          95,
          96,
          97,
          98,
          99
         ],
         "xaxis": "x2",
         "y": [
          0.20844984962021904,
          "",
          "",
          "",
          "",
          0.055917460481567205,
          "",
          0.01803183214962556,
          "",
          "",
          "",
          "",
          "",
          1.1136694943309922,
          2.495029049884833,
          "",
          "",
          0.9870352250299966,
          "",
          "",
          0.20591487659526145,
          "",
          "",
          0.1882520537836541,
          "",
          "",
          "",
          "",
          0.480975083664789,
          "",
          1.954524631393288,
          "",
          "",
          "",
          "",
          "",
          0.20511602171896887,
          "",
          "",
          "",
          "",
          "",
          "",
          0.5833442385038525,
          "",
          "",
          0.9116181160514096,
          1.191684891326132,
          2.051215508937399,
          1.8762487870397924,
          "",
          2.060964869732005,
          "",
          "",
          0.271334240859481,
          "",
          1.670851897685969,
          0.5889053041818647,
          0.12429981147835444,
          1.1406433102253961,
          0.7255711540883764,
          "",
          "",
          "",
          1.2998097988906516,
          0.021993628638669077,
          "",
          "",
          1.8233828213336434,
          1.088194236399032,
          0.6076564460697449,
          1.5741841822987857,
          "",
          "",
          "",
          "",
          0.39340009547032945,
          0.9627994044085906,
          0.40876886749225894,
          0.2137240661539076,
          "",
          1.047025563322891,
          "",
          "",
          3.1349659226256295,
          3.046912827721826,
          1.5454029063961392,
          1.5723034345177525,
          1.167421320835777,
          "",
          "",
          "",
          "",
          0.7118277421279864,
          0.594481803129525,
          "",
          "",
          0.8834700255966934,
          "",
          0.41288241468352216
         ],
         "yaxis": "y2"
        },
        {
         "connectgaps": false,
         "fill": "tozeroy",
         "line": {
          "color": "red",
          "dash": "solid",
          "shape": "linear",
          "width": 0.5
         },
         "mode": "lines",
         "name": "Spread",
         "showlegend": false,
         "type": "scatter",
         "x": [
          0,
          1,
          2,
          3,
          4,
          5,
          6,
          7,
          8,
          9,
          10,
          11,
          12,
          13,
          14,
          15,
          16,
          17,
          18,
          19,
          20,
          21,
          22,
          23,
          24,
          25,
          26,
          27,
          28,
          29,
          30,
          31,
          32,
          33,
          34,
          35,
          36,
          37,
          38,
          39,
          40,
          41,
          42,
          43,
          44,
          45,
          46,
          47,
          48,
          49,
          50,
          51,
          52,
          53,
          54,
          55,
          56,
          57,
          58,
          59,
          60,
          61,
          62,
          63,
          64,
          65,
          66,
          67,
          68,
          69,
          70,
          71,
          72,
          73,
          74,
          75,
          76,
          77,
          78,
          79,
          80,
          81,
          82,
          83,
          84,
          85,
          86,
          87,
          88,
          89,
          90,
          91,
          92,
          93,
          94,
          95,
          96,
          97,
          98,
          99
         ],
         "xaxis": "x2",
         "y": [
          "",
          -2.279901478759491,
          -2.6010492732540094,
          -2.238093888995367,
          -0.878469262014767,
          "",
          -0.7382925806195528,
          "",
          -1.606721369209785,
          -0.8054545743217139,
          -0.14879452200023097,
          -0.1976100013051204,
          -3.5627702000571575,
          "",
          "",
          -1.883784946953284,
          -3.0452744104455807,
          "",
          -0.9016155683942759,
          -0.8220354123227271,
          "",
          -1.6282419314030787,
          -0.682072547196924,
          "",
          -0.508992907397076,
          -0.6505864539490227,
          -1.4936932189982035,
          -0.2955671364402721,
          "",
          -0.24346947690298507,
          "",
          -0.5584028455727345,
          -0.28853524195253766,
          -1.1270079952485788,
          -0.3820694378796263,
          -1.2497346087169903,
          "",
          -1.5295341621563254,
          -1.5308273723127481,
          -1.6213204859864858,
          -0.03620576495183073,
          -1.741034223320825,
          -1.151069018563296,
          "",
          -2.037662712164001,
          -1.1888803867974425,
          "",
          "",
          "",
          "",
          -1.7354063212585364,
          "",
          -0.7404333767807084,
          -2.2716203944343274,
          "",
          -0.5322964046930094,
          "",
          "",
          "",
          "",
          "",
          -4.087655058724847,
          -1.3549950300109403,
          -2.3864656257949726,
          "",
          "",
          -0.12806360625934027,
          -0.578260351439967,
          "",
          "",
          "",
          "",
          -2.1441244376938307,
          -1.3044998281821814,
          -0.17788867906071865,
          -2.0194261225453394,
          "",
          "",
          "",
          "",
          -0.9442002243017888,
          "",
          -1.2746076135963182,
          -2.5640582940796457,
          "",
          "",
          "",
          "",
          "",
          -1.7696949804792141,
          -1.178607026294481,
          -0.3656176568518409,
          -0.3726141307069484,
          "",
          "",
          -0.3658843681737871,
          -0.0789235348914743,
          "",
          -0.8146997983394814,
          ""
         ],
         "yaxis": "y2"
        }
       ],
       "layout": {
        "hovermode": "x",
        "legend": {
         "bgcolor": "#F5F6F9",
         "font": {
          "color": "#4D5663"
         }
        },
        "paper_bgcolor": "#F5F6F9",
        "plot_bgcolor": "#F5F6F9",
        "template": {
         "data": {
          "bar": [
           {
            "error_x": {
             "color": "#2a3f5f"
            },
            "error_y": {
             "color": "#2a3f5f"
            },
            "marker": {
             "line": {
              "color": "#E5ECF6",
              "width": 0.5
             },
             "pattern": {
              "fillmode": "overlay",
              "size": 10,
              "solidity": 0.2
             }
            },
            "type": "bar"
           }
          ],
          "barpolar": [
           {
            "marker": {
             "line": {
              "color": "#E5ECF6",
              "width": 0.5
             },
             "pattern": {
              "fillmode": "overlay",
              "size": 10,
              "solidity": 0.2
             }
            },
            "type": "barpolar"
           }
          ],
          "carpet": [
           {
            "aaxis": {
             "endlinecolor": "#2a3f5f",
             "gridcolor": "white",
             "linecolor": "white",
             "minorgridcolor": "white",
             "startlinecolor": "#2a3f5f"
            },
            "baxis": {
             "endlinecolor": "#2a3f5f",
             "gridcolor": "white",
             "linecolor": "white",
             "minorgridcolor": "white",
             "startlinecolor": "#2a3f5f"
            },
            "type": "carpet"
           }
          ],
          "choropleth": [
           {
            "colorbar": {
             "outlinewidth": 0,
             "ticks": ""
            },
            "type": "choropleth"
           }
          ],
          "contour": [
           {
            "colorbar": {
             "outlinewidth": 0,
             "ticks": ""
            },
            "colorscale": [
             [
              0,
              "#0d0887"
             ],
             [
              0.1111111111111111,
              "#46039f"
             ],
             [
              0.2222222222222222,
              "#7201a8"
             ],
             [
              0.3333333333333333,
              "#9c179e"
             ],
             [
              0.4444444444444444,
              "#bd3786"
             ],
             [
              0.5555555555555556,
              "#d8576b"
             ],
             [
              0.6666666666666666,
              "#ed7953"
             ],
             [
              0.7777777777777778,
              "#fb9f3a"
             ],
             [
              0.8888888888888888,
              "#fdca26"
             ],
             [
              1,
              "#f0f921"
             ]
            ],
            "type": "contour"
           }
          ],
          "contourcarpet": [
           {
            "colorbar": {
             "outlinewidth": 0,
             "ticks": ""
            },
            "type": "contourcarpet"
           }
          ],
          "heatmap": [
           {
            "colorbar": {
             "outlinewidth": 0,
             "ticks": ""
            },
            "colorscale": [
             [
              0,
              "#0d0887"
             ],
             [
              0.1111111111111111,
              "#46039f"
             ],
             [
              0.2222222222222222,
              "#7201a8"
             ],
             [
              0.3333333333333333,
              "#9c179e"
             ],
             [
              0.4444444444444444,
              "#bd3786"
             ],
             [
              0.5555555555555556,
              "#d8576b"
             ],
             [
              0.6666666666666666,
              "#ed7953"
             ],
             [
              0.7777777777777778,
              "#fb9f3a"
             ],
             [
              0.8888888888888888,
              "#fdca26"
             ],
             [
              1,
              "#f0f921"
             ]
            ],
            "type": "heatmap"
           }
          ],
          "heatmapgl": [
           {
            "colorbar": {
             "outlinewidth": 0,
             "ticks": ""
            },
            "colorscale": [
             [
              0,
              "#0d0887"
             ],
             [
              0.1111111111111111,
              "#46039f"
             ],
             [
              0.2222222222222222,
              "#7201a8"
             ],
             [
              0.3333333333333333,
              "#9c179e"
             ],
             [
              0.4444444444444444,
              "#bd3786"
             ],
             [
              0.5555555555555556,
              "#d8576b"
             ],
             [
              0.6666666666666666,
              "#ed7953"
             ],
             [
              0.7777777777777778,
              "#fb9f3a"
             ],
             [
              0.8888888888888888,
              "#fdca26"
             ],
             [
              1,
              "#f0f921"
             ]
            ],
            "type": "heatmapgl"
           }
          ],
          "histogram": [
           {
            "marker": {
             "pattern": {
              "fillmode": "overlay",
              "size": 10,
              "solidity": 0.2
             }
            },
            "type": "histogram"
           }
          ],
          "histogram2d": [
           {
            "colorbar": {
             "outlinewidth": 0,
             "ticks": ""
            },
            "colorscale": [
             [
              0,
              "#0d0887"
             ],
             [
              0.1111111111111111,
              "#46039f"
             ],
             [
              0.2222222222222222,
              "#7201a8"
             ],
             [
              0.3333333333333333,
              "#9c179e"
             ],
             [
              0.4444444444444444,
              "#bd3786"
             ],
             [
              0.5555555555555556,
              "#d8576b"
             ],
             [
              0.6666666666666666,
              "#ed7953"
             ],
             [
              0.7777777777777778,
              "#fb9f3a"
             ],
             [
              0.8888888888888888,
              "#fdca26"
             ],
             [
              1,
              "#f0f921"
             ]
            ],
            "type": "histogram2d"
           }
          ],
          "histogram2dcontour": [
           {
            "colorbar": {
             "outlinewidth": 0,
             "ticks": ""
            },
            "colorscale": [
             [
              0,
              "#0d0887"
             ],
             [
              0.1111111111111111,
              "#46039f"
             ],
             [
              0.2222222222222222,
              "#7201a8"
             ],
             [
              0.3333333333333333,
              "#9c179e"
             ],
             [
              0.4444444444444444,
              "#bd3786"
             ],
             [
              0.5555555555555556,
              "#d8576b"
             ],
             [
              0.6666666666666666,
              "#ed7953"
             ],
             [
              0.7777777777777778,
              "#fb9f3a"
             ],
             [
              0.8888888888888888,
              "#fdca26"
             ],
             [
              1,
              "#f0f921"
             ]
            ],
            "type": "histogram2dcontour"
           }
          ],
          "mesh3d": [
           {
            "colorbar": {
             "outlinewidth": 0,
             "ticks": ""
            },
            "type": "mesh3d"
           }
          ],
          "parcoords": [
           {
            "line": {
             "colorbar": {
              "outlinewidth": 0,
              "ticks": ""
             }
            },
            "type": "parcoords"
           }
          ],
          "pie": [
           {
            "automargin": true,
            "type": "pie"
           }
          ],
          "scatter": [
           {
            "fillpattern": {
             "fillmode": "overlay",
             "size": 10,
             "solidity": 0.2
            },
            "type": "scatter"
           }
          ],
          "scatter3d": [
           {
            "line": {
             "colorbar": {
              "outlinewidth": 0,
              "ticks": ""
             }
            },
            "marker": {
             "colorbar": {
              "outlinewidth": 0,
              "ticks": ""
             }
            },
            "type": "scatter3d"
           }
          ],
          "scattercarpet": [
           {
            "marker": {
             "colorbar": {
              "outlinewidth": 0,
              "ticks": ""
             }
            },
            "type": "scattercarpet"
           }
          ],
          "scattergeo": [
           {
            "marker": {
             "colorbar": {
              "outlinewidth": 0,
              "ticks": ""
             }
            },
            "type": "scattergeo"
           }
          ],
          "scattergl": [
           {
            "marker": {
             "colorbar": {
              "outlinewidth": 0,
              "ticks": ""
             }
            },
            "type": "scattergl"
           }
          ],
          "scattermapbox": [
           {
            "marker": {
             "colorbar": {
              "outlinewidth": 0,
              "ticks": ""
             }
            },
            "type": "scattermapbox"
           }
          ],
          "scatterpolar": [
           {
            "marker": {
             "colorbar": {
              "outlinewidth": 0,
              "ticks": ""
             }
            },
            "type": "scatterpolar"
           }
          ],
          "scatterpolargl": [
           {
            "marker": {
             "colorbar": {
              "outlinewidth": 0,
              "ticks": ""
             }
            },
            "type": "scatterpolargl"
           }
          ],
          "scatterternary": [
           {
            "marker": {
             "colorbar": {
              "outlinewidth": 0,
              "ticks": ""
             }
            },
            "type": "scatterternary"
           }
          ],
          "surface": [
           {
            "colorbar": {
             "outlinewidth": 0,
             "ticks": ""
            },
            "colorscale": [
             [
              0,
              "#0d0887"
             ],
             [
              0.1111111111111111,
              "#46039f"
             ],
             [
              0.2222222222222222,
              "#7201a8"
             ],
             [
              0.3333333333333333,
              "#9c179e"
             ],
             [
              0.4444444444444444,
              "#bd3786"
             ],
             [
              0.5555555555555556,
              "#d8576b"
             ],
             [
              0.6666666666666666,
              "#ed7953"
             ],
             [
              0.7777777777777778,
              "#fb9f3a"
             ],
             [
              0.8888888888888888,
              "#fdca26"
             ],
             [
              1,
              "#f0f921"
             ]
            ],
            "type": "surface"
           }
          ],
          "table": [
           {
            "cells": {
             "fill": {
              "color": "#EBF0F8"
             },
             "line": {
              "color": "white"
             }
            },
            "header": {
             "fill": {
              "color": "#C8D4E3"
             },
             "line": {
              "color": "white"
             }
            },
            "type": "table"
           }
          ]
         },
         "layout": {
          "annotationdefaults": {
           "arrowcolor": "#2a3f5f",
           "arrowhead": 0,
           "arrowwidth": 1
          },
          "autotypenumbers": "strict",
          "coloraxis": {
           "colorbar": {
            "outlinewidth": 0,
            "ticks": ""
           }
          },
          "colorscale": {
           "diverging": [
            [
             0,
             "#8e0152"
            ],
            [
             0.1,
             "#c51b7d"
            ],
            [
             0.2,
             "#de77ae"
            ],
            [
             0.3,
             "#f1b6da"
            ],
            [
             0.4,
             "#fde0ef"
            ],
            [
             0.5,
             "#f7f7f7"
            ],
            [
             0.6,
             "#e6f5d0"
            ],
            [
             0.7,
             "#b8e186"
            ],
            [
             0.8,
             "#7fbc41"
            ],
            [
             0.9,
             "#4d9221"
            ],
            [
             1,
             "#276419"
            ]
           ],
           "sequential": [
            [
             0,
             "#0d0887"
            ],
            [
             0.1111111111111111,
             "#46039f"
            ],
            [
             0.2222222222222222,
             "#7201a8"
            ],
            [
             0.3333333333333333,
             "#9c179e"
            ],
            [
             0.4444444444444444,
             "#bd3786"
            ],
            [
             0.5555555555555556,
             "#d8576b"
            ],
            [
             0.6666666666666666,
             "#ed7953"
            ],
            [
             0.7777777777777778,
             "#fb9f3a"
            ],
            [
             0.8888888888888888,
             "#fdca26"
            ],
            [
             1,
             "#f0f921"
            ]
           ],
           "sequentialminus": [
            [
             0,
             "#0d0887"
            ],
            [
             0.1111111111111111,
             "#46039f"
            ],
            [
             0.2222222222222222,
             "#7201a8"
            ],
            [
             0.3333333333333333,
             "#9c179e"
            ],
            [
             0.4444444444444444,
             "#bd3786"
            ],
            [
             0.5555555555555556,
             "#d8576b"
            ],
            [
             0.6666666666666666,
             "#ed7953"
            ],
            [
             0.7777777777777778,
             "#fb9f3a"
            ],
            [
             0.8888888888888888,
             "#fdca26"
            ],
            [
             1,
             "#f0f921"
            ]
           ]
          },
          "colorway": [
           "#636efa",
           "#EF553B",
           "#00cc96",
           "#ab63fa",
           "#FFA15A",
           "#19d3f3",
           "#FF6692",
           "#B6E880",
           "#FF97FF",
           "#FECB52"
          ],
          "font": {
           "color": "#2a3f5f"
          },
          "geo": {
           "bgcolor": "white",
           "lakecolor": "white",
           "landcolor": "#E5ECF6",
           "showlakes": true,
           "showland": true,
           "subunitcolor": "white"
          },
          "hoverlabel": {
           "align": "left"
          },
          "hovermode": "closest",
          "mapbox": {
           "style": "light"
          },
          "paper_bgcolor": "white",
          "plot_bgcolor": "#E5ECF6",
          "polar": {
           "angularaxis": {
            "gridcolor": "white",
            "linecolor": "white",
            "ticks": ""
           },
           "bgcolor": "#E5ECF6",
           "radialaxis": {
            "gridcolor": "white",
            "linecolor": "white",
            "ticks": ""
           }
          },
          "scene": {
           "xaxis": {
            "backgroundcolor": "#E5ECF6",
            "gridcolor": "white",
            "gridwidth": 2,
            "linecolor": "white",
            "showbackground": true,
            "ticks": "",
            "zerolinecolor": "white"
           },
           "yaxis": {
            "backgroundcolor": "#E5ECF6",
            "gridcolor": "white",
            "gridwidth": 2,
            "linecolor": "white",
            "showbackground": true,
            "ticks": "",
            "zerolinecolor": "white"
           },
           "zaxis": {
            "backgroundcolor": "#E5ECF6",
            "gridcolor": "white",
            "gridwidth": 2,
            "linecolor": "white",
            "showbackground": true,
            "ticks": "",
            "zerolinecolor": "white"
           }
          },
          "shapedefaults": {
           "line": {
            "color": "#2a3f5f"
           }
          },
          "ternary": {
           "aaxis": {
            "gridcolor": "white",
            "linecolor": "white",
            "ticks": ""
           },
           "baxis": {
            "gridcolor": "white",
            "linecolor": "white",
            "ticks": ""
           },
           "bgcolor": "#E5ECF6",
           "caxis": {
            "gridcolor": "white",
            "linecolor": "white",
            "ticks": ""
           }
          },
          "title": {
           "x": 0.05
          },
          "xaxis": {
           "automargin": true,
           "gridcolor": "white",
           "linecolor": "white",
           "ticks": "",
           "title": {
            "standoff": 15
           },
           "zerolinecolor": "white",
           "zerolinewidth": 2
          },
          "yaxis": {
           "automargin": true,
           "gridcolor": "white",
           "linecolor": "white",
           "ticks": "",
           "title": {
            "standoff": 15
           },
           "zerolinecolor": "white",
           "zerolinewidth": 2
          }
         }
        },
        "title": {
         "font": {
          "color": "#4D5663"
         }
        },
        "xaxis": {
         "gridcolor": "#E1E5ED",
         "showgrid": true,
         "tickfont": {
          "color": "#4D5663"
         },
         "title": {
          "font": {
           "color": "#4D5663"
          },
          "text": ""
         },
         "zerolinecolor": "#E1E5ED"
        },
        "xaxis2": {
         "anchor": "y2",
         "gridcolor": "#E1E5ED",
         "showgrid": true,
         "showticklabels": false,
         "tickfont": {
          "color": "#4D5663"
         },
         "title": {
          "font": {
           "color": "#4D5663"
          },
          "text": ""
         },
         "zerolinecolor": "#E1E5ED"
        },
        "yaxis": {
         "domain": [
          0.3,
          1
         ],
         "gridcolor": "#E1E5ED",
         "showgrid": true,
         "tickfont": {
          "color": "#4D5663"
         },
         "title": {
          "font": {
           "color": "#4D5663"
          },
          "text": ""
         },
         "zerolinecolor": "#E1E5ED"
        },
        "yaxis2": {
         "domain": [
          0,
          0.25
         ],
         "gridcolor": "#E1E5ED",
         "showgrid": true,
         "tickfont": {
          "color": "#4D5663"
         },
         "title": {
          "font": {
           "color": "#4D5663"
          },
          "text": "Spread"
         },
         "zerolinecolor": "#E1E5ED"
        }
       }
      },
      "text/html": [
       "<div>                            <div id=\"4f5d680f-4389-4ae4-a53b-a9331b1f74c9\" class=\"plotly-graph-div\" style=\"height:525px; width:100%;\"></div>            <script type=\"text/javascript\">                require([\"plotly\"], function(Plotly) {                    window.PLOTLYENV=window.PLOTLYENV || {};\n",
       "                    window.PLOTLYENV.BASE_URL='https://plot.ly';                                    if (document.getElementById(\"4f5d680f-4389-4ae4-a53b-a9331b1f74c9\")) {                    Plotly.newPlot(                        \"4f5d680f-4389-4ae4-a53b-a9331b1f74c9\",                        [{\"line\":{\"color\":\"rgba(255, 153, 51, 1.0)\",\"dash\":\"solid\",\"shape\":\"linear\",\"width\":1.3},\"mode\":\"lines\",\"name\":\"A\",\"text\":\"\",\"x\":[0,1,2,3,4,5,6,7,8,9,10,11,12,13,14,15,16,17,18,19,20,21,22,23,24,25,26,27,28,29,30,31,32,33,34,35,36,37,38,39,40,41,42,43,44,45,46,47,48,49,50,51,52,53,54,55,56,57,58,59,60,61,62,63,64,65,66,67,68,69,70,71,72,73,74,75,76,77,78,79,80,81,82,83,84,85,86,87,88,89,90,91,92,93,94,95,96,97,98,99],\"y\":[-0.08186168703008381,-1.4125134786406384,-2.0216316901586966,-1.1144061395664848,-0.732862192610121,-0.43646635545450774,-2.0968581642837814,0.5444228495639059,-0.5653026207892777,0.30717970372559855,-0.4198484557612456,0.7253217047833895,-0.7910646375013571,0.24584288534701426,0.3861808927955188,-1.1467665661219575,-0.41072488955529124,0.724907854212759,-0.39513396691114294,-0.29734831407239337,0.056560161710574756,-0.8472438703374219,-1.7198020608413256,0.26407469568663433,-0.5262701489609771,-0.500907294123469,-1.0930047549095676,-0.595849948515295,1.5334319219267074,-0.016326454774757585,-0.862655734758858,0.5684015061380762,-1.2161191764324901,-1.1753642330024214,-0.18901916241119732,-0.5549185302065942,0.309228505663993,-0.5931070174769876,-0.915428386728154,-0.5689122102202488,-0.16674407057733692,-2.236913162354572,-0.5827999024163568,0.6902558348780791,0.03187805913805461,-0.7413489938308117,0.366320205190309,0.7571681026049312,0.7180974557635268,1.7056945385414521,0.1381467651427019,0.9469749716086889,-0.021766609360936398,-1.7222130070414399,-0.11193913228109911,-1.253127684581892,0.5290917355245429,1.233008441143637,-0.01708591871870062,-0.022413499602245302,0.05198424376548483,-1.5730535785265773,0.13296023573262686,-0.22105137596848967,0.11956373474779762,-0.19460631714752108,-0.22403298097538893,0.5143412935583017,0.15714090442602846,0.28035904683880963,-0.2446823288892205,0.7607186297922643,-2.2143188702913483,1.4096188805712955,0.37248522681048263,-0.9490918085680567,0.17853358552885062,0.002679033371037447,0.17851692593807564,-0.7190872551009492,0.9512063312958212,1.144354380327551,-1.559442571286232,-0.9176446170081553,1.203944757019189,0.4336986432940904,1.2922199374622567,1.048558465289624,-0.24138585364897558,-0.674413221419938,-0.4372811997781751,0.02560771998751411,0.2842463005080672,-0.07999094631816925,-0.02914694933426302,0.15541678795851396,0.4912729071280546,-1.0776651864274596,-0.9522304568959343,1.6836961434138082],\"type\":\"scatter\"},{\"line\":{\"color\":\"rgba(55, 128, 191, 1.0)\",\"dash\":\"solid\",\"shape\":\"linear\",\"width\":1.3},\"mode\":\"lines\",\"name\":\"B\",\"text\":\"\",\"x\":[0,1,2,3,4,5,6,7,8,9,10,11,12,13,14,15,16,17,18,19,20,21,22,23,24,25,26,27,28,29,30,31,32,33,34,35,36,37,38,39,40,41,42,43,44,45,46,47,48,49,50,51,52,53,54,55,56,57,58,59,60,61,62,63,64,65,66,67,68,69,70,71,72,73,74,75,76,77,78,79,80,81,82,83,84,85,86,87,88,89,90,91,92,93,94,95,96,97,98,99],\"y\":[-0.29031153665030285,0.8673880001188526,0.5794175830953129,1.1236877494288822,0.14560706940464604,-0.49238381593607494,-1.3585655836642285,0.5263910174142803,1.0414187484205073,1.1126342780473124,-0.2710539337610146,0.9229317060885099,2.7717055625558005,-0.8678266089839779,-2.108848157089314,0.7370183808313264,2.6345495208902894,-0.2621273708172376,0.506481601483133,0.5246870982503338,-0.14935471488468668,0.780998061065657,-1.0377295136444016,0.07582264190298024,-0.01727724156390105,0.14967915982555374,0.4006884640886359,-0.30028281207502294,1.0524568382619184,0.22714302212822748,-2.817180366152146,1.1268043517108106,-0.9275839344799525,-0.04835623775384268,0.19305027546842896,0.6948160785103962,0.10411248394502415,0.9364271446793379,0.615398985584594,1.052408275766237,-0.1305383056255062,-0.49587893903374713,0.5682691161469392,0.10691159637422652,2.069540771302056,0.44753139296663086,-0.5452979108611006,-0.43451678872120086,-1.3331180531738722,-0.17055424849834025,1.8735530864012384,-1.113989898123316,0.718666767419772,0.5494073873928873,-0.38327337314058013,-0.7208312798888825,-1.1417601621614262,0.6441031369617723,-0.14138573019705505,-1.1630568098276415,-0.6735869103228915,2.5146014801982695,1.4879552657435673,2.165414249826483,-1.180246064142854,-0.21659994578619016,-0.09596937471604866,1.0926016449982687,-1.666241916907615,-0.8078351895602224,-0.8523387749589654,-0.8134655525065212,-0.07019443259751783,2.714118708753477,0.5503739058712013,1.0703343139772825,-0.21486650994147882,-0.9601203710375531,-0.23025194155418327,-0.9328113212548568,1.89540655559761,0.09732881700465994,-0.28483495768991385,1.6464136770714903,-1.9310211656064404,-2.6132141844277355,-0.25318296893388254,-0.5237449692281284,-1.4088071744847528,1.095281759059276,0.7413258265163059,0.391225376839355,0.6568604312150156,-0.7918186884461557,-0.623628752463788,0.5213011561323011,0.5701964420195289,-1.961135212024153,-0.13753065855645294,1.270813728730286],\"type\":\"scatter\"},{\"connectgaps\":false,\"fill\":\"tozeroy\",\"line\":{\"color\":\"green\",\"dash\":\"solid\",\"shape\":\"linear\",\"width\":0.5},\"mode\":\"lines\",\"name\":\"Spread\",\"showlegend\":false,\"x\":[0,1,2,3,4,5,6,7,8,9,10,11,12,13,14,15,16,17,18,19,20,21,22,23,24,25,26,27,28,29,30,31,32,33,34,35,36,37,38,39,40,41,42,43,44,45,46,47,48,49,50,51,52,53,54,55,56,57,58,59,60,61,62,63,64,65,66,67,68,69,70,71,72,73,74,75,76,77,78,79,80,81,82,83,84,85,86,87,88,89,90,91,92,93,94,95,96,97,98,99],\"xaxis\":\"x2\",\"y\":[0.20844984962021904,\"\",\"\",\"\",\"\",0.055917460481567205,\"\",0.01803183214962556,\"\",\"\",\"\",\"\",\"\",1.1136694943309922,2.495029049884833,\"\",\"\",0.9870352250299966,\"\",\"\",0.20591487659526145,\"\",\"\",0.1882520537836541,\"\",\"\",\"\",\"\",0.480975083664789,\"\",1.954524631393288,\"\",\"\",\"\",\"\",\"\",0.20511602171896887,\"\",\"\",\"\",\"\",\"\",\"\",0.5833442385038525,\"\",\"\",0.9116181160514096,1.191684891326132,2.051215508937399,1.8762487870397924,\"\",2.060964869732005,\"\",\"\",0.271334240859481,\"\",1.670851897685969,0.5889053041818647,0.12429981147835444,1.1406433102253961,0.7255711540883764,\"\",\"\",\"\",1.2998097988906516,0.021993628638669077,\"\",\"\",1.8233828213336434,1.088194236399032,0.6076564460697449,1.5741841822987857,\"\",\"\",\"\",\"\",0.39340009547032945,0.9627994044085906,0.40876886749225894,0.2137240661539076,\"\",1.047025563322891,\"\",\"\",3.1349659226256295,3.046912827721826,1.5454029063961392,1.5723034345177525,1.167421320835777,\"\",\"\",\"\",\"\",0.7118277421279864,0.594481803129525,\"\",\"\",0.8834700255966934,\"\",0.41288241468352216],\"yaxis\":\"y2\",\"type\":\"scatter\"},{\"connectgaps\":false,\"fill\":\"tozeroy\",\"line\":{\"color\":\"red\",\"dash\":\"solid\",\"shape\":\"linear\",\"width\":0.5},\"mode\":\"lines\",\"name\":\"Spread\",\"showlegend\":false,\"x\":[0,1,2,3,4,5,6,7,8,9,10,11,12,13,14,15,16,17,18,19,20,21,22,23,24,25,26,27,28,29,30,31,32,33,34,35,36,37,38,39,40,41,42,43,44,45,46,47,48,49,50,51,52,53,54,55,56,57,58,59,60,61,62,63,64,65,66,67,68,69,70,71,72,73,74,75,76,77,78,79,80,81,82,83,84,85,86,87,88,89,90,91,92,93,94,95,96,97,98,99],\"xaxis\":\"x2\",\"y\":[\"\",-2.279901478759491,-2.6010492732540094,-2.238093888995367,-0.878469262014767,\"\",-0.7382925806195528,\"\",-1.606721369209785,-0.8054545743217139,-0.14879452200023097,-0.1976100013051204,-3.5627702000571575,\"\",\"\",-1.883784946953284,-3.0452744104455807,\"\",-0.9016155683942759,-0.8220354123227271,\"\",-1.6282419314030787,-0.682072547196924,\"\",-0.508992907397076,-0.6505864539490227,-1.4936932189982035,-0.2955671364402721,\"\",-0.24346947690298507,\"\",-0.5584028455727345,-0.28853524195253766,-1.1270079952485788,-0.3820694378796263,-1.2497346087169903,\"\",-1.5295341621563254,-1.5308273723127481,-1.6213204859864858,-0.03620576495183073,-1.741034223320825,-1.151069018563296,\"\",-2.037662712164001,-1.1888803867974425,\"\",\"\",\"\",\"\",-1.7354063212585364,\"\",-0.7404333767807084,-2.2716203944343274,\"\",-0.5322964046930094,\"\",\"\",\"\",\"\",\"\",-4.087655058724847,-1.3549950300109403,-2.3864656257949726,\"\",\"\",-0.12806360625934027,-0.578260351439967,\"\",\"\",\"\",\"\",-2.1441244376938307,-1.3044998281821814,-0.17788867906071865,-2.0194261225453394,\"\",\"\",\"\",\"\",-0.9442002243017888,\"\",-1.2746076135963182,-2.5640582940796457,\"\",\"\",\"\",\"\",\"\",-1.7696949804792141,-1.178607026294481,-0.3656176568518409,-0.3726141307069484,\"\",\"\",-0.3658843681737871,-0.0789235348914743,\"\",-0.8146997983394814,\"\"],\"yaxis\":\"y2\",\"type\":\"scatter\"}],                        {\"hovermode\":\"x\",\"legend\":{\"bgcolor\":\"#F5F6F9\",\"font\":{\"color\":\"#4D5663\"}},\"paper_bgcolor\":\"#F5F6F9\",\"plot_bgcolor\":\"#F5F6F9\",\"template\":{\"data\":{\"barpolar\":[{\"marker\":{\"line\":{\"color\":\"#E5ECF6\",\"width\":0.5},\"pattern\":{\"fillmode\":\"overlay\",\"size\":10,\"solidity\":0.2}},\"type\":\"barpolar\"}],\"bar\":[{\"error_x\":{\"color\":\"#2a3f5f\"},\"error_y\":{\"color\":\"#2a3f5f\"},\"marker\":{\"line\":{\"color\":\"#E5ECF6\",\"width\":0.5},\"pattern\":{\"fillmode\":\"overlay\",\"size\":10,\"solidity\":0.2}},\"type\":\"bar\"}],\"carpet\":[{\"aaxis\":{\"endlinecolor\":\"#2a3f5f\",\"gridcolor\":\"white\",\"linecolor\":\"white\",\"minorgridcolor\":\"white\",\"startlinecolor\":\"#2a3f5f\"},\"baxis\":{\"endlinecolor\":\"#2a3f5f\",\"gridcolor\":\"white\",\"linecolor\":\"white\",\"minorgridcolor\":\"white\",\"startlinecolor\":\"#2a3f5f\"},\"type\":\"carpet\"}],\"choropleth\":[{\"colorbar\":{\"outlinewidth\":0,\"ticks\":\"\"},\"type\":\"choropleth\"}],\"contourcarpet\":[{\"colorbar\":{\"outlinewidth\":0,\"ticks\":\"\"},\"type\":\"contourcarpet\"}],\"contour\":[{\"colorbar\":{\"outlinewidth\":0,\"ticks\":\"\"},\"colorscale\":[[0.0,\"#0d0887\"],[0.1111111111111111,\"#46039f\"],[0.2222222222222222,\"#7201a8\"],[0.3333333333333333,\"#9c179e\"],[0.4444444444444444,\"#bd3786\"],[0.5555555555555556,\"#d8576b\"],[0.6666666666666666,\"#ed7953\"],[0.7777777777777778,\"#fb9f3a\"],[0.8888888888888888,\"#fdca26\"],[1.0,\"#f0f921\"]],\"type\":\"contour\"}],\"heatmapgl\":[{\"colorbar\":{\"outlinewidth\":0,\"ticks\":\"\"},\"colorscale\":[[0.0,\"#0d0887\"],[0.1111111111111111,\"#46039f\"],[0.2222222222222222,\"#7201a8\"],[0.3333333333333333,\"#9c179e\"],[0.4444444444444444,\"#bd3786\"],[0.5555555555555556,\"#d8576b\"],[0.6666666666666666,\"#ed7953\"],[0.7777777777777778,\"#fb9f3a\"],[0.8888888888888888,\"#fdca26\"],[1.0,\"#f0f921\"]],\"type\":\"heatmapgl\"}],\"heatmap\":[{\"colorbar\":{\"outlinewidth\":0,\"ticks\":\"\"},\"colorscale\":[[0.0,\"#0d0887\"],[0.1111111111111111,\"#46039f\"],[0.2222222222222222,\"#7201a8\"],[0.3333333333333333,\"#9c179e\"],[0.4444444444444444,\"#bd3786\"],[0.5555555555555556,\"#d8576b\"],[0.6666666666666666,\"#ed7953\"],[0.7777777777777778,\"#fb9f3a\"],[0.8888888888888888,\"#fdca26\"],[1.0,\"#f0f921\"]],\"type\":\"heatmap\"}],\"histogram2dcontour\":[{\"colorbar\":{\"outlinewidth\":0,\"ticks\":\"\"},\"colorscale\":[[0.0,\"#0d0887\"],[0.1111111111111111,\"#46039f\"],[0.2222222222222222,\"#7201a8\"],[0.3333333333333333,\"#9c179e\"],[0.4444444444444444,\"#bd3786\"],[0.5555555555555556,\"#d8576b\"],[0.6666666666666666,\"#ed7953\"],[0.7777777777777778,\"#fb9f3a\"],[0.8888888888888888,\"#fdca26\"],[1.0,\"#f0f921\"]],\"type\":\"histogram2dcontour\"}],\"histogram2d\":[{\"colorbar\":{\"outlinewidth\":0,\"ticks\":\"\"},\"colorscale\":[[0.0,\"#0d0887\"],[0.1111111111111111,\"#46039f\"],[0.2222222222222222,\"#7201a8\"],[0.3333333333333333,\"#9c179e\"],[0.4444444444444444,\"#bd3786\"],[0.5555555555555556,\"#d8576b\"],[0.6666666666666666,\"#ed7953\"],[0.7777777777777778,\"#fb9f3a\"],[0.8888888888888888,\"#fdca26\"],[1.0,\"#f0f921\"]],\"type\":\"histogram2d\"}],\"histogram\":[{\"marker\":{\"pattern\":{\"fillmode\":\"overlay\",\"size\":10,\"solidity\":0.2}},\"type\":\"histogram\"}],\"mesh3d\":[{\"colorbar\":{\"outlinewidth\":0,\"ticks\":\"\"},\"type\":\"mesh3d\"}],\"parcoords\":[{\"line\":{\"colorbar\":{\"outlinewidth\":0,\"ticks\":\"\"}},\"type\":\"parcoords\"}],\"pie\":[{\"automargin\":true,\"type\":\"pie\"}],\"scatter3d\":[{\"line\":{\"colorbar\":{\"outlinewidth\":0,\"ticks\":\"\"}},\"marker\":{\"colorbar\":{\"outlinewidth\":0,\"ticks\":\"\"}},\"type\":\"scatter3d\"}],\"scattercarpet\":[{\"marker\":{\"colorbar\":{\"outlinewidth\":0,\"ticks\":\"\"}},\"type\":\"scattercarpet\"}],\"scattergeo\":[{\"marker\":{\"colorbar\":{\"outlinewidth\":0,\"ticks\":\"\"}},\"type\":\"scattergeo\"}],\"scattergl\":[{\"marker\":{\"colorbar\":{\"outlinewidth\":0,\"ticks\":\"\"}},\"type\":\"scattergl\"}],\"scattermapbox\":[{\"marker\":{\"colorbar\":{\"outlinewidth\":0,\"ticks\":\"\"}},\"type\":\"scattermapbox\"}],\"scatterpolargl\":[{\"marker\":{\"colorbar\":{\"outlinewidth\":0,\"ticks\":\"\"}},\"type\":\"scatterpolargl\"}],\"scatterpolar\":[{\"marker\":{\"colorbar\":{\"outlinewidth\":0,\"ticks\":\"\"}},\"type\":\"scatterpolar\"}],\"scatter\":[{\"fillpattern\":{\"fillmode\":\"overlay\",\"size\":10,\"solidity\":0.2},\"type\":\"scatter\"}],\"scatterternary\":[{\"marker\":{\"colorbar\":{\"outlinewidth\":0,\"ticks\":\"\"}},\"type\":\"scatterternary\"}],\"surface\":[{\"colorbar\":{\"outlinewidth\":0,\"ticks\":\"\"},\"colorscale\":[[0.0,\"#0d0887\"],[0.1111111111111111,\"#46039f\"],[0.2222222222222222,\"#7201a8\"],[0.3333333333333333,\"#9c179e\"],[0.4444444444444444,\"#bd3786\"],[0.5555555555555556,\"#d8576b\"],[0.6666666666666666,\"#ed7953\"],[0.7777777777777778,\"#fb9f3a\"],[0.8888888888888888,\"#fdca26\"],[1.0,\"#f0f921\"]],\"type\":\"surface\"}],\"table\":[{\"cells\":{\"fill\":{\"color\":\"#EBF0F8\"},\"line\":{\"color\":\"white\"}},\"header\":{\"fill\":{\"color\":\"#C8D4E3\"},\"line\":{\"color\":\"white\"}},\"type\":\"table\"}]},\"layout\":{\"annotationdefaults\":{\"arrowcolor\":\"#2a3f5f\",\"arrowhead\":0,\"arrowwidth\":1},\"autotypenumbers\":\"strict\",\"coloraxis\":{\"colorbar\":{\"outlinewidth\":0,\"ticks\":\"\"}},\"colorscale\":{\"diverging\":[[0,\"#8e0152\"],[0.1,\"#c51b7d\"],[0.2,\"#de77ae\"],[0.3,\"#f1b6da\"],[0.4,\"#fde0ef\"],[0.5,\"#f7f7f7\"],[0.6,\"#e6f5d0\"],[0.7,\"#b8e186\"],[0.8,\"#7fbc41\"],[0.9,\"#4d9221\"],[1,\"#276419\"]],\"sequential\":[[0.0,\"#0d0887\"],[0.1111111111111111,\"#46039f\"],[0.2222222222222222,\"#7201a8\"],[0.3333333333333333,\"#9c179e\"],[0.4444444444444444,\"#bd3786\"],[0.5555555555555556,\"#d8576b\"],[0.6666666666666666,\"#ed7953\"],[0.7777777777777778,\"#fb9f3a\"],[0.8888888888888888,\"#fdca26\"],[1.0,\"#f0f921\"]],\"sequentialminus\":[[0.0,\"#0d0887\"],[0.1111111111111111,\"#46039f\"],[0.2222222222222222,\"#7201a8\"],[0.3333333333333333,\"#9c179e\"],[0.4444444444444444,\"#bd3786\"],[0.5555555555555556,\"#d8576b\"],[0.6666666666666666,\"#ed7953\"],[0.7777777777777778,\"#fb9f3a\"],[0.8888888888888888,\"#fdca26\"],[1.0,\"#f0f921\"]]},\"colorway\":[\"#636efa\",\"#EF553B\",\"#00cc96\",\"#ab63fa\",\"#FFA15A\",\"#19d3f3\",\"#FF6692\",\"#B6E880\",\"#FF97FF\",\"#FECB52\"],\"font\":{\"color\":\"#2a3f5f\"},\"geo\":{\"bgcolor\":\"white\",\"lakecolor\":\"white\",\"landcolor\":\"#E5ECF6\",\"showlakes\":true,\"showland\":true,\"subunitcolor\":\"white\"},\"hoverlabel\":{\"align\":\"left\"},\"hovermode\":\"closest\",\"mapbox\":{\"style\":\"light\"},\"paper_bgcolor\":\"white\",\"plot_bgcolor\":\"#E5ECF6\",\"polar\":{\"angularaxis\":{\"gridcolor\":\"white\",\"linecolor\":\"white\",\"ticks\":\"\"},\"bgcolor\":\"#E5ECF6\",\"radialaxis\":{\"gridcolor\":\"white\",\"linecolor\":\"white\",\"ticks\":\"\"}},\"scene\":{\"xaxis\":{\"backgroundcolor\":\"#E5ECF6\",\"gridcolor\":\"white\",\"gridwidth\":2,\"linecolor\":\"white\",\"showbackground\":true,\"ticks\":\"\",\"zerolinecolor\":\"white\"},\"yaxis\":{\"backgroundcolor\":\"#E5ECF6\",\"gridcolor\":\"white\",\"gridwidth\":2,\"linecolor\":\"white\",\"showbackground\":true,\"ticks\":\"\",\"zerolinecolor\":\"white\"},\"zaxis\":{\"backgroundcolor\":\"#E5ECF6\",\"gridcolor\":\"white\",\"gridwidth\":2,\"linecolor\":\"white\",\"showbackground\":true,\"ticks\":\"\",\"zerolinecolor\":\"white\"}},\"shapedefaults\":{\"line\":{\"color\":\"#2a3f5f\"}},\"ternary\":{\"aaxis\":{\"gridcolor\":\"white\",\"linecolor\":\"white\",\"ticks\":\"\"},\"baxis\":{\"gridcolor\":\"white\",\"linecolor\":\"white\",\"ticks\":\"\"},\"bgcolor\":\"#E5ECF6\",\"caxis\":{\"gridcolor\":\"white\",\"linecolor\":\"white\",\"ticks\":\"\"}},\"title\":{\"x\":0.05},\"xaxis\":{\"automargin\":true,\"gridcolor\":\"white\",\"linecolor\":\"white\",\"ticks\":\"\",\"title\":{\"standoff\":15},\"zerolinecolor\":\"white\",\"zerolinewidth\":2},\"yaxis\":{\"automargin\":true,\"gridcolor\":\"white\",\"linecolor\":\"white\",\"ticks\":\"\",\"title\":{\"standoff\":15},\"zerolinecolor\":\"white\",\"zerolinewidth\":2}}},\"title\":{\"font\":{\"color\":\"#4D5663\"}},\"xaxis\":{\"gridcolor\":\"#E1E5ED\",\"showgrid\":true,\"tickfont\":{\"color\":\"#4D5663\"},\"title\":{\"font\":{\"color\":\"#4D5663\"},\"text\":\"\"},\"zerolinecolor\":\"#E1E5ED\"},\"yaxis\":{\"domain\":[0.3,1],\"gridcolor\":\"#E1E5ED\",\"showgrid\":true,\"tickfont\":{\"color\":\"#4D5663\"},\"title\":{\"font\":{\"color\":\"#4D5663\"},\"text\":\"\"},\"zerolinecolor\":\"#E1E5ED\"},\"yaxis2\":{\"domain\":[0,0.25],\"gridcolor\":\"#E1E5ED\",\"showgrid\":true,\"tickfont\":{\"color\":\"#4D5663\"},\"title\":{\"font\":{\"color\":\"#4D5663\"},\"text\":\"Spread\"},\"zerolinecolor\":\"#E1E5ED\"},\"xaxis2\":{\"anchor\":\"y2\",\"gridcolor\":\"#E1E5ED\",\"showgrid\":true,\"showticklabels\":false,\"tickfont\":{\"color\":\"#4D5663\"},\"title\":{\"font\":{\"color\":\"#4D5663\"},\"text\":\"\"},\"zerolinecolor\":\"#E1E5ED\"}},                        {\"showLink\": true, \"linkText\": \"Export to plot.ly\", \"plotlyServerURL\": \"https://plot.ly\", \"responsive\": true}                    ).then(function(){\n",
       "                            \n",
       "var gd = document.getElementById('4f5d680f-4389-4ae4-a53b-a9331b1f74c9');\n",
       "var x = new MutationObserver(function (mutations, observer) {{\n",
       "        var display = window.getComputedStyle(gd).display;\n",
       "        if (!display || display === 'none') {{\n",
       "            console.log([gd, 'removed!']);\n",
       "            Plotly.purge(gd);\n",
       "            observer.disconnect();\n",
       "        }}\n",
       "}});\n",
       "\n",
       "// Listen for the removal of the full notebook cells\n",
       "var notebookContainer = gd.closest('#notebook-container');\n",
       "if (notebookContainer) {{\n",
       "    x.observe(notebookContainer, {childList: true});\n",
       "}}\n",
       "\n",
       "// Listen for the clearing of the current output cell\n",
       "var outputEl = gd.closest('.output');\n",
       "if (outputEl) {{\n",
       "    x.observe(outputEl, {childList: true});\n",
       "}}\n",
       "\n",
       "                        })                };                });            </script>        </div>"
      ]
     },
     "metadata": {},
     "output_type": "display_data"
    }
   ],
   "source": [
    "df[['A','B']].iplot(kind='spread')"
   ]
  },
  {
   "cell_type": "markdown",
   "metadata": {},
   "source": [
    "## Histogram"
   ]
  },
  {
   "cell_type": "code",
   "execution_count": 55,
   "metadata": {
    "collapsed": false
   },
   "outputs": [
    {
     "data": {
      "application/vnd.plotly.v1+json": {
       "config": {
        "linkText": "Export to plot.ly",
        "plotlyServerURL": "https://plot.ly",
        "showLink": true
       },
       "data": [
        {
         "histfunc": "count",
         "histnorm": "",
         "marker": {
          "color": "rgba(255, 153, 51, 1.0)",
          "line": {
           "color": "#4D5663",
           "width": 1.3
          }
         },
         "name": "A",
         "nbinsx": 25,
         "opacity": 0.8,
         "orientation": "v",
         "type": "histogram",
         "x": [
          -0.08186168703008381,
          -1.4125134786406384,
          -2.0216316901586966,
          -1.1144061395664848,
          -0.732862192610121,
          -0.43646635545450774,
          -2.0968581642837814,
          0.5444228495639059,
          -0.5653026207892777,
          0.30717970372559855,
          -0.4198484557612456,
          0.7253217047833895,
          -0.7910646375013571,
          0.24584288534701426,
          0.3861808927955188,
          -1.1467665661219575,
          -0.41072488955529124,
          0.724907854212759,
          -0.39513396691114294,
          -0.29734831407239337,
          0.056560161710574756,
          -0.8472438703374219,
          -1.7198020608413256,
          0.26407469568663433,
          -0.5262701489609771,
          -0.500907294123469,
          -1.0930047549095676,
          -0.595849948515295,
          1.5334319219267074,
          -0.016326454774757585,
          -0.862655734758858,
          0.5684015061380762,
          -1.2161191764324901,
          -1.1753642330024214,
          -0.18901916241119732,
          -0.5549185302065942,
          0.309228505663993,
          -0.5931070174769876,
          -0.915428386728154,
          -0.5689122102202488,
          -0.16674407057733692,
          -2.236913162354572,
          -0.5827999024163568,
          0.6902558348780791,
          0.03187805913805461,
          -0.7413489938308117,
          0.366320205190309,
          0.7571681026049312,
          0.7180974557635268,
          1.7056945385414521,
          0.1381467651427019,
          0.9469749716086889,
          -0.021766609360936398,
          -1.7222130070414399,
          -0.11193913228109911,
          -1.253127684581892,
          0.5290917355245429,
          1.233008441143637,
          -0.01708591871870062,
          -0.022413499602245302,
          0.05198424376548483,
          -1.5730535785265773,
          0.13296023573262686,
          -0.22105137596848967,
          0.11956373474779762,
          -0.19460631714752108,
          -0.22403298097538893,
          0.5143412935583017,
          0.15714090442602846,
          0.28035904683880963,
          -0.2446823288892205,
          0.7607186297922643,
          -2.2143188702913483,
          1.4096188805712955,
          0.37248522681048263,
          -0.9490918085680567,
          0.17853358552885062,
          0.002679033371037447,
          0.17851692593807564,
          -0.7190872551009492,
          0.9512063312958212,
          1.144354380327551,
          -1.559442571286232,
          -0.9176446170081553,
          1.203944757019189,
          0.4336986432940904,
          1.2922199374622567,
          1.048558465289624,
          -0.24138585364897558,
          -0.674413221419938,
          -0.4372811997781751,
          0.02560771998751411,
          0.2842463005080672,
          -0.07999094631816925,
          -0.02914694933426302,
          0.15541678795851396,
          0.4912729071280546,
          -1.0776651864274596,
          -0.9522304568959343,
          1.6836961434138082
         ]
        }
       ],
       "layout": {
        "barmode": "overlay",
        "legend": {
         "bgcolor": "#F5F6F9",
         "font": {
          "color": "#4D5663"
         }
        },
        "paper_bgcolor": "#F5F6F9",
        "plot_bgcolor": "#F5F6F9",
        "template": {
         "data": {
          "bar": [
           {
            "error_x": {
             "color": "#2a3f5f"
            },
            "error_y": {
             "color": "#2a3f5f"
            },
            "marker": {
             "line": {
              "color": "#E5ECF6",
              "width": 0.5
             },
             "pattern": {
              "fillmode": "overlay",
              "size": 10,
              "solidity": 0.2
             }
            },
            "type": "bar"
           }
          ],
          "barpolar": [
           {
            "marker": {
             "line": {
              "color": "#E5ECF6",
              "width": 0.5
             },
             "pattern": {
              "fillmode": "overlay",
              "size": 10,
              "solidity": 0.2
             }
            },
            "type": "barpolar"
           }
          ],
          "carpet": [
           {
            "aaxis": {
             "endlinecolor": "#2a3f5f",
             "gridcolor": "white",
             "linecolor": "white",
             "minorgridcolor": "white",
             "startlinecolor": "#2a3f5f"
            },
            "baxis": {
             "endlinecolor": "#2a3f5f",
             "gridcolor": "white",
             "linecolor": "white",
             "minorgridcolor": "white",
             "startlinecolor": "#2a3f5f"
            },
            "type": "carpet"
           }
          ],
          "choropleth": [
           {
            "colorbar": {
             "outlinewidth": 0,
             "ticks": ""
            },
            "type": "choropleth"
           }
          ],
          "contour": [
           {
            "colorbar": {
             "outlinewidth": 0,
             "ticks": ""
            },
            "colorscale": [
             [
              0,
              "#0d0887"
             ],
             [
              0.1111111111111111,
              "#46039f"
             ],
             [
              0.2222222222222222,
              "#7201a8"
             ],
             [
              0.3333333333333333,
              "#9c179e"
             ],
             [
              0.4444444444444444,
              "#bd3786"
             ],
             [
              0.5555555555555556,
              "#d8576b"
             ],
             [
              0.6666666666666666,
              "#ed7953"
             ],
             [
              0.7777777777777778,
              "#fb9f3a"
             ],
             [
              0.8888888888888888,
              "#fdca26"
             ],
             [
              1,
              "#f0f921"
             ]
            ],
            "type": "contour"
           }
          ],
          "contourcarpet": [
           {
            "colorbar": {
             "outlinewidth": 0,
             "ticks": ""
            },
            "type": "contourcarpet"
           }
          ],
          "heatmap": [
           {
            "colorbar": {
             "outlinewidth": 0,
             "ticks": ""
            },
            "colorscale": [
             [
              0,
              "#0d0887"
             ],
             [
              0.1111111111111111,
              "#46039f"
             ],
             [
              0.2222222222222222,
              "#7201a8"
             ],
             [
              0.3333333333333333,
              "#9c179e"
             ],
             [
              0.4444444444444444,
              "#bd3786"
             ],
             [
              0.5555555555555556,
              "#d8576b"
             ],
             [
              0.6666666666666666,
              "#ed7953"
             ],
             [
              0.7777777777777778,
              "#fb9f3a"
             ],
             [
              0.8888888888888888,
              "#fdca26"
             ],
             [
              1,
              "#f0f921"
             ]
            ],
            "type": "heatmap"
           }
          ],
          "heatmapgl": [
           {
            "colorbar": {
             "outlinewidth": 0,
             "ticks": ""
            },
            "colorscale": [
             [
              0,
              "#0d0887"
             ],
             [
              0.1111111111111111,
              "#46039f"
             ],
             [
              0.2222222222222222,
              "#7201a8"
             ],
             [
              0.3333333333333333,
              "#9c179e"
             ],
             [
              0.4444444444444444,
              "#bd3786"
             ],
             [
              0.5555555555555556,
              "#d8576b"
             ],
             [
              0.6666666666666666,
              "#ed7953"
             ],
             [
              0.7777777777777778,
              "#fb9f3a"
             ],
             [
              0.8888888888888888,
              "#fdca26"
             ],
             [
              1,
              "#f0f921"
             ]
            ],
            "type": "heatmapgl"
           }
          ],
          "histogram": [
           {
            "marker": {
             "pattern": {
              "fillmode": "overlay",
              "size": 10,
              "solidity": 0.2
             }
            },
            "type": "histogram"
           }
          ],
          "histogram2d": [
           {
            "colorbar": {
             "outlinewidth": 0,
             "ticks": ""
            },
            "colorscale": [
             [
              0,
              "#0d0887"
             ],
             [
              0.1111111111111111,
              "#46039f"
             ],
             [
              0.2222222222222222,
              "#7201a8"
             ],
             [
              0.3333333333333333,
              "#9c179e"
             ],
             [
              0.4444444444444444,
              "#bd3786"
             ],
             [
              0.5555555555555556,
              "#d8576b"
             ],
             [
              0.6666666666666666,
              "#ed7953"
             ],
             [
              0.7777777777777778,
              "#fb9f3a"
             ],
             [
              0.8888888888888888,
              "#fdca26"
             ],
             [
              1,
              "#f0f921"
             ]
            ],
            "type": "histogram2d"
           }
          ],
          "histogram2dcontour": [
           {
            "colorbar": {
             "outlinewidth": 0,
             "ticks": ""
            },
            "colorscale": [
             [
              0,
              "#0d0887"
             ],
             [
              0.1111111111111111,
              "#46039f"
             ],
             [
              0.2222222222222222,
              "#7201a8"
             ],
             [
              0.3333333333333333,
              "#9c179e"
             ],
             [
              0.4444444444444444,
              "#bd3786"
             ],
             [
              0.5555555555555556,
              "#d8576b"
             ],
             [
              0.6666666666666666,
              "#ed7953"
             ],
             [
              0.7777777777777778,
              "#fb9f3a"
             ],
             [
              0.8888888888888888,
              "#fdca26"
             ],
             [
              1,
              "#f0f921"
             ]
            ],
            "type": "histogram2dcontour"
           }
          ],
          "mesh3d": [
           {
            "colorbar": {
             "outlinewidth": 0,
             "ticks": ""
            },
            "type": "mesh3d"
           }
          ],
          "parcoords": [
           {
            "line": {
             "colorbar": {
              "outlinewidth": 0,
              "ticks": ""
             }
            },
            "type": "parcoords"
           }
          ],
          "pie": [
           {
            "automargin": true,
            "type": "pie"
           }
          ],
          "scatter": [
           {
            "fillpattern": {
             "fillmode": "overlay",
             "size": 10,
             "solidity": 0.2
            },
            "type": "scatter"
           }
          ],
          "scatter3d": [
           {
            "line": {
             "colorbar": {
              "outlinewidth": 0,
              "ticks": ""
             }
            },
            "marker": {
             "colorbar": {
              "outlinewidth": 0,
              "ticks": ""
             }
            },
            "type": "scatter3d"
           }
          ],
          "scattercarpet": [
           {
            "marker": {
             "colorbar": {
              "outlinewidth": 0,
              "ticks": ""
             }
            },
            "type": "scattercarpet"
           }
          ],
          "scattergeo": [
           {
            "marker": {
             "colorbar": {
              "outlinewidth": 0,
              "ticks": ""
             }
            },
            "type": "scattergeo"
           }
          ],
          "scattergl": [
           {
            "marker": {
             "colorbar": {
              "outlinewidth": 0,
              "ticks": ""
             }
            },
            "type": "scattergl"
           }
          ],
          "scattermapbox": [
           {
            "marker": {
             "colorbar": {
              "outlinewidth": 0,
              "ticks": ""
             }
            },
            "type": "scattermapbox"
           }
          ],
          "scatterpolar": [
           {
            "marker": {
             "colorbar": {
              "outlinewidth": 0,
              "ticks": ""
             }
            },
            "type": "scatterpolar"
           }
          ],
          "scatterpolargl": [
           {
            "marker": {
             "colorbar": {
              "outlinewidth": 0,
              "ticks": ""
             }
            },
            "type": "scatterpolargl"
           }
          ],
          "scatterternary": [
           {
            "marker": {
             "colorbar": {
              "outlinewidth": 0,
              "ticks": ""
             }
            },
            "type": "scatterternary"
           }
          ],
          "surface": [
           {
            "colorbar": {
             "outlinewidth": 0,
             "ticks": ""
            },
            "colorscale": [
             [
              0,
              "#0d0887"
             ],
             [
              0.1111111111111111,
              "#46039f"
             ],
             [
              0.2222222222222222,
              "#7201a8"
             ],
             [
              0.3333333333333333,
              "#9c179e"
             ],
             [
              0.4444444444444444,
              "#bd3786"
             ],
             [
              0.5555555555555556,
              "#d8576b"
             ],
             [
              0.6666666666666666,
              "#ed7953"
             ],
             [
              0.7777777777777778,
              "#fb9f3a"
             ],
             [
              0.8888888888888888,
              "#fdca26"
             ],
             [
              1,
              "#f0f921"
             ]
            ],
            "type": "surface"
           }
          ],
          "table": [
           {
            "cells": {
             "fill": {
              "color": "#EBF0F8"
             },
             "line": {
              "color": "white"
             }
            },
            "header": {
             "fill": {
              "color": "#C8D4E3"
             },
             "line": {
              "color": "white"
             }
            },
            "type": "table"
           }
          ]
         },
         "layout": {
          "annotationdefaults": {
           "arrowcolor": "#2a3f5f",
           "arrowhead": 0,
           "arrowwidth": 1
          },
          "autotypenumbers": "strict",
          "coloraxis": {
           "colorbar": {
            "outlinewidth": 0,
            "ticks": ""
           }
          },
          "colorscale": {
           "diverging": [
            [
             0,
             "#8e0152"
            ],
            [
             0.1,
             "#c51b7d"
            ],
            [
             0.2,
             "#de77ae"
            ],
            [
             0.3,
             "#f1b6da"
            ],
            [
             0.4,
             "#fde0ef"
            ],
            [
             0.5,
             "#f7f7f7"
            ],
            [
             0.6,
             "#e6f5d0"
            ],
            [
             0.7,
             "#b8e186"
            ],
            [
             0.8,
             "#7fbc41"
            ],
            [
             0.9,
             "#4d9221"
            ],
            [
             1,
             "#276419"
            ]
           ],
           "sequential": [
            [
             0,
             "#0d0887"
            ],
            [
             0.1111111111111111,
             "#46039f"
            ],
            [
             0.2222222222222222,
             "#7201a8"
            ],
            [
             0.3333333333333333,
             "#9c179e"
            ],
            [
             0.4444444444444444,
             "#bd3786"
            ],
            [
             0.5555555555555556,
             "#d8576b"
            ],
            [
             0.6666666666666666,
             "#ed7953"
            ],
            [
             0.7777777777777778,
             "#fb9f3a"
            ],
            [
             0.8888888888888888,
             "#fdca26"
            ],
            [
             1,
             "#f0f921"
            ]
           ],
           "sequentialminus": [
            [
             0,
             "#0d0887"
            ],
            [
             0.1111111111111111,
             "#46039f"
            ],
            [
             0.2222222222222222,
             "#7201a8"
            ],
            [
             0.3333333333333333,
             "#9c179e"
            ],
            [
             0.4444444444444444,
             "#bd3786"
            ],
            [
             0.5555555555555556,
             "#d8576b"
            ],
            [
             0.6666666666666666,
             "#ed7953"
            ],
            [
             0.7777777777777778,
             "#fb9f3a"
            ],
            [
             0.8888888888888888,
             "#fdca26"
            ],
            [
             1,
             "#f0f921"
            ]
           ]
          },
          "colorway": [
           "#636efa",
           "#EF553B",
           "#00cc96",
           "#ab63fa",
           "#FFA15A",
           "#19d3f3",
           "#FF6692",
           "#B6E880",
           "#FF97FF",
           "#FECB52"
          ],
          "font": {
           "color": "#2a3f5f"
          },
          "geo": {
           "bgcolor": "white",
           "lakecolor": "white",
           "landcolor": "#E5ECF6",
           "showlakes": true,
           "showland": true,
           "subunitcolor": "white"
          },
          "hoverlabel": {
           "align": "left"
          },
          "hovermode": "closest",
          "mapbox": {
           "style": "light"
          },
          "paper_bgcolor": "white",
          "plot_bgcolor": "#E5ECF6",
          "polar": {
           "angularaxis": {
            "gridcolor": "white",
            "linecolor": "white",
            "ticks": ""
           },
           "bgcolor": "#E5ECF6",
           "radialaxis": {
            "gridcolor": "white",
            "linecolor": "white",
            "ticks": ""
           }
          },
          "scene": {
           "xaxis": {
            "backgroundcolor": "#E5ECF6",
            "gridcolor": "white",
            "gridwidth": 2,
            "linecolor": "white",
            "showbackground": true,
            "ticks": "",
            "zerolinecolor": "white"
           },
           "yaxis": {
            "backgroundcolor": "#E5ECF6",
            "gridcolor": "white",
            "gridwidth": 2,
            "linecolor": "white",
            "showbackground": true,
            "ticks": "",
            "zerolinecolor": "white"
           },
           "zaxis": {
            "backgroundcolor": "#E5ECF6",
            "gridcolor": "white",
            "gridwidth": 2,
            "linecolor": "white",
            "showbackground": true,
            "ticks": "",
            "zerolinecolor": "white"
           }
          },
          "shapedefaults": {
           "line": {
            "color": "#2a3f5f"
           }
          },
          "ternary": {
           "aaxis": {
            "gridcolor": "white",
            "linecolor": "white",
            "ticks": ""
           },
           "baxis": {
            "gridcolor": "white",
            "linecolor": "white",
            "ticks": ""
           },
           "bgcolor": "#E5ECF6",
           "caxis": {
            "gridcolor": "white",
            "linecolor": "white",
            "ticks": ""
           }
          },
          "title": {
           "x": 0.05
          },
          "xaxis": {
           "automargin": true,
           "gridcolor": "white",
           "linecolor": "white",
           "ticks": "",
           "title": {
            "standoff": 15
           },
           "zerolinecolor": "white",
           "zerolinewidth": 2
          },
          "yaxis": {
           "automargin": true,
           "gridcolor": "white",
           "linecolor": "white",
           "ticks": "",
           "title": {
            "standoff": 15
           },
           "zerolinecolor": "white",
           "zerolinewidth": 2
          }
         }
        },
        "title": {
         "font": {
          "color": "#4D5663"
         }
        },
        "xaxis": {
         "gridcolor": "#E1E5ED",
         "showgrid": true,
         "tickfont": {
          "color": "#4D5663"
         },
         "title": {
          "font": {
           "color": "#4D5663"
          },
          "text": ""
         },
         "zerolinecolor": "#E1E5ED"
        },
        "yaxis": {
         "gridcolor": "#E1E5ED",
         "showgrid": true,
         "tickfont": {
          "color": "#4D5663"
         },
         "title": {
          "font": {
           "color": "#4D5663"
          },
          "text": ""
         },
         "zerolinecolor": "#E1E5ED"
        }
       }
      },
      "text/html": [
       "<div>                            <div id=\"efb8465f-a377-4041-8583-6ffbcd54e844\" class=\"plotly-graph-div\" style=\"height:525px; width:100%;\"></div>            <script type=\"text/javascript\">                require([\"plotly\"], function(Plotly) {                    window.PLOTLYENV=window.PLOTLYENV || {};\n",
       "                    window.PLOTLYENV.BASE_URL='https://plot.ly';                                    if (document.getElementById(\"efb8465f-a377-4041-8583-6ffbcd54e844\")) {                    Plotly.newPlot(                        \"efb8465f-a377-4041-8583-6ffbcd54e844\",                        [{\"histfunc\":\"count\",\"histnorm\":\"\",\"marker\":{\"color\":\"rgba(255, 153, 51, 1.0)\",\"line\":{\"color\":\"#4D5663\",\"width\":1.3}},\"name\":\"A\",\"nbinsx\":25,\"opacity\":0.8,\"orientation\":\"v\",\"x\":[-0.08186168703008381,-1.4125134786406384,-2.0216316901586966,-1.1144061395664848,-0.732862192610121,-0.43646635545450774,-2.0968581642837814,0.5444228495639059,-0.5653026207892777,0.30717970372559855,-0.4198484557612456,0.7253217047833895,-0.7910646375013571,0.24584288534701426,0.3861808927955188,-1.1467665661219575,-0.41072488955529124,0.724907854212759,-0.39513396691114294,-0.29734831407239337,0.056560161710574756,-0.8472438703374219,-1.7198020608413256,0.26407469568663433,-0.5262701489609771,-0.500907294123469,-1.0930047549095676,-0.595849948515295,1.5334319219267074,-0.016326454774757585,-0.862655734758858,0.5684015061380762,-1.2161191764324901,-1.1753642330024214,-0.18901916241119732,-0.5549185302065942,0.309228505663993,-0.5931070174769876,-0.915428386728154,-0.5689122102202488,-0.16674407057733692,-2.236913162354572,-0.5827999024163568,0.6902558348780791,0.03187805913805461,-0.7413489938308117,0.366320205190309,0.7571681026049312,0.7180974557635268,1.7056945385414521,0.1381467651427019,0.9469749716086889,-0.021766609360936398,-1.7222130070414399,-0.11193913228109911,-1.253127684581892,0.5290917355245429,1.233008441143637,-0.01708591871870062,-0.022413499602245302,0.05198424376548483,-1.5730535785265773,0.13296023573262686,-0.22105137596848967,0.11956373474779762,-0.19460631714752108,-0.22403298097538893,0.5143412935583017,0.15714090442602846,0.28035904683880963,-0.2446823288892205,0.7607186297922643,-2.2143188702913483,1.4096188805712955,0.37248522681048263,-0.9490918085680567,0.17853358552885062,0.002679033371037447,0.17851692593807564,-0.7190872551009492,0.9512063312958212,1.144354380327551,-1.559442571286232,-0.9176446170081553,1.203944757019189,0.4336986432940904,1.2922199374622567,1.048558465289624,-0.24138585364897558,-0.674413221419938,-0.4372811997781751,0.02560771998751411,0.2842463005080672,-0.07999094631816925,-0.02914694933426302,0.15541678795851396,0.4912729071280546,-1.0776651864274596,-0.9522304568959343,1.6836961434138082],\"type\":\"histogram\"}],                        {\"barmode\":\"overlay\",\"legend\":{\"bgcolor\":\"#F5F6F9\",\"font\":{\"color\":\"#4D5663\"}},\"paper_bgcolor\":\"#F5F6F9\",\"plot_bgcolor\":\"#F5F6F9\",\"template\":{\"data\":{\"barpolar\":[{\"marker\":{\"line\":{\"color\":\"#E5ECF6\",\"width\":0.5},\"pattern\":{\"fillmode\":\"overlay\",\"size\":10,\"solidity\":0.2}},\"type\":\"barpolar\"}],\"bar\":[{\"error_x\":{\"color\":\"#2a3f5f\"},\"error_y\":{\"color\":\"#2a3f5f\"},\"marker\":{\"line\":{\"color\":\"#E5ECF6\",\"width\":0.5},\"pattern\":{\"fillmode\":\"overlay\",\"size\":10,\"solidity\":0.2}},\"type\":\"bar\"}],\"carpet\":[{\"aaxis\":{\"endlinecolor\":\"#2a3f5f\",\"gridcolor\":\"white\",\"linecolor\":\"white\",\"minorgridcolor\":\"white\",\"startlinecolor\":\"#2a3f5f\"},\"baxis\":{\"endlinecolor\":\"#2a3f5f\",\"gridcolor\":\"white\",\"linecolor\":\"white\",\"minorgridcolor\":\"white\",\"startlinecolor\":\"#2a3f5f\"},\"type\":\"carpet\"}],\"choropleth\":[{\"colorbar\":{\"outlinewidth\":0,\"ticks\":\"\"},\"type\":\"choropleth\"}],\"contourcarpet\":[{\"colorbar\":{\"outlinewidth\":0,\"ticks\":\"\"},\"type\":\"contourcarpet\"}],\"contour\":[{\"colorbar\":{\"outlinewidth\":0,\"ticks\":\"\"},\"colorscale\":[[0.0,\"#0d0887\"],[0.1111111111111111,\"#46039f\"],[0.2222222222222222,\"#7201a8\"],[0.3333333333333333,\"#9c179e\"],[0.4444444444444444,\"#bd3786\"],[0.5555555555555556,\"#d8576b\"],[0.6666666666666666,\"#ed7953\"],[0.7777777777777778,\"#fb9f3a\"],[0.8888888888888888,\"#fdca26\"],[1.0,\"#f0f921\"]],\"type\":\"contour\"}],\"heatmapgl\":[{\"colorbar\":{\"outlinewidth\":0,\"ticks\":\"\"},\"colorscale\":[[0.0,\"#0d0887\"],[0.1111111111111111,\"#46039f\"],[0.2222222222222222,\"#7201a8\"],[0.3333333333333333,\"#9c179e\"],[0.4444444444444444,\"#bd3786\"],[0.5555555555555556,\"#d8576b\"],[0.6666666666666666,\"#ed7953\"],[0.7777777777777778,\"#fb9f3a\"],[0.8888888888888888,\"#fdca26\"],[1.0,\"#f0f921\"]],\"type\":\"heatmapgl\"}],\"heatmap\":[{\"colorbar\":{\"outlinewidth\":0,\"ticks\":\"\"},\"colorscale\":[[0.0,\"#0d0887\"],[0.1111111111111111,\"#46039f\"],[0.2222222222222222,\"#7201a8\"],[0.3333333333333333,\"#9c179e\"],[0.4444444444444444,\"#bd3786\"],[0.5555555555555556,\"#d8576b\"],[0.6666666666666666,\"#ed7953\"],[0.7777777777777778,\"#fb9f3a\"],[0.8888888888888888,\"#fdca26\"],[1.0,\"#f0f921\"]],\"type\":\"heatmap\"}],\"histogram2dcontour\":[{\"colorbar\":{\"outlinewidth\":0,\"ticks\":\"\"},\"colorscale\":[[0.0,\"#0d0887\"],[0.1111111111111111,\"#46039f\"],[0.2222222222222222,\"#7201a8\"],[0.3333333333333333,\"#9c179e\"],[0.4444444444444444,\"#bd3786\"],[0.5555555555555556,\"#d8576b\"],[0.6666666666666666,\"#ed7953\"],[0.7777777777777778,\"#fb9f3a\"],[0.8888888888888888,\"#fdca26\"],[1.0,\"#f0f921\"]],\"type\":\"histogram2dcontour\"}],\"histogram2d\":[{\"colorbar\":{\"outlinewidth\":0,\"ticks\":\"\"},\"colorscale\":[[0.0,\"#0d0887\"],[0.1111111111111111,\"#46039f\"],[0.2222222222222222,\"#7201a8\"],[0.3333333333333333,\"#9c179e\"],[0.4444444444444444,\"#bd3786\"],[0.5555555555555556,\"#d8576b\"],[0.6666666666666666,\"#ed7953\"],[0.7777777777777778,\"#fb9f3a\"],[0.8888888888888888,\"#fdca26\"],[1.0,\"#f0f921\"]],\"type\":\"histogram2d\"}],\"histogram\":[{\"marker\":{\"pattern\":{\"fillmode\":\"overlay\",\"size\":10,\"solidity\":0.2}},\"type\":\"histogram\"}],\"mesh3d\":[{\"colorbar\":{\"outlinewidth\":0,\"ticks\":\"\"},\"type\":\"mesh3d\"}],\"parcoords\":[{\"line\":{\"colorbar\":{\"outlinewidth\":0,\"ticks\":\"\"}},\"type\":\"parcoords\"}],\"pie\":[{\"automargin\":true,\"type\":\"pie\"}],\"scatter3d\":[{\"line\":{\"colorbar\":{\"outlinewidth\":0,\"ticks\":\"\"}},\"marker\":{\"colorbar\":{\"outlinewidth\":0,\"ticks\":\"\"}},\"type\":\"scatter3d\"}],\"scattercarpet\":[{\"marker\":{\"colorbar\":{\"outlinewidth\":0,\"ticks\":\"\"}},\"type\":\"scattercarpet\"}],\"scattergeo\":[{\"marker\":{\"colorbar\":{\"outlinewidth\":0,\"ticks\":\"\"}},\"type\":\"scattergeo\"}],\"scattergl\":[{\"marker\":{\"colorbar\":{\"outlinewidth\":0,\"ticks\":\"\"}},\"type\":\"scattergl\"}],\"scattermapbox\":[{\"marker\":{\"colorbar\":{\"outlinewidth\":0,\"ticks\":\"\"}},\"type\":\"scattermapbox\"}],\"scatterpolargl\":[{\"marker\":{\"colorbar\":{\"outlinewidth\":0,\"ticks\":\"\"}},\"type\":\"scatterpolargl\"}],\"scatterpolar\":[{\"marker\":{\"colorbar\":{\"outlinewidth\":0,\"ticks\":\"\"}},\"type\":\"scatterpolar\"}],\"scatter\":[{\"fillpattern\":{\"fillmode\":\"overlay\",\"size\":10,\"solidity\":0.2},\"type\":\"scatter\"}],\"scatterternary\":[{\"marker\":{\"colorbar\":{\"outlinewidth\":0,\"ticks\":\"\"}},\"type\":\"scatterternary\"}],\"surface\":[{\"colorbar\":{\"outlinewidth\":0,\"ticks\":\"\"},\"colorscale\":[[0.0,\"#0d0887\"],[0.1111111111111111,\"#46039f\"],[0.2222222222222222,\"#7201a8\"],[0.3333333333333333,\"#9c179e\"],[0.4444444444444444,\"#bd3786\"],[0.5555555555555556,\"#d8576b\"],[0.6666666666666666,\"#ed7953\"],[0.7777777777777778,\"#fb9f3a\"],[0.8888888888888888,\"#fdca26\"],[1.0,\"#f0f921\"]],\"type\":\"surface\"}],\"table\":[{\"cells\":{\"fill\":{\"color\":\"#EBF0F8\"},\"line\":{\"color\":\"white\"}},\"header\":{\"fill\":{\"color\":\"#C8D4E3\"},\"line\":{\"color\":\"white\"}},\"type\":\"table\"}]},\"layout\":{\"annotationdefaults\":{\"arrowcolor\":\"#2a3f5f\",\"arrowhead\":0,\"arrowwidth\":1},\"autotypenumbers\":\"strict\",\"coloraxis\":{\"colorbar\":{\"outlinewidth\":0,\"ticks\":\"\"}},\"colorscale\":{\"diverging\":[[0,\"#8e0152\"],[0.1,\"#c51b7d\"],[0.2,\"#de77ae\"],[0.3,\"#f1b6da\"],[0.4,\"#fde0ef\"],[0.5,\"#f7f7f7\"],[0.6,\"#e6f5d0\"],[0.7,\"#b8e186\"],[0.8,\"#7fbc41\"],[0.9,\"#4d9221\"],[1,\"#276419\"]],\"sequential\":[[0.0,\"#0d0887\"],[0.1111111111111111,\"#46039f\"],[0.2222222222222222,\"#7201a8\"],[0.3333333333333333,\"#9c179e\"],[0.4444444444444444,\"#bd3786\"],[0.5555555555555556,\"#d8576b\"],[0.6666666666666666,\"#ed7953\"],[0.7777777777777778,\"#fb9f3a\"],[0.8888888888888888,\"#fdca26\"],[1.0,\"#f0f921\"]],\"sequentialminus\":[[0.0,\"#0d0887\"],[0.1111111111111111,\"#46039f\"],[0.2222222222222222,\"#7201a8\"],[0.3333333333333333,\"#9c179e\"],[0.4444444444444444,\"#bd3786\"],[0.5555555555555556,\"#d8576b\"],[0.6666666666666666,\"#ed7953\"],[0.7777777777777778,\"#fb9f3a\"],[0.8888888888888888,\"#fdca26\"],[1.0,\"#f0f921\"]]},\"colorway\":[\"#636efa\",\"#EF553B\",\"#00cc96\",\"#ab63fa\",\"#FFA15A\",\"#19d3f3\",\"#FF6692\",\"#B6E880\",\"#FF97FF\",\"#FECB52\"],\"font\":{\"color\":\"#2a3f5f\"},\"geo\":{\"bgcolor\":\"white\",\"lakecolor\":\"white\",\"landcolor\":\"#E5ECF6\",\"showlakes\":true,\"showland\":true,\"subunitcolor\":\"white\"},\"hoverlabel\":{\"align\":\"left\"},\"hovermode\":\"closest\",\"mapbox\":{\"style\":\"light\"},\"paper_bgcolor\":\"white\",\"plot_bgcolor\":\"#E5ECF6\",\"polar\":{\"angularaxis\":{\"gridcolor\":\"white\",\"linecolor\":\"white\",\"ticks\":\"\"},\"bgcolor\":\"#E5ECF6\",\"radialaxis\":{\"gridcolor\":\"white\",\"linecolor\":\"white\",\"ticks\":\"\"}},\"scene\":{\"xaxis\":{\"backgroundcolor\":\"#E5ECF6\",\"gridcolor\":\"white\",\"gridwidth\":2,\"linecolor\":\"white\",\"showbackground\":true,\"ticks\":\"\",\"zerolinecolor\":\"white\"},\"yaxis\":{\"backgroundcolor\":\"#E5ECF6\",\"gridcolor\":\"white\",\"gridwidth\":2,\"linecolor\":\"white\",\"showbackground\":true,\"ticks\":\"\",\"zerolinecolor\":\"white\"},\"zaxis\":{\"backgroundcolor\":\"#E5ECF6\",\"gridcolor\":\"white\",\"gridwidth\":2,\"linecolor\":\"white\",\"showbackground\":true,\"ticks\":\"\",\"zerolinecolor\":\"white\"}},\"shapedefaults\":{\"line\":{\"color\":\"#2a3f5f\"}},\"ternary\":{\"aaxis\":{\"gridcolor\":\"white\",\"linecolor\":\"white\",\"ticks\":\"\"},\"baxis\":{\"gridcolor\":\"white\",\"linecolor\":\"white\",\"ticks\":\"\"},\"bgcolor\":\"#E5ECF6\",\"caxis\":{\"gridcolor\":\"white\",\"linecolor\":\"white\",\"ticks\":\"\"}},\"title\":{\"x\":0.05},\"xaxis\":{\"automargin\":true,\"gridcolor\":\"white\",\"linecolor\":\"white\",\"ticks\":\"\",\"title\":{\"standoff\":15},\"zerolinecolor\":\"white\",\"zerolinewidth\":2},\"yaxis\":{\"automargin\":true,\"gridcolor\":\"white\",\"linecolor\":\"white\",\"ticks\":\"\",\"title\":{\"standoff\":15},\"zerolinecolor\":\"white\",\"zerolinewidth\":2}}},\"title\":{\"font\":{\"color\":\"#4D5663\"}},\"xaxis\":{\"gridcolor\":\"#E1E5ED\",\"showgrid\":true,\"tickfont\":{\"color\":\"#4D5663\"},\"title\":{\"font\":{\"color\":\"#4D5663\"},\"text\":\"\"},\"zerolinecolor\":\"#E1E5ED\"},\"yaxis\":{\"gridcolor\":\"#E1E5ED\",\"showgrid\":true,\"tickfont\":{\"color\":\"#4D5663\"},\"title\":{\"font\":{\"color\":\"#4D5663\"},\"text\":\"\"},\"zerolinecolor\":\"#E1E5ED\"}},                        {\"showLink\": true, \"linkText\": \"Export to plot.ly\", \"plotlyServerURL\": \"https://plot.ly\", \"responsive\": true}                    ).then(function(){\n",
       "                            \n",
       "var gd = document.getElementById('efb8465f-a377-4041-8583-6ffbcd54e844');\n",
       "var x = new MutationObserver(function (mutations, observer) {{\n",
       "        var display = window.getComputedStyle(gd).display;\n",
       "        if (!display || display === 'none') {{\n",
       "            console.log([gd, 'removed!']);\n",
       "            Plotly.purge(gd);\n",
       "            observer.disconnect();\n",
       "        }}\n",
       "}});\n",
       "\n",
       "// Listen for the removal of the full notebook cells\n",
       "var notebookContainer = gd.closest('#notebook-container');\n",
       "if (notebookContainer) {{\n",
       "    x.observe(notebookContainer, {childList: true});\n",
       "}}\n",
       "\n",
       "// Listen for the clearing of the current output cell\n",
       "var outputEl = gd.closest('.output');\n",
       "if (outputEl) {{\n",
       "    x.observe(outputEl, {childList: true});\n",
       "}}\n",
       "\n",
       "                        })                };                });            </script>        </div>"
      ]
     },
     "metadata": {},
     "output_type": "display_data"
    }
   ],
   "source": [
    "df['A'].iplot(kind='hist',bins=25)"
   ]
  },
  {
   "cell_type": "code",
   "execution_count": 56,
   "metadata": {
    "collapsed": false
   },
   "outputs": [
    {
     "data": {
      "application/vnd.plotly.v1+json": {
       "config": {
        "linkText": "Export to plot.ly",
        "plotlyServerURL": "https://plot.ly",
        "showLink": true
       },
       "data": [
        {
         "marker": {
          "color": [
           "rgb(255, 153, 51)",
           "rgb(55, 128, 191)",
           "rgb(50, 171, 96)",
           "rgb(128, 0, 128)",
           "rgb(219, 64, 82)",
           "rgb(0, 128, 128)",
           "rgb(255, 255, 51)",
           "rgb(128, 128, 0)",
           "rgb(251, 128, 114)",
           "rgb(128, 177, 211)"
          ],
          "line": {
           "width": 1.3
          },
          "size": [
           65,
           50,
           75,
           58,
           79,
           83,
           93,
           94,
           52,
           84,
           63,
           73,
           45,
           44,
           12,
           98,
           54,
           46,
           54,
           82,
           67,
           57,
           60,
           91,
           55,
           89,
           27,
           86,
           80,
           85,
           62,
           43,
           111,
           44,
           65,
           75,
           36,
           37,
           49,
           81,
           66,
           52,
           54,
           49,
           68,
           98,
           77,
           50,
           64,
           93,
           67,
           49,
           76,
           72,
           72,
           94,
           51,
           63,
           51,
           78,
           50,
           71,
           51,
           60,
           64,
           82,
           92,
           58,
           51,
           76,
           52,
           93,
           70,
           67,
           36,
           58,
           79,
           49,
           85,
           70,
           64,
           55,
           58,
           86,
           71,
           60,
           59,
           63,
           95,
           69,
           39,
           67,
           44,
           67,
           74,
           61,
           60,
           87,
           75,
           72
          ],
          "symbol": "circle"
         },
         "mode": "markers",
         "text": "",
         "type": "scatter",
         "x": [
          -0.08186168703008381,
          -1.4125134786406384,
          -2.0216316901586966,
          -1.1144061395664848,
          -0.732862192610121,
          -0.43646635545450774,
          -2.0968581642837814,
          0.5444228495639059,
          -0.5653026207892777,
          0.30717970372559855,
          -0.4198484557612456,
          0.7253217047833895,
          -0.7910646375013571,
          0.24584288534701426,
          0.3861808927955188,
          -1.1467665661219575,
          -0.41072488955529124,
          0.724907854212759,
          -0.39513396691114294,
          -0.29734831407239337,
          0.056560161710574756,
          -0.8472438703374219,
          -1.7198020608413256,
          0.26407469568663433,
          -0.5262701489609771,
          -0.500907294123469,
          -1.0930047549095676,
          -0.595849948515295,
          1.5334319219267074,
          -0.016326454774757585,
          -0.862655734758858,
          0.5684015061380762,
          -1.2161191764324901,
          -1.1753642330024214,
          -0.18901916241119732,
          -0.5549185302065942,
          0.309228505663993,
          -0.5931070174769876,
          -0.915428386728154,
          -0.5689122102202488,
          -0.16674407057733692,
          -2.236913162354572,
          -0.5827999024163568,
          0.6902558348780791,
          0.03187805913805461,
          -0.7413489938308117,
          0.366320205190309,
          0.7571681026049312,
          0.7180974557635268,
          1.7056945385414521,
          0.1381467651427019,
          0.9469749716086889,
          -0.021766609360936398,
          -1.7222130070414399,
          -0.11193913228109911,
          -1.253127684581892,
          0.5290917355245429,
          1.233008441143637,
          -0.01708591871870062,
          -0.022413499602245302,
          0.05198424376548483,
          -1.5730535785265773,
          0.13296023573262686,
          -0.22105137596848967,
          0.11956373474779762,
          -0.19460631714752108,
          -0.22403298097538893,
          0.5143412935583017,
          0.15714090442602846,
          0.28035904683880963,
          -0.2446823288892205,
          0.7607186297922643,
          -2.2143188702913483,
          1.4096188805712955,
          0.37248522681048263,
          -0.9490918085680567,
          0.17853358552885062,
          0.002679033371037447,
          0.17851692593807564,
          -0.7190872551009492,
          0.9512063312958212,
          1.144354380327551,
          -1.559442571286232,
          -0.9176446170081553,
          1.203944757019189,
          0.4336986432940904,
          1.2922199374622567,
          1.048558465289624,
          -0.24138585364897558,
          -0.674413221419938,
          -0.4372811997781751,
          0.02560771998751411,
          0.2842463005080672,
          -0.07999094631816925,
          -0.02914694933426302,
          0.15541678795851396,
          0.4912729071280546,
          -1.0776651864274596,
          -0.9522304568959343,
          1.6836961434138082
         ],
         "y": [
          -0.29031153665030285,
          0.8673880001188526,
          0.5794175830953129,
          1.1236877494288822,
          0.14560706940464604,
          -0.49238381593607494,
          -1.3585655836642285,
          0.5263910174142803,
          1.0414187484205073,
          1.1126342780473124,
          -0.2710539337610146,
          0.9229317060885099,
          2.7717055625558005,
          -0.8678266089839779,
          -2.108848157089314,
          0.7370183808313264,
          2.6345495208902894,
          -0.2621273708172376,
          0.506481601483133,
          0.5246870982503338,
          -0.14935471488468668,
          0.780998061065657,
          -1.0377295136444016,
          0.07582264190298024,
          -0.01727724156390105,
          0.14967915982555374,
          0.4006884640886359,
          -0.30028281207502294,
          1.0524568382619184,
          0.22714302212822748,
          -2.817180366152146,
          1.1268043517108106,
          -0.9275839344799525,
          -0.04835623775384268,
          0.19305027546842896,
          0.6948160785103962,
          0.10411248394502415,
          0.9364271446793379,
          0.615398985584594,
          1.052408275766237,
          -0.1305383056255062,
          -0.49587893903374713,
          0.5682691161469392,
          0.10691159637422652,
          2.069540771302056,
          0.44753139296663086,
          -0.5452979108611006,
          -0.43451678872120086,
          -1.3331180531738722,
          -0.17055424849834025,
          1.8735530864012384,
          -1.113989898123316,
          0.718666767419772,
          0.5494073873928873,
          -0.38327337314058013,
          -0.7208312798888825,
          -1.1417601621614262,
          0.6441031369617723,
          -0.14138573019705505,
          -1.1630568098276415,
          -0.6735869103228915,
          2.5146014801982695,
          1.4879552657435673,
          2.165414249826483,
          -1.180246064142854,
          -0.21659994578619016,
          -0.09596937471604866,
          1.0926016449982687,
          -1.666241916907615,
          -0.8078351895602224,
          -0.8523387749589654,
          -0.8134655525065212,
          -0.07019443259751783,
          2.714118708753477,
          0.5503739058712013,
          1.0703343139772825,
          -0.21486650994147882,
          -0.9601203710375531,
          -0.23025194155418327,
          -0.9328113212548568,
          1.89540655559761,
          0.09732881700465994,
          -0.28483495768991385,
          1.6464136770714903,
          -1.9310211656064404,
          -2.6132141844277355,
          -0.25318296893388254,
          -0.5237449692281284,
          -1.4088071744847528,
          1.095281759059276,
          0.7413258265163059,
          0.391225376839355,
          0.6568604312150156,
          -0.7918186884461557,
          -0.623628752463788,
          0.5213011561323011,
          0.5701964420195289,
          -1.961135212024153,
          -0.13753065855645294,
          1.270813728730286
         ]
        }
       ],
       "layout": {
        "legend": {
         "bgcolor": "#F5F6F9",
         "font": {
          "color": "#4D5663"
         }
        },
        "paper_bgcolor": "#F5F6F9",
        "plot_bgcolor": "#F5F6F9",
        "template": {
         "data": {
          "bar": [
           {
            "error_x": {
             "color": "#2a3f5f"
            },
            "error_y": {
             "color": "#2a3f5f"
            },
            "marker": {
             "line": {
              "color": "#E5ECF6",
              "width": 0.5
             },
             "pattern": {
              "fillmode": "overlay",
              "size": 10,
              "solidity": 0.2
             }
            },
            "type": "bar"
           }
          ],
          "barpolar": [
           {
            "marker": {
             "line": {
              "color": "#E5ECF6",
              "width": 0.5
             },
             "pattern": {
              "fillmode": "overlay",
              "size": 10,
              "solidity": 0.2
             }
            },
            "type": "barpolar"
           }
          ],
          "carpet": [
           {
            "aaxis": {
             "endlinecolor": "#2a3f5f",
             "gridcolor": "white",
             "linecolor": "white",
             "minorgridcolor": "white",
             "startlinecolor": "#2a3f5f"
            },
            "baxis": {
             "endlinecolor": "#2a3f5f",
             "gridcolor": "white",
             "linecolor": "white",
             "minorgridcolor": "white",
             "startlinecolor": "#2a3f5f"
            },
            "type": "carpet"
           }
          ],
          "choropleth": [
           {
            "colorbar": {
             "outlinewidth": 0,
             "ticks": ""
            },
            "type": "choropleth"
           }
          ],
          "contour": [
           {
            "colorbar": {
             "outlinewidth": 0,
             "ticks": ""
            },
            "colorscale": [
             [
              0,
              "#0d0887"
             ],
             [
              0.1111111111111111,
              "#46039f"
             ],
             [
              0.2222222222222222,
              "#7201a8"
             ],
             [
              0.3333333333333333,
              "#9c179e"
             ],
             [
              0.4444444444444444,
              "#bd3786"
             ],
             [
              0.5555555555555556,
              "#d8576b"
             ],
             [
              0.6666666666666666,
              "#ed7953"
             ],
             [
              0.7777777777777778,
              "#fb9f3a"
             ],
             [
              0.8888888888888888,
              "#fdca26"
             ],
             [
              1,
              "#f0f921"
             ]
            ],
            "type": "contour"
           }
          ],
          "contourcarpet": [
           {
            "colorbar": {
             "outlinewidth": 0,
             "ticks": ""
            },
            "type": "contourcarpet"
           }
          ],
          "heatmap": [
           {
            "colorbar": {
             "outlinewidth": 0,
             "ticks": ""
            },
            "colorscale": [
             [
              0,
              "#0d0887"
             ],
             [
              0.1111111111111111,
              "#46039f"
             ],
             [
              0.2222222222222222,
              "#7201a8"
             ],
             [
              0.3333333333333333,
              "#9c179e"
             ],
             [
              0.4444444444444444,
              "#bd3786"
             ],
             [
              0.5555555555555556,
              "#d8576b"
             ],
             [
              0.6666666666666666,
              "#ed7953"
             ],
             [
              0.7777777777777778,
              "#fb9f3a"
             ],
             [
              0.8888888888888888,
              "#fdca26"
             ],
             [
              1,
              "#f0f921"
             ]
            ],
            "type": "heatmap"
           }
          ],
          "heatmapgl": [
           {
            "colorbar": {
             "outlinewidth": 0,
             "ticks": ""
            },
            "colorscale": [
             [
              0,
              "#0d0887"
             ],
             [
              0.1111111111111111,
              "#46039f"
             ],
             [
              0.2222222222222222,
              "#7201a8"
             ],
             [
              0.3333333333333333,
              "#9c179e"
             ],
             [
              0.4444444444444444,
              "#bd3786"
             ],
             [
              0.5555555555555556,
              "#d8576b"
             ],
             [
              0.6666666666666666,
              "#ed7953"
             ],
             [
              0.7777777777777778,
              "#fb9f3a"
             ],
             [
              0.8888888888888888,
              "#fdca26"
             ],
             [
              1,
              "#f0f921"
             ]
            ],
            "type": "heatmapgl"
           }
          ],
          "histogram": [
           {
            "marker": {
             "pattern": {
              "fillmode": "overlay",
              "size": 10,
              "solidity": 0.2
             }
            },
            "type": "histogram"
           }
          ],
          "histogram2d": [
           {
            "colorbar": {
             "outlinewidth": 0,
             "ticks": ""
            },
            "colorscale": [
             [
              0,
              "#0d0887"
             ],
             [
              0.1111111111111111,
              "#46039f"
             ],
             [
              0.2222222222222222,
              "#7201a8"
             ],
             [
              0.3333333333333333,
              "#9c179e"
             ],
             [
              0.4444444444444444,
              "#bd3786"
             ],
             [
              0.5555555555555556,
              "#d8576b"
             ],
             [
              0.6666666666666666,
              "#ed7953"
             ],
             [
              0.7777777777777778,
              "#fb9f3a"
             ],
             [
              0.8888888888888888,
              "#fdca26"
             ],
             [
              1,
              "#f0f921"
             ]
            ],
            "type": "histogram2d"
           }
          ],
          "histogram2dcontour": [
           {
            "colorbar": {
             "outlinewidth": 0,
             "ticks": ""
            },
            "colorscale": [
             [
              0,
              "#0d0887"
             ],
             [
              0.1111111111111111,
              "#46039f"
             ],
             [
              0.2222222222222222,
              "#7201a8"
             ],
             [
              0.3333333333333333,
              "#9c179e"
             ],
             [
              0.4444444444444444,
              "#bd3786"
             ],
             [
              0.5555555555555556,
              "#d8576b"
             ],
             [
              0.6666666666666666,
              "#ed7953"
             ],
             [
              0.7777777777777778,
              "#fb9f3a"
             ],
             [
              0.8888888888888888,
              "#fdca26"
             ],
             [
              1,
              "#f0f921"
             ]
            ],
            "type": "histogram2dcontour"
           }
          ],
          "mesh3d": [
           {
            "colorbar": {
             "outlinewidth": 0,
             "ticks": ""
            },
            "type": "mesh3d"
           }
          ],
          "parcoords": [
           {
            "line": {
             "colorbar": {
              "outlinewidth": 0,
              "ticks": ""
             }
            },
            "type": "parcoords"
           }
          ],
          "pie": [
           {
            "automargin": true,
            "type": "pie"
           }
          ],
          "scatter": [
           {
            "fillpattern": {
             "fillmode": "overlay",
             "size": 10,
             "solidity": 0.2
            },
            "type": "scatter"
           }
          ],
          "scatter3d": [
           {
            "line": {
             "colorbar": {
              "outlinewidth": 0,
              "ticks": ""
             }
            },
            "marker": {
             "colorbar": {
              "outlinewidth": 0,
              "ticks": ""
             }
            },
            "type": "scatter3d"
           }
          ],
          "scattercarpet": [
           {
            "marker": {
             "colorbar": {
              "outlinewidth": 0,
              "ticks": ""
             }
            },
            "type": "scattercarpet"
           }
          ],
          "scattergeo": [
           {
            "marker": {
             "colorbar": {
              "outlinewidth": 0,
              "ticks": ""
             }
            },
            "type": "scattergeo"
           }
          ],
          "scattergl": [
           {
            "marker": {
             "colorbar": {
              "outlinewidth": 0,
              "ticks": ""
             }
            },
            "type": "scattergl"
           }
          ],
          "scattermapbox": [
           {
            "marker": {
             "colorbar": {
              "outlinewidth": 0,
              "ticks": ""
             }
            },
            "type": "scattermapbox"
           }
          ],
          "scatterpolar": [
           {
            "marker": {
             "colorbar": {
              "outlinewidth": 0,
              "ticks": ""
             }
            },
            "type": "scatterpolar"
           }
          ],
          "scatterpolargl": [
           {
            "marker": {
             "colorbar": {
              "outlinewidth": 0,
              "ticks": ""
             }
            },
            "type": "scatterpolargl"
           }
          ],
          "scatterternary": [
           {
            "marker": {
             "colorbar": {
              "outlinewidth": 0,
              "ticks": ""
             }
            },
            "type": "scatterternary"
           }
          ],
          "surface": [
           {
            "colorbar": {
             "outlinewidth": 0,
             "ticks": ""
            },
            "colorscale": [
             [
              0,
              "#0d0887"
             ],
             [
              0.1111111111111111,
              "#46039f"
             ],
             [
              0.2222222222222222,
              "#7201a8"
             ],
             [
              0.3333333333333333,
              "#9c179e"
             ],
             [
              0.4444444444444444,
              "#bd3786"
             ],
             [
              0.5555555555555556,
              "#d8576b"
             ],
             [
              0.6666666666666666,
              "#ed7953"
             ],
             [
              0.7777777777777778,
              "#fb9f3a"
             ],
             [
              0.8888888888888888,
              "#fdca26"
             ],
             [
              1,
              "#f0f921"
             ]
            ],
            "type": "surface"
           }
          ],
          "table": [
           {
            "cells": {
             "fill": {
              "color": "#EBF0F8"
             },
             "line": {
              "color": "white"
             }
            },
            "header": {
             "fill": {
              "color": "#C8D4E3"
             },
             "line": {
              "color": "white"
             }
            },
            "type": "table"
           }
          ]
         },
         "layout": {
          "annotationdefaults": {
           "arrowcolor": "#2a3f5f",
           "arrowhead": 0,
           "arrowwidth": 1
          },
          "autotypenumbers": "strict",
          "coloraxis": {
           "colorbar": {
            "outlinewidth": 0,
            "ticks": ""
           }
          },
          "colorscale": {
           "diverging": [
            [
             0,
             "#8e0152"
            ],
            [
             0.1,
             "#c51b7d"
            ],
            [
             0.2,
             "#de77ae"
            ],
            [
             0.3,
             "#f1b6da"
            ],
            [
             0.4,
             "#fde0ef"
            ],
            [
             0.5,
             "#f7f7f7"
            ],
            [
             0.6,
             "#e6f5d0"
            ],
            [
             0.7,
             "#b8e186"
            ],
            [
             0.8,
             "#7fbc41"
            ],
            [
             0.9,
             "#4d9221"
            ],
            [
             1,
             "#276419"
            ]
           ],
           "sequential": [
            [
             0,
             "#0d0887"
            ],
            [
             0.1111111111111111,
             "#46039f"
            ],
            [
             0.2222222222222222,
             "#7201a8"
            ],
            [
             0.3333333333333333,
             "#9c179e"
            ],
            [
             0.4444444444444444,
             "#bd3786"
            ],
            [
             0.5555555555555556,
             "#d8576b"
            ],
            [
             0.6666666666666666,
             "#ed7953"
            ],
            [
             0.7777777777777778,
             "#fb9f3a"
            ],
            [
             0.8888888888888888,
             "#fdca26"
            ],
            [
             1,
             "#f0f921"
            ]
           ],
           "sequentialminus": [
            [
             0,
             "#0d0887"
            ],
            [
             0.1111111111111111,
             "#46039f"
            ],
            [
             0.2222222222222222,
             "#7201a8"
            ],
            [
             0.3333333333333333,
             "#9c179e"
            ],
            [
             0.4444444444444444,
             "#bd3786"
            ],
            [
             0.5555555555555556,
             "#d8576b"
            ],
            [
             0.6666666666666666,
             "#ed7953"
            ],
            [
             0.7777777777777778,
             "#fb9f3a"
            ],
            [
             0.8888888888888888,
             "#fdca26"
            ],
            [
             1,
             "#f0f921"
            ]
           ]
          },
          "colorway": [
           "#636efa",
           "#EF553B",
           "#00cc96",
           "#ab63fa",
           "#FFA15A",
           "#19d3f3",
           "#FF6692",
           "#B6E880",
           "#FF97FF",
           "#FECB52"
          ],
          "font": {
           "color": "#2a3f5f"
          },
          "geo": {
           "bgcolor": "white",
           "lakecolor": "white",
           "landcolor": "#E5ECF6",
           "showlakes": true,
           "showland": true,
           "subunitcolor": "white"
          },
          "hoverlabel": {
           "align": "left"
          },
          "hovermode": "closest",
          "mapbox": {
           "style": "light"
          },
          "paper_bgcolor": "white",
          "plot_bgcolor": "#E5ECF6",
          "polar": {
           "angularaxis": {
            "gridcolor": "white",
            "linecolor": "white",
            "ticks": ""
           },
           "bgcolor": "#E5ECF6",
           "radialaxis": {
            "gridcolor": "white",
            "linecolor": "white",
            "ticks": ""
           }
          },
          "scene": {
           "xaxis": {
            "backgroundcolor": "#E5ECF6",
            "gridcolor": "white",
            "gridwidth": 2,
            "linecolor": "white",
            "showbackground": true,
            "ticks": "",
            "zerolinecolor": "white"
           },
           "yaxis": {
            "backgroundcolor": "#E5ECF6",
            "gridcolor": "white",
            "gridwidth": 2,
            "linecolor": "white",
            "showbackground": true,
            "ticks": "",
            "zerolinecolor": "white"
           },
           "zaxis": {
            "backgroundcolor": "#E5ECF6",
            "gridcolor": "white",
            "gridwidth": 2,
            "linecolor": "white",
            "showbackground": true,
            "ticks": "",
            "zerolinecolor": "white"
           }
          },
          "shapedefaults": {
           "line": {
            "color": "#2a3f5f"
           }
          },
          "ternary": {
           "aaxis": {
            "gridcolor": "white",
            "linecolor": "white",
            "ticks": ""
           },
           "baxis": {
            "gridcolor": "white",
            "linecolor": "white",
            "ticks": ""
           },
           "bgcolor": "#E5ECF6",
           "caxis": {
            "gridcolor": "white",
            "linecolor": "white",
            "ticks": ""
           }
          },
          "title": {
           "x": 0.05
          },
          "xaxis": {
           "automargin": true,
           "gridcolor": "white",
           "linecolor": "white",
           "ticks": "",
           "title": {
            "standoff": 15
           },
           "zerolinecolor": "white",
           "zerolinewidth": 2
          },
          "yaxis": {
           "automargin": true,
           "gridcolor": "white",
           "linecolor": "white",
           "ticks": "",
           "title": {
            "standoff": 15
           },
           "zerolinecolor": "white",
           "zerolinewidth": 2
          }
         }
        },
        "title": {
         "font": {
          "color": "#4D5663"
         }
        },
        "xaxis": {
         "gridcolor": "#E1E5ED",
         "showgrid": true,
         "tickfont": {
          "color": "#4D5663"
         },
         "title": {
          "font": {
           "color": "#4D5663"
          },
          "text": ""
         },
         "zerolinecolor": "#E1E5ED"
        },
        "yaxis": {
         "gridcolor": "#E1E5ED",
         "showgrid": true,
         "tickfont": {
          "color": "#4D5663"
         },
         "title": {
          "font": {
           "color": "#4D5663"
          },
          "text": ""
         },
         "zerolinecolor": "#E1E5ED"
        }
       }
      },
      "text/html": [
       "<div>                            <div id=\"10973514-056d-4631-baaa-9484f547b55b\" class=\"plotly-graph-div\" style=\"height:525px; width:100%;\"></div>            <script type=\"text/javascript\">                require([\"plotly\"], function(Plotly) {                    window.PLOTLYENV=window.PLOTLYENV || {};\n",
       "                    window.PLOTLYENV.BASE_URL='https://plot.ly';                                    if (document.getElementById(\"10973514-056d-4631-baaa-9484f547b55b\")) {                    Plotly.newPlot(                        \"10973514-056d-4631-baaa-9484f547b55b\",                        [{\"marker\":{\"color\":[\"rgb(255, 153, 51)\",\"rgb(55, 128, 191)\",\"rgb(50, 171, 96)\",\"rgb(128, 0, 128)\",\"rgb(219, 64, 82)\",\"rgb(0, 128, 128)\",\"rgb(255, 255, 51)\",\"rgb(128, 128, 0)\",\"rgb(251, 128, 114)\",\"rgb(128, 177, 211)\"],\"line\":{\"width\":1.3},\"size\":[65,50,75,58,79,83,93,94,52,84,63,73,45,44,12,98,54,46,54,82,67,57,60,91,55,89,27,86,80,85,62,43,111,44,65,75,36,37,49,81,66,52,54,49,68,98,77,50,64,93,67,49,76,72,72,94,51,63,51,78,50,71,51,60,64,82,92,58,51,76,52,93,70,67,36,58,79,49,85,70,64,55,58,86,71,60,59,63,95,69,39,67,44,67,74,61,60,87,75,72],\"symbol\":\"circle\"},\"mode\":\"markers\",\"text\":\"\",\"x\":[-0.08186168703008381,-1.4125134786406384,-2.0216316901586966,-1.1144061395664848,-0.732862192610121,-0.43646635545450774,-2.0968581642837814,0.5444228495639059,-0.5653026207892777,0.30717970372559855,-0.4198484557612456,0.7253217047833895,-0.7910646375013571,0.24584288534701426,0.3861808927955188,-1.1467665661219575,-0.41072488955529124,0.724907854212759,-0.39513396691114294,-0.29734831407239337,0.056560161710574756,-0.8472438703374219,-1.7198020608413256,0.26407469568663433,-0.5262701489609771,-0.500907294123469,-1.0930047549095676,-0.595849948515295,1.5334319219267074,-0.016326454774757585,-0.862655734758858,0.5684015061380762,-1.2161191764324901,-1.1753642330024214,-0.18901916241119732,-0.5549185302065942,0.309228505663993,-0.5931070174769876,-0.915428386728154,-0.5689122102202488,-0.16674407057733692,-2.236913162354572,-0.5827999024163568,0.6902558348780791,0.03187805913805461,-0.7413489938308117,0.366320205190309,0.7571681026049312,0.7180974557635268,1.7056945385414521,0.1381467651427019,0.9469749716086889,-0.021766609360936398,-1.7222130070414399,-0.11193913228109911,-1.253127684581892,0.5290917355245429,1.233008441143637,-0.01708591871870062,-0.022413499602245302,0.05198424376548483,-1.5730535785265773,0.13296023573262686,-0.22105137596848967,0.11956373474779762,-0.19460631714752108,-0.22403298097538893,0.5143412935583017,0.15714090442602846,0.28035904683880963,-0.2446823288892205,0.7607186297922643,-2.2143188702913483,1.4096188805712955,0.37248522681048263,-0.9490918085680567,0.17853358552885062,0.002679033371037447,0.17851692593807564,-0.7190872551009492,0.9512063312958212,1.144354380327551,-1.559442571286232,-0.9176446170081553,1.203944757019189,0.4336986432940904,1.2922199374622567,1.048558465289624,-0.24138585364897558,-0.674413221419938,-0.4372811997781751,0.02560771998751411,0.2842463005080672,-0.07999094631816925,-0.02914694933426302,0.15541678795851396,0.4912729071280546,-1.0776651864274596,-0.9522304568959343,1.6836961434138082],\"y\":[-0.29031153665030285,0.8673880001188526,0.5794175830953129,1.1236877494288822,0.14560706940464604,-0.49238381593607494,-1.3585655836642285,0.5263910174142803,1.0414187484205073,1.1126342780473124,-0.2710539337610146,0.9229317060885099,2.7717055625558005,-0.8678266089839779,-2.108848157089314,0.7370183808313264,2.6345495208902894,-0.2621273708172376,0.506481601483133,0.5246870982503338,-0.14935471488468668,0.780998061065657,-1.0377295136444016,0.07582264190298024,-0.01727724156390105,0.14967915982555374,0.4006884640886359,-0.30028281207502294,1.0524568382619184,0.22714302212822748,-2.817180366152146,1.1268043517108106,-0.9275839344799525,-0.04835623775384268,0.19305027546842896,0.6948160785103962,0.10411248394502415,0.9364271446793379,0.615398985584594,1.052408275766237,-0.1305383056255062,-0.49587893903374713,0.5682691161469392,0.10691159637422652,2.069540771302056,0.44753139296663086,-0.5452979108611006,-0.43451678872120086,-1.3331180531738722,-0.17055424849834025,1.8735530864012384,-1.113989898123316,0.718666767419772,0.5494073873928873,-0.38327337314058013,-0.7208312798888825,-1.1417601621614262,0.6441031369617723,-0.14138573019705505,-1.1630568098276415,-0.6735869103228915,2.5146014801982695,1.4879552657435673,2.165414249826483,-1.180246064142854,-0.21659994578619016,-0.09596937471604866,1.0926016449982687,-1.666241916907615,-0.8078351895602224,-0.8523387749589654,-0.8134655525065212,-0.07019443259751783,2.714118708753477,0.5503739058712013,1.0703343139772825,-0.21486650994147882,-0.9601203710375531,-0.23025194155418327,-0.9328113212548568,1.89540655559761,0.09732881700465994,-0.28483495768991385,1.6464136770714903,-1.9310211656064404,-2.6132141844277355,-0.25318296893388254,-0.5237449692281284,-1.4088071744847528,1.095281759059276,0.7413258265163059,0.391225376839355,0.6568604312150156,-0.7918186884461557,-0.623628752463788,0.5213011561323011,0.5701964420195289,-1.961135212024153,-0.13753065855645294,1.270813728730286],\"type\":\"scatter\"}],                        {\"legend\":{\"bgcolor\":\"#F5F6F9\",\"font\":{\"color\":\"#4D5663\"}},\"paper_bgcolor\":\"#F5F6F9\",\"plot_bgcolor\":\"#F5F6F9\",\"template\":{\"data\":{\"barpolar\":[{\"marker\":{\"line\":{\"color\":\"#E5ECF6\",\"width\":0.5},\"pattern\":{\"fillmode\":\"overlay\",\"size\":10,\"solidity\":0.2}},\"type\":\"barpolar\"}],\"bar\":[{\"error_x\":{\"color\":\"#2a3f5f\"},\"error_y\":{\"color\":\"#2a3f5f\"},\"marker\":{\"line\":{\"color\":\"#E5ECF6\",\"width\":0.5},\"pattern\":{\"fillmode\":\"overlay\",\"size\":10,\"solidity\":0.2}},\"type\":\"bar\"}],\"carpet\":[{\"aaxis\":{\"endlinecolor\":\"#2a3f5f\",\"gridcolor\":\"white\",\"linecolor\":\"white\",\"minorgridcolor\":\"white\",\"startlinecolor\":\"#2a3f5f\"},\"baxis\":{\"endlinecolor\":\"#2a3f5f\",\"gridcolor\":\"white\",\"linecolor\":\"white\",\"minorgridcolor\":\"white\",\"startlinecolor\":\"#2a3f5f\"},\"type\":\"carpet\"}],\"choropleth\":[{\"colorbar\":{\"outlinewidth\":0,\"ticks\":\"\"},\"type\":\"choropleth\"}],\"contourcarpet\":[{\"colorbar\":{\"outlinewidth\":0,\"ticks\":\"\"},\"type\":\"contourcarpet\"}],\"contour\":[{\"colorbar\":{\"outlinewidth\":0,\"ticks\":\"\"},\"colorscale\":[[0.0,\"#0d0887\"],[0.1111111111111111,\"#46039f\"],[0.2222222222222222,\"#7201a8\"],[0.3333333333333333,\"#9c179e\"],[0.4444444444444444,\"#bd3786\"],[0.5555555555555556,\"#d8576b\"],[0.6666666666666666,\"#ed7953\"],[0.7777777777777778,\"#fb9f3a\"],[0.8888888888888888,\"#fdca26\"],[1.0,\"#f0f921\"]],\"type\":\"contour\"}],\"heatmapgl\":[{\"colorbar\":{\"outlinewidth\":0,\"ticks\":\"\"},\"colorscale\":[[0.0,\"#0d0887\"],[0.1111111111111111,\"#46039f\"],[0.2222222222222222,\"#7201a8\"],[0.3333333333333333,\"#9c179e\"],[0.4444444444444444,\"#bd3786\"],[0.5555555555555556,\"#d8576b\"],[0.6666666666666666,\"#ed7953\"],[0.7777777777777778,\"#fb9f3a\"],[0.8888888888888888,\"#fdca26\"],[1.0,\"#f0f921\"]],\"type\":\"heatmapgl\"}],\"heatmap\":[{\"colorbar\":{\"outlinewidth\":0,\"ticks\":\"\"},\"colorscale\":[[0.0,\"#0d0887\"],[0.1111111111111111,\"#46039f\"],[0.2222222222222222,\"#7201a8\"],[0.3333333333333333,\"#9c179e\"],[0.4444444444444444,\"#bd3786\"],[0.5555555555555556,\"#d8576b\"],[0.6666666666666666,\"#ed7953\"],[0.7777777777777778,\"#fb9f3a\"],[0.8888888888888888,\"#fdca26\"],[1.0,\"#f0f921\"]],\"type\":\"heatmap\"}],\"histogram2dcontour\":[{\"colorbar\":{\"outlinewidth\":0,\"ticks\":\"\"},\"colorscale\":[[0.0,\"#0d0887\"],[0.1111111111111111,\"#46039f\"],[0.2222222222222222,\"#7201a8\"],[0.3333333333333333,\"#9c179e\"],[0.4444444444444444,\"#bd3786\"],[0.5555555555555556,\"#d8576b\"],[0.6666666666666666,\"#ed7953\"],[0.7777777777777778,\"#fb9f3a\"],[0.8888888888888888,\"#fdca26\"],[1.0,\"#f0f921\"]],\"type\":\"histogram2dcontour\"}],\"histogram2d\":[{\"colorbar\":{\"outlinewidth\":0,\"ticks\":\"\"},\"colorscale\":[[0.0,\"#0d0887\"],[0.1111111111111111,\"#46039f\"],[0.2222222222222222,\"#7201a8\"],[0.3333333333333333,\"#9c179e\"],[0.4444444444444444,\"#bd3786\"],[0.5555555555555556,\"#d8576b\"],[0.6666666666666666,\"#ed7953\"],[0.7777777777777778,\"#fb9f3a\"],[0.8888888888888888,\"#fdca26\"],[1.0,\"#f0f921\"]],\"type\":\"histogram2d\"}],\"histogram\":[{\"marker\":{\"pattern\":{\"fillmode\":\"overlay\",\"size\":10,\"solidity\":0.2}},\"type\":\"histogram\"}],\"mesh3d\":[{\"colorbar\":{\"outlinewidth\":0,\"ticks\":\"\"},\"type\":\"mesh3d\"}],\"parcoords\":[{\"line\":{\"colorbar\":{\"outlinewidth\":0,\"ticks\":\"\"}},\"type\":\"parcoords\"}],\"pie\":[{\"automargin\":true,\"type\":\"pie\"}],\"scatter3d\":[{\"line\":{\"colorbar\":{\"outlinewidth\":0,\"ticks\":\"\"}},\"marker\":{\"colorbar\":{\"outlinewidth\":0,\"ticks\":\"\"}},\"type\":\"scatter3d\"}],\"scattercarpet\":[{\"marker\":{\"colorbar\":{\"outlinewidth\":0,\"ticks\":\"\"}},\"type\":\"scattercarpet\"}],\"scattergeo\":[{\"marker\":{\"colorbar\":{\"outlinewidth\":0,\"ticks\":\"\"}},\"type\":\"scattergeo\"}],\"scattergl\":[{\"marker\":{\"colorbar\":{\"outlinewidth\":0,\"ticks\":\"\"}},\"type\":\"scattergl\"}],\"scattermapbox\":[{\"marker\":{\"colorbar\":{\"outlinewidth\":0,\"ticks\":\"\"}},\"type\":\"scattermapbox\"}],\"scatterpolargl\":[{\"marker\":{\"colorbar\":{\"outlinewidth\":0,\"ticks\":\"\"}},\"type\":\"scatterpolargl\"}],\"scatterpolar\":[{\"marker\":{\"colorbar\":{\"outlinewidth\":0,\"ticks\":\"\"}},\"type\":\"scatterpolar\"}],\"scatter\":[{\"fillpattern\":{\"fillmode\":\"overlay\",\"size\":10,\"solidity\":0.2},\"type\":\"scatter\"}],\"scatterternary\":[{\"marker\":{\"colorbar\":{\"outlinewidth\":0,\"ticks\":\"\"}},\"type\":\"scatterternary\"}],\"surface\":[{\"colorbar\":{\"outlinewidth\":0,\"ticks\":\"\"},\"colorscale\":[[0.0,\"#0d0887\"],[0.1111111111111111,\"#46039f\"],[0.2222222222222222,\"#7201a8\"],[0.3333333333333333,\"#9c179e\"],[0.4444444444444444,\"#bd3786\"],[0.5555555555555556,\"#d8576b\"],[0.6666666666666666,\"#ed7953\"],[0.7777777777777778,\"#fb9f3a\"],[0.8888888888888888,\"#fdca26\"],[1.0,\"#f0f921\"]],\"type\":\"surface\"}],\"table\":[{\"cells\":{\"fill\":{\"color\":\"#EBF0F8\"},\"line\":{\"color\":\"white\"}},\"header\":{\"fill\":{\"color\":\"#C8D4E3\"},\"line\":{\"color\":\"white\"}},\"type\":\"table\"}]},\"layout\":{\"annotationdefaults\":{\"arrowcolor\":\"#2a3f5f\",\"arrowhead\":0,\"arrowwidth\":1},\"autotypenumbers\":\"strict\",\"coloraxis\":{\"colorbar\":{\"outlinewidth\":0,\"ticks\":\"\"}},\"colorscale\":{\"diverging\":[[0,\"#8e0152\"],[0.1,\"#c51b7d\"],[0.2,\"#de77ae\"],[0.3,\"#f1b6da\"],[0.4,\"#fde0ef\"],[0.5,\"#f7f7f7\"],[0.6,\"#e6f5d0\"],[0.7,\"#b8e186\"],[0.8,\"#7fbc41\"],[0.9,\"#4d9221\"],[1,\"#276419\"]],\"sequential\":[[0.0,\"#0d0887\"],[0.1111111111111111,\"#46039f\"],[0.2222222222222222,\"#7201a8\"],[0.3333333333333333,\"#9c179e\"],[0.4444444444444444,\"#bd3786\"],[0.5555555555555556,\"#d8576b\"],[0.6666666666666666,\"#ed7953\"],[0.7777777777777778,\"#fb9f3a\"],[0.8888888888888888,\"#fdca26\"],[1.0,\"#f0f921\"]],\"sequentialminus\":[[0.0,\"#0d0887\"],[0.1111111111111111,\"#46039f\"],[0.2222222222222222,\"#7201a8\"],[0.3333333333333333,\"#9c179e\"],[0.4444444444444444,\"#bd3786\"],[0.5555555555555556,\"#d8576b\"],[0.6666666666666666,\"#ed7953\"],[0.7777777777777778,\"#fb9f3a\"],[0.8888888888888888,\"#fdca26\"],[1.0,\"#f0f921\"]]},\"colorway\":[\"#636efa\",\"#EF553B\",\"#00cc96\",\"#ab63fa\",\"#FFA15A\",\"#19d3f3\",\"#FF6692\",\"#B6E880\",\"#FF97FF\",\"#FECB52\"],\"font\":{\"color\":\"#2a3f5f\"},\"geo\":{\"bgcolor\":\"white\",\"lakecolor\":\"white\",\"landcolor\":\"#E5ECF6\",\"showlakes\":true,\"showland\":true,\"subunitcolor\":\"white\"},\"hoverlabel\":{\"align\":\"left\"},\"hovermode\":\"closest\",\"mapbox\":{\"style\":\"light\"},\"paper_bgcolor\":\"white\",\"plot_bgcolor\":\"#E5ECF6\",\"polar\":{\"angularaxis\":{\"gridcolor\":\"white\",\"linecolor\":\"white\",\"ticks\":\"\"},\"bgcolor\":\"#E5ECF6\",\"radialaxis\":{\"gridcolor\":\"white\",\"linecolor\":\"white\",\"ticks\":\"\"}},\"scene\":{\"xaxis\":{\"backgroundcolor\":\"#E5ECF6\",\"gridcolor\":\"white\",\"gridwidth\":2,\"linecolor\":\"white\",\"showbackground\":true,\"ticks\":\"\",\"zerolinecolor\":\"white\"},\"yaxis\":{\"backgroundcolor\":\"#E5ECF6\",\"gridcolor\":\"white\",\"gridwidth\":2,\"linecolor\":\"white\",\"showbackground\":true,\"ticks\":\"\",\"zerolinecolor\":\"white\"},\"zaxis\":{\"backgroundcolor\":\"#E5ECF6\",\"gridcolor\":\"white\",\"gridwidth\":2,\"linecolor\":\"white\",\"showbackground\":true,\"ticks\":\"\",\"zerolinecolor\":\"white\"}},\"shapedefaults\":{\"line\":{\"color\":\"#2a3f5f\"}},\"ternary\":{\"aaxis\":{\"gridcolor\":\"white\",\"linecolor\":\"white\",\"ticks\":\"\"},\"baxis\":{\"gridcolor\":\"white\",\"linecolor\":\"white\",\"ticks\":\"\"},\"bgcolor\":\"#E5ECF6\",\"caxis\":{\"gridcolor\":\"white\",\"linecolor\":\"white\",\"ticks\":\"\"}},\"title\":{\"x\":0.05},\"xaxis\":{\"automargin\":true,\"gridcolor\":\"white\",\"linecolor\":\"white\",\"ticks\":\"\",\"title\":{\"standoff\":15},\"zerolinecolor\":\"white\",\"zerolinewidth\":2},\"yaxis\":{\"automargin\":true,\"gridcolor\":\"white\",\"linecolor\":\"white\",\"ticks\":\"\",\"title\":{\"standoff\":15},\"zerolinecolor\":\"white\",\"zerolinewidth\":2}}},\"title\":{\"font\":{\"color\":\"#4D5663\"}},\"xaxis\":{\"gridcolor\":\"#E1E5ED\",\"showgrid\":true,\"tickfont\":{\"color\":\"#4D5663\"},\"title\":{\"font\":{\"color\":\"#4D5663\"},\"text\":\"\"},\"zerolinecolor\":\"#E1E5ED\"},\"yaxis\":{\"gridcolor\":\"#E1E5ED\",\"showgrid\":true,\"tickfont\":{\"color\":\"#4D5663\"},\"title\":{\"font\":{\"color\":\"#4D5663\"},\"text\":\"\"},\"zerolinecolor\":\"#E1E5ED\"}},                        {\"showLink\": true, \"linkText\": \"Export to plot.ly\", \"plotlyServerURL\": \"https://plot.ly\", \"responsive\": true}                    ).then(function(){\n",
       "                            \n",
       "var gd = document.getElementById('10973514-056d-4631-baaa-9484f547b55b');\n",
       "var x = new MutationObserver(function (mutations, observer) {{\n",
       "        var display = window.getComputedStyle(gd).display;\n",
       "        if (!display || display === 'none') {{\n",
       "            console.log([gd, 'removed!']);\n",
       "            Plotly.purge(gd);\n",
       "            observer.disconnect();\n",
       "        }}\n",
       "}});\n",
       "\n",
       "// Listen for the removal of the full notebook cells\n",
       "var notebookContainer = gd.closest('#notebook-container');\n",
       "if (notebookContainer) {{\n",
       "    x.observe(notebookContainer, {childList: true});\n",
       "}}\n",
       "\n",
       "// Listen for the clearing of the current output cell\n",
       "var outputEl = gd.closest('.output');\n",
       "if (outputEl) {{\n",
       "    x.observe(outputEl, {childList: true});\n",
       "}}\n",
       "\n",
       "                        })                };                });            </script>        </div>"
      ]
     },
     "metadata": {},
     "output_type": "display_data"
    }
   ],
   "source": [
    "df.iplot(kind='bubble',x='A',y='B',size='C')"
   ]
  },
  {
   "cell_type": "markdown",
   "metadata": {},
   "source": [
    "## scatter_matrix()\n",
    "\n",
    "Similar to sns.pairplot()"
   ]
  },
  {
   "cell_type": "code",
   "execution_count": 57,
   "metadata": {
    "collapsed": false
   },
   "outputs": [
    {
     "data": {
      "application/vnd.plotly.v1+json": {
       "config": {
        "linkText": "Export to plot.ly",
        "plotlyServerURL": "https://plot.ly",
        "showLink": true
       },
       "data": [
        {
         "histfunc": "count",
         "histnorm": "",
         "marker": {
          "color": "rgba(255, 153, 51, 1.0)",
          "line": {
           "color": "#4D5663",
           "width": 1.3
          }
         },
         "name": "A",
         "nbinsx": 10,
         "opacity": 0.8,
         "orientation": "v",
         "type": "histogram",
         "x": [
          -0.08186168703008381,
          -1.4125134786406384,
          -2.0216316901586966,
          -1.1144061395664848,
          -0.732862192610121,
          -0.43646635545450774,
          -2.0968581642837814,
          0.5444228495639059,
          -0.5653026207892777,
          0.30717970372559855,
          -0.4198484557612456,
          0.7253217047833895,
          -0.7910646375013571,
          0.24584288534701426,
          0.3861808927955188,
          -1.1467665661219575,
          -0.41072488955529124,
          0.724907854212759,
          -0.39513396691114294,
          -0.29734831407239337,
          0.056560161710574756,
          -0.8472438703374219,
          -1.7198020608413256,
          0.26407469568663433,
          -0.5262701489609771,
          -0.500907294123469,
          -1.0930047549095676,
          -0.595849948515295,
          1.5334319219267074,
          -0.016326454774757585,
          -0.862655734758858,
          0.5684015061380762,
          -1.2161191764324901,
          -1.1753642330024214,
          -0.18901916241119732,
          -0.5549185302065942,
          0.309228505663993,
          -0.5931070174769876,
          -0.915428386728154,
          -0.5689122102202488,
          -0.16674407057733692,
          -2.236913162354572,
          -0.5827999024163568,
          0.6902558348780791,
          0.03187805913805461,
          -0.7413489938308117,
          0.366320205190309,
          0.7571681026049312,
          0.7180974557635268,
          1.7056945385414521,
          0.1381467651427019,
          0.9469749716086889,
          -0.021766609360936398,
          -1.7222130070414399,
          -0.11193913228109911,
          -1.253127684581892,
          0.5290917355245429,
          1.233008441143637,
          -0.01708591871870062,
          -0.022413499602245302,
          0.05198424376548483,
          -1.5730535785265773,
          0.13296023573262686,
          -0.22105137596848967,
          0.11956373474779762,
          -0.19460631714752108,
          -0.22403298097538893,
          0.5143412935583017,
          0.15714090442602846,
          0.28035904683880963,
          -0.2446823288892205,
          0.7607186297922643,
          -2.2143188702913483,
          1.4096188805712955,
          0.37248522681048263,
          -0.9490918085680567,
          0.17853358552885062,
          0.002679033371037447,
          0.17851692593807564,
          -0.7190872551009492,
          0.9512063312958212,
          1.144354380327551,
          -1.559442571286232,
          -0.9176446170081553,
          1.203944757019189,
          0.4336986432940904,
          1.2922199374622567,
          1.048558465289624,
          -0.24138585364897558,
          -0.674413221419938,
          -0.4372811997781751,
          0.02560771998751411,
          0.2842463005080672,
          -0.07999094631816925,
          -0.02914694933426302,
          0.15541678795851396,
          0.4912729071280546,
          -1.0776651864274596,
          -0.9522304568959343,
          1.6836961434138082
         ],
         "xaxis": "x",
         "yaxis": "y"
        },
        {
         "line": {
          "color": "rgba(128, 128, 128, 1.0)",
          "dash": "solid",
          "shape": "linear",
          "width": 1.3
         },
         "marker": {
          "size": 2,
          "symbol": "circle"
         },
         "mode": "markers",
         "name": "A",
         "text": "",
         "type": "scatter",
         "x": [
          -0.29031153665030285,
          0.8673880001188526,
          0.5794175830953129,
          1.1236877494288822,
          0.14560706940464604,
          -0.49238381593607494,
          -1.3585655836642285,
          0.5263910174142803,
          1.0414187484205073,
          1.1126342780473124,
          -0.2710539337610146,
          0.9229317060885099,
          2.7717055625558005,
          -0.8678266089839779,
          -2.108848157089314,
          0.7370183808313264,
          2.6345495208902894,
          -0.2621273708172376,
          0.506481601483133,
          0.5246870982503338,
          -0.14935471488468668,
          0.780998061065657,
          -1.0377295136444016,
          0.07582264190298024,
          -0.01727724156390105,
          0.14967915982555374,
          0.4006884640886359,
          -0.30028281207502294,
          1.0524568382619184,
          0.22714302212822748,
          -2.817180366152146,
          1.1268043517108106,
          -0.9275839344799525,
          -0.04835623775384268,
          0.19305027546842896,
          0.6948160785103962,
          0.10411248394502415,
          0.9364271446793379,
          0.615398985584594,
          1.052408275766237,
          -0.1305383056255062,
          -0.49587893903374713,
          0.5682691161469392,
          0.10691159637422652,
          2.069540771302056,
          0.44753139296663086,
          -0.5452979108611006,
          -0.43451678872120086,
          -1.3331180531738722,
          -0.17055424849834025,
          1.8735530864012384,
          -1.113989898123316,
          0.718666767419772,
          0.5494073873928873,
          -0.38327337314058013,
          -0.7208312798888825,
          -1.1417601621614262,
          0.6441031369617723,
          -0.14138573019705505,
          -1.1630568098276415,
          -0.6735869103228915,
          2.5146014801982695,
          1.4879552657435673,
          2.165414249826483,
          -1.180246064142854,
          -0.21659994578619016,
          -0.09596937471604866,
          1.0926016449982687,
          -1.666241916907615,
          -0.8078351895602224,
          -0.8523387749589654,
          -0.8134655525065212,
          -0.07019443259751783,
          2.714118708753477,
          0.5503739058712013,
          1.0703343139772825,
          -0.21486650994147882,
          -0.9601203710375531,
          -0.23025194155418327,
          -0.9328113212548568,
          1.89540655559761,
          0.09732881700465994,
          -0.28483495768991385,
          1.6464136770714903,
          -1.9310211656064404,
          -2.6132141844277355,
          -0.25318296893388254,
          -0.5237449692281284,
          -1.4088071744847528,
          1.095281759059276,
          0.7413258265163059,
          0.391225376839355,
          0.6568604312150156,
          -0.7918186884461557,
          -0.623628752463788,
          0.5213011561323011,
          0.5701964420195289,
          -1.961135212024153,
          -0.13753065855645294,
          1.270813728730286
         ],
         "xaxis": "x2",
         "y": [
          -0.08186168703008381,
          -1.4125134786406384,
          -2.0216316901586966,
          -1.1144061395664848,
          -0.732862192610121,
          -0.43646635545450774,
          -2.0968581642837814,
          0.5444228495639059,
          -0.5653026207892777,
          0.30717970372559855,
          -0.4198484557612456,
          0.7253217047833895,
          -0.7910646375013571,
          0.24584288534701426,
          0.3861808927955188,
          -1.1467665661219575,
          -0.41072488955529124,
          0.724907854212759,
          -0.39513396691114294,
          -0.29734831407239337,
          0.056560161710574756,
          -0.8472438703374219,
          -1.7198020608413256,
          0.26407469568663433,
          -0.5262701489609771,
          -0.500907294123469,
          -1.0930047549095676,
          -0.595849948515295,
          1.5334319219267074,
          -0.016326454774757585,
          -0.862655734758858,
          0.5684015061380762,
          -1.2161191764324901,
          -1.1753642330024214,
          -0.18901916241119732,
          -0.5549185302065942,
          0.309228505663993,
          -0.5931070174769876,
          -0.915428386728154,
          -0.5689122102202488,
          -0.16674407057733692,
          -2.236913162354572,
          -0.5827999024163568,
          0.6902558348780791,
          0.03187805913805461,
          -0.7413489938308117,
          0.366320205190309,
          0.7571681026049312,
          0.7180974557635268,
          1.7056945385414521,
          0.1381467651427019,
          0.9469749716086889,
          -0.021766609360936398,
          -1.7222130070414399,
          -0.11193913228109911,
          -1.253127684581892,
          0.5290917355245429,
          1.233008441143637,
          -0.01708591871870062,
          -0.022413499602245302,
          0.05198424376548483,
          -1.5730535785265773,
          0.13296023573262686,
          -0.22105137596848967,
          0.11956373474779762,
          -0.19460631714752108,
          -0.22403298097538893,
          0.5143412935583017,
          0.15714090442602846,
          0.28035904683880963,
          -0.2446823288892205,
          0.7607186297922643,
          -2.2143188702913483,
          1.4096188805712955,
          0.37248522681048263,
          -0.9490918085680567,
          0.17853358552885062,
          0.002679033371037447,
          0.17851692593807564,
          -0.7190872551009492,
          0.9512063312958212,
          1.144354380327551,
          -1.559442571286232,
          -0.9176446170081553,
          1.203944757019189,
          0.4336986432940904,
          1.2922199374622567,
          1.048558465289624,
          -0.24138585364897558,
          -0.674413221419938,
          -0.4372811997781751,
          0.02560771998751411,
          0.2842463005080672,
          -0.07999094631816925,
          -0.02914694933426302,
          0.15541678795851396,
          0.4912729071280546,
          -1.0776651864274596,
          -0.9522304568959343,
          1.6836961434138082
         ],
         "yaxis": "y2"
        },
        {
         "line": {
          "color": "rgba(128, 128, 128, 1.0)",
          "dash": "solid",
          "shape": "linear",
          "width": 1.3
         },
         "marker": {
          "size": 2,
          "symbol": "circle"
         },
         "mode": "markers",
         "name": "A",
         "text": "",
         "type": "scatter",
         "x": [
          -0.1277892268400184,
          -0.9644892825607035,
          0.4086072098110892,
          -0.5381608667950197,
          0.6142286556889565,
          0.8313827520714897,
          1.412300923492472,
          1.44694462875951,
          -0.863108434421125,
          0.8995275380676993,
          -0.2548642351727179,
          0.30834683701169596,
          -1.2528764314368968,
          -1.2830100944472964,
          -3.0772421724011187,
          1.6852197533581375,
          -0.7192311281669611,
          -1.175417759615233,
          -0.7215218207013354,
          0.8255995014014403,
          -0.028458471956432644,
          -0.5631594447265935,
          -0.4165927364191478,
          1.290353600977836,
          -0.6686456379782448,
          1.2058549085967016,
          -2.2013297177369258,
          1.029334203413062,
          0.6658505916968789,
          0.9877410521297808,
          -0.2818464203437802,
          -1.3597447964312073,
          2.4212769395537834,
          -1.299942432390172,
          -0.15524826326326177,
          0.3916883566574439,
          -1.7313423598425106,
          -1.6622805495171917,
          -1.0185565403600176,
          0.7627010970746567,
          -0.08532518817702449,
          -0.8516569965662245,
          -0.7200456941020482,
          -1.0326050306331274,
          0.026972209871047384,
          1.6692530364177554,
          0.5447346880901753,
          -0.9772099755507291,
          -0.20505215340911848,
          1.377544699466779,
          -0.02750778544863355,
          -1.0268861759209806,
          0.48042606857392706,
          0.24964616544465215,
          0.23226585519574988,
          1.4743599935490965,
          -0.9114239309113393,
          -0.26516929272838974,
          -0.8814407696662248,
          0.5644885173318253,
          -0.9365485857208484,
          0.18079469610508003,
          -0.9322164514172709,
          -0.3959744485967501,
          -0.17005046646914634,
          0.800720644844463,
          1.3544665533785205,
          -0.5142071388480501,
          -0.9257040959457232,
          0.4848532290328192,
          -0.8690300211158116,
          1.4165961787653765,
          0.11968793975560481,
          -0.045198470281984295,
          -1.7535534638567378,
          -0.5195140418265799,
          0.6201664317449421,
          -1.0108242243355112,
          0.9608453690158995,
          0.1622567800033939,
          -0.1754272667393144,
          -0.6946083306499794,
          -0.5350226472105393,
          1.0316156627150348,
          0.2063118269732497,
          -0.38321707734048155,
          -0.44621363783977686,
          -0.22854040483813987,
          1.5064314307927027,
          0.06746312614081311,
          -1.588543237039727,
          -0.04316227341596491,
          -1.286277518741366,
          -0.03015779521330142,
          0.3683535131527027,
          -0.3596928546289824,
          -0.42447712512864166,
          1.0756663781453497,
          0.42033445213716225,
          0.27232442739021057
         ],
         "xaxis": "x3",
         "y": [
          -0.08186168703008381,
          -1.4125134786406384,
          -2.0216316901586966,
          -1.1144061395664848,
          -0.732862192610121,
          -0.43646635545450774,
          -2.0968581642837814,
          0.5444228495639059,
          -0.5653026207892777,
          0.30717970372559855,
          -0.4198484557612456,
          0.7253217047833895,
          -0.7910646375013571,
          0.24584288534701426,
          0.3861808927955188,
          -1.1467665661219575,
          -0.41072488955529124,
          0.724907854212759,
          -0.39513396691114294,
          -0.29734831407239337,
          0.056560161710574756,
          -0.8472438703374219,
          -1.7198020608413256,
          0.26407469568663433,
          -0.5262701489609771,
          -0.500907294123469,
          -1.0930047549095676,
          -0.595849948515295,
          1.5334319219267074,
          -0.016326454774757585,
          -0.862655734758858,
          0.5684015061380762,
          -1.2161191764324901,
          -1.1753642330024214,
          -0.18901916241119732,
          -0.5549185302065942,
          0.309228505663993,
          -0.5931070174769876,
          -0.915428386728154,
          -0.5689122102202488,
          -0.16674407057733692,
          -2.236913162354572,
          -0.5827999024163568,
          0.6902558348780791,
          0.03187805913805461,
          -0.7413489938308117,
          0.366320205190309,
          0.7571681026049312,
          0.7180974557635268,
          1.7056945385414521,
          0.1381467651427019,
          0.9469749716086889,
          -0.021766609360936398,
          -1.7222130070414399,
          -0.11193913228109911,
          -1.253127684581892,
          0.5290917355245429,
          1.233008441143637,
          -0.01708591871870062,
          -0.022413499602245302,
          0.05198424376548483,
          -1.5730535785265773,
          0.13296023573262686,
          -0.22105137596848967,
          0.11956373474779762,
          -0.19460631714752108,
          -0.22403298097538893,
          0.5143412935583017,
          0.15714090442602846,
          0.28035904683880963,
          -0.2446823288892205,
          0.7607186297922643,
          -2.2143188702913483,
          1.4096188805712955,
          0.37248522681048263,
          -0.9490918085680567,
          0.17853358552885062,
          0.002679033371037447,
          0.17851692593807564,
          -0.7190872551009492,
          0.9512063312958212,
          1.144354380327551,
          -1.559442571286232,
          -0.9176446170081553,
          1.203944757019189,
          0.4336986432940904,
          1.2922199374622567,
          1.048558465289624,
          -0.24138585364897558,
          -0.674413221419938,
          -0.4372811997781751,
          0.02560771998751411,
          0.2842463005080672,
          -0.07999094631816925,
          -0.02914694933426302,
          0.15541678795851396,
          0.4912729071280546,
          -1.0776651864274596,
          -0.9522304568959343,
          1.6836961434138082
         ],
         "yaxis": "y3"
        },
        {
         "line": {
          "color": "rgba(128, 128, 128, 1.0)",
          "dash": "solid",
          "shape": "linear",
          "width": 1.3
         },
         "marker": {
          "size": 2,
          "symbol": "circle"
         },
         "mode": "markers",
         "name": "A",
         "text": "",
         "type": "scatter",
         "x": [
          1.7407505103969458,
          -0.473625658811833,
          0.4763482791554569,
          -0.503443788110093,
          -1.6524234106956222,
          0.7785742091284228,
          1.3448449943981902,
          1.0989087778422586,
          -0.6057643172096733,
          0.14390050395121803,
          1.268561926841191,
          0.4012441967811103,
          0.7506821799539849,
          -0.05366722338064059,
          0.8262807077994988,
          0.8298981867205804,
          0.5373332833614523,
          0.5948263659763477,
          -0.6475071276837318,
          1.9010569631653391,
          -0.27468868367305754,
          0.5378506814352321,
          0.8206467943675746,
          -0.47361950864729757,
          -0.7597853188244698,
          -1.0280263582192426,
          -1.4714138189104475,
          -0.60326974116489,
          -0.7891222935210618,
          -1.8556506239147312,
          -0.9772915102154787,
          -0.5590265478505033,
          -0.0586104302087858,
          0.18789334063881433,
          0.5911587847131766,
          1.502195877008286,
          2.135212719502954,
          -0.47110865247102574,
          0.48242964964785306,
          -2.042113892991365,
          -1.585265549334744,
          -0.7769792249017701,
          -0.5774110242775337,
          0.061332315922288064,
          -0.8423136343485402,
          -2.093829957208251,
          0.2149196105450425,
          -0.11054148958153498,
          0.6142794919221846,
          2.3524516111555953,
          -0.23946309431080331,
          -0.3122612682723753,
          -0.7359319775001899,
          0.9125003492856754,
          -1.2308593645336852,
          0.48234797869985474,
          -0.16781824798996559,
          -0.407726265734108,
          -2.112080433148712,
          0.28320810356928117,
          -0.5720598606887896,
          -1.2007167022763519,
          -0.46378926758007755,
          -0.7201881939137038,
          1.5123619120906187,
          -0.18452616535485253,
          0.08332975195439289,
          -0.008388130799279036,
          0.8847320001452051,
          -0.047197665078612304,
          -1.8836750861494025,
          0.3920623992471196,
          1.1122436773640796,
          1.49968324596587,
          -0.8541232762051104,
          -0.05729369986728551,
          0.639939195067397,
          0.4728672548265309,
          1.1945158069288706,
          -0.5226707655403006,
          1.068599977165574,
          1.8393773916033966,
          2.794242138962374,
          0.4793890046669156,
          0.7105204665970878,
          -0.693464650030267,
          0.5766162119453293,
          -1.0177581644603746,
          -1.0762310093361864,
          -1.628912610210321,
          -0.7322434690099642,
          -0.9458120920390333,
          0.0008534686115661662,
          0.24866707168765367,
          -0.6508701249689524,
          1.4207092699789163,
          -1.08163087966636,
          0.8088910328077887,
          -0.8605812732051812,
          -0.1441955944846115
         ],
         "xaxis": "x4",
         "y": [
          -0.08186168703008381,
          -1.4125134786406384,
          -2.0216316901586966,
          -1.1144061395664848,
          -0.732862192610121,
          -0.43646635545450774,
          -2.0968581642837814,
          0.5444228495639059,
          -0.5653026207892777,
          0.30717970372559855,
          -0.4198484557612456,
          0.7253217047833895,
          -0.7910646375013571,
          0.24584288534701426,
          0.3861808927955188,
          -1.1467665661219575,
          -0.41072488955529124,
          0.724907854212759,
          -0.39513396691114294,
          -0.29734831407239337,
          0.056560161710574756,
          -0.8472438703374219,
          -1.7198020608413256,
          0.26407469568663433,
          -0.5262701489609771,
          -0.500907294123469,
          -1.0930047549095676,
          -0.595849948515295,
          1.5334319219267074,
          -0.016326454774757585,
          -0.862655734758858,
          0.5684015061380762,
          -1.2161191764324901,
          -1.1753642330024214,
          -0.18901916241119732,
          -0.5549185302065942,
          0.309228505663993,
          -0.5931070174769876,
          -0.915428386728154,
          -0.5689122102202488,
          -0.16674407057733692,
          -2.236913162354572,
          -0.5827999024163568,
          0.6902558348780791,
          0.03187805913805461,
          -0.7413489938308117,
          0.366320205190309,
          0.7571681026049312,
          0.7180974557635268,
          1.7056945385414521,
          0.1381467651427019,
          0.9469749716086889,
          -0.021766609360936398,
          -1.7222130070414399,
          -0.11193913228109911,
          -1.253127684581892,
          0.5290917355245429,
          1.233008441143637,
          -0.01708591871870062,
          -0.022413499602245302,
          0.05198424376548483,
          -1.5730535785265773,
          0.13296023573262686,
          -0.22105137596848967,
          0.11956373474779762,
          -0.19460631714752108,
          -0.22403298097538893,
          0.5143412935583017,
          0.15714090442602846,
          0.28035904683880963,
          -0.2446823288892205,
          0.7607186297922643,
          -2.2143188702913483,
          1.4096188805712955,
          0.37248522681048263,
          -0.9490918085680567,
          0.17853358552885062,
          0.002679033371037447,
          0.17851692593807564,
          -0.7190872551009492,
          0.9512063312958212,
          1.144354380327551,
          -1.559442571286232,
          -0.9176446170081553,
          1.203944757019189,
          0.4336986432940904,
          1.2922199374622567,
          1.048558465289624,
          -0.24138585364897558,
          -0.674413221419938,
          -0.4372811997781751,
          0.02560771998751411,
          0.2842463005080672,
          -0.07999094631816925,
          -0.02914694933426302,
          0.15541678795851396,
          0.4912729071280546,
          -1.0776651864274596,
          -0.9522304568959343,
          1.6836961434138082
         ],
         "yaxis": "y4"
        },
        {
         "line": {
          "color": "rgba(128, 128, 128, 1.0)",
          "dash": "solid",
          "shape": "linear",
          "width": 1.3
         },
         "marker": {
          "size": 2,
          "symbol": "circle"
         },
         "mode": "markers",
         "name": "B",
         "text": "",
         "type": "scatter",
         "x": [
          -0.08186168703008381,
          -1.4125134786406384,
          -2.0216316901586966,
          -1.1144061395664848,
          -0.732862192610121,
          -0.43646635545450774,
          -2.0968581642837814,
          0.5444228495639059,
          -0.5653026207892777,
          0.30717970372559855,
          -0.4198484557612456,
          0.7253217047833895,
          -0.7910646375013571,
          0.24584288534701426,
          0.3861808927955188,
          -1.1467665661219575,
          -0.41072488955529124,
          0.724907854212759,
          -0.39513396691114294,
          -0.29734831407239337,
          0.056560161710574756,
          -0.8472438703374219,
          -1.7198020608413256,
          0.26407469568663433,
          -0.5262701489609771,
          -0.500907294123469,
          -1.0930047549095676,
          -0.595849948515295,
          1.5334319219267074,
          -0.016326454774757585,
          -0.862655734758858,
          0.5684015061380762,
          -1.2161191764324901,
          -1.1753642330024214,
          -0.18901916241119732,
          -0.5549185302065942,
          0.309228505663993,
          -0.5931070174769876,
          -0.915428386728154,
          -0.5689122102202488,
          -0.16674407057733692,
          -2.236913162354572,
          -0.5827999024163568,
          0.6902558348780791,
          0.03187805913805461,
          -0.7413489938308117,
          0.366320205190309,
          0.7571681026049312,
          0.7180974557635268,
          1.7056945385414521,
          0.1381467651427019,
          0.9469749716086889,
          -0.021766609360936398,
          -1.7222130070414399,
          -0.11193913228109911,
          -1.253127684581892,
          0.5290917355245429,
          1.233008441143637,
          -0.01708591871870062,
          -0.022413499602245302,
          0.05198424376548483,
          -1.5730535785265773,
          0.13296023573262686,
          -0.22105137596848967,
          0.11956373474779762,
          -0.19460631714752108,
          -0.22403298097538893,
          0.5143412935583017,
          0.15714090442602846,
          0.28035904683880963,
          -0.2446823288892205,
          0.7607186297922643,
          -2.2143188702913483,
          1.4096188805712955,
          0.37248522681048263,
          -0.9490918085680567,
          0.17853358552885062,
          0.002679033371037447,
          0.17851692593807564,
          -0.7190872551009492,
          0.9512063312958212,
          1.144354380327551,
          -1.559442571286232,
          -0.9176446170081553,
          1.203944757019189,
          0.4336986432940904,
          1.2922199374622567,
          1.048558465289624,
          -0.24138585364897558,
          -0.674413221419938,
          -0.4372811997781751,
          0.02560771998751411,
          0.2842463005080672,
          -0.07999094631816925,
          -0.02914694933426302,
          0.15541678795851396,
          0.4912729071280546,
          -1.0776651864274596,
          -0.9522304568959343,
          1.6836961434138082
         ],
         "xaxis": "x5",
         "y": [
          -0.29031153665030285,
          0.8673880001188526,
          0.5794175830953129,
          1.1236877494288822,
          0.14560706940464604,
          -0.49238381593607494,
          -1.3585655836642285,
          0.5263910174142803,
          1.0414187484205073,
          1.1126342780473124,
          -0.2710539337610146,
          0.9229317060885099,
          2.7717055625558005,
          -0.8678266089839779,
          -2.108848157089314,
          0.7370183808313264,
          2.6345495208902894,
          -0.2621273708172376,
          0.506481601483133,
          0.5246870982503338,
          -0.14935471488468668,
          0.780998061065657,
          -1.0377295136444016,
          0.07582264190298024,
          -0.01727724156390105,
          0.14967915982555374,
          0.4006884640886359,
          -0.30028281207502294,
          1.0524568382619184,
          0.22714302212822748,
          -2.817180366152146,
          1.1268043517108106,
          -0.9275839344799525,
          -0.04835623775384268,
          0.19305027546842896,
          0.6948160785103962,
          0.10411248394502415,
          0.9364271446793379,
          0.615398985584594,
          1.052408275766237,
          -0.1305383056255062,
          -0.49587893903374713,
          0.5682691161469392,
          0.10691159637422652,
          2.069540771302056,
          0.44753139296663086,
          -0.5452979108611006,
          -0.43451678872120086,
          -1.3331180531738722,
          -0.17055424849834025,
          1.8735530864012384,
          -1.113989898123316,
          0.718666767419772,
          0.5494073873928873,
          -0.38327337314058013,
          -0.7208312798888825,
          -1.1417601621614262,
          0.6441031369617723,
          -0.14138573019705505,
          -1.1630568098276415,
          -0.6735869103228915,
          2.5146014801982695,
          1.4879552657435673,
          2.165414249826483,
          -1.180246064142854,
          -0.21659994578619016,
          -0.09596937471604866,
          1.0926016449982687,
          -1.666241916907615,
          -0.8078351895602224,
          -0.8523387749589654,
          -0.8134655525065212,
          -0.07019443259751783,
          2.714118708753477,
          0.5503739058712013,
          1.0703343139772825,
          -0.21486650994147882,
          -0.9601203710375531,
          -0.23025194155418327,
          -0.9328113212548568,
          1.89540655559761,
          0.09732881700465994,
          -0.28483495768991385,
          1.6464136770714903,
          -1.9310211656064404,
          -2.6132141844277355,
          -0.25318296893388254,
          -0.5237449692281284,
          -1.4088071744847528,
          1.095281759059276,
          0.7413258265163059,
          0.391225376839355,
          0.6568604312150156,
          -0.7918186884461557,
          -0.623628752463788,
          0.5213011561323011,
          0.5701964420195289,
          -1.961135212024153,
          -0.13753065855645294,
          1.270813728730286
         ],
         "yaxis": "y5"
        },
        {
         "histfunc": "count",
         "histnorm": "",
         "marker": {
          "color": "rgba(55, 128, 191, 1.0)",
          "line": {
           "color": "#4D5663",
           "width": 1.3
          }
         },
         "name": "B",
         "nbinsx": 10,
         "opacity": 0.8,
         "orientation": "v",
         "type": "histogram",
         "x": [
          -0.29031153665030285,
          0.8673880001188526,
          0.5794175830953129,
          1.1236877494288822,
          0.14560706940464604,
          -0.49238381593607494,
          -1.3585655836642285,
          0.5263910174142803,
          1.0414187484205073,
          1.1126342780473124,
          -0.2710539337610146,
          0.9229317060885099,
          2.7717055625558005,
          -0.8678266089839779,
          -2.108848157089314,
          0.7370183808313264,
          2.6345495208902894,
          -0.2621273708172376,
          0.506481601483133,
          0.5246870982503338,
          -0.14935471488468668,
          0.780998061065657,
          -1.0377295136444016,
          0.07582264190298024,
          -0.01727724156390105,
          0.14967915982555374,
          0.4006884640886359,
          -0.30028281207502294,
          1.0524568382619184,
          0.22714302212822748,
          -2.817180366152146,
          1.1268043517108106,
          -0.9275839344799525,
          -0.04835623775384268,
          0.19305027546842896,
          0.6948160785103962,
          0.10411248394502415,
          0.9364271446793379,
          0.615398985584594,
          1.052408275766237,
          -0.1305383056255062,
          -0.49587893903374713,
          0.5682691161469392,
          0.10691159637422652,
          2.069540771302056,
          0.44753139296663086,
          -0.5452979108611006,
          -0.43451678872120086,
          -1.3331180531738722,
          -0.17055424849834025,
          1.8735530864012384,
          -1.113989898123316,
          0.718666767419772,
          0.5494073873928873,
          -0.38327337314058013,
          -0.7208312798888825,
          -1.1417601621614262,
          0.6441031369617723,
          -0.14138573019705505,
          -1.1630568098276415,
          -0.6735869103228915,
          2.5146014801982695,
          1.4879552657435673,
          2.165414249826483,
          -1.180246064142854,
          -0.21659994578619016,
          -0.09596937471604866,
          1.0926016449982687,
          -1.666241916907615,
          -0.8078351895602224,
          -0.8523387749589654,
          -0.8134655525065212,
          -0.07019443259751783,
          2.714118708753477,
          0.5503739058712013,
          1.0703343139772825,
          -0.21486650994147882,
          -0.9601203710375531,
          -0.23025194155418327,
          -0.9328113212548568,
          1.89540655559761,
          0.09732881700465994,
          -0.28483495768991385,
          1.6464136770714903,
          -1.9310211656064404,
          -2.6132141844277355,
          -0.25318296893388254,
          -0.5237449692281284,
          -1.4088071744847528,
          1.095281759059276,
          0.7413258265163059,
          0.391225376839355,
          0.6568604312150156,
          -0.7918186884461557,
          -0.623628752463788,
          0.5213011561323011,
          0.5701964420195289,
          -1.961135212024153,
          -0.13753065855645294,
          1.270813728730286
         ],
         "xaxis": "x6",
         "yaxis": "y6"
        },
        {
         "line": {
          "color": "rgba(128, 128, 128, 1.0)",
          "dash": "solid",
          "shape": "linear",
          "width": 1.3
         },
         "marker": {
          "size": 2,
          "symbol": "circle"
         },
         "mode": "markers",
         "name": "B",
         "text": "",
         "type": "scatter",
         "x": [
          -0.1277892268400184,
          -0.9644892825607035,
          0.4086072098110892,
          -0.5381608667950197,
          0.6142286556889565,
          0.8313827520714897,
          1.412300923492472,
          1.44694462875951,
          -0.863108434421125,
          0.8995275380676993,
          -0.2548642351727179,
          0.30834683701169596,
          -1.2528764314368968,
          -1.2830100944472964,
          -3.0772421724011187,
          1.6852197533581375,
          -0.7192311281669611,
          -1.175417759615233,
          -0.7215218207013354,
          0.8255995014014403,
          -0.028458471956432644,
          -0.5631594447265935,
          -0.4165927364191478,
          1.290353600977836,
          -0.6686456379782448,
          1.2058549085967016,
          -2.2013297177369258,
          1.029334203413062,
          0.6658505916968789,
          0.9877410521297808,
          -0.2818464203437802,
          -1.3597447964312073,
          2.4212769395537834,
          -1.299942432390172,
          -0.15524826326326177,
          0.3916883566574439,
          -1.7313423598425106,
          -1.6622805495171917,
          -1.0185565403600176,
          0.7627010970746567,
          -0.08532518817702449,
          -0.8516569965662245,
          -0.7200456941020482,
          -1.0326050306331274,
          0.026972209871047384,
          1.6692530364177554,
          0.5447346880901753,
          -0.9772099755507291,
          -0.20505215340911848,
          1.377544699466779,
          -0.02750778544863355,
          -1.0268861759209806,
          0.48042606857392706,
          0.24964616544465215,
          0.23226585519574988,
          1.4743599935490965,
          -0.9114239309113393,
          -0.26516929272838974,
          -0.8814407696662248,
          0.5644885173318253,
          -0.9365485857208484,
          0.18079469610508003,
          -0.9322164514172709,
          -0.3959744485967501,
          -0.17005046646914634,
          0.800720644844463,
          1.3544665533785205,
          -0.5142071388480501,
          -0.9257040959457232,
          0.4848532290328192,
          -0.8690300211158116,
          1.4165961787653765,
          0.11968793975560481,
          -0.045198470281984295,
          -1.7535534638567378,
          -0.5195140418265799,
          0.6201664317449421,
          -1.0108242243355112,
          0.9608453690158995,
          0.1622567800033939,
          -0.1754272667393144,
          -0.6946083306499794,
          -0.5350226472105393,
          1.0316156627150348,
          0.2063118269732497,
          -0.38321707734048155,
          -0.44621363783977686,
          -0.22854040483813987,
          1.5064314307927027,
          0.06746312614081311,
          -1.588543237039727,
          -0.04316227341596491,
          -1.286277518741366,
          -0.03015779521330142,
          0.3683535131527027,
          -0.3596928546289824,
          -0.42447712512864166,
          1.0756663781453497,
          0.42033445213716225,
          0.27232442739021057
         ],
         "xaxis": "x7",
         "y": [
          -0.29031153665030285,
          0.8673880001188526,
          0.5794175830953129,
          1.1236877494288822,
          0.14560706940464604,
          -0.49238381593607494,
          -1.3585655836642285,
          0.5263910174142803,
          1.0414187484205073,
          1.1126342780473124,
          -0.2710539337610146,
          0.9229317060885099,
          2.7717055625558005,
          -0.8678266089839779,
          -2.108848157089314,
          0.7370183808313264,
          2.6345495208902894,
          -0.2621273708172376,
          0.506481601483133,
          0.5246870982503338,
          -0.14935471488468668,
          0.780998061065657,
          -1.0377295136444016,
          0.07582264190298024,
          -0.01727724156390105,
          0.14967915982555374,
          0.4006884640886359,
          -0.30028281207502294,
          1.0524568382619184,
          0.22714302212822748,
          -2.817180366152146,
          1.1268043517108106,
          -0.9275839344799525,
          -0.04835623775384268,
          0.19305027546842896,
          0.6948160785103962,
          0.10411248394502415,
          0.9364271446793379,
          0.615398985584594,
          1.052408275766237,
          -0.1305383056255062,
          -0.49587893903374713,
          0.5682691161469392,
          0.10691159637422652,
          2.069540771302056,
          0.44753139296663086,
          -0.5452979108611006,
          -0.43451678872120086,
          -1.3331180531738722,
          -0.17055424849834025,
          1.8735530864012384,
          -1.113989898123316,
          0.718666767419772,
          0.5494073873928873,
          -0.38327337314058013,
          -0.7208312798888825,
          -1.1417601621614262,
          0.6441031369617723,
          -0.14138573019705505,
          -1.1630568098276415,
          -0.6735869103228915,
          2.5146014801982695,
          1.4879552657435673,
          2.165414249826483,
          -1.180246064142854,
          -0.21659994578619016,
          -0.09596937471604866,
          1.0926016449982687,
          -1.666241916907615,
          -0.8078351895602224,
          -0.8523387749589654,
          -0.8134655525065212,
          -0.07019443259751783,
          2.714118708753477,
          0.5503739058712013,
          1.0703343139772825,
          -0.21486650994147882,
          -0.9601203710375531,
          -0.23025194155418327,
          -0.9328113212548568,
          1.89540655559761,
          0.09732881700465994,
          -0.28483495768991385,
          1.6464136770714903,
          -1.9310211656064404,
          -2.6132141844277355,
          -0.25318296893388254,
          -0.5237449692281284,
          -1.4088071744847528,
          1.095281759059276,
          0.7413258265163059,
          0.391225376839355,
          0.6568604312150156,
          -0.7918186884461557,
          -0.623628752463788,
          0.5213011561323011,
          0.5701964420195289,
          -1.961135212024153,
          -0.13753065855645294,
          1.270813728730286
         ],
         "yaxis": "y7"
        },
        {
         "line": {
          "color": "rgba(128, 128, 128, 1.0)",
          "dash": "solid",
          "shape": "linear",
          "width": 1.3
         },
         "marker": {
          "size": 2,
          "symbol": "circle"
         },
         "mode": "markers",
         "name": "B",
         "text": "",
         "type": "scatter",
         "x": [
          1.7407505103969458,
          -0.473625658811833,
          0.4763482791554569,
          -0.503443788110093,
          -1.6524234106956222,
          0.7785742091284228,
          1.3448449943981902,
          1.0989087778422586,
          -0.6057643172096733,
          0.14390050395121803,
          1.268561926841191,
          0.4012441967811103,
          0.7506821799539849,
          -0.05366722338064059,
          0.8262807077994988,
          0.8298981867205804,
          0.5373332833614523,
          0.5948263659763477,
          -0.6475071276837318,
          1.9010569631653391,
          -0.27468868367305754,
          0.5378506814352321,
          0.8206467943675746,
          -0.47361950864729757,
          -0.7597853188244698,
          -1.0280263582192426,
          -1.4714138189104475,
          -0.60326974116489,
          -0.7891222935210618,
          -1.8556506239147312,
          -0.9772915102154787,
          -0.5590265478505033,
          -0.0586104302087858,
          0.18789334063881433,
          0.5911587847131766,
          1.502195877008286,
          2.135212719502954,
          -0.47110865247102574,
          0.48242964964785306,
          -2.042113892991365,
          -1.585265549334744,
          -0.7769792249017701,
          -0.5774110242775337,
          0.061332315922288064,
          -0.8423136343485402,
          -2.093829957208251,
          0.2149196105450425,
          -0.11054148958153498,
          0.6142794919221846,
          2.3524516111555953,
          -0.23946309431080331,
          -0.3122612682723753,
          -0.7359319775001899,
          0.9125003492856754,
          -1.2308593645336852,
          0.48234797869985474,
          -0.16781824798996559,
          -0.407726265734108,
          -2.112080433148712,
          0.28320810356928117,
          -0.5720598606887896,
          -1.2007167022763519,
          -0.46378926758007755,
          -0.7201881939137038,
          1.5123619120906187,
          -0.18452616535485253,
          0.08332975195439289,
          -0.008388130799279036,
          0.8847320001452051,
          -0.047197665078612304,
          -1.8836750861494025,
          0.3920623992471196,
          1.1122436773640796,
          1.49968324596587,
          -0.8541232762051104,
          -0.05729369986728551,
          0.639939195067397,
          0.4728672548265309,
          1.1945158069288706,
          -0.5226707655403006,
          1.068599977165574,
          1.8393773916033966,
          2.794242138962374,
          0.4793890046669156,
          0.7105204665970878,
          -0.693464650030267,
          0.5766162119453293,
          -1.0177581644603746,
          -1.0762310093361864,
          -1.628912610210321,
          -0.7322434690099642,
          -0.9458120920390333,
          0.0008534686115661662,
          0.24866707168765367,
          -0.6508701249689524,
          1.4207092699789163,
          -1.08163087966636,
          0.8088910328077887,
          -0.8605812732051812,
          -0.1441955944846115
         ],
         "xaxis": "x8",
         "y": [
          -0.29031153665030285,
          0.8673880001188526,
          0.5794175830953129,
          1.1236877494288822,
          0.14560706940464604,
          -0.49238381593607494,
          -1.3585655836642285,
          0.5263910174142803,
          1.0414187484205073,
          1.1126342780473124,
          -0.2710539337610146,
          0.9229317060885099,
          2.7717055625558005,
          -0.8678266089839779,
          -2.108848157089314,
          0.7370183808313264,
          2.6345495208902894,
          -0.2621273708172376,
          0.506481601483133,
          0.5246870982503338,
          -0.14935471488468668,
          0.780998061065657,
          -1.0377295136444016,
          0.07582264190298024,
          -0.01727724156390105,
          0.14967915982555374,
          0.4006884640886359,
          -0.30028281207502294,
          1.0524568382619184,
          0.22714302212822748,
          -2.817180366152146,
          1.1268043517108106,
          -0.9275839344799525,
          -0.04835623775384268,
          0.19305027546842896,
          0.6948160785103962,
          0.10411248394502415,
          0.9364271446793379,
          0.615398985584594,
          1.052408275766237,
          -0.1305383056255062,
          -0.49587893903374713,
          0.5682691161469392,
          0.10691159637422652,
          2.069540771302056,
          0.44753139296663086,
          -0.5452979108611006,
          -0.43451678872120086,
          -1.3331180531738722,
          -0.17055424849834025,
          1.8735530864012384,
          -1.113989898123316,
          0.718666767419772,
          0.5494073873928873,
          -0.38327337314058013,
          -0.7208312798888825,
          -1.1417601621614262,
          0.6441031369617723,
          -0.14138573019705505,
          -1.1630568098276415,
          -0.6735869103228915,
          2.5146014801982695,
          1.4879552657435673,
          2.165414249826483,
          -1.180246064142854,
          -0.21659994578619016,
          -0.09596937471604866,
          1.0926016449982687,
          -1.666241916907615,
          -0.8078351895602224,
          -0.8523387749589654,
          -0.8134655525065212,
          -0.07019443259751783,
          2.714118708753477,
          0.5503739058712013,
          1.0703343139772825,
          -0.21486650994147882,
          -0.9601203710375531,
          -0.23025194155418327,
          -0.9328113212548568,
          1.89540655559761,
          0.09732881700465994,
          -0.28483495768991385,
          1.6464136770714903,
          -1.9310211656064404,
          -2.6132141844277355,
          -0.25318296893388254,
          -0.5237449692281284,
          -1.4088071744847528,
          1.095281759059276,
          0.7413258265163059,
          0.391225376839355,
          0.6568604312150156,
          -0.7918186884461557,
          -0.623628752463788,
          0.5213011561323011,
          0.5701964420195289,
          -1.961135212024153,
          -0.13753065855645294,
          1.270813728730286
         ],
         "yaxis": "y8"
        },
        {
         "line": {
          "color": "rgba(128, 128, 128, 1.0)",
          "dash": "solid",
          "shape": "linear",
          "width": 1.3
         },
         "marker": {
          "size": 2,
          "symbol": "circle"
         },
         "mode": "markers",
         "name": "C",
         "text": "",
         "type": "scatter",
         "x": [
          -0.08186168703008381,
          -1.4125134786406384,
          -2.0216316901586966,
          -1.1144061395664848,
          -0.732862192610121,
          -0.43646635545450774,
          -2.0968581642837814,
          0.5444228495639059,
          -0.5653026207892777,
          0.30717970372559855,
          -0.4198484557612456,
          0.7253217047833895,
          -0.7910646375013571,
          0.24584288534701426,
          0.3861808927955188,
          -1.1467665661219575,
          -0.41072488955529124,
          0.724907854212759,
          -0.39513396691114294,
          -0.29734831407239337,
          0.056560161710574756,
          -0.8472438703374219,
          -1.7198020608413256,
          0.26407469568663433,
          -0.5262701489609771,
          -0.500907294123469,
          -1.0930047549095676,
          -0.595849948515295,
          1.5334319219267074,
          -0.016326454774757585,
          -0.862655734758858,
          0.5684015061380762,
          -1.2161191764324901,
          -1.1753642330024214,
          -0.18901916241119732,
          -0.5549185302065942,
          0.309228505663993,
          -0.5931070174769876,
          -0.915428386728154,
          -0.5689122102202488,
          -0.16674407057733692,
          -2.236913162354572,
          -0.5827999024163568,
          0.6902558348780791,
          0.03187805913805461,
          -0.7413489938308117,
          0.366320205190309,
          0.7571681026049312,
          0.7180974557635268,
          1.7056945385414521,
          0.1381467651427019,
          0.9469749716086889,
          -0.021766609360936398,
          -1.7222130070414399,
          -0.11193913228109911,
          -1.253127684581892,
          0.5290917355245429,
          1.233008441143637,
          -0.01708591871870062,
          -0.022413499602245302,
          0.05198424376548483,
          -1.5730535785265773,
          0.13296023573262686,
          -0.22105137596848967,
          0.11956373474779762,
          -0.19460631714752108,
          -0.22403298097538893,
          0.5143412935583017,
          0.15714090442602846,
          0.28035904683880963,
          -0.2446823288892205,
          0.7607186297922643,
          -2.2143188702913483,
          1.4096188805712955,
          0.37248522681048263,
          -0.9490918085680567,
          0.17853358552885062,
          0.002679033371037447,
          0.17851692593807564,
          -0.7190872551009492,
          0.9512063312958212,
          1.144354380327551,
          -1.559442571286232,
          -0.9176446170081553,
          1.203944757019189,
          0.4336986432940904,
          1.2922199374622567,
          1.048558465289624,
          -0.24138585364897558,
          -0.674413221419938,
          -0.4372811997781751,
          0.02560771998751411,
          0.2842463005080672,
          -0.07999094631816925,
          -0.02914694933426302,
          0.15541678795851396,
          0.4912729071280546,
          -1.0776651864274596,
          -0.9522304568959343,
          1.6836961434138082
         ],
         "xaxis": "x9",
         "y": [
          -0.1277892268400184,
          -0.9644892825607035,
          0.4086072098110892,
          -0.5381608667950197,
          0.6142286556889565,
          0.8313827520714897,
          1.412300923492472,
          1.44694462875951,
          -0.863108434421125,
          0.8995275380676993,
          -0.2548642351727179,
          0.30834683701169596,
          -1.2528764314368968,
          -1.2830100944472964,
          -3.0772421724011187,
          1.6852197533581375,
          -0.7192311281669611,
          -1.175417759615233,
          -0.7215218207013354,
          0.8255995014014403,
          -0.028458471956432644,
          -0.5631594447265935,
          -0.4165927364191478,
          1.290353600977836,
          -0.6686456379782448,
          1.2058549085967016,
          -2.2013297177369258,
          1.029334203413062,
          0.6658505916968789,
          0.9877410521297808,
          -0.2818464203437802,
          -1.3597447964312073,
          2.4212769395537834,
          -1.299942432390172,
          -0.15524826326326177,
          0.3916883566574439,
          -1.7313423598425106,
          -1.6622805495171917,
          -1.0185565403600176,
          0.7627010970746567,
          -0.08532518817702449,
          -0.8516569965662245,
          -0.7200456941020482,
          -1.0326050306331274,
          0.026972209871047384,
          1.6692530364177554,
          0.5447346880901753,
          -0.9772099755507291,
          -0.20505215340911848,
          1.377544699466779,
          -0.02750778544863355,
          -1.0268861759209806,
          0.48042606857392706,
          0.24964616544465215,
          0.23226585519574988,
          1.4743599935490965,
          -0.9114239309113393,
          -0.26516929272838974,
          -0.8814407696662248,
          0.5644885173318253,
          -0.9365485857208484,
          0.18079469610508003,
          -0.9322164514172709,
          -0.3959744485967501,
          -0.17005046646914634,
          0.800720644844463,
          1.3544665533785205,
          -0.5142071388480501,
          -0.9257040959457232,
          0.4848532290328192,
          -0.8690300211158116,
          1.4165961787653765,
          0.11968793975560481,
          -0.045198470281984295,
          -1.7535534638567378,
          -0.5195140418265799,
          0.6201664317449421,
          -1.0108242243355112,
          0.9608453690158995,
          0.1622567800033939,
          -0.1754272667393144,
          -0.6946083306499794,
          -0.5350226472105393,
          1.0316156627150348,
          0.2063118269732497,
          -0.38321707734048155,
          -0.44621363783977686,
          -0.22854040483813987,
          1.5064314307927027,
          0.06746312614081311,
          -1.588543237039727,
          -0.04316227341596491,
          -1.286277518741366,
          -0.03015779521330142,
          0.3683535131527027,
          -0.3596928546289824,
          -0.42447712512864166,
          1.0756663781453497,
          0.42033445213716225,
          0.27232442739021057
         ],
         "yaxis": "y9"
        },
        {
         "line": {
          "color": "rgba(128, 128, 128, 1.0)",
          "dash": "solid",
          "shape": "linear",
          "width": 1.3
         },
         "marker": {
          "size": 2,
          "symbol": "circle"
         },
         "mode": "markers",
         "name": "C",
         "text": "",
         "type": "scatter",
         "x": [
          -0.29031153665030285,
          0.8673880001188526,
          0.5794175830953129,
          1.1236877494288822,
          0.14560706940464604,
          -0.49238381593607494,
          -1.3585655836642285,
          0.5263910174142803,
          1.0414187484205073,
          1.1126342780473124,
          -0.2710539337610146,
          0.9229317060885099,
          2.7717055625558005,
          -0.8678266089839779,
          -2.108848157089314,
          0.7370183808313264,
          2.6345495208902894,
          -0.2621273708172376,
          0.506481601483133,
          0.5246870982503338,
          -0.14935471488468668,
          0.780998061065657,
          -1.0377295136444016,
          0.07582264190298024,
          -0.01727724156390105,
          0.14967915982555374,
          0.4006884640886359,
          -0.30028281207502294,
          1.0524568382619184,
          0.22714302212822748,
          -2.817180366152146,
          1.1268043517108106,
          -0.9275839344799525,
          -0.04835623775384268,
          0.19305027546842896,
          0.6948160785103962,
          0.10411248394502415,
          0.9364271446793379,
          0.615398985584594,
          1.052408275766237,
          -0.1305383056255062,
          -0.49587893903374713,
          0.5682691161469392,
          0.10691159637422652,
          2.069540771302056,
          0.44753139296663086,
          -0.5452979108611006,
          -0.43451678872120086,
          -1.3331180531738722,
          -0.17055424849834025,
          1.8735530864012384,
          -1.113989898123316,
          0.718666767419772,
          0.5494073873928873,
          -0.38327337314058013,
          -0.7208312798888825,
          -1.1417601621614262,
          0.6441031369617723,
          -0.14138573019705505,
          -1.1630568098276415,
          -0.6735869103228915,
          2.5146014801982695,
          1.4879552657435673,
          2.165414249826483,
          -1.180246064142854,
          -0.21659994578619016,
          -0.09596937471604866,
          1.0926016449982687,
          -1.666241916907615,
          -0.8078351895602224,
          -0.8523387749589654,
          -0.8134655525065212,
          -0.07019443259751783,
          2.714118708753477,
          0.5503739058712013,
          1.0703343139772825,
          -0.21486650994147882,
          -0.9601203710375531,
          -0.23025194155418327,
          -0.9328113212548568,
          1.89540655559761,
          0.09732881700465994,
          -0.28483495768991385,
          1.6464136770714903,
          -1.9310211656064404,
          -2.6132141844277355,
          -0.25318296893388254,
          -0.5237449692281284,
          -1.4088071744847528,
          1.095281759059276,
          0.7413258265163059,
          0.391225376839355,
          0.6568604312150156,
          -0.7918186884461557,
          -0.623628752463788,
          0.5213011561323011,
          0.5701964420195289,
          -1.961135212024153,
          -0.13753065855645294,
          1.270813728730286
         ],
         "xaxis": "x10",
         "y": [
          -0.1277892268400184,
          -0.9644892825607035,
          0.4086072098110892,
          -0.5381608667950197,
          0.6142286556889565,
          0.8313827520714897,
          1.412300923492472,
          1.44694462875951,
          -0.863108434421125,
          0.8995275380676993,
          -0.2548642351727179,
          0.30834683701169596,
          -1.2528764314368968,
          -1.2830100944472964,
          -3.0772421724011187,
          1.6852197533581375,
          -0.7192311281669611,
          -1.175417759615233,
          -0.7215218207013354,
          0.8255995014014403,
          -0.028458471956432644,
          -0.5631594447265935,
          -0.4165927364191478,
          1.290353600977836,
          -0.6686456379782448,
          1.2058549085967016,
          -2.2013297177369258,
          1.029334203413062,
          0.6658505916968789,
          0.9877410521297808,
          -0.2818464203437802,
          -1.3597447964312073,
          2.4212769395537834,
          -1.299942432390172,
          -0.15524826326326177,
          0.3916883566574439,
          -1.7313423598425106,
          -1.6622805495171917,
          -1.0185565403600176,
          0.7627010970746567,
          -0.08532518817702449,
          -0.8516569965662245,
          -0.7200456941020482,
          -1.0326050306331274,
          0.026972209871047384,
          1.6692530364177554,
          0.5447346880901753,
          -0.9772099755507291,
          -0.20505215340911848,
          1.377544699466779,
          -0.02750778544863355,
          -1.0268861759209806,
          0.48042606857392706,
          0.24964616544465215,
          0.23226585519574988,
          1.4743599935490965,
          -0.9114239309113393,
          -0.26516929272838974,
          -0.8814407696662248,
          0.5644885173318253,
          -0.9365485857208484,
          0.18079469610508003,
          -0.9322164514172709,
          -0.3959744485967501,
          -0.17005046646914634,
          0.800720644844463,
          1.3544665533785205,
          -0.5142071388480501,
          -0.9257040959457232,
          0.4848532290328192,
          -0.8690300211158116,
          1.4165961787653765,
          0.11968793975560481,
          -0.045198470281984295,
          -1.7535534638567378,
          -0.5195140418265799,
          0.6201664317449421,
          -1.0108242243355112,
          0.9608453690158995,
          0.1622567800033939,
          -0.1754272667393144,
          -0.6946083306499794,
          -0.5350226472105393,
          1.0316156627150348,
          0.2063118269732497,
          -0.38321707734048155,
          -0.44621363783977686,
          -0.22854040483813987,
          1.5064314307927027,
          0.06746312614081311,
          -1.588543237039727,
          -0.04316227341596491,
          -1.286277518741366,
          -0.03015779521330142,
          0.3683535131527027,
          -0.3596928546289824,
          -0.42447712512864166,
          1.0756663781453497,
          0.42033445213716225,
          0.27232442739021057
         ],
         "yaxis": "y10"
        },
        {
         "histfunc": "count",
         "histnorm": "",
         "marker": {
          "color": "rgba(50, 171, 96, 1.0)",
          "line": {
           "color": "#4D5663",
           "width": 1.3
          }
         },
         "name": "C",
         "nbinsx": 10,
         "opacity": 0.8,
         "orientation": "v",
         "type": "histogram",
         "x": [
          -0.1277892268400184,
          -0.9644892825607035,
          0.4086072098110892,
          -0.5381608667950197,
          0.6142286556889565,
          0.8313827520714897,
          1.412300923492472,
          1.44694462875951,
          -0.863108434421125,
          0.8995275380676993,
          -0.2548642351727179,
          0.30834683701169596,
          -1.2528764314368968,
          -1.2830100944472964,
          -3.0772421724011187,
          1.6852197533581375,
          -0.7192311281669611,
          -1.175417759615233,
          -0.7215218207013354,
          0.8255995014014403,
          -0.028458471956432644,
          -0.5631594447265935,
          -0.4165927364191478,
          1.290353600977836,
          -0.6686456379782448,
          1.2058549085967016,
          -2.2013297177369258,
          1.029334203413062,
          0.6658505916968789,
          0.9877410521297808,
          -0.2818464203437802,
          -1.3597447964312073,
          2.4212769395537834,
          -1.299942432390172,
          -0.15524826326326177,
          0.3916883566574439,
          -1.7313423598425106,
          -1.6622805495171917,
          -1.0185565403600176,
          0.7627010970746567,
          -0.08532518817702449,
          -0.8516569965662245,
          -0.7200456941020482,
          -1.0326050306331274,
          0.026972209871047384,
          1.6692530364177554,
          0.5447346880901753,
          -0.9772099755507291,
          -0.20505215340911848,
          1.377544699466779,
          -0.02750778544863355,
          -1.0268861759209806,
          0.48042606857392706,
          0.24964616544465215,
          0.23226585519574988,
          1.4743599935490965,
          -0.9114239309113393,
          -0.26516929272838974,
          -0.8814407696662248,
          0.5644885173318253,
          -0.9365485857208484,
          0.18079469610508003,
          -0.9322164514172709,
          -0.3959744485967501,
          -0.17005046646914634,
          0.800720644844463,
          1.3544665533785205,
          -0.5142071388480501,
          -0.9257040959457232,
          0.4848532290328192,
          -0.8690300211158116,
          1.4165961787653765,
          0.11968793975560481,
          -0.045198470281984295,
          -1.7535534638567378,
          -0.5195140418265799,
          0.6201664317449421,
          -1.0108242243355112,
          0.9608453690158995,
          0.1622567800033939,
          -0.1754272667393144,
          -0.6946083306499794,
          -0.5350226472105393,
          1.0316156627150348,
          0.2063118269732497,
          -0.38321707734048155,
          -0.44621363783977686,
          -0.22854040483813987,
          1.5064314307927027,
          0.06746312614081311,
          -1.588543237039727,
          -0.04316227341596491,
          -1.286277518741366,
          -0.03015779521330142,
          0.3683535131527027,
          -0.3596928546289824,
          -0.42447712512864166,
          1.0756663781453497,
          0.42033445213716225,
          0.27232442739021057
         ],
         "xaxis": "x11",
         "yaxis": "y11"
        },
        {
         "line": {
          "color": "rgba(128, 128, 128, 1.0)",
          "dash": "solid",
          "shape": "linear",
          "width": 1.3
         },
         "marker": {
          "size": 2,
          "symbol": "circle"
         },
         "mode": "markers",
         "name": "C",
         "text": "",
         "type": "scatter",
         "x": [
          1.7407505103969458,
          -0.473625658811833,
          0.4763482791554569,
          -0.503443788110093,
          -1.6524234106956222,
          0.7785742091284228,
          1.3448449943981902,
          1.0989087778422586,
          -0.6057643172096733,
          0.14390050395121803,
          1.268561926841191,
          0.4012441967811103,
          0.7506821799539849,
          -0.05366722338064059,
          0.8262807077994988,
          0.8298981867205804,
          0.5373332833614523,
          0.5948263659763477,
          -0.6475071276837318,
          1.9010569631653391,
          -0.27468868367305754,
          0.5378506814352321,
          0.8206467943675746,
          -0.47361950864729757,
          -0.7597853188244698,
          -1.0280263582192426,
          -1.4714138189104475,
          -0.60326974116489,
          -0.7891222935210618,
          -1.8556506239147312,
          -0.9772915102154787,
          -0.5590265478505033,
          -0.0586104302087858,
          0.18789334063881433,
          0.5911587847131766,
          1.502195877008286,
          2.135212719502954,
          -0.47110865247102574,
          0.48242964964785306,
          -2.042113892991365,
          -1.585265549334744,
          -0.7769792249017701,
          -0.5774110242775337,
          0.061332315922288064,
          -0.8423136343485402,
          -2.093829957208251,
          0.2149196105450425,
          -0.11054148958153498,
          0.6142794919221846,
          2.3524516111555953,
          -0.23946309431080331,
          -0.3122612682723753,
          -0.7359319775001899,
          0.9125003492856754,
          -1.2308593645336852,
          0.48234797869985474,
          -0.16781824798996559,
          -0.407726265734108,
          -2.112080433148712,
          0.28320810356928117,
          -0.5720598606887896,
          -1.2007167022763519,
          -0.46378926758007755,
          -0.7201881939137038,
          1.5123619120906187,
          -0.18452616535485253,
          0.08332975195439289,
          -0.008388130799279036,
          0.8847320001452051,
          -0.047197665078612304,
          -1.8836750861494025,
          0.3920623992471196,
          1.1122436773640796,
          1.49968324596587,
          -0.8541232762051104,
          -0.05729369986728551,
          0.639939195067397,
          0.4728672548265309,
          1.1945158069288706,
          -0.5226707655403006,
          1.068599977165574,
          1.8393773916033966,
          2.794242138962374,
          0.4793890046669156,
          0.7105204665970878,
          -0.693464650030267,
          0.5766162119453293,
          -1.0177581644603746,
          -1.0762310093361864,
          -1.628912610210321,
          -0.7322434690099642,
          -0.9458120920390333,
          0.0008534686115661662,
          0.24866707168765367,
          -0.6508701249689524,
          1.4207092699789163,
          -1.08163087966636,
          0.8088910328077887,
          -0.8605812732051812,
          -0.1441955944846115
         ],
         "xaxis": "x12",
         "y": [
          -0.1277892268400184,
          -0.9644892825607035,
          0.4086072098110892,
          -0.5381608667950197,
          0.6142286556889565,
          0.8313827520714897,
          1.412300923492472,
          1.44694462875951,
          -0.863108434421125,
          0.8995275380676993,
          -0.2548642351727179,
          0.30834683701169596,
          -1.2528764314368968,
          -1.2830100944472964,
          -3.0772421724011187,
          1.6852197533581375,
          -0.7192311281669611,
          -1.175417759615233,
          -0.7215218207013354,
          0.8255995014014403,
          -0.028458471956432644,
          -0.5631594447265935,
          -0.4165927364191478,
          1.290353600977836,
          -0.6686456379782448,
          1.2058549085967016,
          -2.2013297177369258,
          1.029334203413062,
          0.6658505916968789,
          0.9877410521297808,
          -0.2818464203437802,
          -1.3597447964312073,
          2.4212769395537834,
          -1.299942432390172,
          -0.15524826326326177,
          0.3916883566574439,
          -1.7313423598425106,
          -1.6622805495171917,
          -1.0185565403600176,
          0.7627010970746567,
          -0.08532518817702449,
          -0.8516569965662245,
          -0.7200456941020482,
          -1.0326050306331274,
          0.026972209871047384,
          1.6692530364177554,
          0.5447346880901753,
          -0.9772099755507291,
          -0.20505215340911848,
          1.377544699466779,
          -0.02750778544863355,
          -1.0268861759209806,
          0.48042606857392706,
          0.24964616544465215,
          0.23226585519574988,
          1.4743599935490965,
          -0.9114239309113393,
          -0.26516929272838974,
          -0.8814407696662248,
          0.5644885173318253,
          -0.9365485857208484,
          0.18079469610508003,
          -0.9322164514172709,
          -0.3959744485967501,
          -0.17005046646914634,
          0.800720644844463,
          1.3544665533785205,
          -0.5142071388480501,
          -0.9257040959457232,
          0.4848532290328192,
          -0.8690300211158116,
          1.4165961787653765,
          0.11968793975560481,
          -0.045198470281984295,
          -1.7535534638567378,
          -0.5195140418265799,
          0.6201664317449421,
          -1.0108242243355112,
          0.9608453690158995,
          0.1622567800033939,
          -0.1754272667393144,
          -0.6946083306499794,
          -0.5350226472105393,
          1.0316156627150348,
          0.2063118269732497,
          -0.38321707734048155,
          -0.44621363783977686,
          -0.22854040483813987,
          1.5064314307927027,
          0.06746312614081311,
          -1.588543237039727,
          -0.04316227341596491,
          -1.286277518741366,
          -0.03015779521330142,
          0.3683535131527027,
          -0.3596928546289824,
          -0.42447712512864166,
          1.0756663781453497,
          0.42033445213716225,
          0.27232442739021057
         ],
         "yaxis": "y12"
        },
        {
         "line": {
          "color": "rgba(128, 128, 128, 1.0)",
          "dash": "solid",
          "shape": "linear",
          "width": 1.3
         },
         "marker": {
          "size": 2,
          "symbol": "circle"
         },
         "mode": "markers",
         "name": "D",
         "text": "",
         "type": "scatter",
         "x": [
          -0.08186168703008381,
          -1.4125134786406384,
          -2.0216316901586966,
          -1.1144061395664848,
          -0.732862192610121,
          -0.43646635545450774,
          -2.0968581642837814,
          0.5444228495639059,
          -0.5653026207892777,
          0.30717970372559855,
          -0.4198484557612456,
          0.7253217047833895,
          -0.7910646375013571,
          0.24584288534701426,
          0.3861808927955188,
          -1.1467665661219575,
          -0.41072488955529124,
          0.724907854212759,
          -0.39513396691114294,
          -0.29734831407239337,
          0.056560161710574756,
          -0.8472438703374219,
          -1.7198020608413256,
          0.26407469568663433,
          -0.5262701489609771,
          -0.500907294123469,
          -1.0930047549095676,
          -0.595849948515295,
          1.5334319219267074,
          -0.016326454774757585,
          -0.862655734758858,
          0.5684015061380762,
          -1.2161191764324901,
          -1.1753642330024214,
          -0.18901916241119732,
          -0.5549185302065942,
          0.309228505663993,
          -0.5931070174769876,
          -0.915428386728154,
          -0.5689122102202488,
          -0.16674407057733692,
          -2.236913162354572,
          -0.5827999024163568,
          0.6902558348780791,
          0.03187805913805461,
          -0.7413489938308117,
          0.366320205190309,
          0.7571681026049312,
          0.7180974557635268,
          1.7056945385414521,
          0.1381467651427019,
          0.9469749716086889,
          -0.021766609360936398,
          -1.7222130070414399,
          -0.11193913228109911,
          -1.253127684581892,
          0.5290917355245429,
          1.233008441143637,
          -0.01708591871870062,
          -0.022413499602245302,
          0.05198424376548483,
          -1.5730535785265773,
          0.13296023573262686,
          -0.22105137596848967,
          0.11956373474779762,
          -0.19460631714752108,
          -0.22403298097538893,
          0.5143412935583017,
          0.15714090442602846,
          0.28035904683880963,
          -0.2446823288892205,
          0.7607186297922643,
          -2.2143188702913483,
          1.4096188805712955,
          0.37248522681048263,
          -0.9490918085680567,
          0.17853358552885062,
          0.002679033371037447,
          0.17851692593807564,
          -0.7190872551009492,
          0.9512063312958212,
          1.144354380327551,
          -1.559442571286232,
          -0.9176446170081553,
          1.203944757019189,
          0.4336986432940904,
          1.2922199374622567,
          1.048558465289624,
          -0.24138585364897558,
          -0.674413221419938,
          -0.4372811997781751,
          0.02560771998751411,
          0.2842463005080672,
          -0.07999094631816925,
          -0.02914694933426302,
          0.15541678795851396,
          0.4912729071280546,
          -1.0776651864274596,
          -0.9522304568959343,
          1.6836961434138082
         ],
         "xaxis": "x13",
         "y": [
          1.7407505103969458,
          -0.473625658811833,
          0.4763482791554569,
          -0.503443788110093,
          -1.6524234106956222,
          0.7785742091284228,
          1.3448449943981902,
          1.0989087778422586,
          -0.6057643172096733,
          0.14390050395121803,
          1.268561926841191,
          0.4012441967811103,
          0.7506821799539849,
          -0.05366722338064059,
          0.8262807077994988,
          0.8298981867205804,
          0.5373332833614523,
          0.5948263659763477,
          -0.6475071276837318,
          1.9010569631653391,
          -0.27468868367305754,
          0.5378506814352321,
          0.8206467943675746,
          -0.47361950864729757,
          -0.7597853188244698,
          -1.0280263582192426,
          -1.4714138189104475,
          -0.60326974116489,
          -0.7891222935210618,
          -1.8556506239147312,
          -0.9772915102154787,
          -0.5590265478505033,
          -0.0586104302087858,
          0.18789334063881433,
          0.5911587847131766,
          1.502195877008286,
          2.135212719502954,
          -0.47110865247102574,
          0.48242964964785306,
          -2.042113892991365,
          -1.585265549334744,
          -0.7769792249017701,
          -0.5774110242775337,
          0.061332315922288064,
          -0.8423136343485402,
          -2.093829957208251,
          0.2149196105450425,
          -0.11054148958153498,
          0.6142794919221846,
          2.3524516111555953,
          -0.23946309431080331,
          -0.3122612682723753,
          -0.7359319775001899,
          0.9125003492856754,
          -1.2308593645336852,
          0.48234797869985474,
          -0.16781824798996559,
          -0.407726265734108,
          -2.112080433148712,
          0.28320810356928117,
          -0.5720598606887896,
          -1.2007167022763519,
          -0.46378926758007755,
          -0.7201881939137038,
          1.5123619120906187,
          -0.18452616535485253,
          0.08332975195439289,
          -0.008388130799279036,
          0.8847320001452051,
          -0.047197665078612304,
          -1.8836750861494025,
          0.3920623992471196,
          1.1122436773640796,
          1.49968324596587,
          -0.8541232762051104,
          -0.05729369986728551,
          0.639939195067397,
          0.4728672548265309,
          1.1945158069288706,
          -0.5226707655403006,
          1.068599977165574,
          1.8393773916033966,
          2.794242138962374,
          0.4793890046669156,
          0.7105204665970878,
          -0.693464650030267,
          0.5766162119453293,
          -1.0177581644603746,
          -1.0762310093361864,
          -1.628912610210321,
          -0.7322434690099642,
          -0.9458120920390333,
          0.0008534686115661662,
          0.24866707168765367,
          -0.6508701249689524,
          1.4207092699789163,
          -1.08163087966636,
          0.8088910328077887,
          -0.8605812732051812,
          -0.1441955944846115
         ],
         "yaxis": "y13"
        },
        {
         "line": {
          "color": "rgba(128, 128, 128, 1.0)",
          "dash": "solid",
          "shape": "linear",
          "width": 1.3
         },
         "marker": {
          "size": 2,
          "symbol": "circle"
         },
         "mode": "markers",
         "name": "D",
         "text": "",
         "type": "scatter",
         "x": [
          -0.29031153665030285,
          0.8673880001188526,
          0.5794175830953129,
          1.1236877494288822,
          0.14560706940464604,
          -0.49238381593607494,
          -1.3585655836642285,
          0.5263910174142803,
          1.0414187484205073,
          1.1126342780473124,
          -0.2710539337610146,
          0.9229317060885099,
          2.7717055625558005,
          -0.8678266089839779,
          -2.108848157089314,
          0.7370183808313264,
          2.6345495208902894,
          -0.2621273708172376,
          0.506481601483133,
          0.5246870982503338,
          -0.14935471488468668,
          0.780998061065657,
          -1.0377295136444016,
          0.07582264190298024,
          -0.01727724156390105,
          0.14967915982555374,
          0.4006884640886359,
          -0.30028281207502294,
          1.0524568382619184,
          0.22714302212822748,
          -2.817180366152146,
          1.1268043517108106,
          -0.9275839344799525,
          -0.04835623775384268,
          0.19305027546842896,
          0.6948160785103962,
          0.10411248394502415,
          0.9364271446793379,
          0.615398985584594,
          1.052408275766237,
          -0.1305383056255062,
          -0.49587893903374713,
          0.5682691161469392,
          0.10691159637422652,
          2.069540771302056,
          0.44753139296663086,
          -0.5452979108611006,
          -0.43451678872120086,
          -1.3331180531738722,
          -0.17055424849834025,
          1.8735530864012384,
          -1.113989898123316,
          0.718666767419772,
          0.5494073873928873,
          -0.38327337314058013,
          -0.7208312798888825,
          -1.1417601621614262,
          0.6441031369617723,
          -0.14138573019705505,
          -1.1630568098276415,
          -0.6735869103228915,
          2.5146014801982695,
          1.4879552657435673,
          2.165414249826483,
          -1.180246064142854,
          -0.21659994578619016,
          -0.09596937471604866,
          1.0926016449982687,
          -1.666241916907615,
          -0.8078351895602224,
          -0.8523387749589654,
          -0.8134655525065212,
          -0.07019443259751783,
          2.714118708753477,
          0.5503739058712013,
          1.0703343139772825,
          -0.21486650994147882,
          -0.9601203710375531,
          -0.23025194155418327,
          -0.9328113212548568,
          1.89540655559761,
          0.09732881700465994,
          -0.28483495768991385,
          1.6464136770714903,
          -1.9310211656064404,
          -2.6132141844277355,
          -0.25318296893388254,
          -0.5237449692281284,
          -1.4088071744847528,
          1.095281759059276,
          0.7413258265163059,
          0.391225376839355,
          0.6568604312150156,
          -0.7918186884461557,
          -0.623628752463788,
          0.5213011561323011,
          0.5701964420195289,
          -1.961135212024153,
          -0.13753065855645294,
          1.270813728730286
         ],
         "xaxis": "x14",
         "y": [
          1.7407505103969458,
          -0.473625658811833,
          0.4763482791554569,
          -0.503443788110093,
          -1.6524234106956222,
          0.7785742091284228,
          1.3448449943981902,
          1.0989087778422586,
          -0.6057643172096733,
          0.14390050395121803,
          1.268561926841191,
          0.4012441967811103,
          0.7506821799539849,
          -0.05366722338064059,
          0.8262807077994988,
          0.8298981867205804,
          0.5373332833614523,
          0.5948263659763477,
          -0.6475071276837318,
          1.9010569631653391,
          -0.27468868367305754,
          0.5378506814352321,
          0.8206467943675746,
          -0.47361950864729757,
          -0.7597853188244698,
          -1.0280263582192426,
          -1.4714138189104475,
          -0.60326974116489,
          -0.7891222935210618,
          -1.8556506239147312,
          -0.9772915102154787,
          -0.5590265478505033,
          -0.0586104302087858,
          0.18789334063881433,
          0.5911587847131766,
          1.502195877008286,
          2.135212719502954,
          -0.47110865247102574,
          0.48242964964785306,
          -2.042113892991365,
          -1.585265549334744,
          -0.7769792249017701,
          -0.5774110242775337,
          0.061332315922288064,
          -0.8423136343485402,
          -2.093829957208251,
          0.2149196105450425,
          -0.11054148958153498,
          0.6142794919221846,
          2.3524516111555953,
          -0.23946309431080331,
          -0.3122612682723753,
          -0.7359319775001899,
          0.9125003492856754,
          -1.2308593645336852,
          0.48234797869985474,
          -0.16781824798996559,
          -0.407726265734108,
          -2.112080433148712,
          0.28320810356928117,
          -0.5720598606887896,
          -1.2007167022763519,
          -0.46378926758007755,
          -0.7201881939137038,
          1.5123619120906187,
          -0.18452616535485253,
          0.08332975195439289,
          -0.008388130799279036,
          0.8847320001452051,
          -0.047197665078612304,
          -1.8836750861494025,
          0.3920623992471196,
          1.1122436773640796,
          1.49968324596587,
          -0.8541232762051104,
          -0.05729369986728551,
          0.639939195067397,
          0.4728672548265309,
          1.1945158069288706,
          -0.5226707655403006,
          1.068599977165574,
          1.8393773916033966,
          2.794242138962374,
          0.4793890046669156,
          0.7105204665970878,
          -0.693464650030267,
          0.5766162119453293,
          -1.0177581644603746,
          -1.0762310093361864,
          -1.628912610210321,
          -0.7322434690099642,
          -0.9458120920390333,
          0.0008534686115661662,
          0.24866707168765367,
          -0.6508701249689524,
          1.4207092699789163,
          -1.08163087966636,
          0.8088910328077887,
          -0.8605812732051812,
          -0.1441955944846115
         ],
         "yaxis": "y14"
        },
        {
         "line": {
          "color": "rgba(128, 128, 128, 1.0)",
          "dash": "solid",
          "shape": "linear",
          "width": 1.3
         },
         "marker": {
          "size": 2,
          "symbol": "circle"
         },
         "mode": "markers",
         "name": "D",
         "text": "",
         "type": "scatter",
         "x": [
          -0.1277892268400184,
          -0.9644892825607035,
          0.4086072098110892,
          -0.5381608667950197,
          0.6142286556889565,
          0.8313827520714897,
          1.412300923492472,
          1.44694462875951,
          -0.863108434421125,
          0.8995275380676993,
          -0.2548642351727179,
          0.30834683701169596,
          -1.2528764314368968,
          -1.2830100944472964,
          -3.0772421724011187,
          1.6852197533581375,
          -0.7192311281669611,
          -1.175417759615233,
          -0.7215218207013354,
          0.8255995014014403,
          -0.028458471956432644,
          -0.5631594447265935,
          -0.4165927364191478,
          1.290353600977836,
          -0.6686456379782448,
          1.2058549085967016,
          -2.2013297177369258,
          1.029334203413062,
          0.6658505916968789,
          0.9877410521297808,
          -0.2818464203437802,
          -1.3597447964312073,
          2.4212769395537834,
          -1.299942432390172,
          -0.15524826326326177,
          0.3916883566574439,
          -1.7313423598425106,
          -1.6622805495171917,
          -1.0185565403600176,
          0.7627010970746567,
          -0.08532518817702449,
          -0.8516569965662245,
          -0.7200456941020482,
          -1.0326050306331274,
          0.026972209871047384,
          1.6692530364177554,
          0.5447346880901753,
          -0.9772099755507291,
          -0.20505215340911848,
          1.377544699466779,
          -0.02750778544863355,
          -1.0268861759209806,
          0.48042606857392706,
          0.24964616544465215,
          0.23226585519574988,
          1.4743599935490965,
          -0.9114239309113393,
          -0.26516929272838974,
          -0.8814407696662248,
          0.5644885173318253,
          -0.9365485857208484,
          0.18079469610508003,
          -0.9322164514172709,
          -0.3959744485967501,
          -0.17005046646914634,
          0.800720644844463,
          1.3544665533785205,
          -0.5142071388480501,
          -0.9257040959457232,
          0.4848532290328192,
          -0.8690300211158116,
          1.4165961787653765,
          0.11968793975560481,
          -0.045198470281984295,
          -1.7535534638567378,
          -0.5195140418265799,
          0.6201664317449421,
          -1.0108242243355112,
          0.9608453690158995,
          0.1622567800033939,
          -0.1754272667393144,
          -0.6946083306499794,
          -0.5350226472105393,
          1.0316156627150348,
          0.2063118269732497,
          -0.38321707734048155,
          -0.44621363783977686,
          -0.22854040483813987,
          1.5064314307927027,
          0.06746312614081311,
          -1.588543237039727,
          -0.04316227341596491,
          -1.286277518741366,
          -0.03015779521330142,
          0.3683535131527027,
          -0.3596928546289824,
          -0.42447712512864166,
          1.0756663781453497,
          0.42033445213716225,
          0.27232442739021057
         ],
         "xaxis": "x15",
         "y": [
          1.7407505103969458,
          -0.473625658811833,
          0.4763482791554569,
          -0.503443788110093,
          -1.6524234106956222,
          0.7785742091284228,
          1.3448449943981902,
          1.0989087778422586,
          -0.6057643172096733,
          0.14390050395121803,
          1.268561926841191,
          0.4012441967811103,
          0.7506821799539849,
          -0.05366722338064059,
          0.8262807077994988,
          0.8298981867205804,
          0.5373332833614523,
          0.5948263659763477,
          -0.6475071276837318,
          1.9010569631653391,
          -0.27468868367305754,
          0.5378506814352321,
          0.8206467943675746,
          -0.47361950864729757,
          -0.7597853188244698,
          -1.0280263582192426,
          -1.4714138189104475,
          -0.60326974116489,
          -0.7891222935210618,
          -1.8556506239147312,
          -0.9772915102154787,
          -0.5590265478505033,
          -0.0586104302087858,
          0.18789334063881433,
          0.5911587847131766,
          1.502195877008286,
          2.135212719502954,
          -0.47110865247102574,
          0.48242964964785306,
          -2.042113892991365,
          -1.585265549334744,
          -0.7769792249017701,
          -0.5774110242775337,
          0.061332315922288064,
          -0.8423136343485402,
          -2.093829957208251,
          0.2149196105450425,
          -0.11054148958153498,
          0.6142794919221846,
          2.3524516111555953,
          -0.23946309431080331,
          -0.3122612682723753,
          -0.7359319775001899,
          0.9125003492856754,
          -1.2308593645336852,
          0.48234797869985474,
          -0.16781824798996559,
          -0.407726265734108,
          -2.112080433148712,
          0.28320810356928117,
          -0.5720598606887896,
          -1.2007167022763519,
          -0.46378926758007755,
          -0.7201881939137038,
          1.5123619120906187,
          -0.18452616535485253,
          0.08332975195439289,
          -0.008388130799279036,
          0.8847320001452051,
          -0.047197665078612304,
          -1.8836750861494025,
          0.3920623992471196,
          1.1122436773640796,
          1.49968324596587,
          -0.8541232762051104,
          -0.05729369986728551,
          0.639939195067397,
          0.4728672548265309,
          1.1945158069288706,
          -0.5226707655403006,
          1.068599977165574,
          1.8393773916033966,
          2.794242138962374,
          0.4793890046669156,
          0.7105204665970878,
          -0.693464650030267,
          0.5766162119453293,
          -1.0177581644603746,
          -1.0762310093361864,
          -1.628912610210321,
          -0.7322434690099642,
          -0.9458120920390333,
          0.0008534686115661662,
          0.24866707168765367,
          -0.6508701249689524,
          1.4207092699789163,
          -1.08163087966636,
          0.8088910328077887,
          -0.8605812732051812,
          -0.1441955944846115
         ],
         "yaxis": "y15"
        },
        {
         "histfunc": "count",
         "histnorm": "",
         "marker": {
          "color": "rgba(128, 0, 128, 1.0)",
          "line": {
           "color": "#4D5663",
           "width": 1.3
          }
         },
         "name": "D",
         "nbinsx": 10,
         "opacity": 0.8,
         "orientation": "v",
         "type": "histogram",
         "x": [
          1.7407505103969458,
          -0.473625658811833,
          0.4763482791554569,
          -0.503443788110093,
          -1.6524234106956222,
          0.7785742091284228,
          1.3448449943981902,
          1.0989087778422586,
          -0.6057643172096733,
          0.14390050395121803,
          1.268561926841191,
          0.4012441967811103,
          0.7506821799539849,
          -0.05366722338064059,
          0.8262807077994988,
          0.8298981867205804,
          0.5373332833614523,
          0.5948263659763477,
          -0.6475071276837318,
          1.9010569631653391,
          -0.27468868367305754,
          0.5378506814352321,
          0.8206467943675746,
          -0.47361950864729757,
          -0.7597853188244698,
          -1.0280263582192426,
          -1.4714138189104475,
          -0.60326974116489,
          -0.7891222935210618,
          -1.8556506239147312,
          -0.9772915102154787,
          -0.5590265478505033,
          -0.0586104302087858,
          0.18789334063881433,
          0.5911587847131766,
          1.502195877008286,
          2.135212719502954,
          -0.47110865247102574,
          0.48242964964785306,
          -2.042113892991365,
          -1.585265549334744,
          -0.7769792249017701,
          -0.5774110242775337,
          0.061332315922288064,
          -0.8423136343485402,
          -2.093829957208251,
          0.2149196105450425,
          -0.11054148958153498,
          0.6142794919221846,
          2.3524516111555953,
          -0.23946309431080331,
          -0.3122612682723753,
          -0.7359319775001899,
          0.9125003492856754,
          -1.2308593645336852,
          0.48234797869985474,
          -0.16781824798996559,
          -0.407726265734108,
          -2.112080433148712,
          0.28320810356928117,
          -0.5720598606887896,
          -1.2007167022763519,
          -0.46378926758007755,
          -0.7201881939137038,
          1.5123619120906187,
          -0.18452616535485253,
          0.08332975195439289,
          -0.008388130799279036,
          0.8847320001452051,
          -0.047197665078612304,
          -1.8836750861494025,
          0.3920623992471196,
          1.1122436773640796,
          1.49968324596587,
          -0.8541232762051104,
          -0.05729369986728551,
          0.639939195067397,
          0.4728672548265309,
          1.1945158069288706,
          -0.5226707655403006,
          1.068599977165574,
          1.8393773916033966,
          2.794242138962374,
          0.4793890046669156,
          0.7105204665970878,
          -0.693464650030267,
          0.5766162119453293,
          -1.0177581644603746,
          -1.0762310093361864,
          -1.628912610210321,
          -0.7322434690099642,
          -0.9458120920390333,
          0.0008534686115661662,
          0.24866707168765367,
          -0.6508701249689524,
          1.4207092699789163,
          -1.08163087966636,
          0.8088910328077887,
          -0.8605812732051812,
          -0.1441955944846115
         ],
         "xaxis": "x16",
         "yaxis": "y16"
        }
       ],
       "layout": {
        "bargap": 0.02,
        "legend": {
         "bgcolor": "#F5F6F9",
         "font": {
          "color": "#4D5663"
         }
        },
        "paper_bgcolor": "#F5F6F9",
        "plot_bgcolor": "#F5F6F9",
        "showlegend": false,
        "template": {
         "data": {
          "bar": [
           {
            "error_x": {
             "color": "#2a3f5f"
            },
            "error_y": {
             "color": "#2a3f5f"
            },
            "marker": {
             "line": {
              "color": "#E5ECF6",
              "width": 0.5
             },
             "pattern": {
              "fillmode": "overlay",
              "size": 10,
              "solidity": 0.2
             }
            },
            "type": "bar"
           }
          ],
          "barpolar": [
           {
            "marker": {
             "line": {
              "color": "#E5ECF6",
              "width": 0.5
             },
             "pattern": {
              "fillmode": "overlay",
              "size": 10,
              "solidity": 0.2
             }
            },
            "type": "barpolar"
           }
          ],
          "carpet": [
           {
            "aaxis": {
             "endlinecolor": "#2a3f5f",
             "gridcolor": "white",
             "linecolor": "white",
             "minorgridcolor": "white",
             "startlinecolor": "#2a3f5f"
            },
            "baxis": {
             "endlinecolor": "#2a3f5f",
             "gridcolor": "white",
             "linecolor": "white",
             "minorgridcolor": "white",
             "startlinecolor": "#2a3f5f"
            },
            "type": "carpet"
           }
          ],
          "choropleth": [
           {
            "colorbar": {
             "outlinewidth": 0,
             "ticks": ""
            },
            "type": "choropleth"
           }
          ],
          "contour": [
           {
            "colorbar": {
             "outlinewidth": 0,
             "ticks": ""
            },
            "colorscale": [
             [
              0,
              "#0d0887"
             ],
             [
              0.1111111111111111,
              "#46039f"
             ],
             [
              0.2222222222222222,
              "#7201a8"
             ],
             [
              0.3333333333333333,
              "#9c179e"
             ],
             [
              0.4444444444444444,
              "#bd3786"
             ],
             [
              0.5555555555555556,
              "#d8576b"
             ],
             [
              0.6666666666666666,
              "#ed7953"
             ],
             [
              0.7777777777777778,
              "#fb9f3a"
             ],
             [
              0.8888888888888888,
              "#fdca26"
             ],
             [
              1,
              "#f0f921"
             ]
            ],
            "type": "contour"
           }
          ],
          "contourcarpet": [
           {
            "colorbar": {
             "outlinewidth": 0,
             "ticks": ""
            },
            "type": "contourcarpet"
           }
          ],
          "heatmap": [
           {
            "colorbar": {
             "outlinewidth": 0,
             "ticks": ""
            },
            "colorscale": [
             [
              0,
              "#0d0887"
             ],
             [
              0.1111111111111111,
              "#46039f"
             ],
             [
              0.2222222222222222,
              "#7201a8"
             ],
             [
              0.3333333333333333,
              "#9c179e"
             ],
             [
              0.4444444444444444,
              "#bd3786"
             ],
             [
              0.5555555555555556,
              "#d8576b"
             ],
             [
              0.6666666666666666,
              "#ed7953"
             ],
             [
              0.7777777777777778,
              "#fb9f3a"
             ],
             [
              0.8888888888888888,
              "#fdca26"
             ],
             [
              1,
              "#f0f921"
             ]
            ],
            "type": "heatmap"
           }
          ],
          "heatmapgl": [
           {
            "colorbar": {
             "outlinewidth": 0,
             "ticks": ""
            },
            "colorscale": [
             [
              0,
              "#0d0887"
             ],
             [
              0.1111111111111111,
              "#46039f"
             ],
             [
              0.2222222222222222,
              "#7201a8"
             ],
             [
              0.3333333333333333,
              "#9c179e"
             ],
             [
              0.4444444444444444,
              "#bd3786"
             ],
             [
              0.5555555555555556,
              "#d8576b"
             ],
             [
              0.6666666666666666,
              "#ed7953"
             ],
             [
              0.7777777777777778,
              "#fb9f3a"
             ],
             [
              0.8888888888888888,
              "#fdca26"
             ],
             [
              1,
              "#f0f921"
             ]
            ],
            "type": "heatmapgl"
           }
          ],
          "histogram": [
           {
            "marker": {
             "pattern": {
              "fillmode": "overlay",
              "size": 10,
              "solidity": 0.2
             }
            },
            "type": "histogram"
           }
          ],
          "histogram2d": [
           {
            "colorbar": {
             "outlinewidth": 0,
             "ticks": ""
            },
            "colorscale": [
             [
              0,
              "#0d0887"
             ],
             [
              0.1111111111111111,
              "#46039f"
             ],
             [
              0.2222222222222222,
              "#7201a8"
             ],
             [
              0.3333333333333333,
              "#9c179e"
             ],
             [
              0.4444444444444444,
              "#bd3786"
             ],
             [
              0.5555555555555556,
              "#d8576b"
             ],
             [
              0.6666666666666666,
              "#ed7953"
             ],
             [
              0.7777777777777778,
              "#fb9f3a"
             ],
             [
              0.8888888888888888,
              "#fdca26"
             ],
             [
              1,
              "#f0f921"
             ]
            ],
            "type": "histogram2d"
           }
          ],
          "histogram2dcontour": [
           {
            "colorbar": {
             "outlinewidth": 0,
             "ticks": ""
            },
            "colorscale": [
             [
              0,
              "#0d0887"
             ],
             [
              0.1111111111111111,
              "#46039f"
             ],
             [
              0.2222222222222222,
              "#7201a8"
             ],
             [
              0.3333333333333333,
              "#9c179e"
             ],
             [
              0.4444444444444444,
              "#bd3786"
             ],
             [
              0.5555555555555556,
              "#d8576b"
             ],
             [
              0.6666666666666666,
              "#ed7953"
             ],
             [
              0.7777777777777778,
              "#fb9f3a"
             ],
             [
              0.8888888888888888,
              "#fdca26"
             ],
             [
              1,
              "#f0f921"
             ]
            ],
            "type": "histogram2dcontour"
           }
          ],
          "mesh3d": [
           {
            "colorbar": {
             "outlinewidth": 0,
             "ticks": ""
            },
            "type": "mesh3d"
           }
          ],
          "parcoords": [
           {
            "line": {
             "colorbar": {
              "outlinewidth": 0,
              "ticks": ""
             }
            },
            "type": "parcoords"
           }
          ],
          "pie": [
           {
            "automargin": true,
            "type": "pie"
           }
          ],
          "scatter": [
           {
            "fillpattern": {
             "fillmode": "overlay",
             "size": 10,
             "solidity": 0.2
            },
            "type": "scatter"
           }
          ],
          "scatter3d": [
           {
            "line": {
             "colorbar": {
              "outlinewidth": 0,
              "ticks": ""
             }
            },
            "marker": {
             "colorbar": {
              "outlinewidth": 0,
              "ticks": ""
             }
            },
            "type": "scatter3d"
           }
          ],
          "scattercarpet": [
           {
            "marker": {
             "colorbar": {
              "outlinewidth": 0,
              "ticks": ""
             }
            },
            "type": "scattercarpet"
           }
          ],
          "scattergeo": [
           {
            "marker": {
             "colorbar": {
              "outlinewidth": 0,
              "ticks": ""
             }
            },
            "type": "scattergeo"
           }
          ],
          "scattergl": [
           {
            "marker": {
             "colorbar": {
              "outlinewidth": 0,
              "ticks": ""
             }
            },
            "type": "scattergl"
           }
          ],
          "scattermapbox": [
           {
            "marker": {
             "colorbar": {
              "outlinewidth": 0,
              "ticks": ""
             }
            },
            "type": "scattermapbox"
           }
          ],
          "scatterpolar": [
           {
            "marker": {
             "colorbar": {
              "outlinewidth": 0,
              "ticks": ""
             }
            },
            "type": "scatterpolar"
           }
          ],
          "scatterpolargl": [
           {
            "marker": {
             "colorbar": {
              "outlinewidth": 0,
              "ticks": ""
             }
            },
            "type": "scatterpolargl"
           }
          ],
          "scatterternary": [
           {
            "marker": {
             "colorbar": {
              "outlinewidth": 0,
              "ticks": ""
             }
            },
            "type": "scatterternary"
           }
          ],
          "surface": [
           {
            "colorbar": {
             "outlinewidth": 0,
             "ticks": ""
            },
            "colorscale": [
             [
              0,
              "#0d0887"
             ],
             [
              0.1111111111111111,
              "#46039f"
             ],
             [
              0.2222222222222222,
              "#7201a8"
             ],
             [
              0.3333333333333333,
              "#9c179e"
             ],
             [
              0.4444444444444444,
              "#bd3786"
             ],
             [
              0.5555555555555556,
              "#d8576b"
             ],
             [
              0.6666666666666666,
              "#ed7953"
             ],
             [
              0.7777777777777778,
              "#fb9f3a"
             ],
             [
              0.8888888888888888,
              "#fdca26"
             ],
             [
              1,
              "#f0f921"
             ]
            ],
            "type": "surface"
           }
          ],
          "table": [
           {
            "cells": {
             "fill": {
              "color": "#EBF0F8"
             },
             "line": {
              "color": "white"
             }
            },
            "header": {
             "fill": {
              "color": "#C8D4E3"
             },
             "line": {
              "color": "white"
             }
            },
            "type": "table"
           }
          ]
         },
         "layout": {
          "annotationdefaults": {
           "arrowcolor": "#2a3f5f",
           "arrowhead": 0,
           "arrowwidth": 1
          },
          "autotypenumbers": "strict",
          "coloraxis": {
           "colorbar": {
            "outlinewidth": 0,
            "ticks": ""
           }
          },
          "colorscale": {
           "diverging": [
            [
             0,
             "#8e0152"
            ],
            [
             0.1,
             "#c51b7d"
            ],
            [
             0.2,
             "#de77ae"
            ],
            [
             0.3,
             "#f1b6da"
            ],
            [
             0.4,
             "#fde0ef"
            ],
            [
             0.5,
             "#f7f7f7"
            ],
            [
             0.6,
             "#e6f5d0"
            ],
            [
             0.7,
             "#b8e186"
            ],
            [
             0.8,
             "#7fbc41"
            ],
            [
             0.9,
             "#4d9221"
            ],
            [
             1,
             "#276419"
            ]
           ],
           "sequential": [
            [
             0,
             "#0d0887"
            ],
            [
             0.1111111111111111,
             "#46039f"
            ],
            [
             0.2222222222222222,
             "#7201a8"
            ],
            [
             0.3333333333333333,
             "#9c179e"
            ],
            [
             0.4444444444444444,
             "#bd3786"
            ],
            [
             0.5555555555555556,
             "#d8576b"
            ],
            [
             0.6666666666666666,
             "#ed7953"
            ],
            [
             0.7777777777777778,
             "#fb9f3a"
            ],
            [
             0.8888888888888888,
             "#fdca26"
            ],
            [
             1,
             "#f0f921"
            ]
           ],
           "sequentialminus": [
            [
             0,
             "#0d0887"
            ],
            [
             0.1111111111111111,
             "#46039f"
            ],
            [
             0.2222222222222222,
             "#7201a8"
            ],
            [
             0.3333333333333333,
             "#9c179e"
            ],
            [
             0.4444444444444444,
             "#bd3786"
            ],
            [
             0.5555555555555556,
             "#d8576b"
            ],
            [
             0.6666666666666666,
             "#ed7953"
            ],
            [
             0.7777777777777778,
             "#fb9f3a"
            ],
            [
             0.8888888888888888,
             "#fdca26"
            ],
            [
             1,
             "#f0f921"
            ]
           ]
          },
          "colorway": [
           "#636efa",
           "#EF553B",
           "#00cc96",
           "#ab63fa",
           "#FFA15A",
           "#19d3f3",
           "#FF6692",
           "#B6E880",
           "#FF97FF",
           "#FECB52"
          ],
          "font": {
           "color": "#2a3f5f"
          },
          "geo": {
           "bgcolor": "white",
           "lakecolor": "white",
           "landcolor": "#E5ECF6",
           "showlakes": true,
           "showland": true,
           "subunitcolor": "white"
          },
          "hoverlabel": {
           "align": "left"
          },
          "hovermode": "closest",
          "mapbox": {
           "style": "light"
          },
          "paper_bgcolor": "white",
          "plot_bgcolor": "#E5ECF6",
          "polar": {
           "angularaxis": {
            "gridcolor": "white",
            "linecolor": "white",
            "ticks": ""
           },
           "bgcolor": "#E5ECF6",
           "radialaxis": {
            "gridcolor": "white",
            "linecolor": "white",
            "ticks": ""
           }
          },
          "scene": {
           "xaxis": {
            "backgroundcolor": "#E5ECF6",
            "gridcolor": "white",
            "gridwidth": 2,
            "linecolor": "white",
            "showbackground": true,
            "ticks": "",
            "zerolinecolor": "white"
           },
           "yaxis": {
            "backgroundcolor": "#E5ECF6",
            "gridcolor": "white",
            "gridwidth": 2,
            "linecolor": "white",
            "showbackground": true,
            "ticks": "",
            "zerolinecolor": "white"
           },
           "zaxis": {
            "backgroundcolor": "#E5ECF6",
            "gridcolor": "white",
            "gridwidth": 2,
            "linecolor": "white",
            "showbackground": true,
            "ticks": "",
            "zerolinecolor": "white"
           }
          },
          "shapedefaults": {
           "line": {
            "color": "#2a3f5f"
           }
          },
          "ternary": {
           "aaxis": {
            "gridcolor": "white",
            "linecolor": "white",
            "ticks": ""
           },
           "baxis": {
            "gridcolor": "white",
            "linecolor": "white",
            "ticks": ""
           },
           "bgcolor": "#E5ECF6",
           "caxis": {
            "gridcolor": "white",
            "linecolor": "white",
            "ticks": ""
           }
          },
          "title": {
           "x": 0.05
          },
          "xaxis": {
           "automargin": true,
           "gridcolor": "white",
           "linecolor": "white",
           "ticks": "",
           "title": {
            "standoff": 15
           },
           "zerolinecolor": "white",
           "zerolinewidth": 2
          },
          "yaxis": {
           "automargin": true,
           "gridcolor": "white",
           "linecolor": "white",
           "ticks": "",
           "title": {
            "standoff": 15
           },
           "zerolinecolor": "white",
           "zerolinewidth": 2
          }
         }
        },
        "title": {
         "font": {
          "color": "#4D5663"
         }
        },
        "xaxis": {
         "anchor": "y",
         "domain": [
          0,
          0.2125
         ],
         "gridcolor": "#E1E5ED",
         "showgrid": false,
         "tickfont": {
          "color": "#4D5663"
         },
         "title": {
          "font": {
           "color": "#4D5663"
          },
          "text": ""
         },
         "zerolinecolor": "#E1E5ED"
        },
        "xaxis10": {
         "anchor": "y10",
         "domain": [
          0.2625,
          0.475
         ],
         "gridcolor": "#E1E5ED",
         "showgrid": false,
         "tickfont": {
          "color": "#4D5663"
         },
         "title": {
          "font": {
           "color": "#4D5663"
          },
          "text": ""
         },
         "zerolinecolor": "#E1E5ED"
        },
        "xaxis11": {
         "anchor": "y11",
         "domain": [
          0.525,
          0.7375
         ],
         "gridcolor": "#E1E5ED",
         "showgrid": false,
         "tickfont": {
          "color": "#4D5663"
         },
         "title": {
          "font": {
           "color": "#4D5663"
          },
          "text": ""
         },
         "zerolinecolor": "#E1E5ED"
        },
        "xaxis12": {
         "anchor": "y12",
         "domain": [
          0.7875,
          1
         ],
         "gridcolor": "#E1E5ED",
         "showgrid": false,
         "tickfont": {
          "color": "#4D5663"
         },
         "title": {
          "font": {
           "color": "#4D5663"
          },
          "text": ""
         },
         "zerolinecolor": "#E1E5ED"
        },
        "xaxis13": {
         "anchor": "y13",
         "domain": [
          0,
          0.2125
         ],
         "gridcolor": "#E1E5ED",
         "showgrid": false,
         "tickfont": {
          "color": "#4D5663"
         },
         "title": {
          "font": {
           "color": "#4D5663"
          },
          "text": ""
         },
         "zerolinecolor": "#E1E5ED"
        },
        "xaxis14": {
         "anchor": "y14",
         "domain": [
          0.2625,
          0.475
         ],
         "gridcolor": "#E1E5ED",
         "showgrid": false,
         "tickfont": {
          "color": "#4D5663"
         },
         "title": {
          "font": {
           "color": "#4D5663"
          },
          "text": ""
         },
         "zerolinecolor": "#E1E5ED"
        },
        "xaxis15": {
         "anchor": "y15",
         "domain": [
          0.525,
          0.7375
         ],
         "gridcolor": "#E1E5ED",
         "showgrid": false,
         "tickfont": {
          "color": "#4D5663"
         },
         "title": {
          "font": {
           "color": "#4D5663"
          },
          "text": ""
         },
         "zerolinecolor": "#E1E5ED"
        },
        "xaxis16": {
         "anchor": "y16",
         "domain": [
          0.7875,
          1
         ],
         "gridcolor": "#E1E5ED",
         "showgrid": false,
         "tickfont": {
          "color": "#4D5663"
         },
         "title": {
          "font": {
           "color": "#4D5663"
          },
          "text": ""
         },
         "zerolinecolor": "#E1E5ED"
        },
        "xaxis2": {
         "anchor": "y2",
         "domain": [
          0.2625,
          0.475
         ],
         "gridcolor": "#E1E5ED",
         "showgrid": false,
         "tickfont": {
          "color": "#4D5663"
         },
         "title": {
          "font": {
           "color": "#4D5663"
          },
          "text": ""
         },
         "zerolinecolor": "#E1E5ED"
        },
        "xaxis3": {
         "anchor": "y3",
         "domain": [
          0.525,
          0.7375
         ],
         "gridcolor": "#E1E5ED",
         "showgrid": false,
         "tickfont": {
          "color": "#4D5663"
         },
         "title": {
          "font": {
           "color": "#4D5663"
          },
          "text": ""
         },
         "zerolinecolor": "#E1E5ED"
        },
        "xaxis4": {
         "anchor": "y4",
         "domain": [
          0.7875,
          1
         ],
         "gridcolor": "#E1E5ED",
         "showgrid": false,
         "tickfont": {
          "color": "#4D5663"
         },
         "title": {
          "font": {
           "color": "#4D5663"
          },
          "text": ""
         },
         "zerolinecolor": "#E1E5ED"
        },
        "xaxis5": {
         "anchor": "y5",
         "domain": [
          0,
          0.2125
         ],
         "gridcolor": "#E1E5ED",
         "showgrid": false,
         "tickfont": {
          "color": "#4D5663"
         },
         "title": {
          "font": {
           "color": "#4D5663"
          },
          "text": ""
         },
         "zerolinecolor": "#E1E5ED"
        },
        "xaxis6": {
         "anchor": "y6",
         "domain": [
          0.2625,
          0.475
         ],
         "gridcolor": "#E1E5ED",
         "showgrid": false,
         "tickfont": {
          "color": "#4D5663"
         },
         "title": {
          "font": {
           "color": "#4D5663"
          },
          "text": ""
         },
         "zerolinecolor": "#E1E5ED"
        },
        "xaxis7": {
         "anchor": "y7",
         "domain": [
          0.525,
          0.7375
         ],
         "gridcolor": "#E1E5ED",
         "showgrid": false,
         "tickfont": {
          "color": "#4D5663"
         },
         "title": {
          "font": {
           "color": "#4D5663"
          },
          "text": ""
         },
         "zerolinecolor": "#E1E5ED"
        },
        "xaxis8": {
         "anchor": "y8",
         "domain": [
          0.7875,
          1
         ],
         "gridcolor": "#E1E5ED",
         "showgrid": false,
         "tickfont": {
          "color": "#4D5663"
         },
         "title": {
          "font": {
           "color": "#4D5663"
          },
          "text": ""
         },
         "zerolinecolor": "#E1E5ED"
        },
        "xaxis9": {
         "anchor": "y9",
         "domain": [
          0,
          0.2125
         ],
         "gridcolor": "#E1E5ED",
         "showgrid": false,
         "tickfont": {
          "color": "#4D5663"
         },
         "title": {
          "font": {
           "color": "#4D5663"
          },
          "text": ""
         },
         "zerolinecolor": "#E1E5ED"
        },
        "yaxis": {
         "anchor": "x",
         "domain": [
          0.8025,
          1
         ],
         "gridcolor": "#E1E5ED",
         "showgrid": false,
         "tickfont": {
          "color": "#4D5663"
         },
         "title": {
          "font": {
           "color": "#4D5663"
          },
          "text": ""
         },
         "zerolinecolor": "#E1E5ED"
        },
        "yaxis10": {
         "anchor": "x10",
         "domain": [
          0.2675,
          0.465
         ],
         "gridcolor": "#E1E5ED",
         "showgrid": false,
         "tickfont": {
          "color": "#4D5663"
         },
         "title": {
          "font": {
           "color": "#4D5663"
          },
          "text": ""
         },
         "zerolinecolor": "#E1E5ED"
        },
        "yaxis11": {
         "anchor": "x11",
         "domain": [
          0.2675,
          0.465
         ],
         "gridcolor": "#E1E5ED",
         "showgrid": false,
         "tickfont": {
          "color": "#4D5663"
         },
         "title": {
          "font": {
           "color": "#4D5663"
          },
          "text": ""
         },
         "zerolinecolor": "#E1E5ED"
        },
        "yaxis12": {
         "anchor": "x12",
         "domain": [
          0.2675,
          0.465
         ],
         "gridcolor": "#E1E5ED",
         "showgrid": false,
         "tickfont": {
          "color": "#4D5663"
         },
         "title": {
          "font": {
           "color": "#4D5663"
          },
          "text": ""
         },
         "zerolinecolor": "#E1E5ED"
        },
        "yaxis13": {
         "anchor": "x13",
         "domain": [
          0,
          0.1975
         ],
         "gridcolor": "#E1E5ED",
         "showgrid": false,
         "tickfont": {
          "color": "#4D5663"
         },
         "title": {
          "font": {
           "color": "#4D5663"
          },
          "text": ""
         },
         "zerolinecolor": "#E1E5ED"
        },
        "yaxis14": {
         "anchor": "x14",
         "domain": [
          0,
          0.1975
         ],
         "gridcolor": "#E1E5ED",
         "showgrid": false,
         "tickfont": {
          "color": "#4D5663"
         },
         "title": {
          "font": {
           "color": "#4D5663"
          },
          "text": ""
         },
         "zerolinecolor": "#E1E5ED"
        },
        "yaxis15": {
         "anchor": "x15",
         "domain": [
          0,
          0.1975
         ],
         "gridcolor": "#E1E5ED",
         "showgrid": false,
         "tickfont": {
          "color": "#4D5663"
         },
         "title": {
          "font": {
           "color": "#4D5663"
          },
          "text": ""
         },
         "zerolinecolor": "#E1E5ED"
        },
        "yaxis16": {
         "anchor": "x16",
         "domain": [
          0,
          0.1975
         ],
         "gridcolor": "#E1E5ED",
         "showgrid": false,
         "tickfont": {
          "color": "#4D5663"
         },
         "title": {
          "font": {
           "color": "#4D5663"
          },
          "text": ""
         },
         "zerolinecolor": "#E1E5ED"
        },
        "yaxis2": {
         "anchor": "x2",
         "domain": [
          0.8025,
          1
         ],
         "gridcolor": "#E1E5ED",
         "showgrid": false,
         "tickfont": {
          "color": "#4D5663"
         },
         "title": {
          "font": {
           "color": "#4D5663"
          },
          "text": ""
         },
         "zerolinecolor": "#E1E5ED"
        },
        "yaxis3": {
         "anchor": "x3",
         "domain": [
          0.8025,
          1
         ],
         "gridcolor": "#E1E5ED",
         "showgrid": false,
         "tickfont": {
          "color": "#4D5663"
         },
         "title": {
          "font": {
           "color": "#4D5663"
          },
          "text": ""
         },
         "zerolinecolor": "#E1E5ED"
        },
        "yaxis4": {
         "anchor": "x4",
         "domain": [
          0.8025,
          1
         ],
         "gridcolor": "#E1E5ED",
         "showgrid": false,
         "tickfont": {
          "color": "#4D5663"
         },
         "title": {
          "font": {
           "color": "#4D5663"
          },
          "text": ""
         },
         "zerolinecolor": "#E1E5ED"
        },
        "yaxis5": {
         "anchor": "x5",
         "domain": [
          0.535,
          0.7325
         ],
         "gridcolor": "#E1E5ED",
         "showgrid": false,
         "tickfont": {
          "color": "#4D5663"
         },
         "title": {
          "font": {
           "color": "#4D5663"
          },
          "text": ""
         },
         "zerolinecolor": "#E1E5ED"
        },
        "yaxis6": {
         "anchor": "x6",
         "domain": [
          0.535,
          0.7325
         ],
         "gridcolor": "#E1E5ED",
         "showgrid": false,
         "tickfont": {
          "color": "#4D5663"
         },
         "title": {
          "font": {
           "color": "#4D5663"
          },
          "text": ""
         },
         "zerolinecolor": "#E1E5ED"
        },
        "yaxis7": {
         "anchor": "x7",
         "domain": [
          0.535,
          0.7325
         ],
         "gridcolor": "#E1E5ED",
         "showgrid": false,
         "tickfont": {
          "color": "#4D5663"
         },
         "title": {
          "font": {
           "color": "#4D5663"
          },
          "text": ""
         },
         "zerolinecolor": "#E1E5ED"
        },
        "yaxis8": {
         "anchor": "x8",
         "domain": [
          0.535,
          0.7325
         ],
         "gridcolor": "#E1E5ED",
         "showgrid": false,
         "tickfont": {
          "color": "#4D5663"
         },
         "title": {
          "font": {
           "color": "#4D5663"
          },
          "text": ""
         },
         "zerolinecolor": "#E1E5ED"
        },
        "yaxis9": {
         "anchor": "x9",
         "domain": [
          0.2675,
          0.465
         ],
         "gridcolor": "#E1E5ED",
         "showgrid": false,
         "tickfont": {
          "color": "#4D5663"
         },
         "title": {
          "font": {
           "color": "#4D5663"
          },
          "text": ""
         },
         "zerolinecolor": "#E1E5ED"
        }
       }
      },
      "text/html": [
       "<div>                            <div id=\"7aa09052-776a-43d3-abbe-a7ba4c3540f3\" class=\"plotly-graph-div\" style=\"height:525px; width:100%;\"></div>            <script type=\"text/javascript\">                require([\"plotly\"], function(Plotly) {                    window.PLOTLYENV=window.PLOTLYENV || {};\n",
       "                    window.PLOTLYENV.BASE_URL='https://plot.ly';                                    if (document.getElementById(\"7aa09052-776a-43d3-abbe-a7ba4c3540f3\")) {                    Plotly.newPlot(                        \"7aa09052-776a-43d3-abbe-a7ba4c3540f3\",                        [{\"histfunc\":\"count\",\"histnorm\":\"\",\"marker\":{\"color\":\"rgba(255, 153, 51, 1.0)\",\"line\":{\"color\":\"#4D5663\",\"width\":1.3}},\"name\":\"A\",\"nbinsx\":10,\"opacity\":0.8,\"orientation\":\"v\",\"x\":[-0.08186168703008381,-1.4125134786406384,-2.0216316901586966,-1.1144061395664848,-0.732862192610121,-0.43646635545450774,-2.0968581642837814,0.5444228495639059,-0.5653026207892777,0.30717970372559855,-0.4198484557612456,0.7253217047833895,-0.7910646375013571,0.24584288534701426,0.3861808927955188,-1.1467665661219575,-0.41072488955529124,0.724907854212759,-0.39513396691114294,-0.29734831407239337,0.056560161710574756,-0.8472438703374219,-1.7198020608413256,0.26407469568663433,-0.5262701489609771,-0.500907294123469,-1.0930047549095676,-0.595849948515295,1.5334319219267074,-0.016326454774757585,-0.862655734758858,0.5684015061380762,-1.2161191764324901,-1.1753642330024214,-0.18901916241119732,-0.5549185302065942,0.309228505663993,-0.5931070174769876,-0.915428386728154,-0.5689122102202488,-0.16674407057733692,-2.236913162354572,-0.5827999024163568,0.6902558348780791,0.03187805913805461,-0.7413489938308117,0.366320205190309,0.7571681026049312,0.7180974557635268,1.7056945385414521,0.1381467651427019,0.9469749716086889,-0.021766609360936398,-1.7222130070414399,-0.11193913228109911,-1.253127684581892,0.5290917355245429,1.233008441143637,-0.01708591871870062,-0.022413499602245302,0.05198424376548483,-1.5730535785265773,0.13296023573262686,-0.22105137596848967,0.11956373474779762,-0.19460631714752108,-0.22403298097538893,0.5143412935583017,0.15714090442602846,0.28035904683880963,-0.2446823288892205,0.7607186297922643,-2.2143188702913483,1.4096188805712955,0.37248522681048263,-0.9490918085680567,0.17853358552885062,0.002679033371037447,0.17851692593807564,-0.7190872551009492,0.9512063312958212,1.144354380327551,-1.559442571286232,-0.9176446170081553,1.203944757019189,0.4336986432940904,1.2922199374622567,1.048558465289624,-0.24138585364897558,-0.674413221419938,-0.4372811997781751,0.02560771998751411,0.2842463005080672,-0.07999094631816925,-0.02914694933426302,0.15541678795851396,0.4912729071280546,-1.0776651864274596,-0.9522304568959343,1.6836961434138082],\"xaxis\":\"x\",\"yaxis\":\"y\",\"type\":\"histogram\"},{\"line\":{\"color\":\"rgba(128, 128, 128, 1.0)\",\"dash\":\"solid\",\"shape\":\"linear\",\"width\":1.3},\"marker\":{\"size\":2,\"symbol\":\"circle\"},\"mode\":\"markers\",\"name\":\"A\",\"text\":\"\",\"x\":[-0.29031153665030285,0.8673880001188526,0.5794175830953129,1.1236877494288822,0.14560706940464604,-0.49238381593607494,-1.3585655836642285,0.5263910174142803,1.0414187484205073,1.1126342780473124,-0.2710539337610146,0.9229317060885099,2.7717055625558005,-0.8678266089839779,-2.108848157089314,0.7370183808313264,2.6345495208902894,-0.2621273708172376,0.506481601483133,0.5246870982503338,-0.14935471488468668,0.780998061065657,-1.0377295136444016,0.07582264190298024,-0.01727724156390105,0.14967915982555374,0.4006884640886359,-0.30028281207502294,1.0524568382619184,0.22714302212822748,-2.817180366152146,1.1268043517108106,-0.9275839344799525,-0.04835623775384268,0.19305027546842896,0.6948160785103962,0.10411248394502415,0.9364271446793379,0.615398985584594,1.052408275766237,-0.1305383056255062,-0.49587893903374713,0.5682691161469392,0.10691159637422652,2.069540771302056,0.44753139296663086,-0.5452979108611006,-0.43451678872120086,-1.3331180531738722,-0.17055424849834025,1.8735530864012384,-1.113989898123316,0.718666767419772,0.5494073873928873,-0.38327337314058013,-0.7208312798888825,-1.1417601621614262,0.6441031369617723,-0.14138573019705505,-1.1630568098276415,-0.6735869103228915,2.5146014801982695,1.4879552657435673,2.165414249826483,-1.180246064142854,-0.21659994578619016,-0.09596937471604866,1.0926016449982687,-1.666241916907615,-0.8078351895602224,-0.8523387749589654,-0.8134655525065212,-0.07019443259751783,2.714118708753477,0.5503739058712013,1.0703343139772825,-0.21486650994147882,-0.9601203710375531,-0.23025194155418327,-0.9328113212548568,1.89540655559761,0.09732881700465994,-0.28483495768991385,1.6464136770714903,-1.9310211656064404,-2.6132141844277355,-0.25318296893388254,-0.5237449692281284,-1.4088071744847528,1.095281759059276,0.7413258265163059,0.391225376839355,0.6568604312150156,-0.7918186884461557,-0.623628752463788,0.5213011561323011,0.5701964420195289,-1.961135212024153,-0.13753065855645294,1.270813728730286],\"xaxis\":\"x2\",\"y\":[-0.08186168703008381,-1.4125134786406384,-2.0216316901586966,-1.1144061395664848,-0.732862192610121,-0.43646635545450774,-2.0968581642837814,0.5444228495639059,-0.5653026207892777,0.30717970372559855,-0.4198484557612456,0.7253217047833895,-0.7910646375013571,0.24584288534701426,0.3861808927955188,-1.1467665661219575,-0.41072488955529124,0.724907854212759,-0.39513396691114294,-0.29734831407239337,0.056560161710574756,-0.8472438703374219,-1.7198020608413256,0.26407469568663433,-0.5262701489609771,-0.500907294123469,-1.0930047549095676,-0.595849948515295,1.5334319219267074,-0.016326454774757585,-0.862655734758858,0.5684015061380762,-1.2161191764324901,-1.1753642330024214,-0.18901916241119732,-0.5549185302065942,0.309228505663993,-0.5931070174769876,-0.915428386728154,-0.5689122102202488,-0.16674407057733692,-2.236913162354572,-0.5827999024163568,0.6902558348780791,0.03187805913805461,-0.7413489938308117,0.366320205190309,0.7571681026049312,0.7180974557635268,1.7056945385414521,0.1381467651427019,0.9469749716086889,-0.021766609360936398,-1.7222130070414399,-0.11193913228109911,-1.253127684581892,0.5290917355245429,1.233008441143637,-0.01708591871870062,-0.022413499602245302,0.05198424376548483,-1.5730535785265773,0.13296023573262686,-0.22105137596848967,0.11956373474779762,-0.19460631714752108,-0.22403298097538893,0.5143412935583017,0.15714090442602846,0.28035904683880963,-0.2446823288892205,0.7607186297922643,-2.2143188702913483,1.4096188805712955,0.37248522681048263,-0.9490918085680567,0.17853358552885062,0.002679033371037447,0.17851692593807564,-0.7190872551009492,0.9512063312958212,1.144354380327551,-1.559442571286232,-0.9176446170081553,1.203944757019189,0.4336986432940904,1.2922199374622567,1.048558465289624,-0.24138585364897558,-0.674413221419938,-0.4372811997781751,0.02560771998751411,0.2842463005080672,-0.07999094631816925,-0.02914694933426302,0.15541678795851396,0.4912729071280546,-1.0776651864274596,-0.9522304568959343,1.6836961434138082],\"yaxis\":\"y2\",\"type\":\"scatter\"},{\"line\":{\"color\":\"rgba(128, 128, 128, 1.0)\",\"dash\":\"solid\",\"shape\":\"linear\",\"width\":1.3},\"marker\":{\"size\":2,\"symbol\":\"circle\"},\"mode\":\"markers\",\"name\":\"A\",\"text\":\"\",\"x\":[-0.1277892268400184,-0.9644892825607035,0.4086072098110892,-0.5381608667950197,0.6142286556889565,0.8313827520714897,1.412300923492472,1.44694462875951,-0.863108434421125,0.8995275380676993,-0.2548642351727179,0.30834683701169596,-1.2528764314368968,-1.2830100944472964,-3.0772421724011187,1.6852197533581375,-0.7192311281669611,-1.175417759615233,-0.7215218207013354,0.8255995014014403,-0.028458471956432644,-0.5631594447265935,-0.4165927364191478,1.290353600977836,-0.6686456379782448,1.2058549085967016,-2.2013297177369258,1.029334203413062,0.6658505916968789,0.9877410521297808,-0.2818464203437802,-1.3597447964312073,2.4212769395537834,-1.299942432390172,-0.15524826326326177,0.3916883566574439,-1.7313423598425106,-1.6622805495171917,-1.0185565403600176,0.7627010970746567,-0.08532518817702449,-0.8516569965662245,-0.7200456941020482,-1.0326050306331274,0.026972209871047384,1.6692530364177554,0.5447346880901753,-0.9772099755507291,-0.20505215340911848,1.377544699466779,-0.02750778544863355,-1.0268861759209806,0.48042606857392706,0.24964616544465215,0.23226585519574988,1.4743599935490965,-0.9114239309113393,-0.26516929272838974,-0.8814407696662248,0.5644885173318253,-0.9365485857208484,0.18079469610508003,-0.9322164514172709,-0.3959744485967501,-0.17005046646914634,0.800720644844463,1.3544665533785205,-0.5142071388480501,-0.9257040959457232,0.4848532290328192,-0.8690300211158116,1.4165961787653765,0.11968793975560481,-0.045198470281984295,-1.7535534638567378,-0.5195140418265799,0.6201664317449421,-1.0108242243355112,0.9608453690158995,0.1622567800033939,-0.1754272667393144,-0.6946083306499794,-0.5350226472105393,1.0316156627150348,0.2063118269732497,-0.38321707734048155,-0.44621363783977686,-0.22854040483813987,1.5064314307927027,0.06746312614081311,-1.588543237039727,-0.04316227341596491,-1.286277518741366,-0.03015779521330142,0.3683535131527027,-0.3596928546289824,-0.42447712512864166,1.0756663781453497,0.42033445213716225,0.27232442739021057],\"xaxis\":\"x3\",\"y\":[-0.08186168703008381,-1.4125134786406384,-2.0216316901586966,-1.1144061395664848,-0.732862192610121,-0.43646635545450774,-2.0968581642837814,0.5444228495639059,-0.5653026207892777,0.30717970372559855,-0.4198484557612456,0.7253217047833895,-0.7910646375013571,0.24584288534701426,0.3861808927955188,-1.1467665661219575,-0.41072488955529124,0.724907854212759,-0.39513396691114294,-0.29734831407239337,0.056560161710574756,-0.8472438703374219,-1.7198020608413256,0.26407469568663433,-0.5262701489609771,-0.500907294123469,-1.0930047549095676,-0.595849948515295,1.5334319219267074,-0.016326454774757585,-0.862655734758858,0.5684015061380762,-1.2161191764324901,-1.1753642330024214,-0.18901916241119732,-0.5549185302065942,0.309228505663993,-0.5931070174769876,-0.915428386728154,-0.5689122102202488,-0.16674407057733692,-2.236913162354572,-0.5827999024163568,0.6902558348780791,0.03187805913805461,-0.7413489938308117,0.366320205190309,0.7571681026049312,0.7180974557635268,1.7056945385414521,0.1381467651427019,0.9469749716086889,-0.021766609360936398,-1.7222130070414399,-0.11193913228109911,-1.253127684581892,0.5290917355245429,1.233008441143637,-0.01708591871870062,-0.022413499602245302,0.05198424376548483,-1.5730535785265773,0.13296023573262686,-0.22105137596848967,0.11956373474779762,-0.19460631714752108,-0.22403298097538893,0.5143412935583017,0.15714090442602846,0.28035904683880963,-0.2446823288892205,0.7607186297922643,-2.2143188702913483,1.4096188805712955,0.37248522681048263,-0.9490918085680567,0.17853358552885062,0.002679033371037447,0.17851692593807564,-0.7190872551009492,0.9512063312958212,1.144354380327551,-1.559442571286232,-0.9176446170081553,1.203944757019189,0.4336986432940904,1.2922199374622567,1.048558465289624,-0.24138585364897558,-0.674413221419938,-0.4372811997781751,0.02560771998751411,0.2842463005080672,-0.07999094631816925,-0.02914694933426302,0.15541678795851396,0.4912729071280546,-1.0776651864274596,-0.9522304568959343,1.6836961434138082],\"yaxis\":\"y3\",\"type\":\"scatter\"},{\"line\":{\"color\":\"rgba(128, 128, 128, 1.0)\",\"dash\":\"solid\",\"shape\":\"linear\",\"width\":1.3},\"marker\":{\"size\":2,\"symbol\":\"circle\"},\"mode\":\"markers\",\"name\":\"A\",\"text\":\"\",\"x\":[1.7407505103969458,-0.473625658811833,0.4763482791554569,-0.503443788110093,-1.6524234106956222,0.7785742091284228,1.3448449943981902,1.0989087778422586,-0.6057643172096733,0.14390050395121803,1.268561926841191,0.4012441967811103,0.7506821799539849,-0.05366722338064059,0.8262807077994988,0.8298981867205804,0.5373332833614523,0.5948263659763477,-0.6475071276837318,1.9010569631653391,-0.27468868367305754,0.5378506814352321,0.8206467943675746,-0.47361950864729757,-0.7597853188244698,-1.0280263582192426,-1.4714138189104475,-0.60326974116489,-0.7891222935210618,-1.8556506239147312,-0.9772915102154787,-0.5590265478505033,-0.0586104302087858,0.18789334063881433,0.5911587847131766,1.502195877008286,2.135212719502954,-0.47110865247102574,0.48242964964785306,-2.042113892991365,-1.585265549334744,-0.7769792249017701,-0.5774110242775337,0.061332315922288064,-0.8423136343485402,-2.093829957208251,0.2149196105450425,-0.11054148958153498,0.6142794919221846,2.3524516111555953,-0.23946309431080331,-0.3122612682723753,-0.7359319775001899,0.9125003492856754,-1.2308593645336852,0.48234797869985474,-0.16781824798996559,-0.407726265734108,-2.112080433148712,0.28320810356928117,-0.5720598606887896,-1.2007167022763519,-0.46378926758007755,-0.7201881939137038,1.5123619120906187,-0.18452616535485253,0.08332975195439289,-0.008388130799279036,0.8847320001452051,-0.047197665078612304,-1.8836750861494025,0.3920623992471196,1.1122436773640796,1.49968324596587,-0.8541232762051104,-0.05729369986728551,0.639939195067397,0.4728672548265309,1.1945158069288706,-0.5226707655403006,1.068599977165574,1.8393773916033966,2.794242138962374,0.4793890046669156,0.7105204665970878,-0.693464650030267,0.5766162119453293,-1.0177581644603746,-1.0762310093361864,-1.628912610210321,-0.7322434690099642,-0.9458120920390333,0.0008534686115661662,0.24866707168765367,-0.6508701249689524,1.4207092699789163,-1.08163087966636,0.8088910328077887,-0.8605812732051812,-0.1441955944846115],\"xaxis\":\"x4\",\"y\":[-0.08186168703008381,-1.4125134786406384,-2.0216316901586966,-1.1144061395664848,-0.732862192610121,-0.43646635545450774,-2.0968581642837814,0.5444228495639059,-0.5653026207892777,0.30717970372559855,-0.4198484557612456,0.7253217047833895,-0.7910646375013571,0.24584288534701426,0.3861808927955188,-1.1467665661219575,-0.41072488955529124,0.724907854212759,-0.39513396691114294,-0.29734831407239337,0.056560161710574756,-0.8472438703374219,-1.7198020608413256,0.26407469568663433,-0.5262701489609771,-0.500907294123469,-1.0930047549095676,-0.595849948515295,1.5334319219267074,-0.016326454774757585,-0.862655734758858,0.5684015061380762,-1.2161191764324901,-1.1753642330024214,-0.18901916241119732,-0.5549185302065942,0.309228505663993,-0.5931070174769876,-0.915428386728154,-0.5689122102202488,-0.16674407057733692,-2.236913162354572,-0.5827999024163568,0.6902558348780791,0.03187805913805461,-0.7413489938308117,0.366320205190309,0.7571681026049312,0.7180974557635268,1.7056945385414521,0.1381467651427019,0.9469749716086889,-0.021766609360936398,-1.7222130070414399,-0.11193913228109911,-1.253127684581892,0.5290917355245429,1.233008441143637,-0.01708591871870062,-0.022413499602245302,0.05198424376548483,-1.5730535785265773,0.13296023573262686,-0.22105137596848967,0.11956373474779762,-0.19460631714752108,-0.22403298097538893,0.5143412935583017,0.15714090442602846,0.28035904683880963,-0.2446823288892205,0.7607186297922643,-2.2143188702913483,1.4096188805712955,0.37248522681048263,-0.9490918085680567,0.17853358552885062,0.002679033371037447,0.17851692593807564,-0.7190872551009492,0.9512063312958212,1.144354380327551,-1.559442571286232,-0.9176446170081553,1.203944757019189,0.4336986432940904,1.2922199374622567,1.048558465289624,-0.24138585364897558,-0.674413221419938,-0.4372811997781751,0.02560771998751411,0.2842463005080672,-0.07999094631816925,-0.02914694933426302,0.15541678795851396,0.4912729071280546,-1.0776651864274596,-0.9522304568959343,1.6836961434138082],\"yaxis\":\"y4\",\"type\":\"scatter\"},{\"line\":{\"color\":\"rgba(128, 128, 128, 1.0)\",\"dash\":\"solid\",\"shape\":\"linear\",\"width\":1.3},\"marker\":{\"size\":2,\"symbol\":\"circle\"},\"mode\":\"markers\",\"name\":\"B\",\"text\":\"\",\"x\":[-0.08186168703008381,-1.4125134786406384,-2.0216316901586966,-1.1144061395664848,-0.732862192610121,-0.43646635545450774,-2.0968581642837814,0.5444228495639059,-0.5653026207892777,0.30717970372559855,-0.4198484557612456,0.7253217047833895,-0.7910646375013571,0.24584288534701426,0.3861808927955188,-1.1467665661219575,-0.41072488955529124,0.724907854212759,-0.39513396691114294,-0.29734831407239337,0.056560161710574756,-0.8472438703374219,-1.7198020608413256,0.26407469568663433,-0.5262701489609771,-0.500907294123469,-1.0930047549095676,-0.595849948515295,1.5334319219267074,-0.016326454774757585,-0.862655734758858,0.5684015061380762,-1.2161191764324901,-1.1753642330024214,-0.18901916241119732,-0.5549185302065942,0.309228505663993,-0.5931070174769876,-0.915428386728154,-0.5689122102202488,-0.16674407057733692,-2.236913162354572,-0.5827999024163568,0.6902558348780791,0.03187805913805461,-0.7413489938308117,0.366320205190309,0.7571681026049312,0.7180974557635268,1.7056945385414521,0.1381467651427019,0.9469749716086889,-0.021766609360936398,-1.7222130070414399,-0.11193913228109911,-1.253127684581892,0.5290917355245429,1.233008441143637,-0.01708591871870062,-0.022413499602245302,0.05198424376548483,-1.5730535785265773,0.13296023573262686,-0.22105137596848967,0.11956373474779762,-0.19460631714752108,-0.22403298097538893,0.5143412935583017,0.15714090442602846,0.28035904683880963,-0.2446823288892205,0.7607186297922643,-2.2143188702913483,1.4096188805712955,0.37248522681048263,-0.9490918085680567,0.17853358552885062,0.002679033371037447,0.17851692593807564,-0.7190872551009492,0.9512063312958212,1.144354380327551,-1.559442571286232,-0.9176446170081553,1.203944757019189,0.4336986432940904,1.2922199374622567,1.048558465289624,-0.24138585364897558,-0.674413221419938,-0.4372811997781751,0.02560771998751411,0.2842463005080672,-0.07999094631816925,-0.02914694933426302,0.15541678795851396,0.4912729071280546,-1.0776651864274596,-0.9522304568959343,1.6836961434138082],\"xaxis\":\"x5\",\"y\":[-0.29031153665030285,0.8673880001188526,0.5794175830953129,1.1236877494288822,0.14560706940464604,-0.49238381593607494,-1.3585655836642285,0.5263910174142803,1.0414187484205073,1.1126342780473124,-0.2710539337610146,0.9229317060885099,2.7717055625558005,-0.8678266089839779,-2.108848157089314,0.7370183808313264,2.6345495208902894,-0.2621273708172376,0.506481601483133,0.5246870982503338,-0.14935471488468668,0.780998061065657,-1.0377295136444016,0.07582264190298024,-0.01727724156390105,0.14967915982555374,0.4006884640886359,-0.30028281207502294,1.0524568382619184,0.22714302212822748,-2.817180366152146,1.1268043517108106,-0.9275839344799525,-0.04835623775384268,0.19305027546842896,0.6948160785103962,0.10411248394502415,0.9364271446793379,0.615398985584594,1.052408275766237,-0.1305383056255062,-0.49587893903374713,0.5682691161469392,0.10691159637422652,2.069540771302056,0.44753139296663086,-0.5452979108611006,-0.43451678872120086,-1.3331180531738722,-0.17055424849834025,1.8735530864012384,-1.113989898123316,0.718666767419772,0.5494073873928873,-0.38327337314058013,-0.7208312798888825,-1.1417601621614262,0.6441031369617723,-0.14138573019705505,-1.1630568098276415,-0.6735869103228915,2.5146014801982695,1.4879552657435673,2.165414249826483,-1.180246064142854,-0.21659994578619016,-0.09596937471604866,1.0926016449982687,-1.666241916907615,-0.8078351895602224,-0.8523387749589654,-0.8134655525065212,-0.07019443259751783,2.714118708753477,0.5503739058712013,1.0703343139772825,-0.21486650994147882,-0.9601203710375531,-0.23025194155418327,-0.9328113212548568,1.89540655559761,0.09732881700465994,-0.28483495768991385,1.6464136770714903,-1.9310211656064404,-2.6132141844277355,-0.25318296893388254,-0.5237449692281284,-1.4088071744847528,1.095281759059276,0.7413258265163059,0.391225376839355,0.6568604312150156,-0.7918186884461557,-0.623628752463788,0.5213011561323011,0.5701964420195289,-1.961135212024153,-0.13753065855645294,1.270813728730286],\"yaxis\":\"y5\",\"type\":\"scatter\"},{\"histfunc\":\"count\",\"histnorm\":\"\",\"marker\":{\"color\":\"rgba(55, 128, 191, 1.0)\",\"line\":{\"color\":\"#4D5663\",\"width\":1.3}},\"name\":\"B\",\"nbinsx\":10,\"opacity\":0.8,\"orientation\":\"v\",\"x\":[-0.29031153665030285,0.8673880001188526,0.5794175830953129,1.1236877494288822,0.14560706940464604,-0.49238381593607494,-1.3585655836642285,0.5263910174142803,1.0414187484205073,1.1126342780473124,-0.2710539337610146,0.9229317060885099,2.7717055625558005,-0.8678266089839779,-2.108848157089314,0.7370183808313264,2.6345495208902894,-0.2621273708172376,0.506481601483133,0.5246870982503338,-0.14935471488468668,0.780998061065657,-1.0377295136444016,0.07582264190298024,-0.01727724156390105,0.14967915982555374,0.4006884640886359,-0.30028281207502294,1.0524568382619184,0.22714302212822748,-2.817180366152146,1.1268043517108106,-0.9275839344799525,-0.04835623775384268,0.19305027546842896,0.6948160785103962,0.10411248394502415,0.9364271446793379,0.615398985584594,1.052408275766237,-0.1305383056255062,-0.49587893903374713,0.5682691161469392,0.10691159637422652,2.069540771302056,0.44753139296663086,-0.5452979108611006,-0.43451678872120086,-1.3331180531738722,-0.17055424849834025,1.8735530864012384,-1.113989898123316,0.718666767419772,0.5494073873928873,-0.38327337314058013,-0.7208312798888825,-1.1417601621614262,0.6441031369617723,-0.14138573019705505,-1.1630568098276415,-0.6735869103228915,2.5146014801982695,1.4879552657435673,2.165414249826483,-1.180246064142854,-0.21659994578619016,-0.09596937471604866,1.0926016449982687,-1.666241916907615,-0.8078351895602224,-0.8523387749589654,-0.8134655525065212,-0.07019443259751783,2.714118708753477,0.5503739058712013,1.0703343139772825,-0.21486650994147882,-0.9601203710375531,-0.23025194155418327,-0.9328113212548568,1.89540655559761,0.09732881700465994,-0.28483495768991385,1.6464136770714903,-1.9310211656064404,-2.6132141844277355,-0.25318296893388254,-0.5237449692281284,-1.4088071744847528,1.095281759059276,0.7413258265163059,0.391225376839355,0.6568604312150156,-0.7918186884461557,-0.623628752463788,0.5213011561323011,0.5701964420195289,-1.961135212024153,-0.13753065855645294,1.270813728730286],\"xaxis\":\"x6\",\"yaxis\":\"y6\",\"type\":\"histogram\"},{\"line\":{\"color\":\"rgba(128, 128, 128, 1.0)\",\"dash\":\"solid\",\"shape\":\"linear\",\"width\":1.3},\"marker\":{\"size\":2,\"symbol\":\"circle\"},\"mode\":\"markers\",\"name\":\"B\",\"text\":\"\",\"x\":[-0.1277892268400184,-0.9644892825607035,0.4086072098110892,-0.5381608667950197,0.6142286556889565,0.8313827520714897,1.412300923492472,1.44694462875951,-0.863108434421125,0.8995275380676993,-0.2548642351727179,0.30834683701169596,-1.2528764314368968,-1.2830100944472964,-3.0772421724011187,1.6852197533581375,-0.7192311281669611,-1.175417759615233,-0.7215218207013354,0.8255995014014403,-0.028458471956432644,-0.5631594447265935,-0.4165927364191478,1.290353600977836,-0.6686456379782448,1.2058549085967016,-2.2013297177369258,1.029334203413062,0.6658505916968789,0.9877410521297808,-0.2818464203437802,-1.3597447964312073,2.4212769395537834,-1.299942432390172,-0.15524826326326177,0.3916883566574439,-1.7313423598425106,-1.6622805495171917,-1.0185565403600176,0.7627010970746567,-0.08532518817702449,-0.8516569965662245,-0.7200456941020482,-1.0326050306331274,0.026972209871047384,1.6692530364177554,0.5447346880901753,-0.9772099755507291,-0.20505215340911848,1.377544699466779,-0.02750778544863355,-1.0268861759209806,0.48042606857392706,0.24964616544465215,0.23226585519574988,1.4743599935490965,-0.9114239309113393,-0.26516929272838974,-0.8814407696662248,0.5644885173318253,-0.9365485857208484,0.18079469610508003,-0.9322164514172709,-0.3959744485967501,-0.17005046646914634,0.800720644844463,1.3544665533785205,-0.5142071388480501,-0.9257040959457232,0.4848532290328192,-0.8690300211158116,1.4165961787653765,0.11968793975560481,-0.045198470281984295,-1.7535534638567378,-0.5195140418265799,0.6201664317449421,-1.0108242243355112,0.9608453690158995,0.1622567800033939,-0.1754272667393144,-0.6946083306499794,-0.5350226472105393,1.0316156627150348,0.2063118269732497,-0.38321707734048155,-0.44621363783977686,-0.22854040483813987,1.5064314307927027,0.06746312614081311,-1.588543237039727,-0.04316227341596491,-1.286277518741366,-0.03015779521330142,0.3683535131527027,-0.3596928546289824,-0.42447712512864166,1.0756663781453497,0.42033445213716225,0.27232442739021057],\"xaxis\":\"x7\",\"y\":[-0.29031153665030285,0.8673880001188526,0.5794175830953129,1.1236877494288822,0.14560706940464604,-0.49238381593607494,-1.3585655836642285,0.5263910174142803,1.0414187484205073,1.1126342780473124,-0.2710539337610146,0.9229317060885099,2.7717055625558005,-0.8678266089839779,-2.108848157089314,0.7370183808313264,2.6345495208902894,-0.2621273708172376,0.506481601483133,0.5246870982503338,-0.14935471488468668,0.780998061065657,-1.0377295136444016,0.07582264190298024,-0.01727724156390105,0.14967915982555374,0.4006884640886359,-0.30028281207502294,1.0524568382619184,0.22714302212822748,-2.817180366152146,1.1268043517108106,-0.9275839344799525,-0.04835623775384268,0.19305027546842896,0.6948160785103962,0.10411248394502415,0.9364271446793379,0.615398985584594,1.052408275766237,-0.1305383056255062,-0.49587893903374713,0.5682691161469392,0.10691159637422652,2.069540771302056,0.44753139296663086,-0.5452979108611006,-0.43451678872120086,-1.3331180531738722,-0.17055424849834025,1.8735530864012384,-1.113989898123316,0.718666767419772,0.5494073873928873,-0.38327337314058013,-0.7208312798888825,-1.1417601621614262,0.6441031369617723,-0.14138573019705505,-1.1630568098276415,-0.6735869103228915,2.5146014801982695,1.4879552657435673,2.165414249826483,-1.180246064142854,-0.21659994578619016,-0.09596937471604866,1.0926016449982687,-1.666241916907615,-0.8078351895602224,-0.8523387749589654,-0.8134655525065212,-0.07019443259751783,2.714118708753477,0.5503739058712013,1.0703343139772825,-0.21486650994147882,-0.9601203710375531,-0.23025194155418327,-0.9328113212548568,1.89540655559761,0.09732881700465994,-0.28483495768991385,1.6464136770714903,-1.9310211656064404,-2.6132141844277355,-0.25318296893388254,-0.5237449692281284,-1.4088071744847528,1.095281759059276,0.7413258265163059,0.391225376839355,0.6568604312150156,-0.7918186884461557,-0.623628752463788,0.5213011561323011,0.5701964420195289,-1.961135212024153,-0.13753065855645294,1.270813728730286],\"yaxis\":\"y7\",\"type\":\"scatter\"},{\"line\":{\"color\":\"rgba(128, 128, 128, 1.0)\",\"dash\":\"solid\",\"shape\":\"linear\",\"width\":1.3},\"marker\":{\"size\":2,\"symbol\":\"circle\"},\"mode\":\"markers\",\"name\":\"B\",\"text\":\"\",\"x\":[1.7407505103969458,-0.473625658811833,0.4763482791554569,-0.503443788110093,-1.6524234106956222,0.7785742091284228,1.3448449943981902,1.0989087778422586,-0.6057643172096733,0.14390050395121803,1.268561926841191,0.4012441967811103,0.7506821799539849,-0.05366722338064059,0.8262807077994988,0.8298981867205804,0.5373332833614523,0.5948263659763477,-0.6475071276837318,1.9010569631653391,-0.27468868367305754,0.5378506814352321,0.8206467943675746,-0.47361950864729757,-0.7597853188244698,-1.0280263582192426,-1.4714138189104475,-0.60326974116489,-0.7891222935210618,-1.8556506239147312,-0.9772915102154787,-0.5590265478505033,-0.0586104302087858,0.18789334063881433,0.5911587847131766,1.502195877008286,2.135212719502954,-0.47110865247102574,0.48242964964785306,-2.042113892991365,-1.585265549334744,-0.7769792249017701,-0.5774110242775337,0.061332315922288064,-0.8423136343485402,-2.093829957208251,0.2149196105450425,-0.11054148958153498,0.6142794919221846,2.3524516111555953,-0.23946309431080331,-0.3122612682723753,-0.7359319775001899,0.9125003492856754,-1.2308593645336852,0.48234797869985474,-0.16781824798996559,-0.407726265734108,-2.112080433148712,0.28320810356928117,-0.5720598606887896,-1.2007167022763519,-0.46378926758007755,-0.7201881939137038,1.5123619120906187,-0.18452616535485253,0.08332975195439289,-0.008388130799279036,0.8847320001452051,-0.047197665078612304,-1.8836750861494025,0.3920623992471196,1.1122436773640796,1.49968324596587,-0.8541232762051104,-0.05729369986728551,0.639939195067397,0.4728672548265309,1.1945158069288706,-0.5226707655403006,1.068599977165574,1.8393773916033966,2.794242138962374,0.4793890046669156,0.7105204665970878,-0.693464650030267,0.5766162119453293,-1.0177581644603746,-1.0762310093361864,-1.628912610210321,-0.7322434690099642,-0.9458120920390333,0.0008534686115661662,0.24866707168765367,-0.6508701249689524,1.4207092699789163,-1.08163087966636,0.8088910328077887,-0.8605812732051812,-0.1441955944846115],\"xaxis\":\"x8\",\"y\":[-0.29031153665030285,0.8673880001188526,0.5794175830953129,1.1236877494288822,0.14560706940464604,-0.49238381593607494,-1.3585655836642285,0.5263910174142803,1.0414187484205073,1.1126342780473124,-0.2710539337610146,0.9229317060885099,2.7717055625558005,-0.8678266089839779,-2.108848157089314,0.7370183808313264,2.6345495208902894,-0.2621273708172376,0.506481601483133,0.5246870982503338,-0.14935471488468668,0.780998061065657,-1.0377295136444016,0.07582264190298024,-0.01727724156390105,0.14967915982555374,0.4006884640886359,-0.30028281207502294,1.0524568382619184,0.22714302212822748,-2.817180366152146,1.1268043517108106,-0.9275839344799525,-0.04835623775384268,0.19305027546842896,0.6948160785103962,0.10411248394502415,0.9364271446793379,0.615398985584594,1.052408275766237,-0.1305383056255062,-0.49587893903374713,0.5682691161469392,0.10691159637422652,2.069540771302056,0.44753139296663086,-0.5452979108611006,-0.43451678872120086,-1.3331180531738722,-0.17055424849834025,1.8735530864012384,-1.113989898123316,0.718666767419772,0.5494073873928873,-0.38327337314058013,-0.7208312798888825,-1.1417601621614262,0.6441031369617723,-0.14138573019705505,-1.1630568098276415,-0.6735869103228915,2.5146014801982695,1.4879552657435673,2.165414249826483,-1.180246064142854,-0.21659994578619016,-0.09596937471604866,1.0926016449982687,-1.666241916907615,-0.8078351895602224,-0.8523387749589654,-0.8134655525065212,-0.07019443259751783,2.714118708753477,0.5503739058712013,1.0703343139772825,-0.21486650994147882,-0.9601203710375531,-0.23025194155418327,-0.9328113212548568,1.89540655559761,0.09732881700465994,-0.28483495768991385,1.6464136770714903,-1.9310211656064404,-2.6132141844277355,-0.25318296893388254,-0.5237449692281284,-1.4088071744847528,1.095281759059276,0.7413258265163059,0.391225376839355,0.6568604312150156,-0.7918186884461557,-0.623628752463788,0.5213011561323011,0.5701964420195289,-1.961135212024153,-0.13753065855645294,1.270813728730286],\"yaxis\":\"y8\",\"type\":\"scatter\"},{\"line\":{\"color\":\"rgba(128, 128, 128, 1.0)\",\"dash\":\"solid\",\"shape\":\"linear\",\"width\":1.3},\"marker\":{\"size\":2,\"symbol\":\"circle\"},\"mode\":\"markers\",\"name\":\"C\",\"text\":\"\",\"x\":[-0.08186168703008381,-1.4125134786406384,-2.0216316901586966,-1.1144061395664848,-0.732862192610121,-0.43646635545450774,-2.0968581642837814,0.5444228495639059,-0.5653026207892777,0.30717970372559855,-0.4198484557612456,0.7253217047833895,-0.7910646375013571,0.24584288534701426,0.3861808927955188,-1.1467665661219575,-0.41072488955529124,0.724907854212759,-0.39513396691114294,-0.29734831407239337,0.056560161710574756,-0.8472438703374219,-1.7198020608413256,0.26407469568663433,-0.5262701489609771,-0.500907294123469,-1.0930047549095676,-0.595849948515295,1.5334319219267074,-0.016326454774757585,-0.862655734758858,0.5684015061380762,-1.2161191764324901,-1.1753642330024214,-0.18901916241119732,-0.5549185302065942,0.309228505663993,-0.5931070174769876,-0.915428386728154,-0.5689122102202488,-0.16674407057733692,-2.236913162354572,-0.5827999024163568,0.6902558348780791,0.03187805913805461,-0.7413489938308117,0.366320205190309,0.7571681026049312,0.7180974557635268,1.7056945385414521,0.1381467651427019,0.9469749716086889,-0.021766609360936398,-1.7222130070414399,-0.11193913228109911,-1.253127684581892,0.5290917355245429,1.233008441143637,-0.01708591871870062,-0.022413499602245302,0.05198424376548483,-1.5730535785265773,0.13296023573262686,-0.22105137596848967,0.11956373474779762,-0.19460631714752108,-0.22403298097538893,0.5143412935583017,0.15714090442602846,0.28035904683880963,-0.2446823288892205,0.7607186297922643,-2.2143188702913483,1.4096188805712955,0.37248522681048263,-0.9490918085680567,0.17853358552885062,0.002679033371037447,0.17851692593807564,-0.7190872551009492,0.9512063312958212,1.144354380327551,-1.559442571286232,-0.9176446170081553,1.203944757019189,0.4336986432940904,1.2922199374622567,1.048558465289624,-0.24138585364897558,-0.674413221419938,-0.4372811997781751,0.02560771998751411,0.2842463005080672,-0.07999094631816925,-0.02914694933426302,0.15541678795851396,0.4912729071280546,-1.0776651864274596,-0.9522304568959343,1.6836961434138082],\"xaxis\":\"x9\",\"y\":[-0.1277892268400184,-0.9644892825607035,0.4086072098110892,-0.5381608667950197,0.6142286556889565,0.8313827520714897,1.412300923492472,1.44694462875951,-0.863108434421125,0.8995275380676993,-0.2548642351727179,0.30834683701169596,-1.2528764314368968,-1.2830100944472964,-3.0772421724011187,1.6852197533581375,-0.7192311281669611,-1.175417759615233,-0.7215218207013354,0.8255995014014403,-0.028458471956432644,-0.5631594447265935,-0.4165927364191478,1.290353600977836,-0.6686456379782448,1.2058549085967016,-2.2013297177369258,1.029334203413062,0.6658505916968789,0.9877410521297808,-0.2818464203437802,-1.3597447964312073,2.4212769395537834,-1.299942432390172,-0.15524826326326177,0.3916883566574439,-1.7313423598425106,-1.6622805495171917,-1.0185565403600176,0.7627010970746567,-0.08532518817702449,-0.8516569965662245,-0.7200456941020482,-1.0326050306331274,0.026972209871047384,1.6692530364177554,0.5447346880901753,-0.9772099755507291,-0.20505215340911848,1.377544699466779,-0.02750778544863355,-1.0268861759209806,0.48042606857392706,0.24964616544465215,0.23226585519574988,1.4743599935490965,-0.9114239309113393,-0.26516929272838974,-0.8814407696662248,0.5644885173318253,-0.9365485857208484,0.18079469610508003,-0.9322164514172709,-0.3959744485967501,-0.17005046646914634,0.800720644844463,1.3544665533785205,-0.5142071388480501,-0.9257040959457232,0.4848532290328192,-0.8690300211158116,1.4165961787653765,0.11968793975560481,-0.045198470281984295,-1.7535534638567378,-0.5195140418265799,0.6201664317449421,-1.0108242243355112,0.9608453690158995,0.1622567800033939,-0.1754272667393144,-0.6946083306499794,-0.5350226472105393,1.0316156627150348,0.2063118269732497,-0.38321707734048155,-0.44621363783977686,-0.22854040483813987,1.5064314307927027,0.06746312614081311,-1.588543237039727,-0.04316227341596491,-1.286277518741366,-0.03015779521330142,0.3683535131527027,-0.3596928546289824,-0.42447712512864166,1.0756663781453497,0.42033445213716225,0.27232442739021057],\"yaxis\":\"y9\",\"type\":\"scatter\"},{\"line\":{\"color\":\"rgba(128, 128, 128, 1.0)\",\"dash\":\"solid\",\"shape\":\"linear\",\"width\":1.3},\"marker\":{\"size\":2,\"symbol\":\"circle\"},\"mode\":\"markers\",\"name\":\"C\",\"text\":\"\",\"x\":[-0.29031153665030285,0.8673880001188526,0.5794175830953129,1.1236877494288822,0.14560706940464604,-0.49238381593607494,-1.3585655836642285,0.5263910174142803,1.0414187484205073,1.1126342780473124,-0.2710539337610146,0.9229317060885099,2.7717055625558005,-0.8678266089839779,-2.108848157089314,0.7370183808313264,2.6345495208902894,-0.2621273708172376,0.506481601483133,0.5246870982503338,-0.14935471488468668,0.780998061065657,-1.0377295136444016,0.07582264190298024,-0.01727724156390105,0.14967915982555374,0.4006884640886359,-0.30028281207502294,1.0524568382619184,0.22714302212822748,-2.817180366152146,1.1268043517108106,-0.9275839344799525,-0.04835623775384268,0.19305027546842896,0.6948160785103962,0.10411248394502415,0.9364271446793379,0.615398985584594,1.052408275766237,-0.1305383056255062,-0.49587893903374713,0.5682691161469392,0.10691159637422652,2.069540771302056,0.44753139296663086,-0.5452979108611006,-0.43451678872120086,-1.3331180531738722,-0.17055424849834025,1.8735530864012384,-1.113989898123316,0.718666767419772,0.5494073873928873,-0.38327337314058013,-0.7208312798888825,-1.1417601621614262,0.6441031369617723,-0.14138573019705505,-1.1630568098276415,-0.6735869103228915,2.5146014801982695,1.4879552657435673,2.165414249826483,-1.180246064142854,-0.21659994578619016,-0.09596937471604866,1.0926016449982687,-1.666241916907615,-0.8078351895602224,-0.8523387749589654,-0.8134655525065212,-0.07019443259751783,2.714118708753477,0.5503739058712013,1.0703343139772825,-0.21486650994147882,-0.9601203710375531,-0.23025194155418327,-0.9328113212548568,1.89540655559761,0.09732881700465994,-0.28483495768991385,1.6464136770714903,-1.9310211656064404,-2.6132141844277355,-0.25318296893388254,-0.5237449692281284,-1.4088071744847528,1.095281759059276,0.7413258265163059,0.391225376839355,0.6568604312150156,-0.7918186884461557,-0.623628752463788,0.5213011561323011,0.5701964420195289,-1.961135212024153,-0.13753065855645294,1.270813728730286],\"xaxis\":\"x10\",\"y\":[-0.1277892268400184,-0.9644892825607035,0.4086072098110892,-0.5381608667950197,0.6142286556889565,0.8313827520714897,1.412300923492472,1.44694462875951,-0.863108434421125,0.8995275380676993,-0.2548642351727179,0.30834683701169596,-1.2528764314368968,-1.2830100944472964,-3.0772421724011187,1.6852197533581375,-0.7192311281669611,-1.175417759615233,-0.7215218207013354,0.8255995014014403,-0.028458471956432644,-0.5631594447265935,-0.4165927364191478,1.290353600977836,-0.6686456379782448,1.2058549085967016,-2.2013297177369258,1.029334203413062,0.6658505916968789,0.9877410521297808,-0.2818464203437802,-1.3597447964312073,2.4212769395537834,-1.299942432390172,-0.15524826326326177,0.3916883566574439,-1.7313423598425106,-1.6622805495171917,-1.0185565403600176,0.7627010970746567,-0.08532518817702449,-0.8516569965662245,-0.7200456941020482,-1.0326050306331274,0.026972209871047384,1.6692530364177554,0.5447346880901753,-0.9772099755507291,-0.20505215340911848,1.377544699466779,-0.02750778544863355,-1.0268861759209806,0.48042606857392706,0.24964616544465215,0.23226585519574988,1.4743599935490965,-0.9114239309113393,-0.26516929272838974,-0.8814407696662248,0.5644885173318253,-0.9365485857208484,0.18079469610508003,-0.9322164514172709,-0.3959744485967501,-0.17005046646914634,0.800720644844463,1.3544665533785205,-0.5142071388480501,-0.9257040959457232,0.4848532290328192,-0.8690300211158116,1.4165961787653765,0.11968793975560481,-0.045198470281984295,-1.7535534638567378,-0.5195140418265799,0.6201664317449421,-1.0108242243355112,0.9608453690158995,0.1622567800033939,-0.1754272667393144,-0.6946083306499794,-0.5350226472105393,1.0316156627150348,0.2063118269732497,-0.38321707734048155,-0.44621363783977686,-0.22854040483813987,1.5064314307927027,0.06746312614081311,-1.588543237039727,-0.04316227341596491,-1.286277518741366,-0.03015779521330142,0.3683535131527027,-0.3596928546289824,-0.42447712512864166,1.0756663781453497,0.42033445213716225,0.27232442739021057],\"yaxis\":\"y10\",\"type\":\"scatter\"},{\"histfunc\":\"count\",\"histnorm\":\"\",\"marker\":{\"color\":\"rgba(50, 171, 96, 1.0)\",\"line\":{\"color\":\"#4D5663\",\"width\":1.3}},\"name\":\"C\",\"nbinsx\":10,\"opacity\":0.8,\"orientation\":\"v\",\"x\":[-0.1277892268400184,-0.9644892825607035,0.4086072098110892,-0.5381608667950197,0.6142286556889565,0.8313827520714897,1.412300923492472,1.44694462875951,-0.863108434421125,0.8995275380676993,-0.2548642351727179,0.30834683701169596,-1.2528764314368968,-1.2830100944472964,-3.0772421724011187,1.6852197533581375,-0.7192311281669611,-1.175417759615233,-0.7215218207013354,0.8255995014014403,-0.028458471956432644,-0.5631594447265935,-0.4165927364191478,1.290353600977836,-0.6686456379782448,1.2058549085967016,-2.2013297177369258,1.029334203413062,0.6658505916968789,0.9877410521297808,-0.2818464203437802,-1.3597447964312073,2.4212769395537834,-1.299942432390172,-0.15524826326326177,0.3916883566574439,-1.7313423598425106,-1.6622805495171917,-1.0185565403600176,0.7627010970746567,-0.08532518817702449,-0.8516569965662245,-0.7200456941020482,-1.0326050306331274,0.026972209871047384,1.6692530364177554,0.5447346880901753,-0.9772099755507291,-0.20505215340911848,1.377544699466779,-0.02750778544863355,-1.0268861759209806,0.48042606857392706,0.24964616544465215,0.23226585519574988,1.4743599935490965,-0.9114239309113393,-0.26516929272838974,-0.8814407696662248,0.5644885173318253,-0.9365485857208484,0.18079469610508003,-0.9322164514172709,-0.3959744485967501,-0.17005046646914634,0.800720644844463,1.3544665533785205,-0.5142071388480501,-0.9257040959457232,0.4848532290328192,-0.8690300211158116,1.4165961787653765,0.11968793975560481,-0.045198470281984295,-1.7535534638567378,-0.5195140418265799,0.6201664317449421,-1.0108242243355112,0.9608453690158995,0.1622567800033939,-0.1754272667393144,-0.6946083306499794,-0.5350226472105393,1.0316156627150348,0.2063118269732497,-0.38321707734048155,-0.44621363783977686,-0.22854040483813987,1.5064314307927027,0.06746312614081311,-1.588543237039727,-0.04316227341596491,-1.286277518741366,-0.03015779521330142,0.3683535131527027,-0.3596928546289824,-0.42447712512864166,1.0756663781453497,0.42033445213716225,0.27232442739021057],\"xaxis\":\"x11\",\"yaxis\":\"y11\",\"type\":\"histogram\"},{\"line\":{\"color\":\"rgba(128, 128, 128, 1.0)\",\"dash\":\"solid\",\"shape\":\"linear\",\"width\":1.3},\"marker\":{\"size\":2,\"symbol\":\"circle\"},\"mode\":\"markers\",\"name\":\"C\",\"text\":\"\",\"x\":[1.7407505103969458,-0.473625658811833,0.4763482791554569,-0.503443788110093,-1.6524234106956222,0.7785742091284228,1.3448449943981902,1.0989087778422586,-0.6057643172096733,0.14390050395121803,1.268561926841191,0.4012441967811103,0.7506821799539849,-0.05366722338064059,0.8262807077994988,0.8298981867205804,0.5373332833614523,0.5948263659763477,-0.6475071276837318,1.9010569631653391,-0.27468868367305754,0.5378506814352321,0.8206467943675746,-0.47361950864729757,-0.7597853188244698,-1.0280263582192426,-1.4714138189104475,-0.60326974116489,-0.7891222935210618,-1.8556506239147312,-0.9772915102154787,-0.5590265478505033,-0.0586104302087858,0.18789334063881433,0.5911587847131766,1.502195877008286,2.135212719502954,-0.47110865247102574,0.48242964964785306,-2.042113892991365,-1.585265549334744,-0.7769792249017701,-0.5774110242775337,0.061332315922288064,-0.8423136343485402,-2.093829957208251,0.2149196105450425,-0.11054148958153498,0.6142794919221846,2.3524516111555953,-0.23946309431080331,-0.3122612682723753,-0.7359319775001899,0.9125003492856754,-1.2308593645336852,0.48234797869985474,-0.16781824798996559,-0.407726265734108,-2.112080433148712,0.28320810356928117,-0.5720598606887896,-1.2007167022763519,-0.46378926758007755,-0.7201881939137038,1.5123619120906187,-0.18452616535485253,0.08332975195439289,-0.008388130799279036,0.8847320001452051,-0.047197665078612304,-1.8836750861494025,0.3920623992471196,1.1122436773640796,1.49968324596587,-0.8541232762051104,-0.05729369986728551,0.639939195067397,0.4728672548265309,1.1945158069288706,-0.5226707655403006,1.068599977165574,1.8393773916033966,2.794242138962374,0.4793890046669156,0.7105204665970878,-0.693464650030267,0.5766162119453293,-1.0177581644603746,-1.0762310093361864,-1.628912610210321,-0.7322434690099642,-0.9458120920390333,0.0008534686115661662,0.24866707168765367,-0.6508701249689524,1.4207092699789163,-1.08163087966636,0.8088910328077887,-0.8605812732051812,-0.1441955944846115],\"xaxis\":\"x12\",\"y\":[-0.1277892268400184,-0.9644892825607035,0.4086072098110892,-0.5381608667950197,0.6142286556889565,0.8313827520714897,1.412300923492472,1.44694462875951,-0.863108434421125,0.8995275380676993,-0.2548642351727179,0.30834683701169596,-1.2528764314368968,-1.2830100944472964,-3.0772421724011187,1.6852197533581375,-0.7192311281669611,-1.175417759615233,-0.7215218207013354,0.8255995014014403,-0.028458471956432644,-0.5631594447265935,-0.4165927364191478,1.290353600977836,-0.6686456379782448,1.2058549085967016,-2.2013297177369258,1.029334203413062,0.6658505916968789,0.9877410521297808,-0.2818464203437802,-1.3597447964312073,2.4212769395537834,-1.299942432390172,-0.15524826326326177,0.3916883566574439,-1.7313423598425106,-1.6622805495171917,-1.0185565403600176,0.7627010970746567,-0.08532518817702449,-0.8516569965662245,-0.7200456941020482,-1.0326050306331274,0.026972209871047384,1.6692530364177554,0.5447346880901753,-0.9772099755507291,-0.20505215340911848,1.377544699466779,-0.02750778544863355,-1.0268861759209806,0.48042606857392706,0.24964616544465215,0.23226585519574988,1.4743599935490965,-0.9114239309113393,-0.26516929272838974,-0.8814407696662248,0.5644885173318253,-0.9365485857208484,0.18079469610508003,-0.9322164514172709,-0.3959744485967501,-0.17005046646914634,0.800720644844463,1.3544665533785205,-0.5142071388480501,-0.9257040959457232,0.4848532290328192,-0.8690300211158116,1.4165961787653765,0.11968793975560481,-0.045198470281984295,-1.7535534638567378,-0.5195140418265799,0.6201664317449421,-1.0108242243355112,0.9608453690158995,0.1622567800033939,-0.1754272667393144,-0.6946083306499794,-0.5350226472105393,1.0316156627150348,0.2063118269732497,-0.38321707734048155,-0.44621363783977686,-0.22854040483813987,1.5064314307927027,0.06746312614081311,-1.588543237039727,-0.04316227341596491,-1.286277518741366,-0.03015779521330142,0.3683535131527027,-0.3596928546289824,-0.42447712512864166,1.0756663781453497,0.42033445213716225,0.27232442739021057],\"yaxis\":\"y12\",\"type\":\"scatter\"},{\"line\":{\"color\":\"rgba(128, 128, 128, 1.0)\",\"dash\":\"solid\",\"shape\":\"linear\",\"width\":1.3},\"marker\":{\"size\":2,\"symbol\":\"circle\"},\"mode\":\"markers\",\"name\":\"D\",\"text\":\"\",\"x\":[-0.08186168703008381,-1.4125134786406384,-2.0216316901586966,-1.1144061395664848,-0.732862192610121,-0.43646635545450774,-2.0968581642837814,0.5444228495639059,-0.5653026207892777,0.30717970372559855,-0.4198484557612456,0.7253217047833895,-0.7910646375013571,0.24584288534701426,0.3861808927955188,-1.1467665661219575,-0.41072488955529124,0.724907854212759,-0.39513396691114294,-0.29734831407239337,0.056560161710574756,-0.8472438703374219,-1.7198020608413256,0.26407469568663433,-0.5262701489609771,-0.500907294123469,-1.0930047549095676,-0.595849948515295,1.5334319219267074,-0.016326454774757585,-0.862655734758858,0.5684015061380762,-1.2161191764324901,-1.1753642330024214,-0.18901916241119732,-0.5549185302065942,0.309228505663993,-0.5931070174769876,-0.915428386728154,-0.5689122102202488,-0.16674407057733692,-2.236913162354572,-0.5827999024163568,0.6902558348780791,0.03187805913805461,-0.7413489938308117,0.366320205190309,0.7571681026049312,0.7180974557635268,1.7056945385414521,0.1381467651427019,0.9469749716086889,-0.021766609360936398,-1.7222130070414399,-0.11193913228109911,-1.253127684581892,0.5290917355245429,1.233008441143637,-0.01708591871870062,-0.022413499602245302,0.05198424376548483,-1.5730535785265773,0.13296023573262686,-0.22105137596848967,0.11956373474779762,-0.19460631714752108,-0.22403298097538893,0.5143412935583017,0.15714090442602846,0.28035904683880963,-0.2446823288892205,0.7607186297922643,-2.2143188702913483,1.4096188805712955,0.37248522681048263,-0.9490918085680567,0.17853358552885062,0.002679033371037447,0.17851692593807564,-0.7190872551009492,0.9512063312958212,1.144354380327551,-1.559442571286232,-0.9176446170081553,1.203944757019189,0.4336986432940904,1.2922199374622567,1.048558465289624,-0.24138585364897558,-0.674413221419938,-0.4372811997781751,0.02560771998751411,0.2842463005080672,-0.07999094631816925,-0.02914694933426302,0.15541678795851396,0.4912729071280546,-1.0776651864274596,-0.9522304568959343,1.6836961434138082],\"xaxis\":\"x13\",\"y\":[1.7407505103969458,-0.473625658811833,0.4763482791554569,-0.503443788110093,-1.6524234106956222,0.7785742091284228,1.3448449943981902,1.0989087778422586,-0.6057643172096733,0.14390050395121803,1.268561926841191,0.4012441967811103,0.7506821799539849,-0.05366722338064059,0.8262807077994988,0.8298981867205804,0.5373332833614523,0.5948263659763477,-0.6475071276837318,1.9010569631653391,-0.27468868367305754,0.5378506814352321,0.8206467943675746,-0.47361950864729757,-0.7597853188244698,-1.0280263582192426,-1.4714138189104475,-0.60326974116489,-0.7891222935210618,-1.8556506239147312,-0.9772915102154787,-0.5590265478505033,-0.0586104302087858,0.18789334063881433,0.5911587847131766,1.502195877008286,2.135212719502954,-0.47110865247102574,0.48242964964785306,-2.042113892991365,-1.585265549334744,-0.7769792249017701,-0.5774110242775337,0.061332315922288064,-0.8423136343485402,-2.093829957208251,0.2149196105450425,-0.11054148958153498,0.6142794919221846,2.3524516111555953,-0.23946309431080331,-0.3122612682723753,-0.7359319775001899,0.9125003492856754,-1.2308593645336852,0.48234797869985474,-0.16781824798996559,-0.407726265734108,-2.112080433148712,0.28320810356928117,-0.5720598606887896,-1.2007167022763519,-0.46378926758007755,-0.7201881939137038,1.5123619120906187,-0.18452616535485253,0.08332975195439289,-0.008388130799279036,0.8847320001452051,-0.047197665078612304,-1.8836750861494025,0.3920623992471196,1.1122436773640796,1.49968324596587,-0.8541232762051104,-0.05729369986728551,0.639939195067397,0.4728672548265309,1.1945158069288706,-0.5226707655403006,1.068599977165574,1.8393773916033966,2.794242138962374,0.4793890046669156,0.7105204665970878,-0.693464650030267,0.5766162119453293,-1.0177581644603746,-1.0762310093361864,-1.628912610210321,-0.7322434690099642,-0.9458120920390333,0.0008534686115661662,0.24866707168765367,-0.6508701249689524,1.4207092699789163,-1.08163087966636,0.8088910328077887,-0.8605812732051812,-0.1441955944846115],\"yaxis\":\"y13\",\"type\":\"scatter\"},{\"line\":{\"color\":\"rgba(128, 128, 128, 1.0)\",\"dash\":\"solid\",\"shape\":\"linear\",\"width\":1.3},\"marker\":{\"size\":2,\"symbol\":\"circle\"},\"mode\":\"markers\",\"name\":\"D\",\"text\":\"\",\"x\":[-0.29031153665030285,0.8673880001188526,0.5794175830953129,1.1236877494288822,0.14560706940464604,-0.49238381593607494,-1.3585655836642285,0.5263910174142803,1.0414187484205073,1.1126342780473124,-0.2710539337610146,0.9229317060885099,2.7717055625558005,-0.8678266089839779,-2.108848157089314,0.7370183808313264,2.6345495208902894,-0.2621273708172376,0.506481601483133,0.5246870982503338,-0.14935471488468668,0.780998061065657,-1.0377295136444016,0.07582264190298024,-0.01727724156390105,0.14967915982555374,0.4006884640886359,-0.30028281207502294,1.0524568382619184,0.22714302212822748,-2.817180366152146,1.1268043517108106,-0.9275839344799525,-0.04835623775384268,0.19305027546842896,0.6948160785103962,0.10411248394502415,0.9364271446793379,0.615398985584594,1.052408275766237,-0.1305383056255062,-0.49587893903374713,0.5682691161469392,0.10691159637422652,2.069540771302056,0.44753139296663086,-0.5452979108611006,-0.43451678872120086,-1.3331180531738722,-0.17055424849834025,1.8735530864012384,-1.113989898123316,0.718666767419772,0.5494073873928873,-0.38327337314058013,-0.7208312798888825,-1.1417601621614262,0.6441031369617723,-0.14138573019705505,-1.1630568098276415,-0.6735869103228915,2.5146014801982695,1.4879552657435673,2.165414249826483,-1.180246064142854,-0.21659994578619016,-0.09596937471604866,1.0926016449982687,-1.666241916907615,-0.8078351895602224,-0.8523387749589654,-0.8134655525065212,-0.07019443259751783,2.714118708753477,0.5503739058712013,1.0703343139772825,-0.21486650994147882,-0.9601203710375531,-0.23025194155418327,-0.9328113212548568,1.89540655559761,0.09732881700465994,-0.28483495768991385,1.6464136770714903,-1.9310211656064404,-2.6132141844277355,-0.25318296893388254,-0.5237449692281284,-1.4088071744847528,1.095281759059276,0.7413258265163059,0.391225376839355,0.6568604312150156,-0.7918186884461557,-0.623628752463788,0.5213011561323011,0.5701964420195289,-1.961135212024153,-0.13753065855645294,1.270813728730286],\"xaxis\":\"x14\",\"y\":[1.7407505103969458,-0.473625658811833,0.4763482791554569,-0.503443788110093,-1.6524234106956222,0.7785742091284228,1.3448449943981902,1.0989087778422586,-0.6057643172096733,0.14390050395121803,1.268561926841191,0.4012441967811103,0.7506821799539849,-0.05366722338064059,0.8262807077994988,0.8298981867205804,0.5373332833614523,0.5948263659763477,-0.6475071276837318,1.9010569631653391,-0.27468868367305754,0.5378506814352321,0.8206467943675746,-0.47361950864729757,-0.7597853188244698,-1.0280263582192426,-1.4714138189104475,-0.60326974116489,-0.7891222935210618,-1.8556506239147312,-0.9772915102154787,-0.5590265478505033,-0.0586104302087858,0.18789334063881433,0.5911587847131766,1.502195877008286,2.135212719502954,-0.47110865247102574,0.48242964964785306,-2.042113892991365,-1.585265549334744,-0.7769792249017701,-0.5774110242775337,0.061332315922288064,-0.8423136343485402,-2.093829957208251,0.2149196105450425,-0.11054148958153498,0.6142794919221846,2.3524516111555953,-0.23946309431080331,-0.3122612682723753,-0.7359319775001899,0.9125003492856754,-1.2308593645336852,0.48234797869985474,-0.16781824798996559,-0.407726265734108,-2.112080433148712,0.28320810356928117,-0.5720598606887896,-1.2007167022763519,-0.46378926758007755,-0.7201881939137038,1.5123619120906187,-0.18452616535485253,0.08332975195439289,-0.008388130799279036,0.8847320001452051,-0.047197665078612304,-1.8836750861494025,0.3920623992471196,1.1122436773640796,1.49968324596587,-0.8541232762051104,-0.05729369986728551,0.639939195067397,0.4728672548265309,1.1945158069288706,-0.5226707655403006,1.068599977165574,1.8393773916033966,2.794242138962374,0.4793890046669156,0.7105204665970878,-0.693464650030267,0.5766162119453293,-1.0177581644603746,-1.0762310093361864,-1.628912610210321,-0.7322434690099642,-0.9458120920390333,0.0008534686115661662,0.24866707168765367,-0.6508701249689524,1.4207092699789163,-1.08163087966636,0.8088910328077887,-0.8605812732051812,-0.1441955944846115],\"yaxis\":\"y14\",\"type\":\"scatter\"},{\"line\":{\"color\":\"rgba(128, 128, 128, 1.0)\",\"dash\":\"solid\",\"shape\":\"linear\",\"width\":1.3},\"marker\":{\"size\":2,\"symbol\":\"circle\"},\"mode\":\"markers\",\"name\":\"D\",\"text\":\"\",\"x\":[-0.1277892268400184,-0.9644892825607035,0.4086072098110892,-0.5381608667950197,0.6142286556889565,0.8313827520714897,1.412300923492472,1.44694462875951,-0.863108434421125,0.8995275380676993,-0.2548642351727179,0.30834683701169596,-1.2528764314368968,-1.2830100944472964,-3.0772421724011187,1.6852197533581375,-0.7192311281669611,-1.175417759615233,-0.7215218207013354,0.8255995014014403,-0.028458471956432644,-0.5631594447265935,-0.4165927364191478,1.290353600977836,-0.6686456379782448,1.2058549085967016,-2.2013297177369258,1.029334203413062,0.6658505916968789,0.9877410521297808,-0.2818464203437802,-1.3597447964312073,2.4212769395537834,-1.299942432390172,-0.15524826326326177,0.3916883566574439,-1.7313423598425106,-1.6622805495171917,-1.0185565403600176,0.7627010970746567,-0.08532518817702449,-0.8516569965662245,-0.7200456941020482,-1.0326050306331274,0.026972209871047384,1.6692530364177554,0.5447346880901753,-0.9772099755507291,-0.20505215340911848,1.377544699466779,-0.02750778544863355,-1.0268861759209806,0.48042606857392706,0.24964616544465215,0.23226585519574988,1.4743599935490965,-0.9114239309113393,-0.26516929272838974,-0.8814407696662248,0.5644885173318253,-0.9365485857208484,0.18079469610508003,-0.9322164514172709,-0.3959744485967501,-0.17005046646914634,0.800720644844463,1.3544665533785205,-0.5142071388480501,-0.9257040959457232,0.4848532290328192,-0.8690300211158116,1.4165961787653765,0.11968793975560481,-0.045198470281984295,-1.7535534638567378,-0.5195140418265799,0.6201664317449421,-1.0108242243355112,0.9608453690158995,0.1622567800033939,-0.1754272667393144,-0.6946083306499794,-0.5350226472105393,1.0316156627150348,0.2063118269732497,-0.38321707734048155,-0.44621363783977686,-0.22854040483813987,1.5064314307927027,0.06746312614081311,-1.588543237039727,-0.04316227341596491,-1.286277518741366,-0.03015779521330142,0.3683535131527027,-0.3596928546289824,-0.42447712512864166,1.0756663781453497,0.42033445213716225,0.27232442739021057],\"xaxis\":\"x15\",\"y\":[1.7407505103969458,-0.473625658811833,0.4763482791554569,-0.503443788110093,-1.6524234106956222,0.7785742091284228,1.3448449943981902,1.0989087778422586,-0.6057643172096733,0.14390050395121803,1.268561926841191,0.4012441967811103,0.7506821799539849,-0.05366722338064059,0.8262807077994988,0.8298981867205804,0.5373332833614523,0.5948263659763477,-0.6475071276837318,1.9010569631653391,-0.27468868367305754,0.5378506814352321,0.8206467943675746,-0.47361950864729757,-0.7597853188244698,-1.0280263582192426,-1.4714138189104475,-0.60326974116489,-0.7891222935210618,-1.8556506239147312,-0.9772915102154787,-0.5590265478505033,-0.0586104302087858,0.18789334063881433,0.5911587847131766,1.502195877008286,2.135212719502954,-0.47110865247102574,0.48242964964785306,-2.042113892991365,-1.585265549334744,-0.7769792249017701,-0.5774110242775337,0.061332315922288064,-0.8423136343485402,-2.093829957208251,0.2149196105450425,-0.11054148958153498,0.6142794919221846,2.3524516111555953,-0.23946309431080331,-0.3122612682723753,-0.7359319775001899,0.9125003492856754,-1.2308593645336852,0.48234797869985474,-0.16781824798996559,-0.407726265734108,-2.112080433148712,0.28320810356928117,-0.5720598606887896,-1.2007167022763519,-0.46378926758007755,-0.7201881939137038,1.5123619120906187,-0.18452616535485253,0.08332975195439289,-0.008388130799279036,0.8847320001452051,-0.047197665078612304,-1.8836750861494025,0.3920623992471196,1.1122436773640796,1.49968324596587,-0.8541232762051104,-0.05729369986728551,0.639939195067397,0.4728672548265309,1.1945158069288706,-0.5226707655403006,1.068599977165574,1.8393773916033966,2.794242138962374,0.4793890046669156,0.7105204665970878,-0.693464650030267,0.5766162119453293,-1.0177581644603746,-1.0762310093361864,-1.628912610210321,-0.7322434690099642,-0.9458120920390333,0.0008534686115661662,0.24866707168765367,-0.6508701249689524,1.4207092699789163,-1.08163087966636,0.8088910328077887,-0.8605812732051812,-0.1441955944846115],\"yaxis\":\"y15\",\"type\":\"scatter\"},{\"histfunc\":\"count\",\"histnorm\":\"\",\"marker\":{\"color\":\"rgba(128, 0, 128, 1.0)\",\"line\":{\"color\":\"#4D5663\",\"width\":1.3}},\"name\":\"D\",\"nbinsx\":10,\"opacity\":0.8,\"orientation\":\"v\",\"x\":[1.7407505103969458,-0.473625658811833,0.4763482791554569,-0.503443788110093,-1.6524234106956222,0.7785742091284228,1.3448449943981902,1.0989087778422586,-0.6057643172096733,0.14390050395121803,1.268561926841191,0.4012441967811103,0.7506821799539849,-0.05366722338064059,0.8262807077994988,0.8298981867205804,0.5373332833614523,0.5948263659763477,-0.6475071276837318,1.9010569631653391,-0.27468868367305754,0.5378506814352321,0.8206467943675746,-0.47361950864729757,-0.7597853188244698,-1.0280263582192426,-1.4714138189104475,-0.60326974116489,-0.7891222935210618,-1.8556506239147312,-0.9772915102154787,-0.5590265478505033,-0.0586104302087858,0.18789334063881433,0.5911587847131766,1.502195877008286,2.135212719502954,-0.47110865247102574,0.48242964964785306,-2.042113892991365,-1.585265549334744,-0.7769792249017701,-0.5774110242775337,0.061332315922288064,-0.8423136343485402,-2.093829957208251,0.2149196105450425,-0.11054148958153498,0.6142794919221846,2.3524516111555953,-0.23946309431080331,-0.3122612682723753,-0.7359319775001899,0.9125003492856754,-1.2308593645336852,0.48234797869985474,-0.16781824798996559,-0.407726265734108,-2.112080433148712,0.28320810356928117,-0.5720598606887896,-1.2007167022763519,-0.46378926758007755,-0.7201881939137038,1.5123619120906187,-0.18452616535485253,0.08332975195439289,-0.008388130799279036,0.8847320001452051,-0.047197665078612304,-1.8836750861494025,0.3920623992471196,1.1122436773640796,1.49968324596587,-0.8541232762051104,-0.05729369986728551,0.639939195067397,0.4728672548265309,1.1945158069288706,-0.5226707655403006,1.068599977165574,1.8393773916033966,2.794242138962374,0.4793890046669156,0.7105204665970878,-0.693464650030267,0.5766162119453293,-1.0177581644603746,-1.0762310093361864,-1.628912610210321,-0.7322434690099642,-0.9458120920390333,0.0008534686115661662,0.24866707168765367,-0.6508701249689524,1.4207092699789163,-1.08163087966636,0.8088910328077887,-0.8605812732051812,-0.1441955944846115],\"xaxis\":\"x16\",\"yaxis\":\"y16\",\"type\":\"histogram\"}],                        {\"bargap\":0.02,\"legend\":{\"bgcolor\":\"#F5F6F9\",\"font\":{\"color\":\"#4D5663\"}},\"paper_bgcolor\":\"#F5F6F9\",\"plot_bgcolor\":\"#F5F6F9\",\"showlegend\":false,\"template\":{\"data\":{\"barpolar\":[{\"marker\":{\"line\":{\"color\":\"#E5ECF6\",\"width\":0.5},\"pattern\":{\"fillmode\":\"overlay\",\"size\":10,\"solidity\":0.2}},\"type\":\"barpolar\"}],\"bar\":[{\"error_x\":{\"color\":\"#2a3f5f\"},\"error_y\":{\"color\":\"#2a3f5f\"},\"marker\":{\"line\":{\"color\":\"#E5ECF6\",\"width\":0.5},\"pattern\":{\"fillmode\":\"overlay\",\"size\":10,\"solidity\":0.2}},\"type\":\"bar\"}],\"carpet\":[{\"aaxis\":{\"endlinecolor\":\"#2a3f5f\",\"gridcolor\":\"white\",\"linecolor\":\"white\",\"minorgridcolor\":\"white\",\"startlinecolor\":\"#2a3f5f\"},\"baxis\":{\"endlinecolor\":\"#2a3f5f\",\"gridcolor\":\"white\",\"linecolor\":\"white\",\"minorgridcolor\":\"white\",\"startlinecolor\":\"#2a3f5f\"},\"type\":\"carpet\"}],\"choropleth\":[{\"colorbar\":{\"outlinewidth\":0,\"ticks\":\"\"},\"type\":\"choropleth\"}],\"contourcarpet\":[{\"colorbar\":{\"outlinewidth\":0,\"ticks\":\"\"},\"type\":\"contourcarpet\"}],\"contour\":[{\"colorbar\":{\"outlinewidth\":0,\"ticks\":\"\"},\"colorscale\":[[0.0,\"#0d0887\"],[0.1111111111111111,\"#46039f\"],[0.2222222222222222,\"#7201a8\"],[0.3333333333333333,\"#9c179e\"],[0.4444444444444444,\"#bd3786\"],[0.5555555555555556,\"#d8576b\"],[0.6666666666666666,\"#ed7953\"],[0.7777777777777778,\"#fb9f3a\"],[0.8888888888888888,\"#fdca26\"],[1.0,\"#f0f921\"]],\"type\":\"contour\"}],\"heatmapgl\":[{\"colorbar\":{\"outlinewidth\":0,\"ticks\":\"\"},\"colorscale\":[[0.0,\"#0d0887\"],[0.1111111111111111,\"#46039f\"],[0.2222222222222222,\"#7201a8\"],[0.3333333333333333,\"#9c179e\"],[0.4444444444444444,\"#bd3786\"],[0.5555555555555556,\"#d8576b\"],[0.6666666666666666,\"#ed7953\"],[0.7777777777777778,\"#fb9f3a\"],[0.8888888888888888,\"#fdca26\"],[1.0,\"#f0f921\"]],\"type\":\"heatmapgl\"}],\"heatmap\":[{\"colorbar\":{\"outlinewidth\":0,\"ticks\":\"\"},\"colorscale\":[[0.0,\"#0d0887\"],[0.1111111111111111,\"#46039f\"],[0.2222222222222222,\"#7201a8\"],[0.3333333333333333,\"#9c179e\"],[0.4444444444444444,\"#bd3786\"],[0.5555555555555556,\"#d8576b\"],[0.6666666666666666,\"#ed7953\"],[0.7777777777777778,\"#fb9f3a\"],[0.8888888888888888,\"#fdca26\"],[1.0,\"#f0f921\"]],\"type\":\"heatmap\"}],\"histogram2dcontour\":[{\"colorbar\":{\"outlinewidth\":0,\"ticks\":\"\"},\"colorscale\":[[0.0,\"#0d0887\"],[0.1111111111111111,\"#46039f\"],[0.2222222222222222,\"#7201a8\"],[0.3333333333333333,\"#9c179e\"],[0.4444444444444444,\"#bd3786\"],[0.5555555555555556,\"#d8576b\"],[0.6666666666666666,\"#ed7953\"],[0.7777777777777778,\"#fb9f3a\"],[0.8888888888888888,\"#fdca26\"],[1.0,\"#f0f921\"]],\"type\":\"histogram2dcontour\"}],\"histogram2d\":[{\"colorbar\":{\"outlinewidth\":0,\"ticks\":\"\"},\"colorscale\":[[0.0,\"#0d0887\"],[0.1111111111111111,\"#46039f\"],[0.2222222222222222,\"#7201a8\"],[0.3333333333333333,\"#9c179e\"],[0.4444444444444444,\"#bd3786\"],[0.5555555555555556,\"#d8576b\"],[0.6666666666666666,\"#ed7953\"],[0.7777777777777778,\"#fb9f3a\"],[0.8888888888888888,\"#fdca26\"],[1.0,\"#f0f921\"]],\"type\":\"histogram2d\"}],\"histogram\":[{\"marker\":{\"pattern\":{\"fillmode\":\"overlay\",\"size\":10,\"solidity\":0.2}},\"type\":\"histogram\"}],\"mesh3d\":[{\"colorbar\":{\"outlinewidth\":0,\"ticks\":\"\"},\"type\":\"mesh3d\"}],\"parcoords\":[{\"line\":{\"colorbar\":{\"outlinewidth\":0,\"ticks\":\"\"}},\"type\":\"parcoords\"}],\"pie\":[{\"automargin\":true,\"type\":\"pie\"}],\"scatter3d\":[{\"line\":{\"colorbar\":{\"outlinewidth\":0,\"ticks\":\"\"}},\"marker\":{\"colorbar\":{\"outlinewidth\":0,\"ticks\":\"\"}},\"type\":\"scatter3d\"}],\"scattercarpet\":[{\"marker\":{\"colorbar\":{\"outlinewidth\":0,\"ticks\":\"\"}},\"type\":\"scattercarpet\"}],\"scattergeo\":[{\"marker\":{\"colorbar\":{\"outlinewidth\":0,\"ticks\":\"\"}},\"type\":\"scattergeo\"}],\"scattergl\":[{\"marker\":{\"colorbar\":{\"outlinewidth\":0,\"ticks\":\"\"}},\"type\":\"scattergl\"}],\"scattermapbox\":[{\"marker\":{\"colorbar\":{\"outlinewidth\":0,\"ticks\":\"\"}},\"type\":\"scattermapbox\"}],\"scatterpolargl\":[{\"marker\":{\"colorbar\":{\"outlinewidth\":0,\"ticks\":\"\"}},\"type\":\"scatterpolargl\"}],\"scatterpolar\":[{\"marker\":{\"colorbar\":{\"outlinewidth\":0,\"ticks\":\"\"}},\"type\":\"scatterpolar\"}],\"scatter\":[{\"fillpattern\":{\"fillmode\":\"overlay\",\"size\":10,\"solidity\":0.2},\"type\":\"scatter\"}],\"scatterternary\":[{\"marker\":{\"colorbar\":{\"outlinewidth\":0,\"ticks\":\"\"}},\"type\":\"scatterternary\"}],\"surface\":[{\"colorbar\":{\"outlinewidth\":0,\"ticks\":\"\"},\"colorscale\":[[0.0,\"#0d0887\"],[0.1111111111111111,\"#46039f\"],[0.2222222222222222,\"#7201a8\"],[0.3333333333333333,\"#9c179e\"],[0.4444444444444444,\"#bd3786\"],[0.5555555555555556,\"#d8576b\"],[0.6666666666666666,\"#ed7953\"],[0.7777777777777778,\"#fb9f3a\"],[0.8888888888888888,\"#fdca26\"],[1.0,\"#f0f921\"]],\"type\":\"surface\"}],\"table\":[{\"cells\":{\"fill\":{\"color\":\"#EBF0F8\"},\"line\":{\"color\":\"white\"}},\"header\":{\"fill\":{\"color\":\"#C8D4E3\"},\"line\":{\"color\":\"white\"}},\"type\":\"table\"}]},\"layout\":{\"annotationdefaults\":{\"arrowcolor\":\"#2a3f5f\",\"arrowhead\":0,\"arrowwidth\":1},\"autotypenumbers\":\"strict\",\"coloraxis\":{\"colorbar\":{\"outlinewidth\":0,\"ticks\":\"\"}},\"colorscale\":{\"diverging\":[[0,\"#8e0152\"],[0.1,\"#c51b7d\"],[0.2,\"#de77ae\"],[0.3,\"#f1b6da\"],[0.4,\"#fde0ef\"],[0.5,\"#f7f7f7\"],[0.6,\"#e6f5d0\"],[0.7,\"#b8e186\"],[0.8,\"#7fbc41\"],[0.9,\"#4d9221\"],[1,\"#276419\"]],\"sequential\":[[0.0,\"#0d0887\"],[0.1111111111111111,\"#46039f\"],[0.2222222222222222,\"#7201a8\"],[0.3333333333333333,\"#9c179e\"],[0.4444444444444444,\"#bd3786\"],[0.5555555555555556,\"#d8576b\"],[0.6666666666666666,\"#ed7953\"],[0.7777777777777778,\"#fb9f3a\"],[0.8888888888888888,\"#fdca26\"],[1.0,\"#f0f921\"]],\"sequentialminus\":[[0.0,\"#0d0887\"],[0.1111111111111111,\"#46039f\"],[0.2222222222222222,\"#7201a8\"],[0.3333333333333333,\"#9c179e\"],[0.4444444444444444,\"#bd3786\"],[0.5555555555555556,\"#d8576b\"],[0.6666666666666666,\"#ed7953\"],[0.7777777777777778,\"#fb9f3a\"],[0.8888888888888888,\"#fdca26\"],[1.0,\"#f0f921\"]]},\"colorway\":[\"#636efa\",\"#EF553B\",\"#00cc96\",\"#ab63fa\",\"#FFA15A\",\"#19d3f3\",\"#FF6692\",\"#B6E880\",\"#FF97FF\",\"#FECB52\"],\"font\":{\"color\":\"#2a3f5f\"},\"geo\":{\"bgcolor\":\"white\",\"lakecolor\":\"white\",\"landcolor\":\"#E5ECF6\",\"showlakes\":true,\"showland\":true,\"subunitcolor\":\"white\"},\"hoverlabel\":{\"align\":\"left\"},\"hovermode\":\"closest\",\"mapbox\":{\"style\":\"light\"},\"paper_bgcolor\":\"white\",\"plot_bgcolor\":\"#E5ECF6\",\"polar\":{\"angularaxis\":{\"gridcolor\":\"white\",\"linecolor\":\"white\",\"ticks\":\"\"},\"bgcolor\":\"#E5ECF6\",\"radialaxis\":{\"gridcolor\":\"white\",\"linecolor\":\"white\",\"ticks\":\"\"}},\"scene\":{\"xaxis\":{\"backgroundcolor\":\"#E5ECF6\",\"gridcolor\":\"white\",\"gridwidth\":2,\"linecolor\":\"white\",\"showbackground\":true,\"ticks\":\"\",\"zerolinecolor\":\"white\"},\"yaxis\":{\"backgroundcolor\":\"#E5ECF6\",\"gridcolor\":\"white\",\"gridwidth\":2,\"linecolor\":\"white\",\"showbackground\":true,\"ticks\":\"\",\"zerolinecolor\":\"white\"},\"zaxis\":{\"backgroundcolor\":\"#E5ECF6\",\"gridcolor\":\"white\",\"gridwidth\":2,\"linecolor\":\"white\",\"showbackground\":true,\"ticks\":\"\",\"zerolinecolor\":\"white\"}},\"shapedefaults\":{\"line\":{\"color\":\"#2a3f5f\"}},\"ternary\":{\"aaxis\":{\"gridcolor\":\"white\",\"linecolor\":\"white\",\"ticks\":\"\"},\"baxis\":{\"gridcolor\":\"white\",\"linecolor\":\"white\",\"ticks\":\"\"},\"bgcolor\":\"#E5ECF6\",\"caxis\":{\"gridcolor\":\"white\",\"linecolor\":\"white\",\"ticks\":\"\"}},\"title\":{\"x\":0.05},\"xaxis\":{\"automargin\":true,\"gridcolor\":\"white\",\"linecolor\":\"white\",\"ticks\":\"\",\"title\":{\"standoff\":15},\"zerolinecolor\":\"white\",\"zerolinewidth\":2},\"yaxis\":{\"automargin\":true,\"gridcolor\":\"white\",\"linecolor\":\"white\",\"ticks\":\"\",\"title\":{\"standoff\":15},\"zerolinecolor\":\"white\",\"zerolinewidth\":2}}},\"title\":{\"font\":{\"color\":\"#4D5663\"}},\"xaxis\":{\"anchor\":\"y\",\"domain\":[0.0,0.2125],\"gridcolor\":\"#E1E5ED\",\"showgrid\":false,\"tickfont\":{\"color\":\"#4D5663\"},\"title\":{\"font\":{\"color\":\"#4D5663\"},\"text\":\"\"},\"zerolinecolor\":\"#E1E5ED\"},\"yaxis\":{\"anchor\":\"x\",\"domain\":[0.8025,1.0],\"gridcolor\":\"#E1E5ED\",\"showgrid\":false,\"tickfont\":{\"color\":\"#4D5663\"},\"title\":{\"font\":{\"color\":\"#4D5663\"},\"text\":\"\"},\"zerolinecolor\":\"#E1E5ED\"},\"xaxis2\":{\"anchor\":\"y2\",\"domain\":[0.2625,0.475],\"gridcolor\":\"#E1E5ED\",\"showgrid\":false,\"tickfont\":{\"color\":\"#4D5663\"},\"title\":{\"font\":{\"color\":\"#4D5663\"},\"text\":\"\"},\"zerolinecolor\":\"#E1E5ED\"},\"yaxis2\":{\"anchor\":\"x2\",\"domain\":[0.8025,1.0],\"gridcolor\":\"#E1E5ED\",\"showgrid\":false,\"tickfont\":{\"color\":\"#4D5663\"},\"title\":{\"font\":{\"color\":\"#4D5663\"},\"text\":\"\"},\"zerolinecolor\":\"#E1E5ED\"},\"xaxis3\":{\"anchor\":\"y3\",\"domain\":[0.525,0.7375],\"gridcolor\":\"#E1E5ED\",\"showgrid\":false,\"tickfont\":{\"color\":\"#4D5663\"},\"title\":{\"font\":{\"color\":\"#4D5663\"},\"text\":\"\"},\"zerolinecolor\":\"#E1E5ED\"},\"yaxis3\":{\"anchor\":\"x3\",\"domain\":[0.8025,1.0],\"gridcolor\":\"#E1E5ED\",\"showgrid\":false,\"tickfont\":{\"color\":\"#4D5663\"},\"title\":{\"font\":{\"color\":\"#4D5663\"},\"text\":\"\"},\"zerolinecolor\":\"#E1E5ED\"},\"xaxis4\":{\"anchor\":\"y4\",\"domain\":[0.7875,1.0],\"gridcolor\":\"#E1E5ED\",\"showgrid\":false,\"tickfont\":{\"color\":\"#4D5663\"},\"title\":{\"font\":{\"color\":\"#4D5663\"},\"text\":\"\"},\"zerolinecolor\":\"#E1E5ED\"},\"yaxis4\":{\"anchor\":\"x4\",\"domain\":[0.8025,1.0],\"gridcolor\":\"#E1E5ED\",\"showgrid\":false,\"tickfont\":{\"color\":\"#4D5663\"},\"title\":{\"font\":{\"color\":\"#4D5663\"},\"text\":\"\"},\"zerolinecolor\":\"#E1E5ED\"},\"xaxis5\":{\"anchor\":\"y5\",\"domain\":[0.0,0.2125],\"gridcolor\":\"#E1E5ED\",\"showgrid\":false,\"tickfont\":{\"color\":\"#4D5663\"},\"title\":{\"font\":{\"color\":\"#4D5663\"},\"text\":\"\"},\"zerolinecolor\":\"#E1E5ED\"},\"yaxis5\":{\"anchor\":\"x5\",\"domain\":[0.535,0.7325],\"gridcolor\":\"#E1E5ED\",\"showgrid\":false,\"tickfont\":{\"color\":\"#4D5663\"},\"title\":{\"font\":{\"color\":\"#4D5663\"},\"text\":\"\"},\"zerolinecolor\":\"#E1E5ED\"},\"xaxis6\":{\"anchor\":\"y6\",\"domain\":[0.2625,0.475],\"gridcolor\":\"#E1E5ED\",\"showgrid\":false,\"tickfont\":{\"color\":\"#4D5663\"},\"title\":{\"font\":{\"color\":\"#4D5663\"},\"text\":\"\"},\"zerolinecolor\":\"#E1E5ED\"},\"yaxis6\":{\"anchor\":\"x6\",\"domain\":[0.535,0.7325],\"gridcolor\":\"#E1E5ED\",\"showgrid\":false,\"tickfont\":{\"color\":\"#4D5663\"},\"title\":{\"font\":{\"color\":\"#4D5663\"},\"text\":\"\"},\"zerolinecolor\":\"#E1E5ED\"},\"xaxis7\":{\"anchor\":\"y7\",\"domain\":[0.525,0.7375],\"gridcolor\":\"#E1E5ED\",\"showgrid\":false,\"tickfont\":{\"color\":\"#4D5663\"},\"title\":{\"font\":{\"color\":\"#4D5663\"},\"text\":\"\"},\"zerolinecolor\":\"#E1E5ED\"},\"yaxis7\":{\"anchor\":\"x7\",\"domain\":[0.535,0.7325],\"gridcolor\":\"#E1E5ED\",\"showgrid\":false,\"tickfont\":{\"color\":\"#4D5663\"},\"title\":{\"font\":{\"color\":\"#4D5663\"},\"text\":\"\"},\"zerolinecolor\":\"#E1E5ED\"},\"xaxis8\":{\"anchor\":\"y8\",\"domain\":[0.7875,1.0],\"gridcolor\":\"#E1E5ED\",\"showgrid\":false,\"tickfont\":{\"color\":\"#4D5663\"},\"title\":{\"font\":{\"color\":\"#4D5663\"},\"text\":\"\"},\"zerolinecolor\":\"#E1E5ED\"},\"yaxis8\":{\"anchor\":\"x8\",\"domain\":[0.535,0.7325],\"gridcolor\":\"#E1E5ED\",\"showgrid\":false,\"tickfont\":{\"color\":\"#4D5663\"},\"title\":{\"font\":{\"color\":\"#4D5663\"},\"text\":\"\"},\"zerolinecolor\":\"#E1E5ED\"},\"xaxis9\":{\"anchor\":\"y9\",\"domain\":[0.0,0.2125],\"gridcolor\":\"#E1E5ED\",\"showgrid\":false,\"tickfont\":{\"color\":\"#4D5663\"},\"title\":{\"font\":{\"color\":\"#4D5663\"},\"text\":\"\"},\"zerolinecolor\":\"#E1E5ED\"},\"yaxis9\":{\"anchor\":\"x9\",\"domain\":[0.2675,0.465],\"gridcolor\":\"#E1E5ED\",\"showgrid\":false,\"tickfont\":{\"color\":\"#4D5663\"},\"title\":{\"font\":{\"color\":\"#4D5663\"},\"text\":\"\"},\"zerolinecolor\":\"#E1E5ED\"},\"xaxis10\":{\"anchor\":\"y10\",\"domain\":[0.2625,0.475],\"gridcolor\":\"#E1E5ED\",\"showgrid\":false,\"tickfont\":{\"color\":\"#4D5663\"},\"title\":{\"font\":{\"color\":\"#4D5663\"},\"text\":\"\"},\"zerolinecolor\":\"#E1E5ED\"},\"yaxis10\":{\"anchor\":\"x10\",\"domain\":[0.2675,0.465],\"gridcolor\":\"#E1E5ED\",\"showgrid\":false,\"tickfont\":{\"color\":\"#4D5663\"},\"title\":{\"font\":{\"color\":\"#4D5663\"},\"text\":\"\"},\"zerolinecolor\":\"#E1E5ED\"},\"xaxis11\":{\"anchor\":\"y11\",\"domain\":[0.525,0.7375],\"gridcolor\":\"#E1E5ED\",\"showgrid\":false,\"tickfont\":{\"color\":\"#4D5663\"},\"title\":{\"font\":{\"color\":\"#4D5663\"},\"text\":\"\"},\"zerolinecolor\":\"#E1E5ED\"},\"yaxis11\":{\"anchor\":\"x11\",\"domain\":[0.2675,0.465],\"gridcolor\":\"#E1E5ED\",\"showgrid\":false,\"tickfont\":{\"color\":\"#4D5663\"},\"title\":{\"font\":{\"color\":\"#4D5663\"},\"text\":\"\"},\"zerolinecolor\":\"#E1E5ED\"},\"xaxis12\":{\"anchor\":\"y12\",\"domain\":[0.7875,1.0],\"gridcolor\":\"#E1E5ED\",\"showgrid\":false,\"tickfont\":{\"color\":\"#4D5663\"},\"title\":{\"font\":{\"color\":\"#4D5663\"},\"text\":\"\"},\"zerolinecolor\":\"#E1E5ED\"},\"yaxis12\":{\"anchor\":\"x12\",\"domain\":[0.2675,0.465],\"gridcolor\":\"#E1E5ED\",\"showgrid\":false,\"tickfont\":{\"color\":\"#4D5663\"},\"title\":{\"font\":{\"color\":\"#4D5663\"},\"text\":\"\"},\"zerolinecolor\":\"#E1E5ED\"},\"xaxis13\":{\"anchor\":\"y13\",\"domain\":[0.0,0.2125],\"gridcolor\":\"#E1E5ED\",\"showgrid\":false,\"tickfont\":{\"color\":\"#4D5663\"},\"title\":{\"font\":{\"color\":\"#4D5663\"},\"text\":\"\"},\"zerolinecolor\":\"#E1E5ED\"},\"yaxis13\":{\"anchor\":\"x13\",\"domain\":[0.0,0.1975],\"gridcolor\":\"#E1E5ED\",\"showgrid\":false,\"tickfont\":{\"color\":\"#4D5663\"},\"title\":{\"font\":{\"color\":\"#4D5663\"},\"text\":\"\"},\"zerolinecolor\":\"#E1E5ED\"},\"xaxis14\":{\"anchor\":\"y14\",\"domain\":[0.2625,0.475],\"gridcolor\":\"#E1E5ED\",\"showgrid\":false,\"tickfont\":{\"color\":\"#4D5663\"},\"title\":{\"font\":{\"color\":\"#4D5663\"},\"text\":\"\"},\"zerolinecolor\":\"#E1E5ED\"},\"yaxis14\":{\"anchor\":\"x14\",\"domain\":[0.0,0.1975],\"gridcolor\":\"#E1E5ED\",\"showgrid\":false,\"tickfont\":{\"color\":\"#4D5663\"},\"title\":{\"font\":{\"color\":\"#4D5663\"},\"text\":\"\"},\"zerolinecolor\":\"#E1E5ED\"},\"xaxis15\":{\"anchor\":\"y15\",\"domain\":[0.525,0.7375],\"gridcolor\":\"#E1E5ED\",\"showgrid\":false,\"tickfont\":{\"color\":\"#4D5663\"},\"title\":{\"font\":{\"color\":\"#4D5663\"},\"text\":\"\"},\"zerolinecolor\":\"#E1E5ED\"},\"yaxis15\":{\"anchor\":\"x15\",\"domain\":[0.0,0.1975],\"gridcolor\":\"#E1E5ED\",\"showgrid\":false,\"tickfont\":{\"color\":\"#4D5663\"},\"title\":{\"font\":{\"color\":\"#4D5663\"},\"text\":\"\"},\"zerolinecolor\":\"#E1E5ED\"},\"xaxis16\":{\"anchor\":\"y16\",\"domain\":[0.7875,1.0],\"gridcolor\":\"#E1E5ED\",\"showgrid\":false,\"tickfont\":{\"color\":\"#4D5663\"},\"title\":{\"font\":{\"color\":\"#4D5663\"},\"text\":\"\"},\"zerolinecolor\":\"#E1E5ED\"},\"yaxis16\":{\"anchor\":\"x16\",\"domain\":[0.0,0.1975],\"gridcolor\":\"#E1E5ED\",\"showgrid\":false,\"tickfont\":{\"color\":\"#4D5663\"},\"title\":{\"font\":{\"color\":\"#4D5663\"},\"text\":\"\"},\"zerolinecolor\":\"#E1E5ED\"}},                        {\"showLink\": true, \"linkText\": \"Export to plot.ly\", \"plotlyServerURL\": \"https://plot.ly\", \"responsive\": true}                    ).then(function(){\n",
       "                            \n",
       "var gd = document.getElementById('7aa09052-776a-43d3-abbe-a7ba4c3540f3');\n",
       "var x = new MutationObserver(function (mutations, observer) {{\n",
       "        var display = window.getComputedStyle(gd).display;\n",
       "        if (!display || display === 'none') {{\n",
       "            console.log([gd, 'removed!']);\n",
       "            Plotly.purge(gd);\n",
       "            observer.disconnect();\n",
       "        }}\n",
       "}});\n",
       "\n",
       "// Listen for the removal of the full notebook cells\n",
       "var notebookContainer = gd.closest('#notebook-container');\n",
       "if (notebookContainer) {{\n",
       "    x.observe(notebookContainer, {childList: true});\n",
       "}}\n",
       "\n",
       "// Listen for the clearing of the current output cell\n",
       "var outputEl = gd.closest('.output');\n",
       "if (outputEl) {{\n",
       "    x.observe(outputEl, {childList: true});\n",
       "}}\n",
       "\n",
       "                        })                };                });            </script>        </div>"
      ]
     },
     "metadata": {},
     "output_type": "display_data"
    }
   ],
   "source": [
    "df.scatter_matrix()"
   ]
  }
 ],
 "metadata": {
  "kernelspec": {
   "display_name": "base",
   "language": "python",
   "name": "python3"
  },
  "language_info": {
   "codemirror_mode": {
    "name": "ipython",
    "version": 3
   },
   "file_extension": ".py",
   "mimetype": "text/x-python",
   "name": "python",
   "nbconvert_exporter": "python",
   "pygments_lexer": "ipython3",
   "version": "3.12.7"
  }
 },
 "nbformat": 4,
 "nbformat_minor": 0
}
